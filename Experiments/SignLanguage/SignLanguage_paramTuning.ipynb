{
 "cells": [
  {
   "cell_type": "code",
   "execution_count": 1,
   "id": "b98d87c7-8510-4840-9ca0-71eca395ab33",
   "metadata": {},
   "outputs": [],
   "source": [
    "%run ../DataClass.ipynb"
   ]
  },
  {
   "cell_type": "code",
   "execution_count": 2,
   "id": "5fea582b-781e-43d4-9191-b90169e0fc8d",
   "metadata": {},
   "outputs": [],
   "source": [
    "X_train = np.load('./0/data/X_train.npy')\n",
    "X_test = np.load('./0/data/X_test.npy')\n",
    "X_val = np.load('./0/data/X_val.npy')\n",
    "y_train = np.load('./0/data/y_train.npy')\n",
    "y_test = np.load('./0/data/y_test.npy')\n",
    "y_val = np.load('./0/data/y_val.npy')"
   ]
  },
  {
   "cell_type": "code",
   "execution_count": 3,
   "id": "750f406f-1785-41aa-8025-afed26ee8e05",
   "metadata": {},
   "outputs": [],
   "source": [
    "from sklearn.ensemble import RandomForestClassifier\n",
    "from sklearn.ensemble import GradientBoostingClassifier\n",
    "from sklearn.neighbors import KNeighborsClassifier\n",
    "from sklearn.model_selection import RandomizedSearchCV\n",
    "from pprint import pprint"
   ]
  },
  {
   "cell_type": "markdown",
   "id": "51b108c5-c521-45a2-8444-c3cf9b1c4cd3",
   "metadata": {},
   "source": [
    "# Tuning RF"
   ]
  },
  {
   "cell_type": "code",
   "execution_count": 18,
   "id": "8ee957a1-ec7a-491b-b95a-db803f245e6b",
   "metadata": {},
   "outputs": [
    {
     "name": "stdout",
     "output_type": "stream",
     "text": [
      "{'n_estimators': [20, 65, 110, 155, 200], 'max_features': ['auto', 'sqrt'], 'max_depth': [1, 23, 45], 'min_samples_split': [5, 10], 'random_state': [0]}\n"
     ]
    }
   ],
   "source": [
    "# Number of trees in random forest\n",
    "n_estimators = [int(x) for x in np.linspace(start = 20, stop = 200, num = 5)]\n",
    "# Number of features to consider at every split\n",
    "max_features = ['auto', 'sqrt']\n",
    "# Maximum number of levels in tree\n",
    "max_depth = [int(x) for x in np.linspace(1, 45, num = 3)]\n",
    "# Minimum number of samples required to split a node\n",
    "min_samples_split = [5, 10]\n",
    "\n",
    "\n",
    "# Create the random grid\n",
    "random_grid = {'n_estimators': n_estimators,\n",
    "               'max_features': max_features,\n",
    "               'max_depth': max_depth,\n",
    "               'min_samples_split': min_samples_split,\n",
    "               'random_state':[0]}\n",
    "\n",
    "print(random_grid)"
   ]
  },
  {
   "cell_type": "code",
   "execution_count": 19,
   "id": "c7773254-ed09-4b8f-a127-fe949ee350f3",
   "metadata": {},
   "outputs": [
    {
     "name": "stdout",
     "output_type": "stream",
     "text": [
      "Fitting 5 folds for each of 10 candidates, totalling 50 fits\n",
      "[CV] END max_depth=45, max_features=sqrt, min_samples_split=10, n_estimators=155, random_state=0; total time=  33.8s\n",
      "[CV] END max_depth=45, max_features=sqrt, min_samples_split=10, n_estimators=155, random_state=0; total time=  34.1s\n",
      "[CV] END max_depth=45, max_features=sqrt, min_samples_split=10, n_estimators=155, random_state=0; total time=  32.1s\n",
      "[CV] END max_depth=45, max_features=sqrt, min_samples_split=10, n_estimators=155, random_state=0; total time=  32.0s\n",
      "[CV] END max_depth=45, max_features=sqrt, min_samples_split=10, n_estimators=155, random_state=0; total time=  32.0s\n",
      "[CV] END max_depth=45, max_features=auto, min_samples_split=10, n_estimators=65, random_state=0; total time=  13.3s\n",
      "[CV] END max_depth=45, max_features=auto, min_samples_split=10, n_estimators=65, random_state=0; total time=  13.5s\n",
      "[CV] END max_depth=45, max_features=auto, min_samples_split=10, n_estimators=65, random_state=0; total time=  13.5s\n",
      "[CV] END max_depth=45, max_features=auto, min_samples_split=10, n_estimators=65, random_state=0; total time=  13.4s\n",
      "[CV] END max_depth=45, max_features=auto, min_samples_split=10, n_estimators=65, random_state=0; total time=  13.3s\n",
      "[CV] END max_depth=45, max_features=auto, min_samples_split=10, n_estimators=110, random_state=0; total time=  22.7s\n",
      "[CV] END max_depth=45, max_features=auto, min_samples_split=10, n_estimators=110, random_state=0; total time=  22.8s\n",
      "[CV] END max_depth=45, max_features=auto, min_samples_split=10, n_estimators=110, random_state=0; total time=  22.6s\n",
      "[CV] END max_depth=45, max_features=auto, min_samples_split=10, n_estimators=110, random_state=0; total time=  22.8s\n",
      "[CV] END max_depth=45, max_features=auto, min_samples_split=10, n_estimators=110, random_state=0; total time=  22.7s\n",
      "[CV] END max_depth=1, max_features=auto, min_samples_split=10, n_estimators=65, random_state=0; total time=   1.0s\n",
      "[CV] END max_depth=1, max_features=auto, min_samples_split=10, n_estimators=65, random_state=0; total time=   1.0s\n",
      "[CV] END max_depth=1, max_features=auto, min_samples_split=10, n_estimators=65, random_state=0; total time=   1.0s\n",
      "[CV] END max_depth=1, max_features=auto, min_samples_split=10, n_estimators=65, random_state=0; total time=   1.0s\n",
      "[CV] END max_depth=1, max_features=auto, min_samples_split=10, n_estimators=65, random_state=0; total time=   1.0s\n",
      "[CV] END max_depth=1, max_features=auto, min_samples_split=5, n_estimators=65, random_state=0; total time=   1.0s\n",
      "[CV] END max_depth=1, max_features=auto, min_samples_split=5, n_estimators=65, random_state=0; total time=   1.0s\n",
      "[CV] END max_depth=1, max_features=auto, min_samples_split=5, n_estimators=65, random_state=0; total time=   1.0s\n",
      "[CV] END max_depth=1, max_features=auto, min_samples_split=5, n_estimators=65, random_state=0; total time=   1.0s\n",
      "[CV] END max_depth=1, max_features=auto, min_samples_split=5, n_estimators=65, random_state=0; total time=   1.0s\n",
      "[CV] END max_depth=23, max_features=auto, min_samples_split=10, n_estimators=155, random_state=0; total time=  32.0s\n",
      "[CV] END max_depth=23, max_features=auto, min_samples_split=10, n_estimators=155, random_state=0; total time=  32.1s\n",
      "[CV] END max_depth=23, max_features=auto, min_samples_split=10, n_estimators=155, random_state=0; total time=  31.9s\n",
      "[CV] END max_depth=23, max_features=auto, min_samples_split=10, n_estimators=155, random_state=0; total time=  31.9s\n",
      "[CV] END max_depth=23, max_features=auto, min_samples_split=10, n_estimators=155, random_state=0; total time=  31.9s\n",
      "[CV] END max_depth=23, max_features=auto, min_samples_split=10, n_estimators=200, random_state=0; total time=  41.3s\n",
      "[CV] END max_depth=23, max_features=auto, min_samples_split=10, n_estimators=200, random_state=0; total time=  41.4s\n",
      "[CV] END max_depth=23, max_features=auto, min_samples_split=10, n_estimators=200, random_state=0; total time=  41.2s\n",
      "[CV] END max_depth=23, max_features=auto, min_samples_split=10, n_estimators=200, random_state=0; total time=  41.4s\n",
      "[CV] END max_depth=23, max_features=auto, min_samples_split=10, n_estimators=200, random_state=0; total time=  41.2s\n",
      "[CV] END max_depth=45, max_features=auto, min_samples_split=5, n_estimators=200, random_state=0; total time=  42.3s\n",
      "[CV] END max_depth=45, max_features=auto, min_samples_split=5, n_estimators=200, random_state=0; total time=  42.3s\n",
      "[CV] END max_depth=45, max_features=auto, min_samples_split=5, n_estimators=200, random_state=0; total time=  42.5s\n",
      "[CV] END max_depth=45, max_features=auto, min_samples_split=5, n_estimators=200, random_state=0; total time=  42.4s\n",
      "[CV] END max_depth=45, max_features=auto, min_samples_split=5, n_estimators=200, random_state=0; total time=  42.4s\n",
      "[CV] END max_depth=1, max_features=auto, min_samples_split=10, n_estimators=110, random_state=0; total time=   1.7s\n",
      "[CV] END max_depth=1, max_features=auto, min_samples_split=10, n_estimators=110, random_state=0; total time=   1.7s\n",
      "[CV] END max_depth=1, max_features=auto, min_samples_split=10, n_estimators=110, random_state=0; total time=   1.8s\n",
      "[CV] END max_depth=1, max_features=auto, min_samples_split=10, n_estimators=110, random_state=0; total time=   1.8s\n",
      "[CV] END max_depth=1, max_features=auto, min_samples_split=10, n_estimators=110, random_state=0; total time=   1.7s\n",
      "[CV] END max_depth=1, max_features=auto, min_samples_split=10, n_estimators=155, random_state=0; total time=   2.4s\n",
      "[CV] END max_depth=1, max_features=auto, min_samples_split=10, n_estimators=155, random_state=0; total time=   2.4s\n",
      "[CV] END max_depth=1, max_features=auto, min_samples_split=10, n_estimators=155, random_state=0; total time=   2.4s\n",
      "[CV] END max_depth=1, max_features=auto, min_samples_split=10, n_estimators=155, random_state=0; total time=   2.4s\n",
      "[CV] END max_depth=1, max_features=auto, min_samples_split=10, n_estimators=155, random_state=0; total time=   2.4s\n",
      "Wall time: 16min 51s\n"
     ]
    },
    {
     "data": {
      "text/plain": [
       "RandomizedSearchCV(cv=5, estimator=RandomForestClassifier(),\n",
       "                   param_distributions={'max_depth': [1, 23, 45],\n",
       "                                        'max_features': ['auto', 'sqrt'],\n",
       "                                        'min_samples_split': [5, 10],\n",
       "                                        'n_estimators': [20, 65, 110, 155, 200],\n",
       "                                        'random_state': [0]},\n",
       "                   verbose=2)"
      ]
     },
     "execution_count": 19,
     "metadata": {},
     "output_type": "execute_result"
    }
   ],
   "source": [
    "%%time\n",
    "rf_random = RandomizedSearchCV(estimator = RandomForestClassifier(), param_distributions = random_grid, n_iter = 10, cv = 5, verbose=2)\n",
    "# Fit the random search model\n",
    "rf_random.fit(X_train, y_train)"
   ]
  },
  {
   "cell_type": "code",
   "execution_count": 20,
   "id": "c9153948-75cc-424a-91d5-fb2261ba76fc",
   "metadata": {},
   "outputs": [
    {
     "data": {
      "text/plain": [
       "(RandomForestClassifier(max_depth=45, min_samples_split=5, n_estimators=200,\n",
       "                        random_state=0),\n",
       " 0.9921058965102286)"
      ]
     },
     "execution_count": 20,
     "metadata": {},
     "output_type": "execute_result"
    }
   ],
   "source": [
    "rf_random.best_estimator_ , rf_random.best_score_"
   ]
  },
  {
   "cell_type": "code",
   "execution_count": 21,
   "id": "7a6f6902-97c6-43a7-9d28-4d87a385f194",
   "metadata": {},
   "outputs": [
    {
     "data": {
      "text/plain": [
       "sklearn.ensemble._forest.RandomForestClassifier"
      ]
     },
     "execution_count": 21,
     "metadata": {},
     "output_type": "execute_result"
    }
   ],
   "source": [
    "type(rf_random.best_estimator_)"
   ]
  },
  {
   "cell_type": "code",
   "execution_count": 22,
   "id": "0bc207a2-7b64-4a66-892a-cfe373354a1d",
   "metadata": {},
   "outputs": [],
   "source": [
    "RF = rf_random.best_estimator_"
   ]
  },
  {
   "cell_type": "code",
   "execution_count": 23,
   "id": "26a4ba9b-4417-4df7-bd61-c5eff18df2f4",
   "metadata": {},
   "outputs": [
    {
     "name": "stdout",
     "output_type": "stream",
     "text": [
      "val accuracy: 0.9940802772162864\n",
      "test accuracy: 0.9948021946289345\n"
     ]
    }
   ],
   "source": [
    "RF.fit(X_train,y_train)\n",
    "y_pred_val = RF.predict(X_val)\n",
    "y_pred_test = RF.predict(X_test)\n",
    "\n",
    "print('val accuracy:',accuracy_score(y_val, y_pred_val))\n",
    "print('test accuracy:',accuracy_score(y_test, y_pred_test))"
   ]
  },
  {
   "cell_type": "code",
   "execution_count": null,
   "id": "54115369-0491-4743-b033-4e8114cf6731",
   "metadata": {},
   "outputs": [],
   "source": []
  },
  {
   "cell_type": "markdown",
   "id": "e9a5af9d-d461-4c92-a36e-b6ab49ab4656",
   "metadata": {},
   "source": [
    "# GB tuning"
   ]
  },
  {
   "cell_type": "code",
   "execution_count": 33,
   "id": "f331cdde-a650-4365-9d69-0ace6c4ce2ab",
   "metadata": {},
   "outputs": [
    {
     "name": "stdout",
     "output_type": "stream",
     "text": [
      "{'learning_rate': [0.05, 0.1, 0.15, 0.2],\n",
      " 'max_depth': [5, 7, 9, 12],\n",
      " 'max_features': ['auto', 'sqrt'],\n",
      " 'n_estimators': [10, 20, 30, 40],\n",
      " 'random_state': [0]}\n"
     ]
    }
   ],
   "source": [
    "# Number of trees in random forest\n",
    "n_estimators = [int(x) for x in np.linspace(start = 10, stop = 40, num = 4)]\n",
    "# Maximum number of levels in tree\n",
    "max_depth = [int(x) for x in np.linspace(start = 5, stop = 12, num = 4)]\n",
    "\n",
    "\n",
    "\n",
    "# Create the random grid\n",
    "random_grid = {'n_estimators': n_estimators,\n",
    "               'learning_rate' : [0.05, 0.1, 0.15, 0.2],\n",
    "               'max_features': ['auto', 'sqrt'],\n",
    "               'max_depth': max_depth,\n",
    "               'random_state': [0]\n",
    "              }\n",
    "\n",
    "pprint(random_grid)"
   ]
  },
  {
   "cell_type": "code",
   "execution_count": 36,
   "id": "bd2f9ec9-1a3e-4cc5-9c69-38a32be1d58d",
   "metadata": {},
   "outputs": [
    {
     "name": "stdout",
     "output_type": "stream",
     "text": [
      "Fitting 5 folds for each of 10 candidates, totalling 50 fits\n",
      "[CV] END learning_rate=0.2, max_depth=12, max_features=auto, n_estimators=20, random_state=0; total time=52.2min\n",
      "[CV] END learning_rate=0.2, max_depth=12, max_features=auto, n_estimators=20, random_state=0; total time=52.3min\n",
      "[CV] END learning_rate=0.2, max_depth=12, max_features=auto, n_estimators=20, random_state=0; total time=52.3min\n",
      "[CV] END learning_rate=0.2, max_depth=12, max_features=auto, n_estimators=20, random_state=0; total time=52.2min\n",
      "[CV] END learning_rate=0.2, max_depth=12, max_features=auto, n_estimators=20, random_state=0; total time=51.9min\n",
      "[CV] END learning_rate=0.2, max_depth=5, max_features=auto, n_estimators=20, random_state=0; total time=22.1min\n",
      "[CV] END learning_rate=0.2, max_depth=5, max_features=auto, n_estimators=20, random_state=0; total time=22.0min\n",
      "[CV] END learning_rate=0.2, max_depth=5, max_features=auto, n_estimators=20, random_state=0; total time=22.0min\n",
      "[CV] END learning_rate=0.2, max_depth=5, max_features=auto, n_estimators=20, random_state=0; total time=22.0min\n",
      "[CV] END learning_rate=0.2, max_depth=5, max_features=auto, n_estimators=20, random_state=0; total time=22.0min\n",
      "[CV] END learning_rate=0.15, max_depth=12, max_features=sqrt, n_estimators=30, random_state=0; total time= 3.3min\n",
      "[CV] END learning_rate=0.15, max_depth=12, max_features=sqrt, n_estimators=30, random_state=0; total time= 3.3min\n",
      "[CV] END learning_rate=0.15, max_depth=12, max_features=sqrt, n_estimators=30, random_state=0; total time= 3.3min\n",
      "[CV] END learning_rate=0.15, max_depth=12, max_features=sqrt, n_estimators=30, random_state=0; total time= 3.3min\n",
      "[CV] END learning_rate=0.15, max_depth=12, max_features=sqrt, n_estimators=30, random_state=0; total time= 3.3min\n",
      "[CV] END learning_rate=0.1, max_depth=12, max_features=auto, n_estimators=20, random_state=0; total time=51.9min\n",
      "[CV] END learning_rate=0.1, max_depth=12, max_features=auto, n_estimators=20, random_state=0; total time=51.9min\n",
      "[CV] END learning_rate=0.1, max_depth=12, max_features=auto, n_estimators=20, random_state=0; total time=51.9min\n",
      "[CV] END learning_rate=0.1, max_depth=12, max_features=auto, n_estimators=20, random_state=0; total time=51.9min\n",
      "[CV] END learning_rate=0.1, max_depth=12, max_features=auto, n_estimators=20, random_state=0; total time=51.9min\n",
      "[CV] END learning_rate=0.05, max_depth=9, max_features=sqrt, n_estimators=20, random_state=0; total time= 1.6min\n",
      "[CV] END learning_rate=0.05, max_depth=9, max_features=sqrt, n_estimators=20, random_state=0; total time= 1.6min\n",
      "[CV] END learning_rate=0.05, max_depth=9, max_features=sqrt, n_estimators=20, random_state=0; total time= 1.6min\n",
      "[CV] END learning_rate=0.05, max_depth=9, max_features=sqrt, n_estimators=20, random_state=0; total time= 1.6min\n",
      "[CV] END learning_rate=0.05, max_depth=9, max_features=sqrt, n_estimators=20, random_state=0; total time= 1.6min\n",
      "[CV] END learning_rate=0.05, max_depth=7, max_features=sqrt, n_estimators=20, random_state=0; total time= 1.2min\n",
      "[CV] END learning_rate=0.05, max_depth=7, max_features=sqrt, n_estimators=20, random_state=0; total time= 1.2min\n",
      "[CV] END learning_rate=0.05, max_depth=7, max_features=sqrt, n_estimators=20, random_state=0; total time= 1.2min\n",
      "[CV] END learning_rate=0.05, max_depth=7, max_features=sqrt, n_estimators=20, random_state=0; total time= 1.2min\n",
      "[CV] END learning_rate=0.05, max_depth=7, max_features=sqrt, n_estimators=20, random_state=0; total time= 1.2min\n",
      "[CV] END learning_rate=0.05, max_depth=7, max_features=auto, n_estimators=40, random_state=0; total time=62.1min\n",
      "[CV] END learning_rate=0.05, max_depth=7, max_features=auto, n_estimators=40, random_state=0; total time=72.3min\n",
      "[CV] END learning_rate=0.05, max_depth=7, max_features=auto, n_estimators=40, random_state=0; total time=61.9min\n",
      "[CV] END learning_rate=0.05, max_depth=7, max_features=auto, n_estimators=40, random_state=0; total time=61.8min\n",
      "[CV] END learning_rate=0.05, max_depth=7, max_features=auto, n_estimators=40, random_state=0; total time=61.8min\n",
      "[CV] END learning_rate=0.2, max_depth=9, max_features=auto, n_estimators=40, random_state=0; total time=79.2min\n",
      "[CV] END learning_rate=0.2, max_depth=9, max_features=auto, n_estimators=40, random_state=0; total time=81.5min\n",
      "[CV] END learning_rate=0.2, max_depth=9, max_features=auto, n_estimators=40, random_state=0; total time=82.7min\n",
      "[CV] END learning_rate=0.2, max_depth=9, max_features=auto, n_estimators=40, random_state=0; total time=84.6min\n",
      "[CV] END learning_rate=0.2, max_depth=9, max_features=auto, n_estimators=40, random_state=0; total time=83.3min\n",
      "[CV] END learning_rate=0.05, max_depth=9, max_features=sqrt, n_estimators=10, random_state=0; total time=  48.5s\n",
      "[CV] END learning_rate=0.05, max_depth=9, max_features=sqrt, n_estimators=10, random_state=0; total time=  49.0s\n",
      "[CV] END learning_rate=0.05, max_depth=9, max_features=sqrt, n_estimators=10, random_state=0; total time=  49.0s\n",
      "[CV] END learning_rate=0.05, max_depth=9, max_features=sqrt, n_estimators=10, random_state=0; total time=  49.0s\n",
      "[CV] END learning_rate=0.05, max_depth=9, max_features=sqrt, n_estimators=10, random_state=0; total time=  49.0s\n",
      "[CV] END learning_rate=0.05, max_depth=7, max_features=auto, n_estimators=20, random_state=0; total time=38.3min\n",
      "[CV] END learning_rate=0.05, max_depth=7, max_features=auto, n_estimators=20, random_state=0; total time=34.6min\n",
      "[CV] END learning_rate=0.05, max_depth=7, max_features=auto, n_estimators=20, random_state=0; total time=30.4min\n",
      "[CV] END learning_rate=0.05, max_depth=7, max_features=auto, n_estimators=20, random_state=0; total time=29.9min\n",
      "[CV] END learning_rate=0.05, max_depth=7, max_features=auto, n_estimators=20, random_state=0; total time=29.9min\n",
      "Wall time: 1d 3h 36min\n"
     ]
    },
    {
     "data": {
      "text/plain": [
       "RandomizedSearchCV(cv=5, estimator=GradientBoostingClassifier(),\n",
       "                   param_distributions={'learning_rate': [0.05, 0.1, 0.15, 0.2],\n",
       "                                        'max_depth': [5, 7, 9, 12],\n",
       "                                        'max_features': ['auto', 'sqrt'],\n",
       "                                        'n_estimators': [10, 20, 30, 40],\n",
       "                                        'random_state': [0]},\n",
       "                   verbose=2)"
      ]
     },
     "execution_count": 36,
     "metadata": {},
     "output_type": "execute_result"
    }
   ],
   "source": [
    "%%time\n",
    "GBDT_random = RandomizedSearchCV(estimator = GradientBoostingClassifier(), param_distributions = random_grid, n_iter = 10, cv = 5, verbose=2)\n",
    "# Fit the random search model\n",
    "GBDT_random.fit(X_train, y_train)"
   ]
  },
  {
   "cell_type": "code",
   "execution_count": null,
   "id": "ff27d624-c19c-4ae3-8d54-af428033c5a2",
   "metadata": {},
   "outputs": [],
   "source": []
  },
  {
   "cell_type": "code",
   "execution_count": 37,
   "id": "c9885512-9d33-4d21-99f6-47b60b41a4b3",
   "metadata": {},
   "outputs": [
    {
     "data": {
      "text/plain": [
       "(GradientBoostingClassifier(learning_rate=0.2, max_depth=9, max_features='auto',\n",
       "                            n_estimators=40, random_state=0),\n",
       " 0.9723225030084237)"
      ]
     },
     "execution_count": 37,
     "metadata": {},
     "output_type": "execute_result"
    }
   ],
   "source": [
    "GBDT_random.best_estimator_ , GBDT_random.best_score_"
   ]
  },
  {
   "cell_type": "code",
   "execution_count": 38,
   "id": "be712ff1-714d-406b-bf15-ca571d3754e1",
   "metadata": {},
   "outputs": [
    {
     "name": "stdout",
     "output_type": "stream",
     "text": [
      "val accuracy: 0.9770430262777938\n",
      "test accuracy: 0.978775628068149\n"
     ]
    }
   ],
   "source": [
    "GB = GBDT_random.best_estimator_\n",
    "GB.fit(X_train,y_train)\n",
    "y_pred_val = GB.predict(X_val)\n",
    "y_pred_test = GB.predict(X_test)\n",
    "\n",
    "print('val accuracy:',accuracy_score(y_val, y_pred_val))\n",
    "print('test accuracy:',accuracy_score(y_test, y_pred_test))"
   ]
  },
  {
   "cell_type": "code",
   "execution_count": 41,
   "id": "6bd0a01a-81d6-4263-adcd-84bf310d4db6",
   "metadata": {},
   "outputs": [],
   "source": [
    "if not os.path.exists('./model_params/'):\n",
    "    os.makedirs('./model_params')\n",
    "\n",
    "with open('./model_params/GB_params_tuning.pkl', 'wb') as f:\n",
    "        pickle.dump(GBDT_random.best_estimator_, f)\n",
    "with open('./model_params/RF_params_tuning.pkl', 'wb') as f:\n",
    "        pickle.dump(rf_random.best_estimator_, f)"
   ]
  },
  {
   "cell_type": "markdown",
   "id": "07aa7006-62d5-4b8b-8e8f-0c64e4fd6bd9",
   "metadata": {},
   "source": [
    "# 1-NN"
   ]
  },
  {
   "cell_type": "code",
   "execution_count": 7,
   "id": "8998f965-862f-44aa-bac7-15a644a64d07",
   "metadata": {},
   "outputs": [],
   "source": [
    "OneNN_model = KNeighborsClassifier(n_neighbors=1).fit(X_train, y_train)"
   ]
  },
  {
   "cell_type": "code",
   "execution_count": 12,
   "id": "104344b8-d7bb-4f87-9dbb-6d63b29355e1",
   "metadata": {},
   "outputs": [
    {
     "name": "stdout",
     "output_type": "stream",
     "text": [
      "val accuracy: 0.998556165174704\n",
      "test accuracy: 0.9988449321397632\n"
     ]
    }
   ],
   "source": [
    "y_pred_val = OneNN_model.predict(X_val)\n",
    "y_pred_test = OneNN_model.predict(X_test)\n",
    "print('val accuracy:',accuracy_score(y_val, y_pred_val))\n",
    "print('test accuracy:',accuracy_score(y_test, y_pred_test))"
   ]
  },
  {
   "cell_type": "code",
   "execution_count": 10,
   "id": "f26e30f6-1e64-4337-aa06-9ad09819a83e",
   "metadata": {},
   "outputs": [],
   "source": [
    "if not os.path.exists('./model_params/'):\n",
    "    os.makedirs('./model_params')\n",
    "with open('./model_params/OneNN_params_tuning.pkl', 'wb') as f:\n",
    "        pickle.dump(OneNN_model, f)"
   ]
  },
  {
   "cell_type": "code",
   "execution_count": null,
   "id": "2246d986-3558-4372-b6d5-0b01f830d339",
   "metadata": {},
   "outputs": [],
   "source": []
  },
  {
   "cell_type": "markdown",
   "id": "0c11f91a-5836-40bf-b2c2-db99fc6e1bb7",
   "metadata": {},
   "source": [
    "# CNN"
   ]
  },
  {
   "cell_type": "code",
   "execution_count": 4,
   "id": "ae9e593e-79a4-4260-8341-1b224abb39b3",
   "metadata": {},
   "outputs": [],
   "source": [
    "batch_size = 128\n",
    "num_classes = 24\n",
    "epochs = 50"
   ]
  },
  {
   "cell_type": "code",
   "execution_count": 5,
   "id": "54cce53b-ab1d-49c1-b16c-1b4ea4a0f9dc",
   "metadata": {},
   "outputs": [],
   "source": [
    "from tensorflow.keras.optimizers import SGD\n",
    "pixels  = int(sqrt(X_train.shape[1]))\n",
    "classes = len(np.unique(y_test))\n",
    "\n",
    "model = Sequential()\n",
    "model.add(Conv2D(64, kernel_size=(3,3), activation = 'relu', input_shape=(28, 28 ,1) ))\n",
    "model.add(MaxPooling2D(pool_size = (2, 2)))\n",
    "\n",
    "model.add(Conv2D(64, kernel_size = (3, 3), activation = 'relu'))\n",
    "model.add(MaxPooling2D(pool_size = (2, 2)))\n",
    "\n",
    "model.add(Conv2D(64, kernel_size = (3, 3), activation = 'relu'))\n",
    "model.add(MaxPooling2D(pool_size = (2, 2)))\n",
    "\n",
    "model.add(Flatten())\n",
    "model.add(Dense(128, activation = 'relu'))\n",
    "model.add(Dropout(0.20))\n",
    "\n",
    "model.add(Dense(num_classes, activation = 'softmax'))\n",
    "\n",
    "model.compile(loss = keras.losses.categorical_crossentropy, optimizer=keras.optimizers.Adam(), metrics=['accuracy'])\n",
    "# model.save(f'./model_params/CNN_params_tuning')"
   ]
  },
  {
   "cell_type": "code",
   "execution_count": 6,
   "id": "9ec0f7c0-7149-482e-a2c5-f2602173f315",
   "metadata": {},
   "outputs": [],
   "source": [
    "from numpy.random import seed\n",
    "seed(0)\n",
    "import tensorflow as tf\n",
    "tf.random.set_seed(0)"
   ]
  },
  {
   "cell_type": "code",
   "execution_count": 8,
   "id": "fe38a5b9-2362-4811-8d1f-b68535e00e7c",
   "metadata": {
    "tags": []
   },
   "outputs": [
    {
     "name": "stdout",
     "output_type": "stream",
     "text": [
      "Epoch 1/5\n",
      "130/130 [==============================] - 7s 55ms/step - loss: 2.8957 - accuracy: 0.1261 - val_loss: 2.0175 - val_accuracy: 0.3933\n",
      "Epoch 2/5\n",
      "130/130 [==============================] - 7s 55ms/step - loss: 1.5323 - accuracy: 0.4921 - val_loss: 0.9732 - val_accuracy: 0.6898\n",
      "Epoch 3/5\n",
      "130/130 [==============================] - 7s 54ms/step - loss: 0.9057 - accuracy: 0.6883 - val_loss: 0.6275 - val_accuracy: 0.8010\n",
      "Epoch 4/5\n",
      "130/130 [==============================] - 7s 55ms/step - loss: 0.6320 - accuracy: 0.7819 - val_loss: 0.4347 - val_accuracy: 0.8708\n",
      "Epoch 5/5\n",
      "130/130 [==============================] - 7s 54ms/step - loss: 0.4550 - accuracy: 0.8480 - val_loss: 0.3416 - val_accuracy: 0.8927\n"
     ]
    },
    {
     "data": {
      "text/plain": [
       "<keras.callbacks.History at 0x2181735bf40>"
      ]
     },
     "execution_count": 8,
     "metadata": {},
     "output_type": "execute_result"
    }
   ],
   "source": [
    "#load model\n",
    "num_labels = classes\n",
    "pixels = int(sqrt(X_train.shape[1]))\n",
    "# Reshaping to format which CNN expects (batch, height, width, channels)\n",
    "trainX_cnn = X_train.reshape(X_train.shape[0], pixels, pixels, 1).astype('float32')\n",
    "valX_cnn = X_val.reshape(X_val.shape[0], pixels, pixels, 1).astype('float32')\n",
    "testX_cnn= X_test.reshape(X_test.shape[0], pixels, pixels, 1).astype('float32')\n",
    "\n",
    "# Normalize images from 0-255 to 0-1\n",
    "trainX_cnn /= 255\n",
    "valX_cnn /= 255\n",
    "\n",
    "train_y_cnn = utils.to_categorical(y_train, num_labels)\n",
    "val_y_cnn = utils.to_categorical(y_val, num_labels)\n",
    "test_y_cnn = utils.to_categorical(y_test, num_labels)\n",
    "\n",
    "trainX_cnn, evalX_cnn, train_y_cnn , eval_y_cnn = train_test_split(trainX_cnn, train_y_cnn, test_size=0.2)\n",
    "\n",
    "# Learn model\n",
    "model.fit(trainX_cnn, train_y_cnn, validation_data=(evalX_cnn, eval_y_cnn), epochs=50, batch_size=128)\n",
    "# model.fit(trainX_cnn, train_y_cnn, validation_data=(evalX_cnn, eval_y_cnn), epochs=5, batch_size=128)\n"
   ]
  },
  {
   "cell_type": "code",
   "execution_count": 9,
   "id": "f811b47d-3a01-4ed8-901c-82204e53b7b6",
   "metadata": {},
   "outputs": [],
   "source": [
    "# model = keras.models.load_model(f'./0/model/CNN_model')"
   ]
  },
  {
   "cell_type": "code",
   "execution_count": 10,
   "id": "3514e5af-597d-4d2d-a239-902e9d766d13",
   "metadata": {},
   "outputs": [],
   "source": [
    "y_pred_val=np.argmax(model.predict(valX_cnn),axis=1)\n",
    "y_pred_test=np.argmax(model.predict(testX_cnn),axis=1)"
   ]
  },
  {
   "cell_type": "code",
   "execution_count": 11,
   "id": "6890fb76-cf1f-4b42-a67f-c6b39cf986a2",
   "metadata": {},
   "outputs": [
    {
     "name": "stdout",
     "output_type": "stream",
     "text": [
      "val accuracy: 0.8904129367600346\n",
      "test accuracy: 0.8228414669361825\n"
     ]
    }
   ],
   "source": [
    "print('val accuracy:',accuracy_score(y_val, y_pred_val))\n",
    "print('test accuracy:',accuracy_score(y_test, y_pred_test))"
   ]
  },
  {
   "cell_type": "code",
   "execution_count": 12,
   "id": "b5cc66cf-1224-449a-83aa-20ef20466b56",
   "metadata": {},
   "outputs": [
    {
     "data": {
      "text/plain": [
       "<keras.engine.sequential.Sequential at 0x218172b3eb0>"
      ]
     },
     "execution_count": 12,
     "metadata": {},
     "output_type": "execute_result"
    }
   ],
   "source": [
    "model "
   ]
  },
  {
   "cell_type": "code",
   "execution_count": 13,
   "id": "b0b89049-5513-4445-ba23-7ac2867f4c10",
   "metadata": {},
   "outputs": [],
   "source": [
    "from keras.wrappers.scikit_learn import KerasClassifier"
   ]
  },
  {
   "cell_type": "code",
   "execution_count": 14,
   "id": "ebf7b5c1-da91-4404-be17-438d5fcbb3fd",
   "metadata": {},
   "outputs": [],
   "source": [
    "model_sklearn = KerasClassifier(build_fn=model,\n",
    "                                 batch_size=128,\n",
    "                                 epochs=5,\n",
    "                                 )"
   ]
  },
  {
   "cell_type": "code",
   "execution_count": 15,
   "id": "f2e9c87b-b56d-45ae-8bc6-048918414777",
   "metadata": {},
   "outputs": [],
   "source": [
    "model_c = CalibratedClassifierCV(base_estimator=model_sklearn,method='sigmoid', cv='prefit')\n"
   ]
  },
  {
   "cell_type": "code",
   "execution_count": 16,
   "id": "8a4385ef-a9a6-4e0e-94fd-4815912f910b",
   "metadata": {},
   "outputs": [
    {
     "ename": "NotFittedError",
     "evalue": "This KerasClassifier instance is not fitted yet. Call 'fit' with appropriate arguments before using this estimator.",
     "output_type": "error",
     "traceback": [
      "\u001b[1;31m-------------------------------------------------------\u001b[0m",
      "\u001b[1;31mNotFittedError\u001b[0m        Traceback (most recent call last)",
      "\u001b[1;32m<ipython-input-16-f989570398d7>\u001b[0m in \u001b[0;36m<module>\u001b[1;34m\u001b[0m\n\u001b[1;32m----> 1\u001b[1;33m \u001b[0mmodel_c\u001b[0m\u001b[1;33m.\u001b[0m\u001b[0mfit\u001b[0m\u001b[1;33m(\u001b[0m\u001b[0mX_val\u001b[0m\u001b[1;33m,\u001b[0m \u001b[0my_val\u001b[0m\u001b[1;33m)\u001b[0m\u001b[1;33m\u001b[0m\u001b[1;33m\u001b[0m\u001b[0m\n\u001b[0m",
      "\u001b[1;32m~\\anaconda3\\lib\\site-packages\\sklearn\\calibration.py\u001b[0m in \u001b[0;36mfit\u001b[1;34m(self, X, y, sample_weight)\u001b[0m\n\u001b[0;32m    281\u001b[0m         \u001b[1;32mif\u001b[0m \u001b[0mself\u001b[0m\u001b[1;33m.\u001b[0m\u001b[0mcv\u001b[0m \u001b[1;33m==\u001b[0m \u001b[1;34m\"prefit\"\u001b[0m\u001b[1;33m:\u001b[0m\u001b[1;33m\u001b[0m\u001b[1;33m\u001b[0m\u001b[0m\n\u001b[0;32m    282\u001b[0m             \u001b[1;31m# `classes_` should be consistent with that of base_estimator\u001b[0m\u001b[1;33m\u001b[0m\u001b[1;33m\u001b[0m\u001b[1;33m\u001b[0m\u001b[0m\n\u001b[1;32m--> 283\u001b[1;33m             \u001b[0mcheck_is_fitted\u001b[0m\u001b[1;33m(\u001b[0m\u001b[0mself\u001b[0m\u001b[1;33m.\u001b[0m\u001b[0mbase_estimator\u001b[0m\u001b[1;33m,\u001b[0m \u001b[0mattributes\u001b[0m\u001b[1;33m=\u001b[0m\u001b[1;33m[\u001b[0m\u001b[1;34m\"classes_\"\u001b[0m\u001b[1;33m]\u001b[0m\u001b[1;33m)\u001b[0m\u001b[1;33m\u001b[0m\u001b[1;33m\u001b[0m\u001b[0m\n\u001b[0m\u001b[0;32m    284\u001b[0m             \u001b[0mself\u001b[0m\u001b[1;33m.\u001b[0m\u001b[0mclasses_\u001b[0m \u001b[1;33m=\u001b[0m \u001b[0mself\u001b[0m\u001b[1;33m.\u001b[0m\u001b[0mbase_estimator\u001b[0m\u001b[1;33m.\u001b[0m\u001b[0mclasses_\u001b[0m\u001b[1;33m\u001b[0m\u001b[1;33m\u001b[0m\u001b[0m\n\u001b[0;32m    285\u001b[0m \u001b[1;33m\u001b[0m\u001b[0m\n",
      "\u001b[1;32m~\\anaconda3\\lib\\site-packages\\sklearn\\utils\\validation.py\u001b[0m in \u001b[0;36mcheck_is_fitted\u001b[1;34m(estimator, attributes, msg, all_or_any)\u001b[0m\n\u001b[0;32m   1207\u001b[0m \u001b[1;33m\u001b[0m\u001b[0m\n\u001b[0;32m   1208\u001b[0m     \u001b[1;32mif\u001b[0m \u001b[1;32mnot\u001b[0m \u001b[0mfitted\u001b[0m\u001b[1;33m:\u001b[0m\u001b[1;33m\u001b[0m\u001b[1;33m\u001b[0m\u001b[0m\n\u001b[1;32m-> 1209\u001b[1;33m         \u001b[1;32mraise\u001b[0m \u001b[0mNotFittedError\u001b[0m\u001b[1;33m(\u001b[0m\u001b[0mmsg\u001b[0m \u001b[1;33m%\u001b[0m \u001b[1;33m{\u001b[0m\u001b[1;34m\"name\"\u001b[0m\u001b[1;33m:\u001b[0m \u001b[0mtype\u001b[0m\u001b[1;33m(\u001b[0m\u001b[0mestimator\u001b[0m\u001b[1;33m)\u001b[0m\u001b[1;33m.\u001b[0m\u001b[0m__name__\u001b[0m\u001b[1;33m}\u001b[0m\u001b[1;33m)\u001b[0m\u001b[1;33m\u001b[0m\u001b[1;33m\u001b[0m\u001b[0m\n\u001b[0m\u001b[0;32m   1210\u001b[0m \u001b[1;33m\u001b[0m\u001b[0m\n\u001b[0;32m   1211\u001b[0m \u001b[1;33m\u001b[0m\u001b[0m\n",
      "\u001b[1;31mNotFittedError\u001b[0m: This KerasClassifier instance is not fitted yet. Call 'fit' with appropriate arguments before using this estimator."
     ]
    }
   ],
   "source": [
    "model_c.fit(X_val, y_val)"
   ]
  },
  {
   "cell_type": "code",
   "execution_count": null,
   "id": "4cf11bf3-e85c-484e-949f-a9634a163b2f",
   "metadata": {},
   "outputs": [],
   "source": []
  }
 ],
 "metadata": {
  "kernelspec": {
   "display_name": "Python 3",
   "language": "python",
   "name": "python3"
  },
  "language_info": {
   "codemirror_mode": {
    "name": "ipython",
    "version": 3
   },
   "file_extension": ".py",
   "mimetype": "text/x-python",
   "name": "python",
   "nbconvert_exporter": "python",
   "pygments_lexer": "ipython3",
   "version": "3.8.8"
  }
 },
 "nbformat": 4,
 "nbformat_minor": 5
}
