{
 "cells": [
  {
   "cell_type": "code",
   "execution_count": 4,
   "outputs": [
    {
     "name": "stdout",
     "output_type": "stream",
     "text": [
      "C:\\Users\\elema\\gitEli\\A-Geometric-Method-for-Improved-Uncertainty-Estimation-in-Real-time\\Experiments\n"
     ]
    }
   ],
   "source": [
    "cd .."
   ],
   "metadata": {
    "collapsed": false,
    "pycharm": {
     "name": "#%%\n"
    }
   }
  },
  {
   "cell_type": "code",
   "execution_count": 5,
   "metadata": {},
   "outputs": [
    {
     "name": "stderr",
     "output_type": "stream",
     "text": [
      "C:\\Users\\elema\\anaconda3\\envs\\tf-gpu\\lib\\site-packages\\xgboost\\compat.py:36: FutureWarning: pandas.Int64Index is deprecated and will be removed from pandas in a future version. Use pandas.Index with the appropriate dtype instead.\n",
      "  from pandas import MultiIndex, Int64Index\n"
     ]
    }
   ],
   "source": [
    "from sklearn.model_selection import train_test_split\n",
    "import pandas as pd\n",
    "import numpy as np\n",
    "\n",
    "from tqdm.notebook import tqdm\n",
    "from calibrators import *\n",
    "from sklearn.ensemble import RandomForestClassifier\n",
    "from sklearn.ensemble import GradientBoostingClassifier\n",
    "from sklearn.calibration import CalibratedClassifierCV\n",
    "from utils import ECE_calc\n",
    "from sklearn.preprocessing import RobustScaler\n",
    "from sklearn import preprocessing\n",
    "import xgboost as xgb\n",
    "from utils import stability_calc,mean_confidence_interval_str,sep_calc"
   ]
  },
  {
   "cell_type": "code",
   "execution_count": 6,
   "metadata": {},
   "outputs": [],
   "source": [
    "from ModelLoader import *"
   ]
  },
  {
   "cell_type": "code",
   "execution_count": 7,
   "metadata": {},
   "outputs": [],
   "source": [
    "import warnings\n",
    "warnings.filterwarnings('ignore')"
   ]
  },
  {
   "cell_type": "code",
   "execution_count": 8,
   "metadata": {},
   "outputs": [],
   "source": [
    "def color_max(s):\n",
    "    numbers = []\n",
    "    for i in s:\n",
    "        if isinstance(i,str) and len(i)>1:\n",
    "            numbers.append(i)\n",
    "        else:\n",
    "            numbers.append(np.inf)\n",
    "    numbers = np.array(numbers)\n",
    "    is_max = numbers == min(numbers)\n",
    "    return ['background-color: darkgreen' if v else '' for v in is_max]"
   ]
  },
  {
   "cell_type": "code",
   "execution_count": 9,
   "metadata": {},
   "outputs": [],
   "source": [
    "import scipy\n",
    "def mean_confidence_interval(data, confidence=0.95):\n",
    "    a = 1.0 * np.array(data)\n",
    "    n = len(a)\n",
    "    m, se = np.mean(a), scipy.stats.sem(a)\n",
    "    h = se * scipy.stats.t.ppf((1 + confidence) / 2., n - 1)\n",
    "    return f'{m:.4f}±{h:.4f}'"
   ]
  },
  {
   "cell_type": "code",
   "execution_count": 10,
   "metadata": {},
   "outputs": [],
   "source": [
    "def percentage_format(x):\n",
    "    if isinstance(x,str) and len(x)>1:\n",
    "        a,b = x.split('±')\n",
    "        a=float(a)*100\n",
    "        b=float(b)*100\n",
    "        return f'{format(a, \".2f\")}±{format(b, \".2f\")}'\n",
    "    return x"
   ]
  },
  {
   "cell_type": "code",
   "execution_count": 11,
   "metadata": {},
   "outputs": [],
   "source": [
    "model_names = ['RF','GB','XGB']\n",
    "# methods = ['Stab','Sep','SKlearn_platt', 'SKlearn_iso', 'HB', 'Stab+HB', 'Sep+HB', 'SBC', 'Stab+SBC', 'Sep+SBC']\n",
    "methods = ['Stab','SKlearn_platt', 'SKlearn_iso', 'HB', 'SBC']"
   ]
  },
  {
   "cell_type": "code",
   "execution_count": 31,
   "metadata": {},
   "outputs": [
    {
     "name": "stderr",
     "output_type": "stream",
     "text": [
      "  8%|█▎               | 8/100 [00:26<05:07,  3.34s/it]"
     ]
    },
    {
     "name": "stdout",
     "output_type": "stream",
     "text": [
      "An exception occurred: \n",
      "An exception occurred: \n"
     ]
    },
    {
     "name": "stderr",
     "output_type": "stream",
     "text": [
      "  9%|█▌               | 9/100 [00:29<05:02,  3.32s/it]"
     ]
    },
    {
     "name": "stdout",
     "output_type": "stream",
     "text": [
      "An exception occurred: \n"
     ]
    },
    {
     "name": "stderr",
     "output_type": "stream",
     "text": [
      " 11%|█▊              | 11/100 [00:36<04:55,  3.32s/it]"
     ]
    },
    {
     "name": "stdout",
     "output_type": "stream",
     "text": [
      "An exception occurred: \n",
      "An exception occurred: \n"
     ]
    },
    {
     "name": "stderr",
     "output_type": "stream",
     "text": [
      " 12%|█▉              | 12/100 [00:39<04:53,  3.33s/it]"
     ]
    },
    {
     "name": "stdout",
     "output_type": "stream",
     "text": [
      "An exception occurred: \n"
     ]
    },
    {
     "name": "stderr",
     "output_type": "stream",
     "text": [
      " 15%|██▍             | 15/100 [00:50<04:44,  3.35s/it]"
     ]
    },
    {
     "name": "stdout",
     "output_type": "stream",
     "text": [
      "An exception occurred: \n",
      "An exception occurred: \n"
     ]
    },
    {
     "name": "stderr",
     "output_type": "stream",
     "text": [
      " 16%|██▌             | 16/100 [00:53<04:35,  3.28s/it]"
     ]
    },
    {
     "name": "stdout",
     "output_type": "stream",
     "text": [
      "An exception occurred: \n"
     ]
    },
    {
     "name": "stderr",
     "output_type": "stream",
     "text": [
      " 20%|███▏            | 20/100 [01:06<04:28,  3.35s/it]"
     ]
    },
    {
     "name": "stdout",
     "output_type": "stream",
     "text": [
      "An exception occurred: \n",
      "An exception occurred: \n"
     ]
    },
    {
     "name": "stderr",
     "output_type": "stream",
     "text": [
      " 21%|███▎            | 21/100 [01:09<04:23,  3.33s/it]"
     ]
    },
    {
     "name": "stdout",
     "output_type": "stream",
     "text": [
      "An exception occurred: \n"
     ]
    },
    {
     "name": "stderr",
     "output_type": "stream",
     "text": [
      " 28%|████▍           | 28/100 [01:33<03:58,  3.32s/it]"
     ]
    },
    {
     "name": "stdout",
     "output_type": "stream",
     "text": [
      "An exception occurred: \n",
      "An exception occurred: \n"
     ]
    },
    {
     "name": "stderr",
     "output_type": "stream",
     "text": [
      " 29%|████▋           | 29/100 [01:36<03:52,  3.28s/it]"
     ]
    },
    {
     "name": "stdout",
     "output_type": "stream",
     "text": [
      "An exception occurred: \n"
     ]
    },
    {
     "name": "stderr",
     "output_type": "stream",
     "text": [
      " 35%|█████▌          | 35/100 [01:56<03:39,  3.38s/it]"
     ]
    },
    {
     "name": "stdout",
     "output_type": "stream",
     "text": [
      "An exception occurred: \n",
      "An exception occurred: \n"
     ]
    },
    {
     "name": "stderr",
     "output_type": "stream",
     "text": [
      " 36%|█████▊          | 36/100 [01:59<03:33,  3.34s/it]"
     ]
    },
    {
     "name": "stdout",
     "output_type": "stream",
     "text": [
      "An exception occurred: \n"
     ]
    },
    {
     "name": "stderr",
     "output_type": "stream",
     "text": [
      " 49%|███████▊        | 49/100 [02:44<02:51,  3.37s/it]"
     ]
    },
    {
     "name": "stdout",
     "output_type": "stream",
     "text": [
      "An exception occurred: \n",
      "An exception occurred: \n"
     ]
    },
    {
     "name": "stderr",
     "output_type": "stream",
     "text": [
      " 50%|████████        | 50/100 [02:47<02:46,  3.33s/it]"
     ]
    },
    {
     "name": "stdout",
     "output_type": "stream",
     "text": [
      "An exception occurred: \n"
     ]
    },
    {
     "name": "stderr",
     "output_type": "stream",
     "text": [
      " 64%|██████████▏     | 64/100 [03:34<02:01,  3.38s/it]"
     ]
    },
    {
     "name": "stdout",
     "output_type": "stream",
     "text": [
      "An exception occurred: \n",
      "An exception occurred: \n"
     ]
    },
    {
     "name": "stderr",
     "output_type": "stream",
     "text": [
      " 65%|██████████▍     | 65/100 [03:38<01:57,  3.35s/it]"
     ]
    },
    {
     "name": "stdout",
     "output_type": "stream",
     "text": [
      "An exception occurred: \n"
     ]
    },
    {
     "name": "stderr",
     "output_type": "stream",
     "text": [
      " 80%|████████████▊   | 80/100 [04:27<01:03,  3.20s/it]"
     ]
    },
    {
     "name": "stdout",
     "output_type": "stream",
     "text": [
      "An exception occurred: \n",
      "An exception occurred: \n"
     ]
    },
    {
     "name": "stderr",
     "output_type": "stream",
     "text": [
      " 81%|████████████▉   | 81/100 [04:30<00:57,  3.03s/it]"
     ]
    },
    {
     "name": "stdout",
     "output_type": "stream",
     "text": [
      "An exception occurred: \n",
      "An exception occurred: \n",
      "An exception occurred: \n"
     ]
    },
    {
     "name": "stderr",
     "output_type": "stream",
     "text": [
      " 82%|█████████████   | 82/100 [04:32<00:51,  2.89s/it]"
     ]
    },
    {
     "name": "stdout",
     "output_type": "stream",
     "text": [
      "An exception occurred: \n",
      "An exception occurred: \n",
      "An exception occurred: \n"
     ]
    },
    {
     "name": "stderr",
     "output_type": "stream",
     "text": [
      " 83%|█████████████▎  | 83/100 [04:35<00:49,  2.89s/it]"
     ]
    },
    {
     "name": "stdout",
     "output_type": "stream",
     "text": [
      "An exception occurred: \n"
     ]
    },
    {
     "name": "stderr",
     "output_type": "stream",
     "text": [
      " 99%|███████████████▊| 99/100 [05:18<00:02,  2.65s/it]"
     ]
    },
    {
     "name": "stdout",
     "output_type": "stream",
     "text": [
      "An exception occurred: \n",
      "An exception occurred: \n"
     ]
    },
    {
     "name": "stderr",
     "output_type": "stream",
     "text": [
      "100%|███████████████| 100/100 [05:20<00:00,  3.21s/it]"
     ]
    },
    {
     "name": "stdout",
     "output_type": "stream",
     "text": [
      "An exception occurred: \n"
     ]
    },
    {
     "name": "stderr",
     "output_type": "stream",
     "text": [
      "\n"
     ]
    }
   ],
   "source": [
    "d = {f'WINE-{model}':{method:[] for method in methods} for model in model_names}\n",
    "models = [RandomForestClassifier(),GradientBoostingClassifier(),xgb.XGBClassifier(eval_metric='mlogloss',use_label_encoder=False)]\n",
    "\n",
    "df=pd.read_csv('./WINE/winequality-red.csv')\n",
    "X = np.log1p(df.drop(['quality','free sulfur dioxide', 'pH', 'residual sugar'], axis=1))\n",
    "y = df['quality']\n",
    "\n",
    "#Preprocessing\n",
    "le = preprocessing.LabelEncoder()\n",
    "y = le.fit_transform(y)\n",
    "\n",
    "\n",
    "for random_state in tqdm(range(100)):\n",
    "    \n",
    "    X_train_v, X_test, y_train_v , y_test = train_test_split(X, y, test_size=0.2, random_state=random_state)\n",
    "    X_train, X_val, y_train, y_val = train_test_split(X_train_v, y_train_v, test_size=0.25, random_state=random_state)\n",
    "    scaler = RobustScaler()\n",
    "    x_train = scaler.fit_transform(X_train)\n",
    "    x_val = scaler.transform(X_val)\n",
    "    x_test = scaler.transform(X_test)\n",
    "    num_labels = len(np.unique(y_train))\n",
    "    \n",
    "    for model,model_name in zip(models,model_names):\n",
    "        clf = model\n",
    "        clf.fit(x_train, y_train)\n",
    "\n",
    "        probs_test = clf.predict_proba(x_test)\n",
    "        y_pred_test = clf.predict(x_test)\n",
    "        probs_val = clf.predict_proba(x_val)\n",
    "        y_pred_val = clf.predict(x_val)\n",
    "        \n",
    "        corrects = y_pred_val==y_val\n",
    "        \n",
    "        stab_test = stability_calc(x_train, x_test, y_train, y_pred_test, num_labels, metric='l2')\n",
    "        stab_val = stability_calc(x_train, x_val, y_train, y_pred_val, num_labels, metric='l2')\n",
    "        \n",
    "        # sep_val = sep_calc(x_train, x_val, y_train, y_pred_val, norm = 'L1')\n",
    "        # sep_test = sep_calc(x_train, x_test, y_train, y_pred_test, norm = 'L1')\n",
    "        \n",
    "        #calibration Stage:\n",
    "        ########################################################################################################\n",
    "        #Stability Calibration\n",
    "        stabCal = StabilityCalibrator()\n",
    "        stabCal.fit(stab_val, corrects)\n",
    "        ECE_Stab = stabCal.ECE(stab_test, y_pred_test, y_test)  \n",
    "        d[f'WINE-{model_name}']['Stab'].append(ECE_Stab)\n",
    "        \n",
    "        # #Separation Calibration\n",
    "        # sepCal = SeparationCalibrator()\n",
    "        # sepCal.fit(sep_val, corrects)\n",
    "        # ECE_Sep = sepCal.ECE(sep_test, y_pred_test, y_test)\n",
    "        # d[f'WINE-{model_name}']['Sep'].append(ECE_Sep)\n",
    "        ########################################################################################################\n",
    "\n",
    "        #SKlearn-isotonic\n",
    "        sklearn_platt = CalibratedClassifierCV(base_estimator=clf, cv=\"prefit\", method='isotonic')\n",
    "        sklearn_platt.fit(x_val, y_val)\n",
    "        calibrated_probs_test = sklearn_platt.predict_proba(x_test)\n",
    "        calibrated_y_pred_test = sklearn_platt.predict(x_test)\n",
    "        ECE_iso = ECE_calc(calibrated_probs_test,calibrated_y_pred_test,y_test)\n",
    "        d[f'WINE-{model_name}']['SKlearn_iso'].append(ECE_iso)\n",
    "\n",
    "        #SKlearn-platt\n",
    "        sklearn_platt = CalibratedClassifierCV(base_estimator=clf, cv=\"prefit\", method='sigmoid')\n",
    "        sklearn_platt.fit(x_val, y_val)\n",
    "        calibrated_probs_test = sklearn_platt.predict_proba(x_test)\n",
    "        calibrated_y_pred_test = sklearn_platt.predict(x_test)\n",
    "        ECE_platt = ECE_calc(calibrated_probs_test,calibrated_y_pred_test,y_test)\n",
    "        d[f'WINE-{model_name}']['SKlearn_platt'].append(ECE_platt)\n",
    "        \n",
    "        ########################################################################################################\n",
    "        \n",
    "        # HB\n",
    "        HBcalibrator = HBCalibrator()\n",
    "        HBcalibrator.fit(probs_val, y_val + 1)\n",
    "        HB_test_calibrated = HBcalibrator.calibrate(probs_test)\n",
    "        ECE_HB = ECE_calc(HB_test_calibrated, y_pred_test, y_test)\n",
    "        d[f'WINE-{model_name}']['HB'].append(ECE_HB)\n",
    "        \n",
    "        # #stab+HB(our implementation)\n",
    "        # stabHB = StabilityHistogramBinningCalibrator()\n",
    "        # stabHB.fit(stab_val,corrects)\n",
    "        # stabHB_test_calibrated =stabHB.calibrate(stab_test)\n",
    "        # ECE_stabHB = ECE_calc(stabHB_test_calibrated, y_pred_test, y_test)\n",
    "        # d[f'WINE-{model_name}']['Stab+HB'].append(ECE_stabHB)\n",
    "        \n",
    "        #Sep+HB\n",
    "        # sepHB = SeparationHistogramBinningCalibrator()\n",
    "        # sepHB.fit(sep_val,corrects)\n",
    "        # sepHB_test_calibrated =sepHB.calibrate(sep_test)\n",
    "        # ECE_sepHB = ECE_calc(sepHB_test_calibrated, y_pred_test, y_test)\n",
    "        # d[f'WINE-{model_name}']['Sep+HB'].append(ECE_sepHB)\n",
    "        \n",
    "        ########################################################################################################\n",
    "        \n",
    "        #SBC - making problems when we dont have all labels of Dataset in y_val\n",
    "        try:\n",
    "            #SBC\n",
    "            SBCcalibrator = SBCCalibrator()\n",
    "            SBCcalibrator.fit(probs_val, y_val)\n",
    "            probs_calibrated = SBCcalibrator.calibrate(probs_test)\n",
    "            pred_y_test_calibrated = np.argmax(probs_calibrated, axis=1)\n",
    "            ECE_SBC = ECE_calc(probs_calibrated, pred_y_test_calibrated, y_test)\n",
    "            d[f'WINE-{model_name}']['SBC'].append(ECE_SBC)\n",
    "            \n",
    "            #stab+SBC\n",
    "#             stab_SBCtop_calibrator = stab_SBC_Calibrator()\n",
    "#             stab_SBCtop_calibrator.fit(stab_val ,probs_val, corrects)\n",
    "#             calibratedTOP_test = stab_SBCtop_calibrator.calibrate(stab_test)\n",
    "#             ECE_stabSBC = ECE_calc(calibratedTOP_test, y_pred_test, y_test)\n",
    "#             d[f'WINE-{model_name}']['Stab+SBC'].append(ECE_stabSBC)\n",
    "            \n",
    "#             #Sep+SBC\n",
    "#             stab_SBCtop_calibrator = stab_SBC_Calibrator()\n",
    "#             stab_SBCtop_calibrator.fit(sep_val ,probs_val, corrects)\n",
    "#             calibratedTOP_test = stab_SBCtop_calibrator.calibrate(sep_test)\n",
    "#             ECE_sepSBC = ECE_calc(calibratedTOP_test, y_pred_test, y_test)\n",
    "#             d[f'WINE-{model_name}']['Sep+SBC'].append(ECE_sepSBC)\n",
    "        \n",
    "        except BaseException as error:\n",
    "                print('An exception occurred: {}'.format(error))"
   ]
  },
  {
   "cell_type": "code",
   "execution_count": 32,
   "metadata": {
    "tags": []
   },
   "outputs": [],
   "source": [
    "np.save('.\\Saved_computations\\Wine_cali_dict_l2.npy', d) "
   ]
  },
  {
   "cell_type": "code",
   "execution_count": 7,
   "metadata": {},
   "outputs": [],
   "source": [
    "Wine_cali_dict = np.load('.\\Saved_computations\\Wine_cali_dict_l2.npy',allow_pickle='TRUE').item()"
   ]
  },
  {
   "cell_type": "code",
   "execution_count": 8,
   "metadata": {},
   "outputs": [],
   "source": [
    "for model, method in Wine_cali_dict.items():\n",
    "    for method, scores in method.items():\n",
    "        Wine_cali_dict[model][method] = np.apply_along_axis(mean_confidence_interval_str,0,scores).item() "
   ]
  },
  {
   "cell_type": "code",
   "execution_count": 9,
   "metadata": {},
   "outputs": [],
   "source": [
    "df = pd.DataFrame(Wine_cali_dict).T"
   ]
  },
  {
   "cell_type": "code",
   "execution_count": 10,
   "metadata": {},
   "outputs": [
    {
     "data": {
      "text/html": [
       "<div>\n",
       "<style scoped>\n",
       "    .dataframe tbody tr th:only-of-type {\n",
       "        vertical-align: middle;\n",
       "    }\n",
       "\n",
       "    .dataframe tbody tr th {\n",
       "        vertical-align: top;\n",
       "    }\n",
       "\n",
       "    .dataframe thead th {\n",
       "        text-align: right;\n",
       "    }\n",
       "</style>\n",
       "<table border=\"1\" class=\"dataframe\">\n",
       "  <thead>\n",
       "    <tr style=\"text-align: right;\">\n",
       "      <th></th>\n",
       "      <th>Stab</th>\n",
       "      <th>SKlearn_platt</th>\n",
       "      <th>SKlearn_iso</th>\n",
       "      <th>HB</th>\n",
       "      <th>SBC</th>\n",
       "    </tr>\n",
       "  </thead>\n",
       "  <tbody>\n",
       "    <tr>\n",
       "      <th>WINE-RF</th>\n",
       "      <td>0.0643±0.0043</td>\n",
       "      <td>0.0683±0.0036</td>\n",
       "      <td>0.0653±0.0035</td>\n",
       "      <td>0.0649±0.0044</td>\n",
       "      <td>0.0688±0.0039</td>\n",
       "    </tr>\n",
       "    <tr>\n",
       "      <th>WINE-GB</th>\n",
       "      <td>0.0690±0.0040</td>\n",
       "      <td>0.0743±0.0044</td>\n",
       "      <td>0.0663±0.0037</td>\n",
       "      <td>0.0709±0.0050</td>\n",
       "      <td>0.0706±0.0040</td>\n",
       "    </tr>\n",
       "    <tr>\n",
       "      <th>WINE-XGB</th>\n",
       "      <td>0.0673±0.0042</td>\n",
       "      <td>0.0734±0.0044</td>\n",
       "      <td>0.0748±0.0040</td>\n",
       "      <td>0.0738±0.0044</td>\n",
       "      <td>0.0689±0.0033</td>\n",
       "    </tr>\n",
       "  </tbody>\n",
       "</table>\n",
       "</div>"
      ],
      "text/plain": [
       "                   Stab  SKlearn_platt    SKlearn_iso             HB  \\\n",
       "WINE-RF   0.0643±0.0043  0.0683±0.0036  0.0653±0.0035  0.0649±0.0044   \n",
       "WINE-GB   0.0690±0.0040  0.0743±0.0044  0.0663±0.0037  0.0709±0.0050   \n",
       "WINE-XGB  0.0673±0.0042  0.0734±0.0044  0.0748±0.0040  0.0738±0.0044   \n",
       "\n",
       "                    SBC  \n",
       "WINE-RF   0.0688±0.0039  \n",
       "WINE-GB   0.0706±0.0040  \n",
       "WINE-XGB  0.0689±0.0033  "
      ]
     },
     "execution_count": 10,
     "metadata": {},
     "output_type": "execute_result"
    }
   ],
   "source": [
    "df"
   ]
  },
  {
   "cell_type": "code",
   "execution_count": 11,
   "metadata": {},
   "outputs": [],
   "source": [
    "def non_zero_format(x):\n",
    "    if x!='-':\n",
    "        a,b = x.split('±')\n",
    "        if a[:2]=='0.':\n",
    "            a=a[1:]\n",
    "        if b[:2]=='0.':\n",
    "            b=b[1:]\n",
    "        return f'{a}±{b}'\n",
    "    return x\n",
    "\n",
    "def percentage_format(x):\n",
    "    if isinstance(x,str) and len(x)>1:\n",
    "        a,b = x.split('±')\n",
    "        a=float(a)*100\n",
    "        b=float(b)*100\n",
    "        return f'{format(a, \".2f\")}±{format(b, \".2f\")}'\n",
    "    return x\n",
    "\n",
    "def color_max(s):\n",
    "    numbers = []\n",
    "    for i in s:\n",
    "        if isinstance(i,str) and len(i)>1:\n",
    "            numbers.append(i)\n",
    "        else:\n",
    "            numbers.append(np.inf)\n",
    "    numbers = np.array(numbers)\n",
    "    is_max = numbers == min(numbers)\n",
    "    return ['background-color: darkgreen' if v else '' for v in is_max]"
   ]
  },
  {
   "cell_type": "code",
   "execution_count": 12,
   "metadata": {},
   "outputs": [],
   "source": [
    "df =df.applymap(percentage_format)\n",
    "df = df.applymap(non_zero_format)"
   ]
  },
  {
   "cell_type": "code",
   "execution_count": 13,
   "metadata": {},
   "outputs": [
    {
     "data": {
      "text/html": [
       "<style type=\"text/css\">\n",
       "#T_fbda5_row0_col0, #T_fbda5_row1_col2, #T_fbda5_row2_col0 {\n",
       "  background-color: darkgreen;\n",
       "}\n",
       "</style>\n",
       "<table id=\"T_fbda5\">\n",
       "  <thead>\n",
       "    <tr>\n",
       "      <th class=\"blank level0\" >&nbsp;</th>\n",
       "      <th id=\"T_fbda5_level0_col0\" class=\"col_heading level0 col0\" >Stab</th>\n",
       "      <th id=\"T_fbda5_level0_col1\" class=\"col_heading level0 col1\" >SKlearn_platt</th>\n",
       "      <th id=\"T_fbda5_level0_col2\" class=\"col_heading level0 col2\" >SKlearn_iso</th>\n",
       "      <th id=\"T_fbda5_level0_col3\" class=\"col_heading level0 col3\" >HB</th>\n",
       "      <th id=\"T_fbda5_level0_col4\" class=\"col_heading level0 col4\" >SBC</th>\n",
       "    </tr>\n",
       "  </thead>\n",
       "  <tbody>\n",
       "    <tr>\n",
       "      <th id=\"T_fbda5_level0_row0\" class=\"row_heading level0 row0\" >WINE-RF</th>\n",
       "      <td id=\"T_fbda5_row0_col0\" class=\"data row0 col0\" >6.43±.43</td>\n",
       "      <td id=\"T_fbda5_row0_col1\" class=\"data row0 col1\" >6.83±.36</td>\n",
       "      <td id=\"T_fbda5_row0_col2\" class=\"data row0 col2\" >6.53±.35</td>\n",
       "      <td id=\"T_fbda5_row0_col3\" class=\"data row0 col3\" >6.49±.44</td>\n",
       "      <td id=\"T_fbda5_row0_col4\" class=\"data row0 col4\" >6.88±.39</td>\n",
       "    </tr>\n",
       "    <tr>\n",
       "      <th id=\"T_fbda5_level0_row1\" class=\"row_heading level0 row1\" >WINE-GB</th>\n",
       "      <td id=\"T_fbda5_row1_col0\" class=\"data row1 col0\" >6.90±.40</td>\n",
       "      <td id=\"T_fbda5_row1_col1\" class=\"data row1 col1\" >7.43±.44</td>\n",
       "      <td id=\"T_fbda5_row1_col2\" class=\"data row1 col2\" >6.63±.37</td>\n",
       "      <td id=\"T_fbda5_row1_col3\" class=\"data row1 col3\" >7.09±.50</td>\n",
       "      <td id=\"T_fbda5_row1_col4\" class=\"data row1 col4\" >7.06±.40</td>\n",
       "    </tr>\n",
       "    <tr>\n",
       "      <th id=\"T_fbda5_level0_row2\" class=\"row_heading level0 row2\" >WINE-XGB</th>\n",
       "      <td id=\"T_fbda5_row2_col0\" class=\"data row2 col0\" >6.73±.42</td>\n",
       "      <td id=\"T_fbda5_row2_col1\" class=\"data row2 col1\" >7.34±.44</td>\n",
       "      <td id=\"T_fbda5_row2_col2\" class=\"data row2 col2\" >7.48±.40</td>\n",
       "      <td id=\"T_fbda5_row2_col3\" class=\"data row2 col3\" >7.38±.44</td>\n",
       "      <td id=\"T_fbda5_row2_col4\" class=\"data row2 col4\" >6.89±.33</td>\n",
       "    </tr>\n",
       "  </tbody>\n",
       "</table>\n"
      ],
      "text/plain": [
       "<pandas.io.formats.style.Styler at 0x234b71a25b0>"
      ]
     },
     "execution_count": 13,
     "metadata": {},
     "output_type": "execute_result"
    }
   ],
   "source": [
    "df.style.apply(color_max, axis=1)"
   ]
  },
  {
   "cell_type": "code",
   "execution_count": 14,
   "metadata": {},
   "outputs": [],
   "source": [
    "cols = df.columns\n",
    "rows = df.index"
   ]
  },
  {
   "cell_type": "code",
   "execution_count": 16,
   "metadata": {},
   "outputs": [],
   "source": [
    "for c in cols[1:]:\n",
    "    for r in rows:\n",
    "        if df[c][r]!='-':\n",
    "            a = float(str.split(df[c][r],'±')[0])\n",
    "            b = float(str.split(df[cols[0]][r],'±')[0])\n",
    "            ans = (a-b)/a*100\n",
    "            ans = round(ans,1)\n",
    "            ans_str = '('+str(ans)+'%)'\n",
    "            # print(df.at[r,c]+ans_str)\n",
    "            df.at[r,c] = df.at[r,c]+ans_str"
   ]
  },
  {
   "cell_type": "code",
   "execution_count": 17,
   "metadata": {
    "pycharm": {
     "name": "#%%\n"
    }
   },
   "outputs": [
    {
     "data": {
      "text/html": [
       "<style type=\"text/css\">\n",
       "#T_28b5e_row0_col0, #T_28b5e_row1_col2, #T_28b5e_row2_col0 {\n",
       "  background-color: darkgreen;\n",
       "}\n",
       "</style>\n",
       "<table id=\"T_28b5e\">\n",
       "  <thead>\n",
       "    <tr>\n",
       "      <th class=\"blank level0\" >&nbsp;</th>\n",
       "      <th id=\"T_28b5e_level0_col0\" class=\"col_heading level0 col0\" >Stab</th>\n",
       "      <th id=\"T_28b5e_level0_col1\" class=\"col_heading level0 col1\" >SKlearn_platt</th>\n",
       "      <th id=\"T_28b5e_level0_col2\" class=\"col_heading level0 col2\" >SKlearn_iso</th>\n",
       "      <th id=\"T_28b5e_level0_col3\" class=\"col_heading level0 col3\" >HB</th>\n",
       "      <th id=\"T_28b5e_level0_col4\" class=\"col_heading level0 col4\" >SBC</th>\n",
       "    </tr>\n",
       "  </thead>\n",
       "  <tbody>\n",
       "    <tr>\n",
       "      <th id=\"T_28b5e_level0_row0\" class=\"row_heading level0 row0\" >WINE-RF</th>\n",
       "      <td id=\"T_28b5e_row0_col0\" class=\"data row0 col0\" >6.43±.43</td>\n",
       "      <td id=\"T_28b5e_row0_col1\" class=\"data row0 col1\" >6.83±.36(5.9%)</td>\n",
       "      <td id=\"T_28b5e_row0_col2\" class=\"data row0 col2\" >6.53±.35(1.5%)</td>\n",
       "      <td id=\"T_28b5e_row0_col3\" class=\"data row0 col3\" >6.49±.44(0.9%)</td>\n",
       "      <td id=\"T_28b5e_row0_col4\" class=\"data row0 col4\" >6.88±.39(6.5%)</td>\n",
       "    </tr>\n",
       "    <tr>\n",
       "      <th id=\"T_28b5e_level0_row1\" class=\"row_heading level0 row1\" >WINE-GB</th>\n",
       "      <td id=\"T_28b5e_row1_col0\" class=\"data row1 col0\" >6.90±.40</td>\n",
       "      <td id=\"T_28b5e_row1_col1\" class=\"data row1 col1\" >7.43±.44(7.1%)</td>\n",
       "      <td id=\"T_28b5e_row1_col2\" class=\"data row1 col2\" >6.63±.37(-4.1%)</td>\n",
       "      <td id=\"T_28b5e_row1_col3\" class=\"data row1 col3\" >7.09±.50(2.7%)</td>\n",
       "      <td id=\"T_28b5e_row1_col4\" class=\"data row1 col4\" >7.06±.40(2.3%)</td>\n",
       "    </tr>\n",
       "    <tr>\n",
       "      <th id=\"T_28b5e_level0_row2\" class=\"row_heading level0 row2\" >WINE-XGB</th>\n",
       "      <td id=\"T_28b5e_row2_col0\" class=\"data row2 col0\" >6.73±.42</td>\n",
       "      <td id=\"T_28b5e_row2_col1\" class=\"data row2 col1\" >7.34±.44(8.3%)</td>\n",
       "      <td id=\"T_28b5e_row2_col2\" class=\"data row2 col2\" >7.48±.40(10.0%)</td>\n",
       "      <td id=\"T_28b5e_row2_col3\" class=\"data row2 col3\" >7.38±.44(8.8%)</td>\n",
       "      <td id=\"T_28b5e_row2_col4\" class=\"data row2 col4\" >6.89±.33(2.3%)</td>\n",
       "    </tr>\n",
       "  </tbody>\n",
       "</table>\n"
      ],
      "text/plain": [
       "<pandas.io.formats.style.Styler at 0x234b7351e50>"
      ]
     },
     "execution_count": 17,
     "metadata": {},
     "output_type": "execute_result"
    }
   ],
   "source": [
    "df.style.apply(color_max, axis=1)"
   ]
  }
 ],
 "metadata": {
  "kernelspec": {
   "display_name": "Python 3 (ipykernel)",
   "language": "python",
   "name": "python3"
  },
  "language_info": {
   "codemirror_mode": {
    "name": "ipython",
    "version": 3
   },
   "file_extension": ".py",
   "mimetype": "text/x-python",
   "name": "python",
   "nbconvert_exporter": "python",
   "pygments_lexer": "ipython3",
   "version": "3.9.7"
  }
 },
 "nbformat": 4,
 "nbformat_minor": 4
}