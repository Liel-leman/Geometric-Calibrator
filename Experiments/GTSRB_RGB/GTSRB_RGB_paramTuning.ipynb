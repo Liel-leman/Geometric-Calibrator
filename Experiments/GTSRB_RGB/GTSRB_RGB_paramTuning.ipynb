{
 "cells": [
  {
   "cell_type": "code",
   "execution_count": 3,
   "id": "b98d87c7-8510-4840-9ca0-71eca395ab33",
   "metadata": {},
   "outputs": [],
   "source": [
    "import sys  \n",
    "sys.path.insert(0, '../')\n",
    "from utils import *"
   ]
  },
  {
   "cell_type": "code",
   "execution_count": 5,
   "id": "5fea582b-781e-43d4-9191-b90169e0fc8d",
   "metadata": {},
   "outputs": [],
   "source": [
    "X_train = np.load('./0/data/X_train.npy')\n",
    "X_test = np.load('./0/data/X_test.npy')\n",
    "X_val = np.load('./0/data/X_val.npy')\n",
    "y_train = np.load('./0/data/y_train.npy')\n",
    "y_test = np.load('./0/data/y_test.npy')\n",
    "y_val = np.load('./0/data/y_val.npy')"
   ]
  },
  {
   "cell_type": "code",
   "execution_count": 6,
   "id": "750f406f-1785-41aa-8025-afed26ee8e05",
   "metadata": {},
   "outputs": [],
   "source": [
    "from sklearn.ensemble import RandomForestClassifier\n",
    "from sklearn.ensemble import GradientBoostingClassifier\n",
    "from sklearn.neighbors import KNeighborsClassifier\n",
    "from sklearn.model_selection import RandomizedSearchCV\n",
    "from pprint import pprint"
   ]
  },
  {
   "cell_type": "markdown",
   "id": "51b108c5-c521-45a2-8444-c3cf9b1c4cd3",
   "metadata": {},
   "source": [
    "# Tuning RF"
   ]
  },
  {
   "cell_type": "code",
   "execution_count": 7,
   "id": "8ee957a1-ec7a-491b-b95a-db803f245e6b",
   "metadata": {},
   "outputs": [
    {
     "name": "stdout",
     "output_type": "stream",
     "text": [
      "{'n_estimators': [20, 65, 110, 155, 200], 'max_features': ['auto', 'sqrt'], 'max_depth': [1, 23, 45], 'min_samples_split': [5, 10], 'random_state': [0]}\n"
     ]
    }
   ],
   "source": [
    "# Number of trees in random forest\n",
    "n_estimators = [int(x) for x in np.linspace(start = 20, stop = 200, num = 5)]\n",
    "# Number of features to consider at every split\n",
    "max_features = ['auto', 'sqrt']\n",
    "# Maximum number of levels in tree\n",
    "max_depth = [int(x) for x in np.linspace(1, 45, num = 3)]\n",
    "# Minimum number of samples required to split a node\n",
    "min_samples_split = [5, 10]\n",
    "\n",
    "\n",
    "# Create the random grid\n",
    "random_grid = {'n_estimators': n_estimators,\n",
    "               'max_features': max_features,\n",
    "               'max_depth': max_depth,\n",
    "               'min_samples_split': min_samples_split,\n",
    "              'random_state': [0]}\n",
    "print(random_grid)"
   ]
  },
  {
   "cell_type": "code",
   "execution_count": 8,
   "id": "c7773254-ed09-4b8f-a127-fe949ee350f3",
   "metadata": {},
   "outputs": [
    {
     "name": "stdout",
     "output_type": "stream",
     "text": [
      "Fitting 5 folds for each of 10 candidates, totalling 50 fits\n",
      "[CV] END max_depth=23, max_features=sqrt, min_samples_split=5, n_estimators=110, random_state=0; total time= 1.5min\n",
      "[CV] END max_depth=23, max_features=sqrt, min_samples_split=5, n_estimators=110, random_state=0; total time= 1.5min\n",
      "[CV] END max_depth=23, max_features=sqrt, min_samples_split=5, n_estimators=110, random_state=0; total time= 1.5min\n",
      "[CV] END max_depth=23, max_features=sqrt, min_samples_split=5, n_estimators=110, random_state=0; total time= 1.4min\n",
      "[CV] END max_depth=23, max_features=sqrt, min_samples_split=5, n_estimators=110, random_state=0; total time= 1.5min\n",
      "[CV] END max_depth=23, max_features=sqrt, min_samples_split=10, n_estimators=20, random_state=0; total time=  15.6s\n",
      "[CV] END max_depth=23, max_features=sqrt, min_samples_split=10, n_estimators=20, random_state=0; total time=  15.7s\n",
      "[CV] END max_depth=23, max_features=sqrt, min_samples_split=10, n_estimators=20, random_state=0; total time=  15.6s\n",
      "[CV] END max_depth=23, max_features=sqrt, min_samples_split=10, n_estimators=20, random_state=0; total time=  15.8s\n",
      "[CV] END max_depth=23, max_features=sqrt, min_samples_split=10, n_estimators=20, random_state=0; total time=  15.6s\n",
      "[CV] END max_depth=23, max_features=auto, min_samples_split=5, n_estimators=110, random_state=0; total time= 1.5min\n",
      "[CV] END max_depth=23, max_features=auto, min_samples_split=5, n_estimators=110, random_state=0; total time= 1.5min\n",
      "[CV] END max_depth=23, max_features=auto, min_samples_split=5, n_estimators=110, random_state=0; total time= 1.4min\n",
      "[CV] END max_depth=23, max_features=auto, min_samples_split=5, n_estimators=110, random_state=0; total time= 1.4min\n",
      "[CV] END max_depth=23, max_features=auto, min_samples_split=5, n_estimators=110, random_state=0; total time= 1.5min\n",
      "[CV] END max_depth=45, max_features=auto, min_samples_split=10, n_estimators=200, random_state=0; total time= 2.7min\n",
      "[CV] END max_depth=45, max_features=auto, min_samples_split=10, n_estimators=200, random_state=0; total time= 2.7min\n",
      "[CV] END max_depth=45, max_features=auto, min_samples_split=10, n_estimators=200, random_state=0; total time= 2.8min\n",
      "[CV] END max_depth=45, max_features=auto, min_samples_split=10, n_estimators=200, random_state=0; total time= 2.6min\n",
      "[CV] END max_depth=45, max_features=auto, min_samples_split=10, n_estimators=200, random_state=0; total time= 2.5min\n",
      "[CV] END max_depth=23, max_features=auto, min_samples_split=5, n_estimators=155, random_state=0; total time= 2.0min\n",
      "[CV] END max_depth=23, max_features=auto, min_samples_split=5, n_estimators=155, random_state=0; total time= 2.0min\n",
      "[CV] END max_depth=23, max_features=auto, min_samples_split=5, n_estimators=155, random_state=0; total time= 2.0min\n",
      "[CV] END max_depth=23, max_features=auto, min_samples_split=5, n_estimators=155, random_state=0; total time= 2.0min\n",
      "[CV] END max_depth=23, max_features=auto, min_samples_split=5, n_estimators=155, random_state=0; total time= 2.0min\n",
      "[CV] END max_depth=45, max_features=auto, min_samples_split=5, n_estimators=200, random_state=0; total time= 2.7min\n",
      "[CV] END max_depth=45, max_features=auto, min_samples_split=5, n_estimators=200, random_state=0; total time= 2.8min\n",
      "[CV] END max_depth=45, max_features=auto, min_samples_split=5, n_estimators=200, random_state=0; total time= 2.8min\n",
      "[CV] END max_depth=45, max_features=auto, min_samples_split=5, n_estimators=200, random_state=0; total time= 2.6min\n",
      "[CV] END max_depth=45, max_features=auto, min_samples_split=5, n_estimators=200, random_state=0; total time= 2.6min\n",
      "[CV] END max_depth=45, max_features=auto, min_samples_split=10, n_estimators=65, random_state=0; total time=  49.9s\n",
      "[CV] END max_depth=45, max_features=auto, min_samples_split=10, n_estimators=65, random_state=0; total time=  54.3s\n",
      "[CV] END max_depth=45, max_features=auto, min_samples_split=10, n_estimators=65, random_state=0; total time=  56.8s\n",
      "[CV] END max_depth=45, max_features=auto, min_samples_split=10, n_estimators=65, random_state=0; total time=  57.0s\n",
      "[CV] END max_depth=45, max_features=auto, min_samples_split=10, n_estimators=65, random_state=0; total time=  56.7s\n",
      "[CV] END max_depth=45, max_features=sqrt, min_samples_split=5, n_estimators=200, random_state=0; total time= 2.9min\n",
      "[CV] END max_depth=45, max_features=sqrt, min_samples_split=5, n_estimators=200, random_state=0; total time= 2.6min\n",
      "[CV] END max_depth=45, max_features=sqrt, min_samples_split=5, n_estimators=200, random_state=0; total time= 2.6min\n",
      "[CV] END max_depth=45, max_features=sqrt, min_samples_split=5, n_estimators=200, random_state=0; total time= 2.6min\n",
      "[CV] END max_depth=45, max_features=sqrt, min_samples_split=5, n_estimators=200, random_state=0; total time= 2.6min\n",
      "[CV] END max_depth=1, max_features=auto, min_samples_split=5, n_estimators=20, random_state=0; total time=   1.2s\n",
      "[CV] END max_depth=1, max_features=auto, min_samples_split=5, n_estimators=20, random_state=0; total time=   1.2s\n",
      "[CV] END max_depth=1, max_features=auto, min_samples_split=5, n_estimators=20, random_state=0; total time=   1.1s\n",
      "[CV] END max_depth=1, max_features=auto, min_samples_split=5, n_estimators=20, random_state=0; total time=   1.1s\n",
      "[CV] END max_depth=1, max_features=auto, min_samples_split=5, n_estimators=20, random_state=0; total time=   1.2s\n",
      "[CV] END max_depth=45, max_features=auto, min_samples_split=5, n_estimators=155, random_state=0; total time= 2.0min\n",
      "[CV] END max_depth=45, max_features=auto, min_samples_split=5, n_estimators=155, random_state=0; total time= 2.0min\n",
      "[CV] END max_depth=45, max_features=auto, min_samples_split=5, n_estimators=155, random_state=0; total time= 2.0min\n",
      "[CV] END max_depth=45, max_features=auto, min_samples_split=5, n_estimators=155, random_state=0; total time= 2.0min\n",
      "[CV] END max_depth=45, max_features=auto, min_samples_split=5, n_estimators=155, random_state=0; total time= 2.0min\n",
      "Wall time: 1h 24min 18s\n"
     ]
    },
    {
     "data": {
      "text/plain": [
       "RandomizedSearchCV(cv=5, estimator=RandomForestClassifier(),\n",
       "                   param_distributions={'max_depth': [1, 23, 45],\n",
       "                                        'max_features': ['auto', 'sqrt'],\n",
       "                                        'min_samples_split': [5, 10],\n",
       "                                        'n_estimators': [20, 65, 110, 155, 200],\n",
       "                                        'random_state': [0]},\n",
       "                   verbose=2)"
      ]
     },
     "execution_count": 8,
     "metadata": {},
     "output_type": "execute_result"
    }
   ],
   "source": [
    "%%time\n",
    "rf_random = RandomizedSearchCV(estimator = RandomForestClassifier(), param_distributions = random_grid, n_iter = 10, cv = 5, verbose=2)\n",
    "# Fit the random search model\n",
    "rf_random.fit(X_train, y_train)"
   ]
  },
  {
   "cell_type": "code",
   "execution_count": 9,
   "id": "c9153948-75cc-424a-91d5-fb2261ba76fc",
   "metadata": {},
   "outputs": [
    {
     "data": {
      "text/plain": [
       "(RandomForestClassifier(max_depth=45, min_samples_split=5, n_estimators=200,\n",
       "                        random_state=0),\n",
       " 0.9667876981347794)"
      ]
     },
     "execution_count": 9,
     "metadata": {},
     "output_type": "execute_result"
    }
   ],
   "source": [
    "rf_random.best_estimator_ , rf_random.best_score_"
   ]
  },
  {
   "cell_type": "code",
   "execution_count": 10,
   "id": "7a6f6902-97c6-43a7-9d28-4d87a385f194",
   "metadata": {},
   "outputs": [
    {
     "data": {
      "text/plain": [
       "sklearn.ensemble._forest.RandomForestClassifier"
      ]
     },
     "execution_count": 10,
     "metadata": {},
     "output_type": "execute_result"
    }
   ],
   "source": [
    "type(rf_random.best_estimator_)"
   ]
  },
  {
   "cell_type": "code",
   "execution_count": 11,
   "id": "0bc207a2-7b64-4a66-892a-cfe373354a1d",
   "metadata": {},
   "outputs": [],
   "source": [
    "RF = rf_random.best_estimator_"
   ]
  },
  {
   "cell_type": "code",
   "execution_count": 12,
   "id": "26a4ba9b-4417-4df7-bd61-c5eff18df2f4",
   "metadata": {},
   "outputs": [
    {
     "name": "stdout",
     "output_type": "stream",
     "text": [
      "val accuracy: 0.9756944444444444\n",
      "test accuracy: 0.9782986111111112\n"
     ]
    }
   ],
   "source": [
    "RF.fit(X_train,y_train)\n",
    "y_pred_val = RF.predict(X_val)\n",
    "y_pred_test = RF.predict(X_test)\n",
    "\n",
    "print('val accuracy:',accuracy_score(y_val, y_pred_val))\n",
    "print('test accuracy:',accuracy_score(y_test, y_pred_test))"
   ]
  },
  {
   "cell_type": "code",
   "execution_count": 13,
   "id": "54115369-0491-4743-b033-4e8114cf6731",
   "metadata": {},
   "outputs": [],
   "source": [
    "if not os.path.exists('./model_params/'):\n",
    "    os.makedirs('./model_params')\n",
    "with open('./model_params/RF_params_tuning.pkl', 'wb') as f:\n",
    "        pickle.dump(rf_random.best_estimator_, f)"
   ]
  },
  {
   "cell_type": "markdown",
   "id": "e9a5af9d-d461-4c92-a36e-b6ab49ab4656",
   "metadata": {},
   "source": [
    "# GB tuning"
   ]
  },
  {
   "cell_type": "code",
   "execution_count": 19,
   "id": "f331cdde-a650-4365-9d69-0ace6c4ce2ab",
   "metadata": {},
   "outputs": [
    {
     "name": "stdout",
     "output_type": "stream",
     "text": [
      "{'learning_rate': [0.05, 0.1, 0.15, 0.2],\n",
      " 'max_depth': [2, 4, 6, 8],\n",
      " 'max_features': ['auto', 'sqrt'],\n",
      " 'n_estimators': [6, 8, 10, 12],\n",
      " 'random_state': [0]}\n"
     ]
    }
   ],
   "source": [
    "# Number of trees in random forest\n",
    "n_estimators = [int(x) for x in np.linspace(start = 6, stop = 12, num = 4)]\n",
    "# Maximum number of levels in tree\n",
    "max_depth = [int(x) for x in np.linspace(start = 2, stop = 8, num = 4)]\n",
    "\n",
    "\n",
    "# Create the random grid\n",
    "random_grid = {'n_estimators': n_estimators,\n",
    "               'learning_rate' : [0.05, 0.1, 0.15, 0.2],\n",
    "               'max_features': ['auto', 'sqrt'],\n",
    "               'max_depth': max_depth,\n",
    "               'random_state' : [0]}\n",
    "\n",
    "pprint(random_grid)"
   ]
  },
  {
   "cell_type": "code",
   "execution_count": 20,
   "id": "bd2f9ec9-1a3e-4cc5-9c69-38a32be1d58d",
   "metadata": {},
   "outputs": [
    {
     "name": "stdout",
     "output_type": "stream",
     "text": [
      "Fitting 5 folds for each of 10 candidates, totalling 50 fits\n",
      "[CV] END learning_rate=0.1, max_depth=8, max_features=sqrt, n_estimators=10, random_state=0; total time= 3.6min\n",
      "[CV] END learning_rate=0.1, max_depth=8, max_features=sqrt, n_estimators=10, random_state=0; total time= 3.6min\n",
      "[CV] END learning_rate=0.1, max_depth=8, max_features=sqrt, n_estimators=10, random_state=0; total time= 3.6min\n",
      "[CV] END learning_rate=0.1, max_depth=8, max_features=sqrt, n_estimators=10, random_state=0; total time= 3.6min\n",
      "[CV] END learning_rate=0.1, max_depth=8, max_features=sqrt, n_estimators=10, random_state=0; total time= 3.6min\n",
      "[CV] END learning_rate=0.1, max_depth=2, max_features=auto, n_estimators=6, random_state=0; total time=26.5min\n",
      "[CV] END learning_rate=0.1, max_depth=2, max_features=auto, n_estimators=6, random_state=0; total time=26.5min\n",
      "[CV] END learning_rate=0.1, max_depth=2, max_features=auto, n_estimators=6, random_state=0; total time=26.5min\n",
      "[CV] END learning_rate=0.1, max_depth=2, max_features=auto, n_estimators=6, random_state=0; total time=26.6min\n",
      "[CV] END learning_rate=0.1, max_depth=2, max_features=auto, n_estimators=6, random_state=0; total time=26.6min\n",
      "[CV] END learning_rate=0.05, max_depth=6, max_features=sqrt, n_estimators=8, random_state=0; total time= 2.1min\n",
      "[CV] END learning_rate=0.05, max_depth=6, max_features=sqrt, n_estimators=8, random_state=0; total time= 2.2min\n",
      "[CV] END learning_rate=0.05, max_depth=6, max_features=sqrt, n_estimators=8, random_state=0; total time= 2.1min\n",
      "[CV] END learning_rate=0.05, max_depth=6, max_features=sqrt, n_estimators=8, random_state=0; total time= 2.1min\n",
      "[CV] END learning_rate=0.05, max_depth=6, max_features=sqrt, n_estimators=8, random_state=0; total time= 2.2min\n",
      "[CV] END learning_rate=0.05, max_depth=4, max_features=sqrt, n_estimators=12, random_state=0; total time= 2.2min\n",
      "[CV] END learning_rate=0.05, max_depth=4, max_features=sqrt, n_estimators=12, random_state=0; total time= 2.2min\n",
      "[CV] END learning_rate=0.05, max_depth=4, max_features=sqrt, n_estimators=12, random_state=0; total time= 2.2min\n",
      "[CV] END learning_rate=0.05, max_depth=4, max_features=sqrt, n_estimators=12, random_state=0; total time= 2.2min\n",
      "[CV] END learning_rate=0.05, max_depth=4, max_features=sqrt, n_estimators=12, random_state=0; total time= 2.2min\n",
      "[CV] END learning_rate=0.05, max_depth=6, max_features=auto, n_estimators=12, random_state=0; total time=159.2min\n",
      "[CV] END learning_rate=0.05, max_depth=6, max_features=auto, n_estimators=12, random_state=0; total time=159.3min\n",
      "[CV] END learning_rate=0.05, max_depth=6, max_features=auto, n_estimators=12, random_state=0; total time=159.2min\n",
      "[CV] END learning_rate=0.05, max_depth=6, max_features=auto, n_estimators=12, random_state=0; total time=162.0min\n",
      "[CV] END learning_rate=0.05, max_depth=6, max_features=auto, n_estimators=12, random_state=0; total time=165.6min\n",
      "[CV] END learning_rate=0.1, max_depth=8, max_features=sqrt, n_estimators=8, random_state=0; total time= 3.0min\n",
      "[CV] END learning_rate=0.1, max_depth=8, max_features=sqrt, n_estimators=8, random_state=0; total time= 2.9min\n",
      "[CV] END learning_rate=0.1, max_depth=8, max_features=sqrt, n_estimators=8, random_state=0; total time= 2.9min\n",
      "[CV] END learning_rate=0.1, max_depth=8, max_features=sqrt, n_estimators=8, random_state=0; total time= 2.9min\n",
      "[CV] END learning_rate=0.1, max_depth=8, max_features=sqrt, n_estimators=8, random_state=0; total time= 2.9min\n",
      "[CV] END learning_rate=0.1, max_depth=6, max_features=sqrt, n_estimators=6, random_state=0; total time= 1.6min\n",
      "[CV] END learning_rate=0.1, max_depth=6, max_features=sqrt, n_estimators=6, random_state=0; total time= 1.9min\n",
      "[CV] END learning_rate=0.1, max_depth=6, max_features=sqrt, n_estimators=6, random_state=0; total time= 2.0min\n",
      "[CV] END learning_rate=0.1, max_depth=6, max_features=sqrt, n_estimators=6, random_state=0; total time= 2.0min\n",
      "[CV] END learning_rate=0.1, max_depth=6, max_features=sqrt, n_estimators=6, random_state=0; total time= 1.7min\n",
      "[CV] END learning_rate=0.2, max_depth=8, max_features=auto, n_estimators=10, random_state=0; total time=207.4min\n",
      "[CV] END learning_rate=0.2, max_depth=8, max_features=auto, n_estimators=10, random_state=0; total time=238.9min\n",
      "[CV] END learning_rate=0.2, max_depth=8, max_features=auto, n_estimators=10, random_state=0; total time=175.8min\n",
      "[CV] END learning_rate=0.2, max_depth=8, max_features=auto, n_estimators=10, random_state=0; total time=175.6min\n",
      "[CV] END learning_rate=0.2, max_depth=8, max_features=auto, n_estimators=10, random_state=0; total time=175.5min\n",
      "[CV] END learning_rate=0.05, max_depth=4, max_features=auto, n_estimators=10, random_state=0; total time=95.1min\n",
      "[CV] END learning_rate=0.05, max_depth=4, max_features=auto, n_estimators=10, random_state=0; total time=106.0min\n",
      "[CV] END learning_rate=0.05, max_depth=4, max_features=auto, n_estimators=10, random_state=0; total time=91.7min\n",
      "[CV] END learning_rate=0.05, max_depth=4, max_features=auto, n_estimators=10, random_state=0; total time=94.3min\n",
      "[CV] END learning_rate=0.05, max_depth=4, max_features=auto, n_estimators=10, random_state=0; total time=134.2min\n",
      "[CV] END learning_rate=0.15, max_depth=4, max_features=auto, n_estimators=8, random_state=0; total time=77.1min\n",
      "[CV] END learning_rate=0.15, max_depth=4, max_features=auto, n_estimators=8, random_state=0; total time=89.2min\n",
      "[CV] END learning_rate=0.15, max_depth=4, max_features=auto, n_estimators=8, random_state=0; total time=175.3min\n",
      "[CV] END learning_rate=0.15, max_depth=4, max_features=auto, n_estimators=8, random_state=0; total time=71.4min\n",
      "[CV] END learning_rate=0.15, max_depth=4, max_features=auto, n_estimators=8, random_state=0; total time=71.6min\n",
      "Wall time: 2d 5h 28min 35s\n"
     ]
    },
    {
     "data": {
      "text/plain": [
       "RandomizedSearchCV(cv=5, estimator=GradientBoostingClassifier(),\n",
       "                   param_distributions={'learning_rate': [0.05, 0.1, 0.15, 0.2],\n",
       "                                        'max_depth': [2, 4, 6, 8],\n",
       "                                        'max_features': ['auto', 'sqrt'],\n",
       "                                        'n_estimators': [6, 8, 10, 12],\n",
       "                                        'random_state': [0]},\n",
       "                   verbose=2)"
      ]
     },
     "execution_count": 20,
     "metadata": {},
     "output_type": "execute_result"
    }
   ],
   "source": [
    "%%time\n",
    "GBDT_random = RandomizedSearchCV(estimator = GradientBoostingClassifier(), param_distributions = random_grid, n_iter = 10, cv = 5, verbose=2)\n",
    "# Fit the random search model\n",
    "GBDT_random.fit(X_train, y_train)"
   ]
  },
  {
   "cell_type": "code",
   "execution_count": 21,
   "id": "c9885512-9d33-4d21-99f6-47b60b41a4b3",
   "metadata": {},
   "outputs": [
    {
     "data": {
      "text/plain": [
       "(GradientBoostingClassifier(learning_rate=0.2, max_depth=8, max_features='auto',\n",
       "                            n_estimators=10, random_state=0),\n",
       " 0.7844899523499649)"
      ]
     },
     "execution_count": 21,
     "metadata": {},
     "output_type": "execute_result"
    }
   ],
   "source": [
    "GBDT_random.best_estimator_ , GBDT_random.best_score_"
   ]
  },
  {
   "cell_type": "code",
   "execution_count": 24,
   "id": "be712ff1-714d-406b-bf15-ca571d3754e1",
   "metadata": {},
   "outputs": [
    {
     "name": "stdout",
     "output_type": "stream",
     "text": [
      "val accuracy: 0.9756944444444444\n",
      "test accuracy: 0.9782986111111112\n"
     ]
    }
   ],
   "source": [
    "GB = rf_random.best_estimator_\n",
    "GB.fit(X_train,y_train)\n",
    "y_pred_val = GB.predict(X_val)\n",
    "y_pred_test = GB.predict(X_test)\n",
    "\n",
    "print('val accuracy:',accuracy_score(y_val, y_pred_val))\n",
    "print('test accuracy:',accuracy_score(y_test, y_pred_test))"
   ]
  },
  {
   "cell_type": "code",
   "execution_count": null,
   "id": "e9bfee46-af08-45fb-a6d6-5e394bbfd220",
   "metadata": {},
   "outputs": [],
   "source": []
  },
  {
   "cell_type": "code",
   "execution_count": 25,
   "id": "680115b4-553c-431d-b4db-61d47c3dee18",
   "metadata": {},
   "outputs": [],
   "source": [
    "if not os.path.exists('./model_params/'):\n",
    "    os.makedirs('./model_params')\n",
    "\n",
    "with open('./model_params/GB_params_tuning.pkl', 'wb') as f:\n",
    "        pickle.dump(GBDT_random.best_estimator_, f)\n"
   ]
  },
  {
   "cell_type": "code",
   "execution_count": 27,
   "id": "c5b3aae8-9e52-49d7-9e02-7025546a3521",
   "metadata": {},
   "outputs": [],
   "source": [
    "model = Sequential()\n",
    "model.add(Conv2D(filters=32, kernel_size=(5,5), activation='relu', input_shape=(30,30,3)))\n",
    "model.add(Conv2D(filters=64, kernel_size=(3, 3), activation='relu'))\n",
    "model.add(MaxPool2D(pool_size=(2, 2)))\n",
    "model.add(Dropout(rate=0.25))\n",
    "model.add(Conv2D(filters=64, kernel_size=(3, 3), activation='relu'))\n",
    "model.add(MaxPool2D(pool_size=(2, 2)))\n",
    "model.add(Dropout(rate=0.25))\n",
    "model.add(Flatten())\n",
    "model.add(Dense(256, activation='relu'))\n",
    "model.add(Dropout(rate=0.5))\n",
    "model.add(Dense(43, activation='softmax'))\n",
    "\n",
    "#Compilation of the model\n",
    "model.compile(\n",
    "    loss='categorical_crossentropy', \n",
    "    optimizer='adam', \n",
    "    metrics=['accuracy']\n",
    ")"
   ]
  },
  {
   "cell_type": "code",
   "execution_count": 28,
   "id": "26e8e934-81ec-46f1-9869-ba2e093f2372",
   "metadata": {},
   "outputs": [
    {
     "name": "stdout",
     "output_type": "stream",
     "text": [
      "INFO:tensorflow:Assets written to: ./model_params/CNN_params_tuning\\assets\n"
     ]
    }
   ],
   "source": [
    "model.save(f'./model_params/CNN_params_tuning')"
   ]
  },
  {
   "cell_type": "code",
   "execution_count": 30,
   "id": "86de2abf-addc-42fb-a471-f62aba1fccac",
   "metadata": {},
   "outputs": [],
   "source": [
    "num_labels = 43\n",
    "\n",
    "pixels = int(sqrt(X_train.shape[1]/3))\n",
    "# Reshaping to format which CNN expects (batch, height, width, channels)\n",
    "trainX_cnn = X_train.reshape(X_train.shape[0], pixels, pixels, 3).astype('float32')\n",
    "valX_cnn = X_val.reshape(X_val.shape[0], pixels, pixels, 3).astype('float32')\n",
    "testX_cnn= X_test.reshape(X_test.shape[0], pixels, pixels, 3).astype('float32')\n",
    "\n",
    "# Normalize images from 0-255 to 0-1\n",
    "trainX_cnn /= 255\n",
    "valX_cnn /= 255\n",
    "testX_cnn /=255\n",
    "\n",
    "train_y_cnn = utils.to_categorical(y_train, num_labels)\n",
    "val_y_cnn = utils.to_categorical(y_val, num_labels)\n",
    "test_y_cnn = utils.to_categorical(y_test, num_labels)\n",
    "\n"
   ]
  },
  {
   "cell_type": "code",
   "execution_count": 31,
   "id": "4035b449-e46e-485e-a150-1d35fa8e98a5",
   "metadata": {},
   "outputs": [
    {
     "name": "stdout",
     "output_type": "stream",
     "text": [
      "Epoch 1/30\n",
      "778/778 [==============================] - 26s 33ms/step - loss: 1.3823 - accuracy: 0.6073 - val_loss: 0.2297 - val_accuracy: 0.9365\n",
      "Epoch 2/30\n",
      "778/778 [==============================] - 25s 33ms/step - loss: 0.2828 - accuracy: 0.9139 - val_loss: 0.0939 - val_accuracy: 0.9799\n",
      "Epoch 3/30\n",
      "778/778 [==============================] - 26s 33ms/step - loss: 0.1722 - accuracy: 0.9474 - val_loss: 0.0586 - val_accuracy: 0.9879\n",
      "Epoch 4/30\n",
      "778/778 [==============================] - 26s 33ms/step - loss: 0.1251 - accuracy: 0.9606 - val_loss: 0.0456 - val_accuracy: 0.9892\n",
      "Epoch 5/30\n",
      "778/778 [==============================] - 26s 33ms/step - loss: 0.1024 - accuracy: 0.9676 - val_loss: 0.0419 - val_accuracy: 0.9905\n",
      "Epoch 6/30\n",
      "778/778 [==============================] - 26s 33ms/step - loss: 0.0895 - accuracy: 0.9734 - val_loss: 0.0377 - val_accuracy: 0.9915\n",
      "Epoch 7/30\n",
      "778/778 [==============================] - 26s 33ms/step - loss: 0.0786 - accuracy: 0.9764 - val_loss: 0.0318 - val_accuracy: 0.9924\n",
      "Epoch 8/30\n",
      "778/778 [==============================] - 25s 33ms/step - loss: 0.0673 - accuracy: 0.9795 - val_loss: 0.0261 - val_accuracy: 0.9941\n",
      "Epoch 9/30\n",
      "778/778 [==============================] - 26s 33ms/step - loss: 0.0661 - accuracy: 0.9802 - val_loss: 0.0273 - val_accuracy: 0.9937\n",
      "Epoch 10/30\n",
      "778/778 [==============================] - 26s 33ms/step - loss: 0.0554 - accuracy: 0.9835 - val_loss: 0.0461 - val_accuracy: 0.9900\n",
      "Epoch 11/30\n",
      "778/778 [==============================] - 25s 33ms/step - loss: 0.0635 - accuracy: 0.9814 - val_loss: 0.0265 - val_accuracy: 0.9944\n",
      "Epoch 12/30\n",
      "778/778 [==============================] - 26s 33ms/step - loss: 0.0520 - accuracy: 0.9839 - val_loss: 0.0275 - val_accuracy: 0.9942\n",
      "Epoch 13/30\n",
      "778/778 [==============================] - 25s 33ms/step - loss: 0.0460 - accuracy: 0.9855 - val_loss: 0.0329 - val_accuracy: 0.9937\n",
      "Epoch 14/30\n",
      "778/778 [==============================] - 26s 33ms/step - loss: 0.0488 - accuracy: 0.9856 - val_loss: 0.0322 - val_accuracy: 0.9932\n",
      "Epoch 15/30\n",
      "778/778 [==============================] - 26s 33ms/step - loss: 0.0449 - accuracy: 0.9865 - val_loss: 0.0340 - val_accuracy: 0.9931\n",
      "Epoch 16/30\n",
      "778/778 [==============================] - 26s 33ms/step - loss: 0.0501 - accuracy: 0.9855 - val_loss: 0.0280 - val_accuracy: 0.9949\n",
      "Epoch 17/30\n",
      "778/778 [==============================] - 26s 33ms/step - loss: 0.0376 - accuracy: 0.9889 - val_loss: 0.0332 - val_accuracy: 0.9936\n",
      "Epoch 18/30\n",
      "778/778 [==============================] - 26s 33ms/step - loss: 0.0449 - accuracy: 0.9869 - val_loss: 0.0312 - val_accuracy: 0.9949\n",
      "Epoch 19/30\n",
      "778/778 [==============================] - 26s 33ms/step - loss: 0.0378 - accuracy: 0.9885 - val_loss: 0.0489 - val_accuracy: 0.9897\n",
      "Epoch 20/30\n",
      "778/778 [==============================] - 26s 33ms/step - loss: 0.0441 - accuracy: 0.9881 - val_loss: 0.0296 - val_accuracy: 0.9932\n",
      "Epoch 21/30\n",
      "778/778 [==============================] - 26s 33ms/step - loss: 0.0339 - accuracy: 0.9894 - val_loss: 0.0290 - val_accuracy: 0.9953\n",
      "Epoch 22/30\n",
      "778/778 [==============================] - 26s 33ms/step - loss: 0.0415 - accuracy: 0.9876 - val_loss: 0.0284 - val_accuracy: 0.9950\n",
      "Epoch 23/30\n",
      "778/778 [==============================] - 26s 33ms/step - loss: 0.0412 - accuracy: 0.9886 - val_loss: 0.0340 - val_accuracy: 0.9939\n",
      "Epoch 24/30\n",
      "778/778 [==============================] - 26s 33ms/step - loss: 0.0414 - accuracy: 0.9883 - val_loss: 0.0256 - val_accuracy: 0.9965\n",
      "Epoch 25/30\n",
      "778/778 [==============================] - 26s 33ms/step - loss: 0.0304 - accuracy: 0.9910 - val_loss: 0.0287 - val_accuracy: 0.9952\n",
      "Epoch 26/30\n",
      "778/778 [==============================] - 26s 33ms/step - loss: 0.0409 - accuracy: 0.9886 - val_loss: 0.0290 - val_accuracy: 0.9960\n",
      "Epoch 27/30\n",
      "778/778 [==============================] - 26s 33ms/step - loss: 0.0401 - accuracy: 0.9891 - val_loss: 0.0265 - val_accuracy: 0.9950\n",
      "Epoch 28/30\n",
      "778/778 [==============================] - 26s 33ms/step - loss: 0.0387 - accuracy: 0.9892 - val_loss: 0.0299 - val_accuracy: 0.9955\n",
      "Epoch 29/30\n",
      "778/778 [==============================] - 26s 33ms/step - loss: 0.0385 - accuracy: 0.9894 - val_loss: 0.0296 - val_accuracy: 0.9949\n",
      "Epoch 30/30\n",
      "778/778 [==============================] - 26s 33ms/step - loss: 0.0327 - accuracy: 0.9903 - val_loss: 0.0246 - val_accuracy: 0.9958\n"
     ]
    },
    {
     "data": {
      "text/plain": [
       "<keras.callbacks.History at 0x29a039a8dc0>"
      ]
     },
     "execution_count": 31,
     "metadata": {},
     "output_type": "execute_result"
    }
   ],
   "source": [
    "model.fit(trainX_cnn, train_y_cnn, epochs=30, batch_size=32, validation_split=0.2)"
   ]
  },
  {
   "cell_type": "code",
   "execution_count": null,
   "id": "34fed5ea-75f4-4dea-be69-cb6fb83a4091",
   "metadata": {},
   "outputs": [],
   "source": []
  },
  {
   "cell_type": "code",
   "execution_count": 34,
   "id": "c8e9b5fe-f771-4c3c-ac48-b65ccf7e2736",
   "metadata": {},
   "outputs": [],
   "source": [
    "y_pred_val=np.argmax(model.predict(valX_cnn),axis=1)\n",
    "y_pred_test=np.argmax(model.predict(testX_cnn),axis=1)"
   ]
  },
  {
   "cell_type": "code",
   "execution_count": 35,
   "id": "b80b983c-dfbf-4456-9577-2a0d06a668dd",
   "metadata": {},
   "outputs": [
    {
     "name": "stdout",
     "output_type": "stream",
     "text": [
      "val accuracy: 0.9965277777777778\n",
      "test accuracy: 0.9968171296296297\n"
     ]
    }
   ],
   "source": [
    "print('val accuracy:',accuracy_score(y_val, y_pred_val))\n",
    "print('test accuracy:',accuracy_score(y_test, y_pred_test))"
   ]
  },
  {
   "cell_type": "code",
   "execution_count": null,
   "id": "849e372f-b6aa-4242-af3b-9d5eb0b7312a",
   "metadata": {},
   "outputs": [],
   "source": []
  },
  {
   "cell_type": "code",
   "execution_count": null,
   "id": "ededa357-59d1-45ce-9972-c8425b18e444",
   "metadata": {},
   "outputs": [],
   "source": []
  },
  {
   "cell_type": "code",
   "execution_count": null,
   "id": "69338cd2-6838-4a7b-9c5a-e7ed0f5076f8",
   "metadata": {},
   "outputs": [],
   "source": []
  },
  {
   "cell_type": "markdown",
   "id": "816ee3c8-2102-4b61-834f-570a0220a332",
   "metadata": {},
   "source": [
    "# 1-NN"
   ]
  },
  {
   "cell_type": "code",
   "execution_count": 5,
   "id": "e9ad7175-c471-4003-95d9-102bdd0d9c40",
   "metadata": {},
   "outputs": [],
   "source": [
    "OneNN_model = KNeighborsClassifier(n_neighbors=1).fit(X_train, y_train)"
   ]
  },
  {
   "cell_type": "code",
   "execution_count": 6,
   "id": "233042c3-9509-430d-a8c9-330b9037c19a",
   "metadata": {},
   "outputs": [
    {
     "name": "stdout",
     "output_type": "stream",
     "text": [
      "val accuracy: 0.8733741392501913\n",
      "test accuracy: 0.8727365467992859\n"
     ]
    }
   ],
   "source": [
    "y_pred_val = OneNN_model.predict(X_val)\n",
    "y_pred_test = OneNN_model.predict(X_test)\n",
    "print('val accuracy:',accuracy_score(y_val, y_pred_val))\n",
    "print('test accuracy:',accuracy_score(y_test, y_pred_test))"
   ]
  },
  {
   "cell_type": "code",
   "execution_count": 7,
   "id": "b82ff31b-995a-443f-ae83-d3a3c4954643",
   "metadata": {},
   "outputs": [],
   "source": [
    "if not os.path.exists('./model_params/'):\n",
    "    os.makedirs('./model_params')\n",
    "with open('./model_params/OneNN_params_tuning.pkl', 'wb') as f:\n",
    "        pickle.dump(OneNN_model, f)"
   ]
  },
  {
   "cell_type": "code",
   "execution_count": null,
   "id": "ee0f640a-f82c-472f-a6d2-078fce95936c",
   "metadata": {},
   "outputs": [],
   "source": []
  }
 ],
 "metadata": {
  "kernelspec": {
   "display_name": "Python 3",
   "language": "python",
   "name": "python3"
  },
  "language_info": {
   "codemirror_mode": {
    "name": "ipython",
    "version": 3
   },
   "file_extension": ".py",
   "mimetype": "text/x-python",
   "name": "python",
   "nbconvert_exporter": "python",
   "pygments_lexer": "ipython3",
   "version": "3.8.8"
  }
 },
 "nbformat": 4,
 "nbformat_minor": 5
}
