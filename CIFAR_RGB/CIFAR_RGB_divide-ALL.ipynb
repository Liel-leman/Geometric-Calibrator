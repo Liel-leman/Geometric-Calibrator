{
 "cells": [
  {
   "cell_type": "code",
   "execution_count": 1,
   "id": "61295f82-d689-4a23-a82a-35694f137cad",
   "metadata": {},
   "outputs": [],
   "source": [
    "import sys  \n",
    "sys.path.insert(0, '../')\n",
    "from utils import split_and_save_range"
   ]
  },
  {
   "cell_type": "code",
   "execution_count": null,
   "id": "00ec2f22-e543-4428-bed3-5986bf1e1576",
   "metadata": {},
   "outputs": [],
   "source": [
    "(train_X, train_y), (test_X, test_y) = cifar10.load_data()"
   ]
  },
  {
   "cell_type": "code",
   "execution_count": 25,
   "id": "400599b9-4efa-47cd-acaa-03d9481e78db",
   "metadata": {},
   "outputs": [
    {
     "name": "stdout",
     "output_type": "stream",
     "text": [
      "shuffle :0\n",
      "(36000, 3072) (12000, 3072) (12000, 3072) (36000,) (12000,) (12000,)\n",
      "shuffle :1\n",
      "(36000, 3072) (12000, 3072) (12000, 3072) (36000,) (12000,) (12000,)\n",
      "shuffle :2\n",
      "(36000, 3072) (12000, 3072) (12000, 3072) (36000,) (12000,) (12000,)\n",
      "shuffle :3\n",
      "(36000, 3072) (12000, 3072) (12000, 3072) (36000,) (12000,) (12000,)\n",
      "shuffle :4\n",
      "(36000, 3072) (12000, 3072) (12000, 3072) (36000,) (12000,) (12000,)\n",
      "shuffle :5\n",
      "(36000, 3072) (12000, 3072) (12000, 3072) (36000,) (12000,) (12000,)\n",
      "shuffle :6\n",
      "(36000, 3072) (12000, 3072) (12000, 3072) (36000,) (12000,) (12000,)\n",
      "shuffle :7\n",
      "(36000, 3072) (12000, 3072) (12000, 3072) (36000,) (12000,) (12000,)\n",
      "shuffle :8\n",
      "(36000, 3072) (12000, 3072) (12000, 3072) (36000,) (12000,) (12000,)\n",
      "shuffle :9\n",
      "(36000, 3072) (12000, 3072) (12000, 3072) (36000,) (12000,) (12000,)\n"
     ]
    }
   ],
   "source": [
    "split_and_save_range(train_X_original = train_X, test_X_original = test_X , train_y_original = train_y.flatten(), test_y_original = test_y.flatten(), split_range = range(10))"
   ]
  }
 ],
 "metadata": {
  "kernelspec": {
   "display_name": "Python 3",
   "language": "python",
   "name": "python3"
  },
  "language_info": {
   "codemirror_mode": {
    "name": "ipython",
    "version": 3
   },
   "file_extension": ".py",
   "mimetype": "text/x-python",
   "name": "python",
   "nbconvert_exporter": "python",
   "pygments_lexer": "ipython3",
   "version": "3.8.8"
  }
 },
 "nbformat": 4,
 "nbformat_minor": 5
}
