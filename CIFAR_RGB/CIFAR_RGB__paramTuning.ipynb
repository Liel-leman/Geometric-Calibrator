{
 "cells": [
  {
   "cell_type": "code",
   "execution_count": 2,
   "id": "b98d87c7-8510-4840-9ca0-71eca395ab33",
   "metadata": {},
   "outputs": [],
   "source": [
    "%run ../DataClass.ipynb"
   ]
  },
  {
   "cell_type": "code",
   "execution_count": 3,
   "id": "5fea582b-781e-43d4-9191-b90169e0fc8d",
   "metadata": {},
   "outputs": [],
   "source": [
    "X_train = np.load('./0/data/X_train.npy')\n",
    "X_test = np.load('./0/data/X_test.npy')\n",
    "X_val = np.load('./0/data/X_val.npy')\n",
    "y_train = np.load('./0/data/y_train.npy')\n",
    "y_test = np.load('./0/data/y_test.npy')\n",
    "y_val = np.load('./0/data/y_val.npy')"
   ]
  },
  {
   "cell_type": "code",
   "execution_count": 4,
   "id": "750f406f-1785-41aa-8025-afed26ee8e05",
   "metadata": {},
   "outputs": [],
   "source": [
    "from sklearn.ensemble import RandomForestClassifier\n",
    "from sklearn.ensemble import GradientBoostingClassifier\n",
    "from sklearn.neighbors import KNeighborsClassifier\n",
    "from sklearn.model_selection import RandomizedSearchCV\n",
    "from pprint import pprint"
   ]
  },
  {
   "cell_type": "markdown",
   "id": "51b108c5-c521-45a2-8444-c3cf9b1c4cd3",
   "metadata": {},
   "source": [
    "# Tuning RF"
   ]
  },
  {
   "cell_type": "code",
   "execution_count": 4,
   "id": "8ee957a1-ec7a-491b-b95a-db803f245e6b",
   "metadata": {},
   "outputs": [
    {
     "name": "stdout",
     "output_type": "stream",
     "text": [
      "{'n_estimators': [20, 65, 110, 155, 200], 'max_features': ['auto', 'sqrt'], 'max_depth': [1, 23, 45], 'min_samples_split': [5, 10]}\n"
     ]
    }
   ],
   "source": [
    "# Number of trees in random forest\n",
    "n_estimators = [int(x) for x in np.linspace(start = 20, stop = 200, num = 5)]\n",
    "# Number of features to consider at every split\n",
    "max_features = ['auto', 'sqrt']\n",
    "# Maximum number of levels in tree\n",
    "max_depth = [int(x) for x in np.linspace(1, 45, num = 3)]\n",
    "# Minimum number of samples required to split a node\n",
    "min_samples_split = [5, 10]\n",
    "\n",
    "\n",
    "# Create the random grid\n",
    "random_grid = {'n_estimators': n_estimators,\n",
    "               'max_features': max_features,\n",
    "               'max_depth': max_depth,\n",
    "               'min_samples_split': min_samples_split}\n",
    "\n",
    "print(random_grid)"
   ]
  },
  {
   "cell_type": "code",
   "execution_count": 5,
   "id": "c7773254-ed09-4b8f-a127-fe949ee350f3",
   "metadata": {},
   "outputs": [
    {
     "name": "stdout",
     "output_type": "stream",
     "text": [
      "Fitting 5 folds for each of 10 candidates, totalling 50 fits\n",
      "[CV] END max_depth=1, max_features=auto, min_samples_split=5, n_estimators=20; total time=   0.4s\n",
      "[CV] END max_depth=1, max_features=auto, min_samples_split=5, n_estimators=20; total time=   0.4s\n",
      "[CV] END max_depth=1, max_features=auto, min_samples_split=5, n_estimators=20; total time=   0.4s\n",
      "[CV] END max_depth=1, max_features=auto, min_samples_split=5, n_estimators=20; total time=   0.4s\n",
      "[CV] END max_depth=1, max_features=auto, min_samples_split=5, n_estimators=20; total time=   0.4s\n",
      "[CV] END max_depth=23, max_features=sqrt, min_samples_split=5, n_estimators=155; total time=  24.2s\n",
      "[CV] END max_depth=23, max_features=sqrt, min_samples_split=5, n_estimators=155; total time=  24.2s\n",
      "[CV] END max_depth=23, max_features=sqrt, min_samples_split=5, n_estimators=155; total time=  24.1s\n",
      "[CV] END max_depth=23, max_features=sqrt, min_samples_split=5, n_estimators=155; total time=  24.1s\n",
      "[CV] END max_depth=23, max_features=sqrt, min_samples_split=5, n_estimators=155; total time=  24.1s\n",
      "[CV] END max_depth=23, max_features=auto, min_samples_split=5, n_estimators=65; total time=  10.2s\n",
      "[CV] END max_depth=23, max_features=auto, min_samples_split=5, n_estimators=65; total time=  10.1s\n",
      "[CV] END max_depth=23, max_features=auto, min_samples_split=5, n_estimators=65; total time=  10.1s\n",
      "[CV] END max_depth=23, max_features=auto, min_samples_split=5, n_estimators=65; total time=  10.1s\n",
      "[CV] END max_depth=23, max_features=auto, min_samples_split=5, n_estimators=65; total time=  10.2s\n",
      "[CV] END max_depth=1, max_features=sqrt, min_samples_split=10, n_estimators=200; total time=   3.4s\n",
      "[CV] END max_depth=1, max_features=sqrt, min_samples_split=10, n_estimators=200; total time=   3.4s\n",
      "[CV] END max_depth=1, max_features=sqrt, min_samples_split=10, n_estimators=200; total time=   3.3s\n",
      "[CV] END max_depth=1, max_features=sqrt, min_samples_split=10, n_estimators=200; total time=   3.3s\n",
      "[CV] END max_depth=1, max_features=sqrt, min_samples_split=10, n_estimators=200; total time=   3.3s\n",
      "[CV] END max_depth=45, max_features=auto, min_samples_split=5, n_estimators=20; total time=   3.2s\n",
      "[CV] END max_depth=45, max_features=auto, min_samples_split=5, n_estimators=20; total time=   3.2s\n",
      "[CV] END max_depth=45, max_features=auto, min_samples_split=5, n_estimators=20; total time=   3.3s\n",
      "[CV] END max_depth=45, max_features=auto, min_samples_split=5, n_estimators=20; total time=   3.3s\n",
      "[CV] END max_depth=45, max_features=auto, min_samples_split=5, n_estimators=20; total time=   3.3s\n",
      "[CV] END max_depth=45, max_features=sqrt, min_samples_split=5, n_estimators=155; total time=  24.7s\n",
      "[CV] END max_depth=45, max_features=sqrt, min_samples_split=5, n_estimators=155; total time=  24.4s\n",
      "[CV] END max_depth=45, max_features=sqrt, min_samples_split=5, n_estimators=155; total time=  24.5s\n",
      "[CV] END max_depth=45, max_features=sqrt, min_samples_split=5, n_estimators=155; total time=  24.4s\n",
      "[CV] END max_depth=45, max_features=sqrt, min_samples_split=5, n_estimators=155; total time=  24.5s\n",
      "[CV] END max_depth=23, max_features=auto, min_samples_split=10, n_estimators=110; total time=  16.9s\n",
      "[CV] END max_depth=23, max_features=auto, min_samples_split=10, n_estimators=110; total time=  16.8s\n",
      "[CV] END max_depth=23, max_features=auto, min_samples_split=10, n_estimators=110; total time=  16.8s\n",
      "[CV] END max_depth=23, max_features=auto, min_samples_split=10, n_estimators=110; total time=  16.9s\n",
      "[CV] END max_depth=23, max_features=auto, min_samples_split=10, n_estimators=110; total time=  16.9s\n",
      "[CV] END max_depth=45, max_features=auto, min_samples_split=5, n_estimators=110; total time=  17.5s\n",
      "[CV] END max_depth=45, max_features=auto, min_samples_split=5, n_estimators=110; total time=  17.6s\n",
      "[CV] END max_depth=45, max_features=auto, min_samples_split=5, n_estimators=110; total time=  17.5s\n",
      "[CV] END max_depth=45, max_features=auto, min_samples_split=5, n_estimators=110; total time=  17.6s\n",
      "[CV] END max_depth=45, max_features=auto, min_samples_split=5, n_estimators=110; total time=  17.5s\n",
      "[CV] END max_depth=1, max_features=sqrt, min_samples_split=10, n_estimators=155; total time=   2.5s\n",
      "[CV] END max_depth=1, max_features=sqrt, min_samples_split=10, n_estimators=155; total time=   2.6s\n",
      "[CV] END max_depth=1, max_features=sqrt, min_samples_split=10, n_estimators=155; total time=   2.6s\n",
      "[CV] END max_depth=1, max_features=sqrt, min_samples_split=10, n_estimators=155; total time=   2.6s\n",
      "[CV] END max_depth=1, max_features=sqrt, min_samples_split=10, n_estimators=155; total time=   2.6s\n",
      "[CV] END max_depth=1, max_features=auto, min_samples_split=5, n_estimators=110; total time=   1.8s\n",
      "[CV] END max_depth=1, max_features=auto, min_samples_split=5, n_estimators=110; total time=   1.8s\n",
      "[CV] END max_depth=1, max_features=auto, min_samples_split=5, n_estimators=110; total time=   1.8s\n",
      "[CV] END max_depth=1, max_features=auto, min_samples_split=5, n_estimators=110; total time=   1.8s\n",
      "[CV] END max_depth=1, max_features=auto, min_samples_split=5, n_estimators=110; total time=   1.8s\n",
      "Wall time: 9min 21s\n"
     ]
    },
    {
     "data": {
      "text/plain": [
       "RandomizedSearchCV(cv=5, estimator=RandomForestClassifier(),\n",
       "                   param_distributions={'max_depth': [1, 23, 45],\n",
       "                                        'max_features': ['auto', 'sqrt'],\n",
       "                                        'min_samples_split': [5, 10],\n",
       "                                        'n_estimators': [20, 65, 110, 155,\n",
       "                                                         200]},\n",
       "                   verbose=2)"
      ]
     },
     "execution_count": 5,
     "metadata": {},
     "output_type": "execute_result"
    }
   ],
   "source": [
    "%%time\n",
    "rf_random = RandomizedSearchCV(estimator = RandomForestClassifier(), param_distributions = random_grid, n_iter = 10, cv = 5, verbose=2)\n",
    "# Fit the random search model\n",
    "rf_random.fit(X_train, y_train)"
   ]
  },
  {
   "cell_type": "code",
   "execution_count": 6,
   "id": "c9153948-75cc-424a-91d5-fb2261ba76fc",
   "metadata": {},
   "outputs": [
    {
     "data": {
      "text/plain": [
       "(RandomForestClassifier(max_depth=45, max_features='sqrt', min_samples_split=5,\n",
       "                        n_estimators=155),\n",
       " 0.9634761904761906)"
      ]
     },
     "execution_count": 6,
     "metadata": {},
     "output_type": "execute_result"
    }
   ],
   "source": [
    "rf_random.best_estimator_ , rf_random.best_score_"
   ]
  },
  {
   "cell_type": "code",
   "execution_count": 7,
   "id": "7a6f6902-97c6-43a7-9d28-4d87a385f194",
   "metadata": {},
   "outputs": [
    {
     "data": {
      "text/plain": [
       "sklearn.ensemble._forest.RandomForestClassifier"
      ]
     },
     "execution_count": 7,
     "metadata": {},
     "output_type": "execute_result"
    }
   ],
   "source": [
    "type(rf_random.best_estimator_)"
   ]
  },
  {
   "cell_type": "code",
   "execution_count": 8,
   "id": "0bc207a2-7b64-4a66-892a-cfe373354a1d",
   "metadata": {},
   "outputs": [],
   "source": [
    "RF = rf_random.best_estimator_"
   ]
  },
  {
   "cell_type": "code",
   "execution_count": 9,
   "id": "26a4ba9b-4417-4df7-bd61-c5eff18df2f4",
   "metadata": {},
   "outputs": [
    {
     "name": "stdout",
     "output_type": "stream",
     "text": [
      "val accuracy: 0.9697142857142858\n",
      "test accuracy: 0.9647142857142857\n"
     ]
    }
   ],
   "source": [
    "RF.fit(X_train,y_train)\n",
    "y_pred_val = RF.predict(X_val)\n",
    "y_pred_test = RF.predict(X_test)\n",
    "\n",
    "print('val accuracy:',accuracy_score(y_val, y_pred_val))\n",
    "print('test accuracy:',accuracy_score(y_test, y_pred_test))"
   ]
  },
  {
   "cell_type": "code",
   "execution_count": null,
   "id": "54115369-0491-4743-b033-4e8114cf6731",
   "metadata": {},
   "outputs": [],
   "source": []
  },
  {
   "cell_type": "markdown",
   "id": "e9a5af9d-d461-4c92-a36e-b6ab49ab4656",
   "metadata": {},
   "source": [
    "# GB tuning"
   ]
  },
  {
   "cell_type": "code",
   "execution_count": 10,
   "id": "f331cdde-a650-4365-9d69-0ace6c4ce2ab",
   "metadata": {},
   "outputs": [
    {
     "name": "stdout",
     "output_type": "stream",
     "text": [
      "{'learning_rate': [0.05, 0.1, 0.15000000000000002, 0.2],\n",
      " 'max_depth': [5, 8, 12, 16],\n",
      " 'max_features': ['auto', 'sqrt'],\n",
      " 'n_estimators': [20, 36, 53, 70]}\n"
     ]
    }
   ],
   "source": [
    "# Number of trees in random forest\n",
    "n_estimators = [int(x) for x in np.linspace(start = 20, stop = 70, num = 4)]\n",
    "learning_rate = [x for x in np.linspace(start = 0.05, stop = 0.2, num = 4)]\n",
    "# Number of features to consider at every split\n",
    "max_features = ['auto', 'sqrt']\n",
    "# Maximum number of levels in tree\n",
    "max_depth = [int(x) for x in np.linspace(start = 5, stop = 16, num = 4)]\n",
    "\n",
    "\n",
    "# Create the random grid\n",
    "random_grid = {'n_estimators': n_estimators,\n",
    "               'learning_rate' : learning_rate,\n",
    "               'max_features': max_features,\n",
    "               'max_depth': max_depth}\n",
    "\n",
    "pprint(random_grid)"
   ]
  },
  {
   "cell_type": "code",
   "execution_count": 11,
   "id": "bd2f9ec9-1a3e-4cc5-9c69-38a32be1d58d",
   "metadata": {},
   "outputs": [
    {
     "name": "stdout",
     "output_type": "stream",
     "text": [
      "Fitting 5 folds for each of 10 candidates, totalling 50 fits\n",
      "[CV] END learning_rate=0.2, max_depth=12, max_features=sqrt, n_estimators=36; total time= 1.7min\n",
      "[CV] END learning_rate=0.2, max_depth=12, max_features=sqrt, n_estimators=36; total time= 1.7min\n",
      "[CV] END learning_rate=0.2, max_depth=12, max_features=sqrt, n_estimators=36; total time= 1.7min\n",
      "[CV] END learning_rate=0.2, max_depth=12, max_features=sqrt, n_estimators=36; total time= 1.7min\n",
      "[CV] END learning_rate=0.2, max_depth=12, max_features=sqrt, n_estimators=36; total time= 1.7min\n",
      "[CV] END learning_rate=0.15000000000000002, max_depth=8, max_features=auto, n_estimators=70; total time=42.4min\n",
      "[CV] END learning_rate=0.15000000000000002, max_depth=8, max_features=auto, n_estimators=70; total time=42.4min\n",
      "[CV] END learning_rate=0.15000000000000002, max_depth=8, max_features=auto, n_estimators=70; total time=42.1min\n",
      "[CV] END learning_rate=0.15000000000000002, max_depth=8, max_features=auto, n_estimators=70; total time=42.1min\n",
      "[CV] END learning_rate=0.15000000000000002, max_depth=8, max_features=auto, n_estimators=70; total time=42.1min\n",
      "[CV] END learning_rate=0.1, max_depth=5, max_features=auto, n_estimators=53; total time=20.8min\n",
      "[CV] END learning_rate=0.1, max_depth=5, max_features=auto, n_estimators=53; total time=20.8min\n",
      "[CV] END learning_rate=0.1, max_depth=5, max_features=auto, n_estimators=53; total time=20.8min\n",
      "[CV] END learning_rate=0.1, max_depth=5, max_features=auto, n_estimators=53; total time=20.9min\n",
      "[CV] END learning_rate=0.1, max_depth=5, max_features=auto, n_estimators=53; total time=20.9min\n",
      "[CV] END learning_rate=0.05, max_depth=5, max_features=sqrt, n_estimators=20; total time=  21.4s\n",
      "[CV] END learning_rate=0.05, max_depth=5, max_features=sqrt, n_estimators=20; total time=  21.3s\n",
      "[CV] END learning_rate=0.05, max_depth=5, max_features=sqrt, n_estimators=20; total time=  21.2s\n",
      "[CV] END learning_rate=0.05, max_depth=5, max_features=sqrt, n_estimators=20; total time=  21.3s\n",
      "[CV] END learning_rate=0.05, max_depth=5, max_features=sqrt, n_estimators=20; total time=  21.4s\n",
      "[CV] END learning_rate=0.15000000000000002, max_depth=16, max_features=sqrt, n_estimators=20; total time= 1.6min\n",
      "[CV] END learning_rate=0.15000000000000002, max_depth=16, max_features=sqrt, n_estimators=20; total time= 1.6min\n",
      "[CV] END learning_rate=0.15000000000000002, max_depth=16, max_features=sqrt, n_estimators=20; total time= 1.6min\n",
      "[CV] END learning_rate=0.15000000000000002, max_depth=16, max_features=sqrt, n_estimators=20; total time= 1.6min\n",
      "[CV] END learning_rate=0.15000000000000002, max_depth=16, max_features=sqrt, n_estimators=20; total time= 1.6min\n",
      "[CV] END learning_rate=0.1, max_depth=12, max_features=auto, n_estimators=70; total time=59.6min\n",
      "[CV] END learning_rate=0.1, max_depth=12, max_features=auto, n_estimators=70; total time=59.8min\n",
      "[CV] END learning_rate=0.1, max_depth=12, max_features=auto, n_estimators=70; total time=59.7min\n",
      "[CV] END learning_rate=0.1, max_depth=12, max_features=auto, n_estimators=70; total time=59.9min\n",
      "[CV] END learning_rate=0.1, max_depth=12, max_features=auto, n_estimators=70; total time=59.9min\n",
      "[CV] END learning_rate=0.2, max_depth=5, max_features=auto, n_estimators=36; total time=14.3min\n",
      "[CV] END learning_rate=0.2, max_depth=5, max_features=auto, n_estimators=36; total time=14.2min\n",
      "[CV] END learning_rate=0.2, max_depth=5, max_features=auto, n_estimators=36; total time=14.2min\n",
      "[CV] END learning_rate=0.2, max_depth=5, max_features=auto, n_estimators=36; total time=14.2min\n",
      "[CV] END learning_rate=0.2, max_depth=5, max_features=auto, n_estimators=36; total time=14.2min\n",
      "[CV] END learning_rate=0.15000000000000002, max_depth=5, max_features=sqrt, n_estimators=53; total time=  56.6s\n",
      "[CV] END learning_rate=0.15000000000000002, max_depth=5, max_features=sqrt, n_estimators=53; total time=  56.5s\n",
      "[CV] END learning_rate=0.15000000000000002, max_depth=5, max_features=sqrt, n_estimators=53; total time=  56.5s\n",
      "[CV] END learning_rate=0.15000000000000002, max_depth=5, max_features=sqrt, n_estimators=53; total time=  56.6s\n",
      "[CV] END learning_rate=0.15000000000000002, max_depth=5, max_features=sqrt, n_estimators=53; total time=  56.3s\n",
      "[CV] END learning_rate=0.15000000000000002, max_depth=12, max_features=sqrt, n_estimators=70; total time= 3.3min\n",
      "[CV] END learning_rate=0.15000000000000002, max_depth=12, max_features=sqrt, n_estimators=70; total time= 3.3min\n",
      "[CV] END learning_rate=0.15000000000000002, max_depth=12, max_features=sqrt, n_estimators=70; total time= 3.3min\n",
      "[CV] END learning_rate=0.15000000000000002, max_depth=12, max_features=sqrt, n_estimators=70; total time= 3.3min\n",
      "[CV] END learning_rate=0.15000000000000002, max_depth=12, max_features=sqrt, n_estimators=70; total time= 3.3min\n",
      "[CV] END learning_rate=0.2, max_depth=16, max_features=auto, n_estimators=70; total time=59.8min\n",
      "[CV] END learning_rate=0.2, max_depth=16, max_features=auto, n_estimators=70; total time=60.3min\n",
      "[CV] END learning_rate=0.2, max_depth=16, max_features=auto, n_estimators=70; total time=59.3min\n",
      "[CV] END learning_rate=0.2, max_depth=16, max_features=auto, n_estimators=70; total time=59.7min\n",
      "[CV] END learning_rate=0.2, max_depth=16, max_features=auto, n_estimators=70; total time=59.8min\n",
      "Wall time: 17h 7min 57s\n"
     ]
    },
    {
     "data": {
      "text/plain": [
       "RandomizedSearchCV(cv=5, estimator=GradientBoostingClassifier(),\n",
       "                   param_distributions={'learning_rate': [0.05, 0.1,\n",
       "                                                          0.15000000000000002,\n",
       "                                                          0.2],\n",
       "                                        'max_depth': [5, 8, 12, 16],\n",
       "                                        'max_features': ['auto', 'sqrt'],\n",
       "                                        'n_estimators': [20, 36, 53, 70]},\n",
       "                   verbose=2)"
      ]
     },
     "execution_count": 11,
     "metadata": {},
     "output_type": "execute_result"
    }
   ],
   "source": [
    "%%time\n",
    "GBDT_random = RandomizedSearchCV(estimator = GradientBoostingClassifier(), param_distributions = random_grid, n_iter = 10, cv = 5, verbose=2)\n",
    "# Fit the random search model\n",
    "GBDT_random.fit(X_train, y_train)"
   ]
  },
  {
   "cell_type": "code",
   "execution_count": 12,
   "id": "c9885512-9d33-4d21-99f6-47b60b41a4b3",
   "metadata": {},
   "outputs": [
    {
     "data": {
      "text/plain": [
       "(GradientBoostingClassifier(learning_rate=0.15000000000000002, max_depth=12,\n",
       "                            max_features='sqrt', n_estimators=70),\n",
       " 0.967047619047619)"
      ]
     },
     "execution_count": 12,
     "metadata": {},
     "output_type": "execute_result"
    }
   ],
   "source": [
    "GBDT_random.best_estimator_ , GBDT_random.best_score_"
   ]
  },
  {
   "cell_type": "code",
   "execution_count": 13,
   "id": "be712ff1-714d-406b-bf15-ca571d3754e1",
   "metadata": {},
   "outputs": [
    {
     "name": "stdout",
     "output_type": "stream",
     "text": [
      "val accuracy: 0.9704285714285714\n",
      "test accuracy: 0.9634285714285714\n"
     ]
    }
   ],
   "source": [
    "GB = rf_random.best_estimator_\n",
    "GB.fit(X_train,y_train)\n",
    "y_pred_val = GB.predict(X_val)\n",
    "y_pred_test = GB.predict(X_test)\n",
    "\n",
    "print('val accuracy:',accuracy_score(y_val, y_pred_val))\n",
    "print('test accuracy:',accuracy_score(y_test, y_pred_test))"
   ]
  },
  {
   "cell_type": "code",
   "execution_count": 57,
   "id": "357f6104-9ff6-41cb-9421-79295f0f3657",
   "metadata": {},
   "outputs": [],
   "source": [
    "if not os.path.exists('./model_params/'):\n",
    "    os.makedirs('./model_params')\n",
    "\n",
    "with open('./model_params/GB_params_tuning.pkl', 'wb') as f:\n",
    "        pickle.dump(GBDT_random.best_estimator_, f)\n",
    "with open('./model_params/RF_params_tuning.pkl', 'wb') as f:\n",
    "        pickle.dump(rf_random.best_estimator_, f)"
   ]
  },
  {
   "cell_type": "code",
   "execution_count": null,
   "id": "1afffae9-e750-405f-bc7b-af3132720401",
   "metadata": {},
   "outputs": [],
   "source": []
  },
  {
   "cell_type": "code",
   "execution_count": null,
   "id": "e3796135-ea38-4062-b5b5-8b51394ce0a8",
   "metadata": {},
   "outputs": [],
   "source": []
  },
  {
   "cell_type": "markdown",
   "id": "512167cc-d3e9-450e-a0fd-48761b1b8b6e",
   "metadata": {},
   "source": [
    "# 1-NN"
   ]
  },
  {
   "cell_type": "code",
   "execution_count": 5,
   "id": "fb5a6dfd-697c-4814-9dd1-bce558c6f882",
   "metadata": {},
   "outputs": [],
   "source": [
    "OneNN_model = KNeighborsClassifier(n_neighbors=1).fit(X_train, y_train)"
   ]
  },
  {
   "cell_type": "code",
   "execution_count": 7,
   "id": "7f28ead2-69e7-4276-b99f-90cd3aa57762",
   "metadata": {},
   "outputs": [
    {
     "name": "stdout",
     "output_type": "stream",
     "text": [
      "val accuracy: 0.9695714285714285\n",
      "test accuracy: 0.9677142857142857\n"
     ]
    }
   ],
   "source": [
    "y_pred_val = OneNN_model.predict(X_val)\n",
    "y_pred_test = OneNN_model.predict(X_test)\n",
    "print('val accuracy:',accuracy_score(y_val, y_pred_val))\n",
    "print('test accuracy:',accuracy_score(y_test, y_pred_test))"
   ]
  },
  {
   "cell_type": "code",
   "execution_count": 8,
   "id": "687f0564-455a-4cf0-8c9d-d64bda1dd423",
   "metadata": {},
   "outputs": [],
   "source": [
    "if not os.path.exists('./model_params/'):\n",
    "    os.makedirs('./model_params')\n",
    "with open('./model_params/OneNN_params_tuning.pkl', 'wb') as f:\n",
    "        pickle.dump(OneNN_model, f)"
   ]
  },
  {
   "cell_type": "code",
   "execution_count": null,
   "id": "e5b06f2e-d00e-45dd-a085-5ab5ba256638",
   "metadata": {},
   "outputs": [],
   "source": []
  },
  {
   "cell_type": "markdown",
   "id": "f79494f1-820d-416d-a00b-24e8f7c72f32",
   "metadata": {},
   "source": [
    "# CNN"
   ]
  },
  {
   "cell_type": "code",
   "execution_count": 54,
   "id": "72cf2d29-aa54-4a9c-a668-6592b02c3fba",
   "metadata": {},
   "outputs": [],
   "source": [
    "from tensorflow.keras.optimizers import SGD\n",
    "pixels  = int(sqrt(X_train.shape[1]))\n",
    "classes = len(np.unique(y_test))\n",
    "\n",
    "model = Sequential()\n",
    "model.add(Conv2D(32, (3, 3), activation='relu', kernel_initializer='he_uniform', input_shape=(28, 28, 1)))\n",
    "model.add(MaxPooling2D((2, 2)))\n",
    "model.add(Flatten())\n",
    "model.add(Dense(100, activation='relu', kernel_initializer='he_uniform'))\n",
    "model.add(Dense(10, activation='softmax'))\n",
    "# compile model\n",
    "opt = SGD(learning_rate=0.01, momentum=0.9)\n",
    "model.compile(optimizer=opt, loss='categorical_crossentropy', metrics=['accuracy'])\n",
    "model.save(f'./model_params/CNN_params_tuning')"
   ]
  },
  {
   "cell_type": "code",
   "execution_count": 61,
   "id": "6ab083f4-7e0a-4ba3-ba0c-c5883ea08fda",
   "metadata": {},
   "outputs": [
    {
     "name": "stdout",
     "output_type": "stream",
     "text": [
      "Epoch 1/10\n",
      "1313/1313 [==============================] - 10s 7ms/step - loss: 0.2203 - accuracy: 0.9335 - val_loss: 0.0968 - val_accuracy: 0.9711\n",
      "Epoch 2/10\n",
      "1313/1313 [==============================] - 10s 8ms/step - loss: 0.0728 - accuracy: 0.9787 - val_loss: 0.0629 - val_accuracy: 0.9812\n",
      "Epoch 3/10\n",
      "1313/1313 [==============================] - 10s 7ms/step - loss: 0.0440 - accuracy: 0.9864 - val_loss: 0.0517 - val_accuracy: 0.9839\n",
      "Epoch 4/10\n",
      "1313/1313 [==============================] - 9s 7ms/step - loss: 0.0294 - accuracy: 0.9916 - val_loss: 0.0558 - val_accuracy: 0.9831\n",
      "Epoch 5/10\n",
      "1313/1313 [==============================] - 10s 7ms/step - loss: 0.0199 - accuracy: 0.9940 - val_loss: 0.0524 - val_accuracy: 0.9848\n",
      "Epoch 6/10\n",
      "1313/1313 [==============================] - 9s 7ms/step - loss: 0.0138 - accuracy: 0.9957 - val_loss: 0.0499 - val_accuracy: 0.9854\n",
      "Epoch 7/10\n",
      "1313/1313 [==============================] - 9s 7ms/step - loss: 0.0083 - accuracy: 0.9981 - val_loss: 0.0523 - val_accuracy: 0.9856\n",
      "Epoch 8/10\n",
      "1313/1313 [==============================] - 9s 7ms/step - loss: 0.0055 - accuracy: 0.9989 - val_loss: 0.0505 - val_accuracy: 0.9860\n",
      "Epoch 9/10\n",
      "1313/1313 [==============================] - 10s 7ms/step - loss: 0.0035 - accuracy: 0.9995 - val_loss: 0.0512 - val_accuracy: 0.9864\n",
      "Epoch 10/10\n",
      "1313/1313 [==============================] - 10s 7ms/step - loss: 0.0022 - accuracy: 0.9999 - val_loss: 0.0537 - val_accuracy: 0.9861\n"
     ]
    },
    {
     "data": {
      "text/plain": [
       "<tensorflow.python.keras.callbacks.History at 0x2643091b0a0>"
      ]
     },
     "execution_count": 61,
     "metadata": {},
     "output_type": "execute_result"
    }
   ],
   "source": [
    "#load model\n",
    "num_labels = classes\n",
    "pixels = int(sqrt(X_train.shape[1]))\n",
    "# Reshaping to format which CNN expects (batch, height, width, channels)\n",
    "trainX_cnn = X_train.reshape(X_train.shape[0], pixels, pixels, 1).astype('float32')\n",
    "valX_cnn = X_val.reshape(X_val.shape[0], pixels, pixels, 1).astype('float32')\n",
    "testX_cnn= X_test.reshape(X_test.shape[0], pixels, pixels, 1).astype('float32')\n",
    "\n",
    "# Normalize images from 0-255 to 0-1\n",
    "trainX_cnn /= 255\n",
    "valX_cnn /= 255\n",
    "\n",
    "train_y_cnn = utils.to_categorical(y_train, num_labels)\n",
    "val_y_cnn = utils.to_categorical(y_val, num_labels)\n",
    "test_y_cnn = utils.to_categorical(y_test, num_labels)\n",
    "# Learn model\n",
    "model.fit(trainX_cnn, train_y_cnn, validation_data=(valX_cnn, val_y_cnn), epochs=10, batch_size=32)\n",
    "\n"
   ]
  },
  {
   "cell_type": "code",
   "execution_count": 62,
   "id": "87fb2e7a-6fcd-46b6-817e-eac98be40c07",
   "metadata": {},
   "outputs": [],
   "source": [
    "y_pred_val=np.argmax(model.predict(valX_cnn),axis=1)\n",
    "y_pred_test=np.argmax(model.predict(testX_cnn),axis=1)"
   ]
  },
  {
   "cell_type": "code",
   "execution_count": 63,
   "id": "5086c4d2-c27c-4d29-8fd3-89d03a6104e4",
   "metadata": {},
   "outputs": [
    {
     "name": "stdout",
     "output_type": "stream",
     "text": [
      "val accuracy: 0.9860714285714286\n",
      "test accuracy: 0.9707857142857143\n"
     ]
    }
   ],
   "source": [
    "print('val accuracy:',accuracy_score(y_val, y_pred_val))\n",
    "print('test accuracy:',accuracy_score(y_test, y_pred_test))"
   ]
  },
  {
   "cell_type": "code",
   "execution_count": null,
   "id": "7b75e6bb-6478-476d-b791-45226e3995c7",
   "metadata": {},
   "outputs": [],
   "source": []
  }
 ],
 "metadata": {
  "kernelspec": {
   "display_name": "Python 3",
   "language": "python",
   "name": "python3"
  },
  "language_info": {
   "codemirror_mode": {
    "name": "ipython",
    "version": 3
   },
   "file_extension": ".py",
   "mimetype": "text/x-python",
   "name": "python",
   "nbconvert_exporter": "python",
   "pygments_lexer": "ipython3",
   "version": "3.8.8"
  }
 },
 "nbformat": 4,
 "nbformat_minor": 5
}
