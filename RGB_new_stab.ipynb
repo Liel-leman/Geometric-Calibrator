{
 "cells": [
  {
   "cell_type": "markdown",
   "id": "3c972eb1-bfe3-4931-a0a8-99b576ff7190",
   "metadata": {},
   "source": [
    "# GTSRB & RGB"
   ]
  },
  {
   "cell_type": "code",
   "execution_count": 1,
   "id": "4084d532-73ae-4d16-b154-d351bc873ce1",
   "metadata": {},
   "outputs": [],
   "source": [
    "import numpy as np\n",
    "import warnings\n",
    "from utils import *\n",
    "from calibrators import * \n",
    "import pickle\n",
    "warnings.filterwarnings(\"ignore\")\n",
    "import torch\n",
    "import sys\n",
    "sys.path.append('../')\n",
    "import time\n",
    "import copy\n",
    "from SLURM.sklearn_config import *\n",
    "import time\n",
    "import tensorflow as tf\n",
    "from skimage import color\n",
    "from skimage import io\n",
    "from keras.datasets import cifar10\n",
    "\n"
   ]
  },
  {
   "cell_type": "code",
   "execution_count": 18,
   "id": "0ea32b3d-04b7-4114-b2a3-5190fda959bc",
   "metadata": {},
   "outputs": [
    {
     "name": "stdout",
     "output_type": "stream",
     "text": [
      "(10, 32, 32, 3) (10, 32, 32)\n"
     ]
    }
   ],
   "source": [
    "dataset_name, model_name, shuffle='CIFAR_RGB','RF',0\n",
    "model_info= load_model(dataset_name, model_name, shuffle)\n",
    "(train_X, train_y), (test_X, test_y) = cifar10.load_data()\n",
    "img=train_X[0:10]\n",
    "imgGray = color.rgb2gray(img)\n",
    "print(img.shape,imgGray.shape)"
   ]
  },
  {
   "cell_type": "code",
   "execution_count": 10,
   "id": "45dcb72c-0e30-4f60-b88e-84f6f7ecd6e6",
   "metadata": {},
   "outputs": [
    {
     "data": {
      "text/plain": [
       "array([[[ 59,  62,  63],\n",
       "        [ 43,  46,  45],\n",
       "        [ 50,  48,  43],\n",
       "        ...,\n",
       "        [158, 132, 108],\n",
       "        [152, 125, 102],\n",
       "        [148, 124, 103]],\n",
       "\n",
       "       [[ 16,  20,  20],\n",
       "        [  0,   0,   0],\n",
       "        [ 18,   8,   0],\n",
       "        ...,\n",
       "        [123,  88,  55],\n",
       "        [119,  83,  50],\n",
       "        [122,  87,  57]],\n",
       "\n",
       "       [[ 25,  24,  21],\n",
       "        [ 16,   7,   0],\n",
       "        [ 49,  27,   8],\n",
       "        ...,\n",
       "        [118,  84,  50],\n",
       "        [120,  84,  50],\n",
       "        [109,  73,  42]],\n",
       "\n",
       "       ...,\n",
       "\n",
       "       [[208, 170,  96],\n",
       "        [201, 153,  34],\n",
       "        [198, 161,  26],\n",
       "        ...,\n",
       "        [160, 133,  70],\n",
       "        [ 56,  31,   7],\n",
       "        [ 53,  34,  20]],\n",
       "\n",
       "       [[180, 139,  96],\n",
       "        [173, 123,  42],\n",
       "        [186, 144,  30],\n",
       "        ...,\n",
       "        [184, 148,  94],\n",
       "        [ 97,  62,  34],\n",
       "        [ 83,  53,  34]],\n",
       "\n",
       "       [[177, 144, 116],\n",
       "        [168, 129,  94],\n",
       "        [179, 142,  87],\n",
       "        ...,\n",
       "        [216, 184, 140],\n",
       "        [151, 118,  84],\n",
       "        [123,  92,  72]]], dtype=uint8)"
      ]
     },
     "execution_count": 10,
     "metadata": {},
     "output_type": "execute_result"
    }
   ],
   "source": [
    "img"
   ]
  },
  {
   "cell_type": "code",
   "execution_count": 16,
   "id": "42ca05f5-a6f7-4cec-b390-bd3a50286e0c",
   "metadata": {},
   "outputs": [
    {
     "data": {
      "text/plain": [
       "True"
      ]
     },
     "execution_count": 16,
     "metadata": {},
     "output_type": "execute_result"
    }
   ],
   "source": [
    "(img.reshape(1, -1).astype(np.float64).reshape(1,32,32,3)==img).all()"
   ]
  },
  {
   "cell_type": "code",
   "execution_count": 20,
   "id": "9adab3e0-d27c-4550-9817-a7ddf951edbf",
   "metadata": {
    "tags": []
   },
   "outputs": [
    {
     "ename": "KeyboardInterrupt",
     "evalue": "",
     "output_type": "error",
     "traceback": [
      "\u001b[0;31m---------------------------------------------------------------------------\u001b[0m",
      "\u001b[0;31mKeyboardInterrupt\u001b[0m                         Traceback (most recent call last)",
      "\u001b[0;32m/var/folders/bq/yr2g0hqx0vqcpvr3lgf609sh0000gn/T/ipykernel_7467/258680215.py\u001b[0m in \u001b[0;36m<module>\u001b[0;34m\u001b[0m\n\u001b[1;32m     22\u001b[0m \u001b[0;34m\u001b[0m\u001b[0m\n\u001b[1;32m     23\u001b[0m             \u001b[0mnum_label\u001b[0m\u001b[0;34m=\u001b[0m\u001b[0mmodel_info\u001b[0m\u001b[0;34m.\u001b[0m\u001b[0mdata\u001b[0m\u001b[0;34m.\u001b[0m\u001b[0mnum_labels\u001b[0m\u001b[0;34m\u001b[0m\u001b[0;34m\u001b[0m\u001b[0m\n\u001b[0;32m---> 24\u001b[0;31m             \u001b[0mstability\u001b[0m\u001b[0;34m,\u001b[0m\u001b[0mtime_all\u001b[0m\u001b[0;34m,\u001b[0m\u001b[0mex_in_time\u001b[0m\u001b[0;34m=\u001b[0m\u001b[0mnew_stability_calc\u001b[0m\u001b[0;34m(\u001b[0m\u001b[0mnp\u001b[0m\u001b[0;34m.\u001b[0m\u001b[0marray\u001b[0m\u001b[0;34m(\u001b[0m\u001b[0mpool_train\u001b[0m\u001b[0;34m)\u001b[0m\u001b[0;34m,\u001b[0m\u001b[0mnp\u001b[0m\u001b[0;34m.\u001b[0m\u001b[0marray\u001b[0m\u001b[0;34m(\u001b[0m\u001b[0mpool_val\u001b[0m\u001b[0;34m)\u001b[0m\u001b[0;34m,\u001b[0m\u001b[0mmodel_info\u001b[0m\u001b[0;34m.\u001b[0m\u001b[0mdata\u001b[0m\u001b[0;34m.\u001b[0m\u001b[0my_train\u001b[0m\u001b[0;34m,\u001b[0m\u001b[0mmodel_info\u001b[0m\u001b[0;34m.\u001b[0m\u001b[0my_pred_val\u001b[0m\u001b[0;34m,\u001b[0m\u001b[0mnum_label\u001b[0m\u001b[0;34m)\u001b[0m\u001b[0;34m\u001b[0m\u001b[0;34m\u001b[0m\u001b[0m\n\u001b[0m\u001b[1;32m     25\u001b[0m             \u001b[0mstability_test\u001b[0m\u001b[0;34m,\u001b[0m\u001b[0m_\u001b[0m\u001b[0;34m,\u001b[0m\u001b[0m_\u001b[0m\u001b[0;34m=\u001b[0m\u001b[0mnew_stability_calc\u001b[0m\u001b[0;34m(\u001b[0m\u001b[0mnp\u001b[0m\u001b[0;34m.\u001b[0m\u001b[0marray\u001b[0m\u001b[0;34m(\u001b[0m\u001b[0mpool_train\u001b[0m\u001b[0;34m)\u001b[0m\u001b[0;34m,\u001b[0m\u001b[0mnp\u001b[0m\u001b[0;34m.\u001b[0m\u001b[0marray\u001b[0m\u001b[0;34m(\u001b[0m\u001b[0mpool_test\u001b[0m\u001b[0;34m)\u001b[0m\u001b[0;34m,\u001b[0m\u001b[0mmodel_info\u001b[0m\u001b[0;34m.\u001b[0m\u001b[0mdata\u001b[0m\u001b[0;34m.\u001b[0m\u001b[0my_train\u001b[0m\u001b[0;34m,\u001b[0m\u001b[0mmodel_info\u001b[0m\u001b[0;34m.\u001b[0m\u001b[0my_pred_test\u001b[0m\u001b[0;34m,\u001b[0m\u001b[0mnum_label\u001b[0m\u001b[0;34m)\u001b[0m\u001b[0;34m\u001b[0m\u001b[0;34m\u001b[0m\u001b[0m\n\u001b[1;32m     26\u001b[0m \u001b[0;34m\u001b[0m\u001b[0m\n",
      "\u001b[0;32m~/Documents/GitHub/Geometric-Calibrator/utils.py\u001b[0m in \u001b[0;36mnew_stability_calc\u001b[0;34m(trainX, testX, train_y, test_y_pred, num_labels)\u001b[0m\n\u001b[1;32m    683\u001b[0m \u001b[0;34m\u001b[0m\u001b[0m\n\u001b[1;32m    684\u001b[0m         \u001b[0mdist1\u001b[0m\u001b[0;34m,\u001b[0m\u001b[0midx1\u001b[0m\u001b[0;34m=\u001b[0m \u001b[0msame_nbrs\u001b[0m\u001b[0;34m[\u001b[0m\u001b[0mpred_label\u001b[0m\u001b[0;34m]\u001b[0m\u001b[0;34m.\u001b[0m\u001b[0mkneighbors\u001b[0m\u001b[0;34m(\u001b[0m\u001b[0;34m[\u001b[0m\u001b[0mx\u001b[0m\u001b[0;34m]\u001b[0m\u001b[0;34m)\u001b[0m\u001b[0;34m\u001b[0m\u001b[0;34m\u001b[0m\u001b[0m\n\u001b[0;32m--> 685\u001b[0;31m         \u001b[0mdist2\u001b[0m\u001b[0;34m,\u001b[0m\u001b[0midx2\u001b[0m\u001b[0;34m=\u001b[0m \u001b[0mother_nbrs\u001b[0m\u001b[0;34m[\u001b[0m\u001b[0mpred_label\u001b[0m\u001b[0;34m]\u001b[0m\u001b[0;34m.\u001b[0m\u001b[0mkneighbors\u001b[0m\u001b[0;34m(\u001b[0m\u001b[0;34m[\u001b[0m\u001b[0mx\u001b[0m\u001b[0;34m]\u001b[0m\u001b[0;34m)\u001b[0m\u001b[0;34m\u001b[0m\u001b[0;34m\u001b[0m\u001b[0m\n\u001b[0m\u001b[1;32m    686\u001b[0m \u001b[0;34m\u001b[0m\u001b[0m\n\u001b[1;32m    687\u001b[0m         \u001b[0mstability\u001b[0m\u001b[0;34m[\u001b[0m\u001b[0mi\u001b[0m\u001b[0;34m]\u001b[0m\u001b[0;34m=\u001b[0m\u001b[0;34m(\u001b[0m\u001b[0mdist2\u001b[0m\u001b[0;34m-\u001b[0m\u001b[0mdist1\u001b[0m\u001b[0;34m)\u001b[0m\u001b[0;34m/\u001b[0m\u001b[0;36m2\u001b[0m\u001b[0;34m\u001b[0m\u001b[0;34m\u001b[0m\u001b[0m\n",
      "\u001b[0;32m~/opt/miniconda3/envs/ML/lib/python3.9/site-packages/sklearn/neighbors/_base.py\u001b[0m in \u001b[0;36mkneighbors\u001b[0;34m(self, X, n_neighbors, return_distance)\u001b[0m\n\u001b[1;32m    747\u001b[0m                 \u001b[0mkwds\u001b[0m \u001b[0;34m=\u001b[0m \u001b[0mself\u001b[0m\u001b[0;34m.\u001b[0m\u001b[0meffective_metric_params_\u001b[0m\u001b[0;34m\u001b[0m\u001b[0;34m\u001b[0m\u001b[0m\n\u001b[1;32m    748\u001b[0m \u001b[0;34m\u001b[0m\u001b[0m\n\u001b[0;32m--> 749\u001b[0;31m             chunked_results = list(\n\u001b[0m\u001b[1;32m    750\u001b[0m                 pairwise_distances_chunked(\n\u001b[1;32m    751\u001b[0m                     \u001b[0mX\u001b[0m\u001b[0;34m,\u001b[0m\u001b[0;34m\u001b[0m\u001b[0;34m\u001b[0m\u001b[0m\n",
      "\u001b[0;32m~/opt/miniconda3/envs/ML/lib/python3.9/site-packages/sklearn/metrics/pairwise.py\u001b[0m in \u001b[0;36mpairwise_distances_chunked\u001b[0;34m(X, Y, reduce_func, metric, n_jobs, working_memory, **kwds)\u001b[0m\n\u001b[1;32m   1710\u001b[0m         \u001b[0;32melse\u001b[0m\u001b[0;34m:\u001b[0m\u001b[0;34m\u001b[0m\u001b[0;34m\u001b[0m\u001b[0m\n\u001b[1;32m   1711\u001b[0m             \u001b[0mX_chunk\u001b[0m \u001b[0;34m=\u001b[0m \u001b[0mX\u001b[0m\u001b[0;34m[\u001b[0m\u001b[0msl\u001b[0m\u001b[0;34m]\u001b[0m\u001b[0;34m\u001b[0m\u001b[0;34m\u001b[0m\u001b[0m\n\u001b[0;32m-> 1712\u001b[0;31m         \u001b[0mD_chunk\u001b[0m \u001b[0;34m=\u001b[0m \u001b[0mpairwise_distances\u001b[0m\u001b[0;34m(\u001b[0m\u001b[0mX_chunk\u001b[0m\u001b[0;34m,\u001b[0m \u001b[0mY\u001b[0m\u001b[0;34m,\u001b[0m \u001b[0mmetric\u001b[0m\u001b[0;34m=\u001b[0m\u001b[0mmetric\u001b[0m\u001b[0;34m,\u001b[0m \u001b[0mn_jobs\u001b[0m\u001b[0;34m=\u001b[0m\u001b[0mn_jobs\u001b[0m\u001b[0;34m,\u001b[0m \u001b[0;34m**\u001b[0m\u001b[0mkwds\u001b[0m\u001b[0;34m)\u001b[0m\u001b[0;34m\u001b[0m\u001b[0;34m\u001b[0m\u001b[0m\n\u001b[0m\u001b[1;32m   1713\u001b[0m         if (X is Y or Y is None) and PAIRWISE_DISTANCE_FUNCTIONS.get(\n\u001b[1;32m   1714\u001b[0m             \u001b[0mmetric\u001b[0m\u001b[0;34m,\u001b[0m \u001b[0;32mNone\u001b[0m\u001b[0;34m\u001b[0m\u001b[0;34m\u001b[0m\u001b[0m\n",
      "\u001b[0;32m~/opt/miniconda3/envs/ML/lib/python3.9/site-packages/sklearn/metrics/pairwise.py\u001b[0m in \u001b[0;36mpairwise_distances\u001b[0;34m(X, Y, metric, n_jobs, force_all_finite, **kwds)\u001b[0m\n\u001b[1;32m   1882\u001b[0m         \u001b[0mfunc\u001b[0m \u001b[0;34m=\u001b[0m \u001b[0mpartial\u001b[0m\u001b[0;34m(\u001b[0m\u001b[0mdistance\u001b[0m\u001b[0;34m.\u001b[0m\u001b[0mcdist\u001b[0m\u001b[0;34m,\u001b[0m \u001b[0mmetric\u001b[0m\u001b[0;34m=\u001b[0m\u001b[0mmetric\u001b[0m\u001b[0;34m,\u001b[0m \u001b[0;34m**\u001b[0m\u001b[0mkwds\u001b[0m\u001b[0;34m)\u001b[0m\u001b[0;34m\u001b[0m\u001b[0;34m\u001b[0m\u001b[0m\n\u001b[1;32m   1883\u001b[0m \u001b[0;34m\u001b[0m\u001b[0m\n\u001b[0;32m-> 1884\u001b[0;31m     \u001b[0;32mreturn\u001b[0m \u001b[0m_parallel_pairwise\u001b[0m\u001b[0;34m(\u001b[0m\u001b[0mX\u001b[0m\u001b[0;34m,\u001b[0m \u001b[0mY\u001b[0m\u001b[0;34m,\u001b[0m \u001b[0mfunc\u001b[0m\u001b[0;34m,\u001b[0m \u001b[0mn_jobs\u001b[0m\u001b[0;34m,\u001b[0m \u001b[0;34m**\u001b[0m\u001b[0mkwds\u001b[0m\u001b[0;34m)\u001b[0m\u001b[0;34m\u001b[0m\u001b[0;34m\u001b[0m\u001b[0m\n\u001b[0m\u001b[1;32m   1885\u001b[0m \u001b[0;34m\u001b[0m\u001b[0m\n\u001b[1;32m   1886\u001b[0m \u001b[0;34m\u001b[0m\u001b[0m\n",
      "\u001b[0;32m~/opt/miniconda3/envs/ML/lib/python3.9/site-packages/sklearn/metrics/pairwise.py\u001b[0m in \u001b[0;36m_parallel_pairwise\u001b[0;34m(X, Y, func, n_jobs, **kwds)\u001b[0m\n\u001b[1;32m   1423\u001b[0m \u001b[0;34m\u001b[0m\u001b[0m\n\u001b[1;32m   1424\u001b[0m     \u001b[0;32mif\u001b[0m \u001b[0meffective_n_jobs\u001b[0m\u001b[0;34m(\u001b[0m\u001b[0mn_jobs\u001b[0m\u001b[0;34m)\u001b[0m \u001b[0;34m==\u001b[0m \u001b[0;36m1\u001b[0m\u001b[0;34m:\u001b[0m\u001b[0;34m\u001b[0m\u001b[0;34m\u001b[0m\u001b[0m\n\u001b[0;32m-> 1425\u001b[0;31m         \u001b[0;32mreturn\u001b[0m \u001b[0mfunc\u001b[0m\u001b[0;34m(\u001b[0m\u001b[0mX\u001b[0m\u001b[0;34m,\u001b[0m \u001b[0mY\u001b[0m\u001b[0;34m,\u001b[0m \u001b[0;34m**\u001b[0m\u001b[0mkwds\u001b[0m\u001b[0;34m)\u001b[0m\u001b[0;34m\u001b[0m\u001b[0;34m\u001b[0m\u001b[0m\n\u001b[0m\u001b[1;32m   1426\u001b[0m \u001b[0;34m\u001b[0m\u001b[0m\n\u001b[1;32m   1427\u001b[0m     \u001b[0;31m# enforce a threading backend to prevent data communication overhead\u001b[0m\u001b[0;34m\u001b[0m\u001b[0;34m\u001b[0m\u001b[0m\n",
      "\u001b[0;32m~/opt/miniconda3/envs/ML/lib/python3.9/site-packages/sklearn/metrics/pairwise.py\u001b[0m in \u001b[0;36meuclidean_distances\u001b[0;34m(X, Y, Y_norm_squared, squared, X_norm_squared)\u001b[0m\n\u001b[1;32m    297\u001b[0m            [1.41421356]])\n\u001b[1;32m    298\u001b[0m     \"\"\"\n\u001b[0;32m--> 299\u001b[0;31m     \u001b[0mX\u001b[0m\u001b[0;34m,\u001b[0m \u001b[0mY\u001b[0m \u001b[0;34m=\u001b[0m \u001b[0mcheck_pairwise_arrays\u001b[0m\u001b[0;34m(\u001b[0m\u001b[0mX\u001b[0m\u001b[0;34m,\u001b[0m \u001b[0mY\u001b[0m\u001b[0;34m)\u001b[0m\u001b[0;34m\u001b[0m\u001b[0;34m\u001b[0m\u001b[0m\n\u001b[0m\u001b[1;32m    300\u001b[0m \u001b[0;34m\u001b[0m\u001b[0m\n\u001b[1;32m    301\u001b[0m     \u001b[0;32mif\u001b[0m \u001b[0mX_norm_squared\u001b[0m \u001b[0;32mis\u001b[0m \u001b[0;32mnot\u001b[0m \u001b[0;32mNone\u001b[0m\u001b[0;34m:\u001b[0m\u001b[0;34m\u001b[0m\u001b[0;34m\u001b[0m\u001b[0m\n",
      "\u001b[0;32m~/opt/miniconda3/envs/ML/lib/python3.9/site-packages/sklearn/metrics/pairwise.py\u001b[0m in \u001b[0;36mcheck_pairwise_arrays\u001b[0;34m(X, Y, precomputed, dtype, accept_sparse, force_all_finite, copy)\u001b[0m\n\u001b[1;32m    162\u001b[0m             \u001b[0mestimator\u001b[0m\u001b[0;34m=\u001b[0m\u001b[0mestimator\u001b[0m\u001b[0;34m,\u001b[0m\u001b[0;34m\u001b[0m\u001b[0;34m\u001b[0m\u001b[0m\n\u001b[1;32m    163\u001b[0m         )\n\u001b[0;32m--> 164\u001b[0;31m         Y = check_array(\n\u001b[0m\u001b[1;32m    165\u001b[0m             \u001b[0mY\u001b[0m\u001b[0;34m,\u001b[0m\u001b[0;34m\u001b[0m\u001b[0;34m\u001b[0m\u001b[0m\n\u001b[1;32m    166\u001b[0m             \u001b[0maccept_sparse\u001b[0m\u001b[0;34m=\u001b[0m\u001b[0maccept_sparse\u001b[0m\u001b[0;34m,\u001b[0m\u001b[0;34m\u001b[0m\u001b[0;34m\u001b[0m\u001b[0m\n",
      "\u001b[0;32m~/opt/miniconda3/envs/ML/lib/python3.9/site-packages/sklearn/utils/validation.py\u001b[0m in \u001b[0;36mcheck_array\u001b[0;34m(array, accept_sparse, accept_large_sparse, dtype, order, copy, force_all_finite, ensure_2d, allow_nd, ensure_min_samples, ensure_min_features, estimator)\u001b[0m\n\u001b[1;32m    790\u001b[0m \u001b[0;34m\u001b[0m\u001b[0m\n\u001b[1;32m    791\u001b[0m         \u001b[0;32mif\u001b[0m \u001b[0mforce_all_finite\u001b[0m\u001b[0;34m:\u001b[0m\u001b[0;34m\u001b[0m\u001b[0;34m\u001b[0m\u001b[0m\n\u001b[0;32m--> 792\u001b[0;31m             \u001b[0m_assert_all_finite\u001b[0m\u001b[0;34m(\u001b[0m\u001b[0marray\u001b[0m\u001b[0;34m,\u001b[0m \u001b[0mallow_nan\u001b[0m\u001b[0;34m=\u001b[0m\u001b[0mforce_all_finite\u001b[0m \u001b[0;34m==\u001b[0m \u001b[0;34m\"allow-nan\"\u001b[0m\u001b[0;34m)\u001b[0m\u001b[0;34m\u001b[0m\u001b[0;34m\u001b[0m\u001b[0m\n\u001b[0m\u001b[1;32m    793\u001b[0m \u001b[0;34m\u001b[0m\u001b[0m\n\u001b[1;32m    794\u001b[0m     \u001b[0;32mif\u001b[0m \u001b[0mensure_min_samples\u001b[0m \u001b[0;34m>\u001b[0m \u001b[0;36m0\u001b[0m\u001b[0;34m:\u001b[0m\u001b[0;34m\u001b[0m\u001b[0;34m\u001b[0m\u001b[0m\n",
      "\u001b[0;32m~/opt/miniconda3/envs/ML/lib/python3.9/site-packages/sklearn/utils/validation.py\u001b[0m in \u001b[0;36m_assert_all_finite\u001b[0;34m(X, allow_nan, msg_dtype)\u001b[0m\n\u001b[1;32m    101\u001b[0m     \u001b[0;31m# safely to reduce dtype induced overflows.\u001b[0m\u001b[0;34m\u001b[0m\u001b[0;34m\u001b[0m\u001b[0m\n\u001b[1;32m    102\u001b[0m     \u001b[0mis_float\u001b[0m \u001b[0;34m=\u001b[0m \u001b[0mX\u001b[0m\u001b[0;34m.\u001b[0m\u001b[0mdtype\u001b[0m\u001b[0;34m.\u001b[0m\u001b[0mkind\u001b[0m \u001b[0;32min\u001b[0m \u001b[0;34m\"fc\"\u001b[0m\u001b[0;34m\u001b[0m\u001b[0;34m\u001b[0m\u001b[0m\n\u001b[0;32m--> 103\u001b[0;31m     \u001b[0;32mif\u001b[0m \u001b[0mis_float\u001b[0m \u001b[0;32mand\u001b[0m \u001b[0;34m(\u001b[0m\u001b[0mnp\u001b[0m\u001b[0;34m.\u001b[0m\u001b[0misfinite\u001b[0m\u001b[0;34m(\u001b[0m\u001b[0m_safe_accumulator_op\u001b[0m\u001b[0;34m(\u001b[0m\u001b[0mnp\u001b[0m\u001b[0;34m.\u001b[0m\u001b[0msum\u001b[0m\u001b[0;34m,\u001b[0m \u001b[0mX\u001b[0m\u001b[0;34m)\u001b[0m\u001b[0;34m)\u001b[0m\u001b[0;34m)\u001b[0m\u001b[0;34m:\u001b[0m\u001b[0;34m\u001b[0m\u001b[0;34m\u001b[0m\u001b[0m\n\u001b[0m\u001b[1;32m    104\u001b[0m         \u001b[0;32mpass\u001b[0m\u001b[0;34m\u001b[0m\u001b[0;34m\u001b[0m\u001b[0m\n\u001b[1;32m    105\u001b[0m     \u001b[0;32melif\u001b[0m \u001b[0mis_float\u001b[0m\u001b[0;34m:\u001b[0m\u001b[0;34m\u001b[0m\u001b[0;34m\u001b[0m\u001b[0m\n",
      "\u001b[0;32m~/opt/miniconda3/envs/ML/lib/python3.9/site-packages/sklearn/utils/extmath.py\u001b[0m in \u001b[0;36m_safe_accumulator_op\u001b[0;34m(op, x, *args, **kwargs)\u001b[0m\n\u001b[1;32m    894\u001b[0m         \u001b[0mresult\u001b[0m \u001b[0;34m=\u001b[0m \u001b[0mop\u001b[0m\u001b[0;34m(\u001b[0m\u001b[0mx\u001b[0m\u001b[0;34m,\u001b[0m \u001b[0;34m*\u001b[0m\u001b[0margs\u001b[0m\u001b[0;34m,\u001b[0m \u001b[0;34m**\u001b[0m\u001b[0mkwargs\u001b[0m\u001b[0;34m,\u001b[0m \u001b[0mdtype\u001b[0m\u001b[0;34m=\u001b[0m\u001b[0mnp\u001b[0m\u001b[0;34m.\u001b[0m\u001b[0mfloat64\u001b[0m\u001b[0;34m)\u001b[0m\u001b[0;34m\u001b[0m\u001b[0;34m\u001b[0m\u001b[0m\n\u001b[1;32m    895\u001b[0m     \u001b[0;32melse\u001b[0m\u001b[0;34m:\u001b[0m\u001b[0;34m\u001b[0m\u001b[0;34m\u001b[0m\u001b[0m\n\u001b[0;32m--> 896\u001b[0;31m         \u001b[0mresult\u001b[0m \u001b[0;34m=\u001b[0m \u001b[0mop\u001b[0m\u001b[0;34m(\u001b[0m\u001b[0mx\u001b[0m\u001b[0;34m,\u001b[0m \u001b[0;34m*\u001b[0m\u001b[0margs\u001b[0m\u001b[0;34m,\u001b[0m \u001b[0;34m**\u001b[0m\u001b[0mkwargs\u001b[0m\u001b[0;34m)\u001b[0m\u001b[0;34m\u001b[0m\u001b[0;34m\u001b[0m\u001b[0m\n\u001b[0m\u001b[1;32m    897\u001b[0m     \u001b[0;32mreturn\u001b[0m \u001b[0mresult\u001b[0m\u001b[0;34m\u001b[0m\u001b[0;34m\u001b[0m\u001b[0m\n\u001b[1;32m    898\u001b[0m \u001b[0;34m\u001b[0m\u001b[0m\n",
      "\u001b[0;32m<__array_function__ internals>\u001b[0m in \u001b[0;36msum\u001b[0;34m(*args, **kwargs)\u001b[0m\n",
      "\u001b[0;32m~/opt/miniconda3/envs/ML/lib/python3.9/site-packages/numpy/core/fromnumeric.py\u001b[0m in \u001b[0;36msum\u001b[0;34m(a, axis, dtype, out, keepdims, initial, where)\u001b[0m\n\u001b[1;32m   2239\u001b[0m         \u001b[0;32mreturn\u001b[0m \u001b[0mres\u001b[0m\u001b[0;34m\u001b[0m\u001b[0;34m\u001b[0m\u001b[0m\n\u001b[1;32m   2240\u001b[0m \u001b[0;34m\u001b[0m\u001b[0m\n\u001b[0;32m-> 2241\u001b[0;31m     return _wrapreduction(a, np.add, 'sum', axis, dtype, out, keepdims=keepdims,\n\u001b[0m\u001b[1;32m   2242\u001b[0m                           initial=initial, where=where)\n\u001b[1;32m   2243\u001b[0m \u001b[0;34m\u001b[0m\u001b[0m\n",
      "\u001b[0;32m~/opt/miniconda3/envs/ML/lib/python3.9/site-packages/numpy/core/fromnumeric.py\u001b[0m in \u001b[0;36m_wrapreduction\u001b[0;34m(obj, ufunc, method, axis, dtype, out, **kwargs)\u001b[0m\n\u001b[1;32m     85\u001b[0m                 \u001b[0;32mreturn\u001b[0m \u001b[0mreduction\u001b[0m\u001b[0;34m(\u001b[0m\u001b[0maxis\u001b[0m\u001b[0;34m=\u001b[0m\u001b[0maxis\u001b[0m\u001b[0;34m,\u001b[0m \u001b[0mout\u001b[0m\u001b[0;34m=\u001b[0m\u001b[0mout\u001b[0m\u001b[0;34m,\u001b[0m \u001b[0;34m**\u001b[0m\u001b[0mpasskwargs\u001b[0m\u001b[0;34m)\u001b[0m\u001b[0;34m\u001b[0m\u001b[0;34m\u001b[0m\u001b[0m\n\u001b[1;32m     86\u001b[0m \u001b[0;34m\u001b[0m\u001b[0m\n\u001b[0;32m---> 87\u001b[0;31m     \u001b[0;32mreturn\u001b[0m \u001b[0mufunc\u001b[0m\u001b[0;34m.\u001b[0m\u001b[0mreduce\u001b[0m\u001b[0;34m(\u001b[0m\u001b[0mobj\u001b[0m\u001b[0;34m,\u001b[0m \u001b[0maxis\u001b[0m\u001b[0;34m,\u001b[0m \u001b[0mdtype\u001b[0m\u001b[0;34m,\u001b[0m \u001b[0mout\u001b[0m\u001b[0;34m,\u001b[0m \u001b[0;34m**\u001b[0m\u001b[0mpasskwargs\u001b[0m\u001b[0;34m)\u001b[0m\u001b[0;34m\u001b[0m\u001b[0;34m\u001b[0m\u001b[0m\n\u001b[0m\u001b[1;32m     88\u001b[0m \u001b[0;34m\u001b[0m\u001b[0m\n\u001b[1;32m     89\u001b[0m \u001b[0;34m\u001b[0m\u001b[0m\n",
      "\u001b[0;31mKeyboardInterrupt\u001b[0m: "
     ]
    }
   ],
   "source": [
    "#avg(2)\n",
    "all_time=[]\n",
    "for dataset_name in ['CIFAR_RGB']:#'GTSRB_RGB',\n",
    "    for model_name in ['RF','GB','pytorch']:\n",
    "        for shuffle in range(10):\n",
    "            polling = torch.nn.AvgPool2d(2)\n",
    "            model_info= load_model(dataset_name, model_name, shuffle)\n",
    "            data=model_info.data\n",
    "            pixels=int(sqrt(data.X_train.shape[1]/3))\n",
    "            train=model_info.data.X_train.reshape(len(data.X_train),32,32,3)\n",
    "            imgGray_train = color.rgb2gray(train)\n",
    "            pool_train=polling(torch.tensor(imgGray_train)).reshape(len(data.X_train),-1)\n",
    "            \n",
    "            test=model_info.data.X_test.reshape(len(data.X_test),32,32,3)\n",
    "            imgGray_test = color.rgb2gray(test)\n",
    "            pool_test=polling(torch.tensor(imgGray_test)).reshape(len(data.X_test),-1)\n",
    "                               \n",
    "            val=model_info.data.X_val.reshape(len(data.X_val),32,32,3)\n",
    "            imgGray_val = color.rgb2gray(val)\n",
    "            pool_val=polling(torch.tensor(imgGray_val)).reshape(len(data.X_val),-1)\n",
    "                               \n",
    "                               \n",
    "            num_label=model_info.data.num_labels\n",
    "            stability,time_all,ex_in_time=new_stability_calc(np.array(pool_train),np.array(pool_val),model_info.data.y_train,model_info.y_pred_val,num_label)\n",
    "            stability_test,_,_=new_stability_calc(np.array(pool_train),np.array(pool_test),model_info.data.y_train,model_info.y_pred_test,num_label)\n",
    "\n",
    "            all_time.append((model_name,time_all,ex_in_time))\n",
    "            np.save(f'./stab/{dataset_name}/gray_stab_2pool_{dataset_name}_{model_name}_{shuffle}.npy',stability)\n",
    "            np.save(f'./stab/{dataset_name}/gray_test_stab_2pool_{dataset_name}_{model_name}_{shuffle}.npy',stability_test)\n",
    "\n",
    "all_time"
   ]
  },
  {
   "cell_type": "code",
   "execution_count": null,
   "id": "a441c6ac-f3fa-46ab-a534-5a4777968a8d",
   "metadata": {},
   "outputs": [],
   "source": [
    "#avg(2)\n",
    "all_time=[]\n",
    "for dataset_name in ['CIFAR_RGB']:#'GTSRB_RGB',\n",
    "    for model_name in ['pytorch']:\n",
    "        for shuffle in range(10):\n",
    "            polling = torch.nn.AvgPool2d(2)\n",
    "            if model_name=='pytorch':\n",
    "                model_info=load_model_pytorch(dataset_name, model_name, shuffle)\n",
    "            else:\n",
    "                model_info= load_model(dataset_name, model_name, shuffle)\n",
    "            data=model_info.data\n",
    "            pixels=int(sqrt(data.X_train.shape[1]/3))\n",
    "            model_info.data.X_train=polling(torch.tensor(model_info.data.X_train.reshape((len(data.X_train),3,pixels,pixels)))).reshape(len(data.X_train),-1)\n",
    "            model_info.data.X_test=polling(torch.tensor(model_info.data.X_test.reshape((len(data.X_test),3,pixels,pixels)))).reshape(len(data.X_test),-1)\n",
    "            model_info.data.X_val=polling(torch.tensor(model_info.data.X_val.reshape((len(data.X_val),3,pixels,pixels)))).reshape(len(data.X_val),-1)\n",
    "            num_label=model_info.data.num_labels\n",
    "            stability,time_all,ex_in_time=new_stability_calc(np.array(model_info.data.X_train),np.array(model_info.data.X_val),model_info.data.y_train,model_info.y_pred_val,num_label)\n",
    "            stability_test,_,_=new_stability_calc(np.array(model_info.data.X_train),np.array(model_info.data.X_test),model_info.data.y_train,model_info.y_pred_test,num_label)\n",
    "\n",
    "            all_time.append((model_name,time_all,ex_in_time))\n",
    "            np.save(f'./stab/{dataset_name}/stab_2pool_{dataset_name}_{model_name}_{shuffle}.npy',stability)\n",
    "            np.save(f'./stab/{dataset_name}/test_stab_2pool_{dataset_name}_{model_name}_{shuffle}.npy',stability_test)\n",
    "\n",
    "all_time"
   ]
  },
  {
   "cell_type": "code",
   "execution_count": null,
   "id": "17685d88-d79d-42e5-ae01-879ab43b2d07",
   "metadata": {},
   "outputs": [],
   "source": [
    "#avg(3)\n",
    "all_time=[]\n",
    "for dataset_name in ['CIFAR_RGB','GTSRB_RGB']:\n",
    "    for model_name in ['RF','GB']:#,'pytorch']:\n",
    "        for shuffle in range(10):\n",
    "            polling = torch.nn.AvgPool2d(3)\n",
    "            if model_name=='pytorch':\n",
    "                model_info=load_model_pytorch(dataset_name, model_name, shuffle)\n",
    "            else:\n",
    "                model_info= load_model(dataset_name, model_name, shuffle)\n",
    "            data=model_info.data\n",
    "            pixels=int(sqrt(data.X_train.shape[1]/3))\n",
    "            model_info.data.X_train=polling(torch.tensor(model_info.data.X_train.reshape((len(data.X_train),3,pixels,pixels)))).reshape(len(data.X_train),-1)\n",
    "            model_info.data.X_test=polling(torch.tensor(model_info.data.X_test.reshape((len(data.X_test),3,pixels,pixels)))).reshape(len(data.X_test),-1)\n",
    "            model_info.data.X_val=polling(torch.tensor(model_info.data.X_val.reshape((len(data.X_val),3,pixels,pixels)))).reshape(len(data.X_val),-1)\n",
    "            num_label=model_info.data.num_labels\n",
    "            stability,time_all,ex_in_time=new_stability_calc(np.array(model_info.data.X_train),np.array(model_info.data.X_val),model_info.data.y_train,model_info.y_pred_val,num_label)\n",
    "            stability_test,_,_=new_stability_calc(np.array(model_info.data.X_train),np.array(model_info.data.X_test),model_info.data.y_train,model_info.y_pred_test,num_label)\n",
    "\n",
    "            all_time.append((model_name,time_all,ex_in_time))\n",
    "            np.save(f'./stab/{dataset_name}/stab_3pool_{dataset_name}_{model_name}_{shuffle}.npy',stability)\n",
    "            np.save(f'./stab/{dataset_name}/test_stab_3pool_{dataset_name}_{model_name}_{shuffle}.npy',stability_test)\n",
    "\n",
    "all_time"
   ]
  },
  {
   "cell_type": "code",
   "execution_count": null,
   "id": "6dc6298c-e370-4902-8649-d4301c3dba6f",
   "metadata": {},
   "outputs": [],
   "source": [
    "#max(2)\n",
    "all_time=[]\n",
    "for dataset_name in ['CIFAR_RGB','GTSRB_RGB']:\n",
    "    for model_name in ['RF','GB']:#,'pytorch']:\n",
    "        for shuffle in range(10):\n",
    "            polling = torch.nn.MaxPool2d(2)\n",
    "            if model_name=='pytorch':\n",
    "                model_info=load_model_pytorch(dataset_name, model_name, shuffle)\n",
    "            else:\n",
    "                model_info= load_model(dataset_name, model_name, shuffle)\n",
    "            data=model_info.data\n",
    "            pixels=int(sqrt(data.X_train.shape[1]/3))\n",
    "            model_info.data.X_train=polling(torch.tensor(model_info.data.X_train.reshape((len(data.X_train),3,pixels,pixels)))).reshape(len(data.X_train),-1)\n",
    "            model_info.data.X_test=polling(torch.tensor(model_info.data.X_test.reshape((len(data.X_test),3,pixels,pixels)))).reshape(len(data.X_test),-1)\n",
    "            model_info.data.X_val=polling(torch.tensor(model_info.data.X_val.reshape((len(data.X_val),3,pixels,pixels)))).reshape(len(data.X_val),-1)\n",
    "            num_label=model_info.data.num_labels\n",
    "            stability,time_all,ex_in_time=new_stability_calc(np.array(model_info.data.X_train),np.array(model_info.data.X_val),model_info.data.y_train,model_info.y_pred_val,num_label)\n",
    "            stability_test,_,_=new_stability_calc(np.array(model_info.data.X_train),np.array(model_info.data.X_test),model_info.data.y_train,model_info.y_pred_test,num_label)\n",
    "\n",
    "            all_time.append((model_name,time_all,ex_in_time))\n",
    "            np.save(f'./stab/{dataset_name}/stab_2maxpool_{dataset_name}_{model_name}_{shuffle}.npy',stability)\n",
    "            np.save(f'./stab/{dataset_name}/test_stab_2maxpool_{dataset_name}_{model_name}_{shuffle}.npy',stability_test)\n",
    "\n",
    "all_time"
   ]
  },
  {
   "cell_type": "markdown",
   "id": "be1d2471-7e95-48ae-bba8-c345f034efb2",
   "metadata": {},
   "source": [
    "# convert RGB to grayscale"
   ]
  },
  {
   "cell_type": "code",
   "execution_count": null,
   "id": "46b771f4-a757-42e2-ab13-456ec71791cd",
   "metadata": {},
   "outputs": [],
   "source": [
    "#avg(2)\n",
    "all_time=[]\n",
    "for dataset_name in ['CIFAR_RGB','GTSRB_RGB']:\n",
    "    for model_name in ['RF','GB']:#,'pytorch']:\n",
    "        for shuffle in range(10):\n",
    "            polling = torch.nn.AvgPool2d(2)\n",
    "            if model_name=='pytorch':\n",
    "                model_info=load_model_pytorch(dataset_name, model_name, shuffle)\n",
    "            else:\n",
    "                model_info= load_model(dataset_name, model_name, shuffle)\n",
    "            data=model_info.data\n",
    "\n",
    "            model_info.data.X_train=tf.image.rgb_to_grayscale(torch.tensor(model_info.data.X_train))\n",
    "            model_info.data.X_test=tf.image.rgb_to_grayscale(torch.tensor(model_info.data.X_test))\n",
    "            model_info.data.X_val=tf.image.rgb_to_grayscale(torch.tensor(model_info))\n",
    "            \n",
    "            pixels=int(sqrt(data.X_train.shape[1]))\n",
    "            model_info.data.X_train=polling(model_info.data.X_train.reshape((len(data.X_train),pixels,pixels))).reshape(len(data.X_train),-1)\n",
    "            model_info.data.X_test=polling(model_info.data.X_test.reshape((len(data.X_test),pixels,pixels))).reshape(len(data.X_test),-1)\n",
    "            model_info.data.X_val=polling(model_info.data.X_val.reshape((len(data.X_val),pixels,pixels))).reshape(len(data.X_val),-1)\n",
    "            num_label=model_info.data.num_labels\n",
    "            stability,time_all,ex_in_time=new_stability_calc(np.array(model_info.data.X_train),np.array(model_info.data.X_val),model_info.data.y_train,model_info.y_pred_val,num_label)\n",
    "            stability_test,_,_=new_stability_calc(np.array(model_info.data.X_train),np.array(model_info.data.X_test),model_info.data.y_train,model_info.y_pred_test,num_label)\n",
    "\n",
    "            all_time.append((model_name,time_all,ex_in_time))\n",
    "           \n",
    "            np.save(f'./stab/{dataset_name}/stab_2pool_{dataset_name}_gray_{model_name}_{shuffle}.npy',stability)\n",
    "            np.save(f'./stab/{dataset_name}/test_stab_2pool_{dataset_name}_gray_{model_name}_{shuffle}.npy',stability_test)\n",
    "\n",
    "all_time\n",
    "\n"
   ]
  },
  {
   "cell_type": "code",
   "execution_count": null,
   "id": "966263db-5239-4a73-a07c-4de3d1ff9691",
   "metadata": {},
   "outputs": [],
   "source": []
  },
  {
   "cell_type": "code",
   "execution_count": null,
   "id": "2887f7b2-2761-48e4-be98-b3ae6429a210",
   "metadata": {},
   "outputs": [],
   "source": []
  },
  {
   "cell_type": "code",
   "execution_count": null,
   "id": "6767f467-5b00-4669-9698-cae9bcea02a5",
   "metadata": {},
   "outputs": [],
   "source": []
  },
  {
   "cell_type": "code",
   "execution_count": null,
   "id": "ff783704-1a80-4cd5-a899-ef26d0711cfd",
   "metadata": {},
   "outputs": [],
   "source": []
  },
  {
   "cell_type": "code",
   "execution_count": 3,
   "id": "16ce8f25-a6b2-4e54-8d99-ecc998ded0d6",
   "metadata": {},
   "outputs": [],
   "source": [
    "def new_stability_calc(trainX,testX,train_y,test_y_pred,num_labels):\n",
    "    '''\n",
    "    Calculates the stability of the test set.\n",
    "            Parameters:\n",
    "                    trainX (List)\n",
    "                    testX (List) \n",
    "                    train_y (List)\n",
    "                    test_y_pred (list)\n",
    "                    num_labels (Int)\n",
    "            Returns:\n",
    "                    stability(List)\n",
    "    '''    \n",
    "    time_lst = []\n",
    "    same_nbrs=[]\n",
    "    other_nbrs=[]\n",
    "    for i in range(num_labels):\n",
    "        idx_other=np.where(train_y!=i)\n",
    "        other_nbrs.append(NearestNeighbors(n_neighbors=1).fit(trainX[idx_other]))\n",
    "        idx_same=np.where(train_y==i)\n",
    "        same_nbrs.append(NearestNeighbors(n_neighbors=1).fit(trainX[idx_same]))\n",
    "    \n",
    "    \n",
    "    stability=np.array([-1.]*testX.shape[0])\n",
    "    start = time.time()\n",
    "    for i in range(testX.shape[0]):\n",
    "        x=testX[i]\n",
    "        pred_label=test_y_pred[i]\n",
    "        dist1,idx1= same_nbrs[pred_label].kneighbors([x])\n",
    "        dist2,idx2= other_nbrs[pred_label].kneighbors([x])\n",
    "\n",
    "        stability[i]=(dist2-dist1)/2\n",
    "    end = time.time()\n",
    "    time_all=end-start\n",
    "    ex_in_time=testX.shape[0]/time_all\n",
    "    return stability,time_all,ex_in_time"
   ]
  },
  {
   "cell_type": "code",
   "execution_count": null,
   "id": "b714d832-a5e3-45d4-86d6-e62caaee8f33",
   "metadata": {},
   "outputs": [],
   "source": [
    "#max(2)\n",
    "all_time=[]\n",
    "for dataset_name in ['GTSRB_RGB']:#,'GTSRB_RGB']:\n",
    "    for model_name in ['GB','RF','pytorch']:\n",
    "        for shuffle in range(10):\n",
    "            polling = torch.nn.MaxPool2d(2)\n",
    "            if model_name=='pytorch':\n",
    "                model_info=load_model_pytorch(dataset_name, model_name, shuffle)\n",
    "            else:\n",
    "                model_info= load_model(dataset_name, model_name, shuffle)\n",
    "            data=model_info.data\n",
    "            pixels=int(sqrt(data.X_train.shape[1]/3))\n",
    "            model_info.data.X_train=polling(torch.tensor(model_info.data.X_train.reshape((len(data.X_train),3,pixels,pixels)))).reshape(len(data.X_train),-1)\n",
    "            model_info.data.X_test=polling(torch.tensor(model_info.data.X_test.reshape((len(data.X_test),3,pixels,pixels)))).reshape(len(data.X_test),-1)\n",
    "            model_info.data.X_val=polling(torch.tensor(model_info.data.X_val.reshape((len(data.X_val),3,pixels,pixels)))).reshape(len(data.X_val),-1)\n",
    "            num_label=model_info.data.num_labels\n",
    "            stability,time_all,ex_in_time=new_stability_calc(np.array(model_info.data.X_train),np.array(model_info.data.X_val),model_info.data.y_train,model_info.y_pred_val,num_label)\n",
    "            stability_test,_,_=new_stability_calc(np.array(model_info.data.X_train),np.array(model_info.data.X_test),model_info.data.y_train,model_info.y_pred_test,num_label)\n",
    "\n",
    "            all_time.append((model_name,time_all,ex_in_time))\n",
    "            np.save(f'./stab/{dataset_name}/stab_2maxpool_{dataset_name}_{model_name}_{shuffle}.npy',stability)\n",
    "            np.save(f'./stab/{dataset_name}/test_stab_2maxpool_{dataset_name}_{model_name}_{shuffle}.npy',stability_test)\n",
    "\n",
    "all_time"
   ]
  },
  {
   "cell_type": "code",
   "execution_count": 5,
   "id": "028fcd8e-fc1e-4bdd-bab9-2656a1daf776",
   "metadata": {},
   "outputs": [
    {
     "ename": "ValueError",
     "evalue": "only one element tensors can be converted to Python scalars",
     "output_type": "error",
     "traceback": [
      "\u001b[0;31m---------------------------------------------------------------------------\u001b[0m",
      "\u001b[0;31mValueError\u001b[0m                                Traceback (most recent call last)",
      "\u001b[0;32m/var/folders/bq/yr2g0hqx0vqcpvr3lgf609sh0000gn/T/ipykernel_18683/1346472846.py\u001b[0m in \u001b[0;36m<module>\u001b[0;34m\u001b[0m\n\u001b[1;32m      7\u001b[0m         \u001b[0mdata\u001b[0m\u001b[0;34m=\u001b[0m\u001b[0mmodel_info\u001b[0m\u001b[0;34m.\u001b[0m\u001b[0mdata\u001b[0m\u001b[0;34m\u001b[0m\u001b[0;34m\u001b[0m\u001b[0m\n\u001b[1;32m      8\u001b[0m         \u001b[0mnum_label\u001b[0m\u001b[0;34m=\u001b[0m\u001b[0mmodel_info\u001b[0m\u001b[0;34m.\u001b[0m\u001b[0mdata\u001b[0m\u001b[0;34m.\u001b[0m\u001b[0mnum_labels\u001b[0m\u001b[0;34m\u001b[0m\u001b[0;34m\u001b[0m\u001b[0m\n\u001b[0;32m----> 9\u001b[0;31m         \u001b[0mstability\u001b[0m\u001b[0;34m,\u001b[0m\u001b[0mtime_all\u001b[0m\u001b[0;34m,\u001b[0m\u001b[0mex_in_time\u001b[0m\u001b[0;34m=\u001b[0m\u001b[0mstability_calc_pool\u001b[0m\u001b[0;34m(\u001b[0m\u001b[0mnp\u001b[0m\u001b[0;34m.\u001b[0m\u001b[0marray\u001b[0m\u001b[0;34m(\u001b[0m\u001b[0mmodel_info\u001b[0m\u001b[0;34m.\u001b[0m\u001b[0mdata\u001b[0m\u001b[0;34m.\u001b[0m\u001b[0mX_train\u001b[0m\u001b[0;34m)\u001b[0m\u001b[0;34m,\u001b[0m\u001b[0mnp\u001b[0m\u001b[0;34m.\u001b[0m\u001b[0marray\u001b[0m\u001b[0;34m(\u001b[0m\u001b[0mmodel_info\u001b[0m\u001b[0;34m.\u001b[0m\u001b[0mdata\u001b[0m\u001b[0;34m.\u001b[0m\u001b[0mX_val\u001b[0m\u001b[0;34m)\u001b[0m\u001b[0;34m,\u001b[0m\u001b[0mmodel_info\u001b[0m\u001b[0;34m.\u001b[0m\u001b[0mdata\u001b[0m\u001b[0;34m.\u001b[0m\u001b[0my_train\u001b[0m\u001b[0;34m,\u001b[0m\u001b[0mmodel_info\u001b[0m\u001b[0;34m.\u001b[0m\u001b[0my_pred_val\u001b[0m\u001b[0;34m,\u001b[0m\u001b[0mnum_label\u001b[0m\u001b[0;34m,\u001b[0m\u001b[0mpool_type\u001b[0m\u001b[0;34m=\u001b[0m\u001b[0;34m'Avg'\u001b[0m\u001b[0;34m,\u001b[0m\u001b[0mpool_size\u001b[0m\u001b[0;34m=\u001b[0m\u001b[0;36m4\u001b[0m\u001b[0;34m)\u001b[0m\u001b[0;34m\u001b[0m\u001b[0;34m\u001b[0m\u001b[0m\n\u001b[0m\u001b[1;32m     10\u001b[0m         \u001b[0mstability_test\u001b[0m\u001b[0;34m,\u001b[0m\u001b[0m_\u001b[0m\u001b[0;34m,\u001b[0m\u001b[0m_\u001b[0m\u001b[0;34m=\u001b[0m\u001b[0mstability_calc_pool\u001b[0m\u001b[0;34m(\u001b[0m\u001b[0mnp\u001b[0m\u001b[0;34m.\u001b[0m\u001b[0marray\u001b[0m\u001b[0;34m(\u001b[0m\u001b[0mmodel_info\u001b[0m\u001b[0;34m.\u001b[0m\u001b[0mdata\u001b[0m\u001b[0;34m.\u001b[0m\u001b[0mX_train\u001b[0m\u001b[0;34m)\u001b[0m\u001b[0;34m,\u001b[0m\u001b[0mnp\u001b[0m\u001b[0;34m.\u001b[0m\u001b[0marray\u001b[0m\u001b[0;34m(\u001b[0m\u001b[0mmodel_info\u001b[0m\u001b[0;34m.\u001b[0m\u001b[0mdata\u001b[0m\u001b[0;34m.\u001b[0m\u001b[0mX_test\u001b[0m\u001b[0;34m)\u001b[0m\u001b[0;34m,\u001b[0m\u001b[0mmodel_info\u001b[0m\u001b[0;34m.\u001b[0m\u001b[0mdata\u001b[0m\u001b[0;34m.\u001b[0m\u001b[0my_train\u001b[0m\u001b[0;34m,\u001b[0m\u001b[0mmodel_info\u001b[0m\u001b[0;34m.\u001b[0m\u001b[0my_pred_test\u001b[0m\u001b[0;34m,\u001b[0m\u001b[0mnum_label\u001b[0m\u001b[0;34m,\u001b[0m\u001b[0mpool_type\u001b[0m\u001b[0;34m=\u001b[0m\u001b[0;34m'Avg'\u001b[0m\u001b[0;34m,\u001b[0m\u001b[0mpool_size\u001b[0m\u001b[0;34m=\u001b[0m\u001b[0;36m4\u001b[0m\u001b[0;34m)\u001b[0m\u001b[0;34m\u001b[0m\u001b[0;34m\u001b[0m\u001b[0m\n\u001b[1;32m     11\u001b[0m \u001b[0;34m\u001b[0m\u001b[0m\n",
      "\u001b[0;32m/var/folders/bq/yr2g0hqx0vqcpvr3lgf609sh0000gn/T/ipykernel_18683/2523483484.py\u001b[0m in \u001b[0;36mstability_calc_pool\u001b[0;34m(trainX, testX, train_y, test_y_pred, num_labels, pool_type, pool_size)\u001b[0m\n\u001b[1;32m     31\u001b[0m         \u001b[0mpred_label\u001b[0m\u001b[0;34m=\u001b[0m\u001b[0mtest_y_pred\u001b[0m\u001b[0;34m[\u001b[0m\u001b[0mi\u001b[0m\u001b[0;34m]\u001b[0m\u001b[0;34m\u001b[0m\u001b[0;34m\u001b[0m\u001b[0m\n\u001b[1;32m     32\u001b[0m \u001b[0;34m\u001b[0m\u001b[0m\n\u001b[0;32m---> 33\u001b[0;31m         \u001b[0mdist1\u001b[0m\u001b[0;34m,\u001b[0m\u001b[0midx1\u001b[0m\u001b[0;34m=\u001b[0m \u001b[0msame_nbrs\u001b[0m\u001b[0;34m[\u001b[0m\u001b[0mpred_label\u001b[0m\u001b[0;34m]\u001b[0m\u001b[0;34m.\u001b[0m\u001b[0mkneighbors\u001b[0m\u001b[0;34m(\u001b[0m\u001b[0;34m[\u001b[0m\u001b[0mx\u001b[0m\u001b[0;34m]\u001b[0m\u001b[0;34m)\u001b[0m\u001b[0;34m\u001b[0m\u001b[0;34m\u001b[0m\u001b[0m\n\u001b[0m\u001b[1;32m     34\u001b[0m         \u001b[0mdist2\u001b[0m\u001b[0;34m,\u001b[0m\u001b[0midx2\u001b[0m\u001b[0;34m=\u001b[0m \u001b[0mother_nbrs\u001b[0m\u001b[0;34m[\u001b[0m\u001b[0mpred_label\u001b[0m\u001b[0;34m]\u001b[0m\u001b[0;34m.\u001b[0m\u001b[0mkneighbors\u001b[0m\u001b[0;34m(\u001b[0m\u001b[0;34m[\u001b[0m\u001b[0mx\u001b[0m\u001b[0;34m]\u001b[0m\u001b[0;34m)\u001b[0m\u001b[0;34m\u001b[0m\u001b[0;34m\u001b[0m\u001b[0m\n\u001b[1;32m     35\u001b[0m \u001b[0;34m\u001b[0m\u001b[0m\n",
      "\u001b[0;32m~/opt/miniconda3/envs/ML/lib/python3.9/site-packages/sklearn/neighbors/_base.py\u001b[0m in \u001b[0;36mkneighbors\u001b[0;34m(self, X, n_neighbors, return_distance)\u001b[0m\n\u001b[1;32m    712\u001b[0m                 \u001b[0mX\u001b[0m \u001b[0;34m=\u001b[0m \u001b[0m_check_precomputed\u001b[0m\u001b[0;34m(\u001b[0m\u001b[0mX\u001b[0m\u001b[0;34m)\u001b[0m\u001b[0;34m\u001b[0m\u001b[0;34m\u001b[0m\u001b[0m\n\u001b[1;32m    713\u001b[0m             \u001b[0;32melse\u001b[0m\u001b[0;34m:\u001b[0m\u001b[0;34m\u001b[0m\u001b[0;34m\u001b[0m\u001b[0m\n\u001b[0;32m--> 714\u001b[0;31m                 \u001b[0mX\u001b[0m \u001b[0;34m=\u001b[0m \u001b[0mself\u001b[0m\u001b[0;34m.\u001b[0m\u001b[0m_validate_data\u001b[0m\u001b[0;34m(\u001b[0m\u001b[0mX\u001b[0m\u001b[0;34m,\u001b[0m \u001b[0maccept_sparse\u001b[0m\u001b[0;34m=\u001b[0m\u001b[0;34m\"csr\"\u001b[0m\u001b[0;34m,\u001b[0m \u001b[0mreset\u001b[0m\u001b[0;34m=\u001b[0m\u001b[0;32mFalse\u001b[0m\u001b[0;34m)\u001b[0m\u001b[0;34m\u001b[0m\u001b[0;34m\u001b[0m\u001b[0m\n\u001b[0m\u001b[1;32m    715\u001b[0m         \u001b[0;32melse\u001b[0m\u001b[0;34m:\u001b[0m\u001b[0;34m\u001b[0m\u001b[0;34m\u001b[0m\u001b[0m\n\u001b[1;32m    716\u001b[0m             \u001b[0mquery_is_train\u001b[0m \u001b[0;34m=\u001b[0m \u001b[0;32mTrue\u001b[0m\u001b[0;34m\u001b[0m\u001b[0;34m\u001b[0m\u001b[0m\n",
      "\u001b[0;32m~/opt/miniconda3/envs/ML/lib/python3.9/site-packages/sklearn/base.py\u001b[0m in \u001b[0;36m_validate_data\u001b[0;34m(self, X, y, reset, validate_separately, **check_params)\u001b[0m\n\u001b[1;32m    559\u001b[0m             \u001b[0;32mraise\u001b[0m \u001b[0mValueError\u001b[0m\u001b[0;34m(\u001b[0m\u001b[0;34m\"Validation should be done on X, y or both.\"\u001b[0m\u001b[0;34m)\u001b[0m\u001b[0;34m\u001b[0m\u001b[0;34m\u001b[0m\u001b[0m\n\u001b[1;32m    560\u001b[0m         \u001b[0;32melif\u001b[0m \u001b[0;32mnot\u001b[0m \u001b[0mno_val_X\u001b[0m \u001b[0;32mand\u001b[0m \u001b[0mno_val_y\u001b[0m\u001b[0;34m:\u001b[0m\u001b[0;34m\u001b[0m\u001b[0;34m\u001b[0m\u001b[0m\n\u001b[0;32m--> 561\u001b[0;31m             \u001b[0mX\u001b[0m \u001b[0;34m=\u001b[0m \u001b[0mcheck_array\u001b[0m\u001b[0;34m(\u001b[0m\u001b[0mX\u001b[0m\u001b[0;34m,\u001b[0m \u001b[0;34m**\u001b[0m\u001b[0mcheck_params\u001b[0m\u001b[0;34m)\u001b[0m\u001b[0;34m\u001b[0m\u001b[0;34m\u001b[0m\u001b[0m\n\u001b[0m\u001b[1;32m    562\u001b[0m             \u001b[0mout\u001b[0m \u001b[0;34m=\u001b[0m \u001b[0mX\u001b[0m\u001b[0;34m\u001b[0m\u001b[0;34m\u001b[0m\u001b[0m\n\u001b[1;32m    563\u001b[0m         \u001b[0;32melif\u001b[0m \u001b[0mno_val_X\u001b[0m \u001b[0;32mand\u001b[0m \u001b[0;32mnot\u001b[0m \u001b[0mno_val_y\u001b[0m\u001b[0;34m:\u001b[0m\u001b[0;34m\u001b[0m\u001b[0;34m\u001b[0m\u001b[0m\n",
      "\u001b[0;32m~/opt/miniconda3/envs/ML/lib/python3.9/site-packages/sklearn/utils/validation.py\u001b[0m in \u001b[0;36mcheck_array\u001b[0;34m(array, accept_sparse, accept_large_sparse, dtype, order, copy, force_all_finite, ensure_2d, allow_nd, ensure_min_samples, ensure_min_features, estimator)\u001b[0m\n\u001b[1;32m    736\u001b[0m                     \u001b[0marray\u001b[0m \u001b[0;34m=\u001b[0m \u001b[0marray\u001b[0m\u001b[0;34m.\u001b[0m\u001b[0mastype\u001b[0m\u001b[0;34m(\u001b[0m\u001b[0mdtype\u001b[0m\u001b[0;34m,\u001b[0m \u001b[0mcasting\u001b[0m\u001b[0;34m=\u001b[0m\u001b[0;34m\"unsafe\"\u001b[0m\u001b[0;34m,\u001b[0m \u001b[0mcopy\u001b[0m\u001b[0;34m=\u001b[0m\u001b[0;32mFalse\u001b[0m\u001b[0;34m)\u001b[0m\u001b[0;34m\u001b[0m\u001b[0;34m\u001b[0m\u001b[0m\n\u001b[1;32m    737\u001b[0m                 \u001b[0;32melse\u001b[0m\u001b[0;34m:\u001b[0m\u001b[0;34m\u001b[0m\u001b[0;34m\u001b[0m\u001b[0m\n\u001b[0;32m--> 738\u001b[0;31m                     \u001b[0marray\u001b[0m \u001b[0;34m=\u001b[0m \u001b[0mnp\u001b[0m\u001b[0;34m.\u001b[0m\u001b[0masarray\u001b[0m\u001b[0;34m(\u001b[0m\u001b[0marray\u001b[0m\u001b[0;34m,\u001b[0m \u001b[0morder\u001b[0m\u001b[0;34m=\u001b[0m\u001b[0morder\u001b[0m\u001b[0;34m,\u001b[0m \u001b[0mdtype\u001b[0m\u001b[0;34m=\u001b[0m\u001b[0mdtype\u001b[0m\u001b[0;34m)\u001b[0m\u001b[0;34m\u001b[0m\u001b[0;34m\u001b[0m\u001b[0m\n\u001b[0m\u001b[1;32m    739\u001b[0m             \u001b[0;32mexcept\u001b[0m \u001b[0mComplexWarning\u001b[0m \u001b[0;32mas\u001b[0m \u001b[0mcomplex_warning\u001b[0m\u001b[0;34m:\u001b[0m\u001b[0;34m\u001b[0m\u001b[0;34m\u001b[0m\u001b[0m\n\u001b[1;32m    740\u001b[0m                 raise ValueError(\n",
      "\u001b[0;32m~/opt/miniconda3/envs/ML/lib/python3.9/site-packages/numpy/core/_asarray.py\u001b[0m in \u001b[0;36masarray\u001b[0;34m(a, dtype, order)\u001b[0m\n\u001b[1;32m     81\u001b[0m \u001b[0;34m\u001b[0m\u001b[0m\n\u001b[1;32m     82\u001b[0m     \"\"\"\n\u001b[0;32m---> 83\u001b[0;31m     \u001b[0;32mreturn\u001b[0m \u001b[0marray\u001b[0m\u001b[0;34m(\u001b[0m\u001b[0ma\u001b[0m\u001b[0;34m,\u001b[0m \u001b[0mdtype\u001b[0m\u001b[0;34m,\u001b[0m \u001b[0mcopy\u001b[0m\u001b[0;34m=\u001b[0m\u001b[0;32mFalse\u001b[0m\u001b[0;34m,\u001b[0m \u001b[0morder\u001b[0m\u001b[0;34m=\u001b[0m\u001b[0morder\u001b[0m\u001b[0;34m)\u001b[0m\u001b[0;34m\u001b[0m\u001b[0;34m\u001b[0m\u001b[0m\n\u001b[0m\u001b[1;32m     84\u001b[0m \u001b[0;34m\u001b[0m\u001b[0m\n\u001b[1;32m     85\u001b[0m \u001b[0;34m\u001b[0m\u001b[0m\n",
      "\u001b[0;31mValueError\u001b[0m: only one element tensors can be converted to Python scalars"
     ]
    }
   ],
   "source": [
    "#avg(4)\n",
    "all_time=[]\n",
    "for dataset_name in ['SignLanguage']:\n",
    "    for model_name in ['RF']:\n",
    "        shuffle=0\n",
    "        model_info= load_model(dataset_name, model_name, shuffle)\n",
    "        data=model_info.data\n",
    "        num_label=model_info.data.num_labels\n",
    "        stability,time_all,ex_in_time=stability_calc_pool(np.array(model_info.data.X_train),np.array(model_info.data.X_val),model_info.data.y_train,model_info.y_pred_val,num_label,pool_type='Avg',pool_size=4)\n",
    "        stability_test,_,_=stability_calc_pool(np.array(model_info.data.X_train),np.array(model_info.data.X_test),model_info.data.y_train,model_info.y_pred_test,num_label,pool_type='Avg',pool_size=4)\n",
    "\n",
    "        all_time.append((model_name,time_all,ex_in_time))\n",
    "print(\"avg4\",all_time)\n"
   ]
  },
  {
   "cell_type": "code",
   "execution_count": null,
   "id": "d60d40f5-76f9-488b-a243-7d6ed6bd84b7",
   "metadata": {},
   "outputs": [],
   "source": [
    "\n",
    "def stability_calc_pool(trainX,testX,train_y,test_y_pred,num_labels,pool_type='Avg',pool_size=1):\n",
    "    '''\n",
    "    Calculates the stability of the test set.\n",
    "            Parameters:\n",
    "                    trainX (List)\n",
    "                    testX (List) \n",
    "                    train_y (List)\n",
    "                    test_y_pred (list)\n",
    "                    num_labels (Int)\n",
    "            Returns:\n",
    "                    stability(List)\n",
    "    '''    \n",
    "    time_lst = []\n",
    "    same_nbrs=[]\n",
    "    other_nbrs=[]\n",
    "    for i in range(num_labels):\n",
    "        idx_other=np.where(train_y!=i)\n",
    "        other_nbrs.append(NearestNeighbors(n_neighbors=1).fit(trainX[idx_other]))\n",
    "        idx_same=np.where(train_y==i)\n",
    "        same_nbrs.append(NearestNeighbors(n_neighbors=1).fit(trainX[idx_same]))\n",
    "    \n",
    "    if pool_type=='Avg':\n",
    "        polling = torch.nn.AvgPool2d(pool_size)\n",
    "    elif pool_type=='Max':\n",
    "        polling = torch.nn.MaxPool2d(pool_size)\n",
    "    pixels=int(sqrt(trainX.shape[1]))\n",
    "    stability=np.array([-1.]*testX.shape[0])\n",
    "    start = time.time()\n",
    "    for i in range(testX.shape[0]):\n",
    "        x=polling(torch.tensor(testX[i].reshape((1,pixels,pixels))))\n",
    "        pred_label=test_y_pred[i]\n",
    "        \n",
    "        dist1,idx1= same_nbrs[pred_label].kneighbors([x])\n",
    "        dist2,idx2= other_nbrs[pred_label].kneighbors([x])\n",
    "\n",
    "        stability[i]=(dist2-dist1)/2\n",
    "    end = time.time()\n",
    "    time_all=end-start\n",
    "    ex_in_time=testX.shape[0]/time_all\n",
    "    return stability,time_all,ex_in_time"
   ]
  },
  {
   "cell_type": "code",
   "execution_count": null,
   "id": "b6d53daf-ebe0-4731-9dad-52b266d3e735",
   "metadata": {},
   "outputs": [],
   "source": []
  }
 ],
 "metadata": {
  "kernelspec": {
   "display_name": "Python 3 (ipykernel)",
   "language": "python",
   "name": "python3"
  },
  "language_info": {
   "codemirror_mode": {
    "name": "ipython",
    "version": 3
   },
   "file_extension": ".py",
   "mimetype": "text/x-python",
   "name": "python",
   "nbconvert_exporter": "python",
   "pygments_lexer": "ipython3",
   "version": "3.9.9"
  }
 },
 "nbformat": 4,
 "nbformat_minor": 5
}
