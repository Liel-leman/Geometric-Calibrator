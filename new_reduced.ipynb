{
 "cells": [
  {
   "cell_type": "code",
   "execution_count": 1,
   "id": "38de8bbf-bd4b-48f3-a4ca-2eb85f1e11ff",
   "metadata": {},
   "outputs": [],
   "source": [
    "import numpy as np\n",
    "import warnings\n",
    "from utils import *\n",
    "from calibrators import * \n",
    "import pickle\n",
    "warnings.filterwarnings(\"ignore\")\n",
    "import torch\n",
    "import sys\n",
    "sys.path.append('../')\n",
    "import time\n",
    "import copy\n",
    "from SLURM.sklearn_config import *\n",
    "from ModelInfo import *\n",
    "import tensorflow as tf"
   ]
  },
  {
   "cell_type": "markdown",
   "id": "b4ca7dcd-b062-4bc1-9d45-7bb3f3ae0e16",
   "metadata": {},
   "source": [
    "- PCA V\n",
    "- Random choice of pixels\n",
    "- random choice of images \n",
    "- K-means on images (according to classes?) V\n",
    "- resizing layers V\n"
   ]
  },
  {
   "cell_type": "markdown",
   "id": "9d4acab0-3d37-4d69-ad72-e7354d964e23",
   "metadata": {},
   "source": [
    "# Resize"
   ]
  },
  {
   "cell_type": "code",
   "execution_count": 4,
   "id": "ab927c9d-c73c-4d8a-b64b-acbb9db4e480",
   "metadata": {},
   "outputs": [],
   "source": [
    "resized = keras.layers.Resizing(10,10, interpolation=\"bilinear\")\n",
    "#String, the interpolation method. Defaults to \"bilinear\".\n",
    "#Supports \"bilinear\", \"nearest\", \"bicubic\", \"area\", \"lanczos3\", \"lanczos5\", \"gaussian\", \"mitchellcubic\"."
   ]
  },
  {
   "cell_type": "code",
   "execution_count": 41,
   "id": "cc745b27-0776-4d32-939e-c142b8f44613",
   "metadata": {},
   "outputs": [
    {
     "data": {
      "text/plain": [
       "(20775, 784)"
      ]
     },
     "execution_count": 41,
     "metadata": {},
     "output_type": "execute_result"
    }
   ],
   "source": [
    "model_info= load_model('SignLanguage', 'RF', 0)\n",
    "model_info.data.X_train.shape"
   ]
  },
  {
   "cell_type": "code",
   "execution_count": 21,
   "id": "4a89f3c4-2033-4e80-960a-4372583cc737",
   "metadata": {},
   "outputs": [],
   "source": [
    "pixels=int(sqrt(model_info.data.X_train.shape[1]))\n",
    "X_train=torch.tensor(model_info.data.X_train.reshape((pixels,pixels,len(model_info.data.X_train))))\n",
    "model_info.data.X_train = tf.image.resize(X_train, [size,size]).numpy().reshape(len(model_info.data.X_train),-1)\n",
    "X_test=torch.tensor(model_info.data.X_test.reshape((pixels,pixels,len(model_info.data.X_test))))\n",
    "model_info.data.X_test = tf.image.resize(X_test, [size,size]).numpy().reshape(len(model_info.data.X_test),-1)\n",
    "X_val=torch.tensor(model_info.data.X_val.reshape((pixels,pixels,len(model_info.data.X_val))))\n",
    "model_info.data.X_val = tf.image.resize(X_val, [size,size]).numpy().reshape(len(model_info.data.X_val),-1)"
   ]
  },
  {
   "cell_type": "code",
   "execution_count": 44,
   "id": "8fbc9c72-af44-4465-9fa7-9220342a695a",
   "metadata": {},
   "outputs": [
    {
     "name": "stdout",
     "output_type": "stream",
     "text": [
      "torch.Size([20775, 28, 28, 1])\n"
     ]
    },
    {
     "data": {
      "text/plain": [
       "(196,)"
      ]
     },
     "execution_count": 44,
     "metadata": {},
     "output_type": "execute_result"
    }
   ],
   "source": [
    "length= len(model_info.data.X_train)\n",
    "X_train=torch.tensor(model_info.data.X_train.reshape(length,pixels,pixels))\n",
    "X_train = X_train[ ..., tf.newaxis]\n",
    "model_info.data.X_train=tf.image.resize(X_train, [size,size]).numpy().reshape(length,-1)"
   ]
  },
  {
   "cell_type": "code",
   "execution_count": 46,
   "id": "eeae7420-b233-4b99-bec5-f358a8168f9e",
   "metadata": {},
   "outputs": [
    {
     "name": "stdout",
     "output_type": "stream",
     "text": [
      "done\n",
      "(42000, 196) (14000, 196) (14000, 196)\n",
      "train\n",
      "done\n",
      "(42000, 196) (14000, 196) (14000, 196)\n"
     ]
    },
    {
     "ename": "KeyboardInterrupt",
     "evalue": "",
     "output_type": "error",
     "traceback": [
      "\u001b[0;31m---------------------------------------------------------------------------\u001b[0m",
      "\u001b[0;31mKeyboardInterrupt\u001b[0m                         Traceback (most recent call last)",
      "\u001b[0;32m/var/folders/bq/yr2g0hqx0vqcpvr3lgf609sh0000gn/T/ipykernel_92530/661755966.py\u001b[0m in \u001b[0;36m<module>\u001b[0;34m\u001b[0m\n\u001b[1;32m     32\u001b[0m             \u001b[0mprint\u001b[0m\u001b[0;34m(\u001b[0m\u001b[0mmodel_info\u001b[0m\u001b[0;34m.\u001b[0m\u001b[0mdata\u001b[0m\u001b[0;34m.\u001b[0m\u001b[0mX_train\u001b[0m\u001b[0;34m.\u001b[0m\u001b[0mshape\u001b[0m\u001b[0;34m,\u001b[0m\u001b[0mmodel_info\u001b[0m\u001b[0;34m.\u001b[0m\u001b[0mdata\u001b[0m\u001b[0;34m.\u001b[0m\u001b[0mX_val\u001b[0m\u001b[0;34m.\u001b[0m\u001b[0mshape\u001b[0m\u001b[0;34m,\u001b[0m\u001b[0mmodel_info\u001b[0m\u001b[0;34m.\u001b[0m\u001b[0mdata\u001b[0m\u001b[0;34m.\u001b[0m\u001b[0mX_test\u001b[0m\u001b[0;34m.\u001b[0m\u001b[0mshape\u001b[0m\u001b[0;34m)\u001b[0m\u001b[0;34m\u001b[0m\u001b[0;34m\u001b[0m\u001b[0m\n\u001b[1;32m     33\u001b[0m             \u001b[0mnum_label\u001b[0m\u001b[0;34m=\u001b[0m\u001b[0mmodel_info\u001b[0m\u001b[0;34m.\u001b[0m\u001b[0mdata\u001b[0m\u001b[0;34m.\u001b[0m\u001b[0mnum_labels\u001b[0m\u001b[0;34m\u001b[0m\u001b[0;34m\u001b[0m\u001b[0m\n\u001b[0;32m---> 34\u001b[0;31m             \u001b[0mstability\u001b[0m\u001b[0;34m,\u001b[0m\u001b[0mtime_all\u001b[0m\u001b[0;34m,\u001b[0m\u001b[0mex_in_time\u001b[0m\u001b[0;34m=\u001b[0m\u001b[0mnew_stability_calc\u001b[0m\u001b[0;34m(\u001b[0m\u001b[0mnp\u001b[0m\u001b[0;34m.\u001b[0m\u001b[0marray\u001b[0m\u001b[0;34m(\u001b[0m\u001b[0mmodel_info\u001b[0m\u001b[0;34m.\u001b[0m\u001b[0mdata\u001b[0m\u001b[0;34m.\u001b[0m\u001b[0mX_train\u001b[0m\u001b[0;34m)\u001b[0m\u001b[0;34m,\u001b[0m\u001b[0mnp\u001b[0m\u001b[0;34m.\u001b[0m\u001b[0marray\u001b[0m\u001b[0;34m(\u001b[0m\u001b[0mmodel_info\u001b[0m\u001b[0;34m.\u001b[0m\u001b[0mdata\u001b[0m\u001b[0;34m.\u001b[0m\u001b[0mX_val\u001b[0m\u001b[0;34m)\u001b[0m\u001b[0;34m,\u001b[0m\u001b[0mmodel_info\u001b[0m\u001b[0;34m.\u001b[0m\u001b[0mdata\u001b[0m\u001b[0;34m.\u001b[0m\u001b[0my_train\u001b[0m\u001b[0;34m,\u001b[0m\u001b[0mmodel_info\u001b[0m\u001b[0;34m.\u001b[0m\u001b[0my_pred_val\u001b[0m\u001b[0;34m,\u001b[0m\u001b[0mnum_label\u001b[0m\u001b[0;34m)\u001b[0m\u001b[0;34m\u001b[0m\u001b[0;34m\u001b[0m\u001b[0m\n\u001b[0m\u001b[1;32m     35\u001b[0m             \u001b[0mprint\u001b[0m\u001b[0;34m(\u001b[0m\u001b[0;34m\"train\"\u001b[0m\u001b[0;34m)\u001b[0m\u001b[0;34m\u001b[0m\u001b[0;34m\u001b[0m\u001b[0m\n\u001b[1;32m     36\u001b[0m             \u001b[0mstability_test\u001b[0m\u001b[0;34m,\u001b[0m\u001b[0m_\u001b[0m\u001b[0;34m,\u001b[0m\u001b[0m_\u001b[0m\u001b[0;34m=\u001b[0m\u001b[0mnew_stability_calc\u001b[0m\u001b[0;34m(\u001b[0m\u001b[0mnp\u001b[0m\u001b[0;34m.\u001b[0m\u001b[0marray\u001b[0m\u001b[0;34m(\u001b[0m\u001b[0mmodel_info\u001b[0m\u001b[0;34m.\u001b[0m\u001b[0mdata\u001b[0m\u001b[0;34m.\u001b[0m\u001b[0mX_train\u001b[0m\u001b[0;34m)\u001b[0m\u001b[0;34m,\u001b[0m\u001b[0mnp\u001b[0m\u001b[0;34m.\u001b[0m\u001b[0marray\u001b[0m\u001b[0;34m(\u001b[0m\u001b[0mmodel_info\u001b[0m\u001b[0;34m.\u001b[0m\u001b[0mdata\u001b[0m\u001b[0;34m.\u001b[0m\u001b[0mX_test\u001b[0m\u001b[0;34m)\u001b[0m\u001b[0;34m,\u001b[0m\u001b[0mmodel_info\u001b[0m\u001b[0;34m.\u001b[0m\u001b[0mdata\u001b[0m\u001b[0;34m.\u001b[0m\u001b[0my_train\u001b[0m\u001b[0;34m,\u001b[0m\u001b[0mmodel_info\u001b[0m\u001b[0;34m.\u001b[0m\u001b[0my_pred_test\u001b[0m\u001b[0;34m,\u001b[0m\u001b[0mnum_label\u001b[0m\u001b[0;34m)\u001b[0m\u001b[0;34m\u001b[0m\u001b[0;34m\u001b[0m\u001b[0m\n",
      "\u001b[0;32m~/Documents/GitHub/Geometric-Calibrator/utils.py\u001b[0m in \u001b[0;36mnew_stability_calc\u001b[0;34m(trainX, testX, train_y, test_y_pred, num_labels)\u001b[0m\n\u001b[1;32m    694\u001b[0m \u001b[0;34m\u001b[0m\u001b[0m\n\u001b[1;32m    695\u001b[0m         \u001b[0mdist1\u001b[0m\u001b[0;34m,\u001b[0m\u001b[0midx1\u001b[0m\u001b[0;34m=\u001b[0m \u001b[0msame_nbrs\u001b[0m\u001b[0;34m[\u001b[0m\u001b[0mpred_label\u001b[0m\u001b[0;34m]\u001b[0m\u001b[0;34m.\u001b[0m\u001b[0mkneighbors\u001b[0m\u001b[0;34m(\u001b[0m\u001b[0;34m[\u001b[0m\u001b[0mx\u001b[0m\u001b[0;34m]\u001b[0m\u001b[0;34m)\u001b[0m\u001b[0;34m\u001b[0m\u001b[0;34m\u001b[0m\u001b[0m\n\u001b[0;32m--> 696\u001b[0;31m         \u001b[0mdist2\u001b[0m\u001b[0;34m,\u001b[0m\u001b[0midx2\u001b[0m\u001b[0;34m=\u001b[0m \u001b[0mother_nbrs\u001b[0m\u001b[0;34m[\u001b[0m\u001b[0mpred_label\u001b[0m\u001b[0;34m]\u001b[0m\u001b[0;34m.\u001b[0m\u001b[0mkneighbors\u001b[0m\u001b[0;34m(\u001b[0m\u001b[0;34m[\u001b[0m\u001b[0mx\u001b[0m\u001b[0;34m]\u001b[0m\u001b[0;34m)\u001b[0m\u001b[0;34m\u001b[0m\u001b[0;34m\u001b[0m\u001b[0m\n\u001b[0m\u001b[1;32m    697\u001b[0m \u001b[0;34m\u001b[0m\u001b[0m\n\u001b[1;32m    698\u001b[0m         \u001b[0mstability\u001b[0m\u001b[0;34m[\u001b[0m\u001b[0mi\u001b[0m\u001b[0;34m]\u001b[0m\u001b[0;34m=\u001b[0m\u001b[0;34m(\u001b[0m\u001b[0mdist2\u001b[0m\u001b[0;34m-\u001b[0m\u001b[0mdist1\u001b[0m\u001b[0;34m)\u001b[0m\u001b[0;34m/\u001b[0m\u001b[0;36m2\u001b[0m\u001b[0;34m\u001b[0m\u001b[0;34m\u001b[0m\u001b[0m\n",
      "\u001b[0;32m~/opt/miniconda3/envs/ML/lib/python3.9/site-packages/sklearn/neighbors/_base.py\u001b[0m in \u001b[0;36mkneighbors\u001b[0;34m(self, X, n_neighbors, return_distance)\u001b[0m\n\u001b[1;32m    747\u001b[0m                 \u001b[0mkwds\u001b[0m \u001b[0;34m=\u001b[0m \u001b[0mself\u001b[0m\u001b[0;34m.\u001b[0m\u001b[0meffective_metric_params_\u001b[0m\u001b[0;34m\u001b[0m\u001b[0;34m\u001b[0m\u001b[0m\n\u001b[1;32m    748\u001b[0m \u001b[0;34m\u001b[0m\u001b[0m\n\u001b[0;32m--> 749\u001b[0;31m             chunked_results = list(\n\u001b[0m\u001b[1;32m    750\u001b[0m                 pairwise_distances_chunked(\n\u001b[1;32m    751\u001b[0m                     \u001b[0mX\u001b[0m\u001b[0;34m,\u001b[0m\u001b[0;34m\u001b[0m\u001b[0;34m\u001b[0m\u001b[0m\n",
      "\u001b[0;32m~/opt/miniconda3/envs/ML/lib/python3.9/site-packages/sklearn/metrics/pairwise.py\u001b[0m in \u001b[0;36mpairwise_distances_chunked\u001b[0;34m(X, Y, reduce_func, metric, n_jobs, working_memory, **kwds)\u001b[0m\n\u001b[1;32m   1710\u001b[0m         \u001b[0;32melse\u001b[0m\u001b[0;34m:\u001b[0m\u001b[0;34m\u001b[0m\u001b[0;34m\u001b[0m\u001b[0m\n\u001b[1;32m   1711\u001b[0m             \u001b[0mX_chunk\u001b[0m \u001b[0;34m=\u001b[0m \u001b[0mX\u001b[0m\u001b[0;34m[\u001b[0m\u001b[0msl\u001b[0m\u001b[0;34m]\u001b[0m\u001b[0;34m\u001b[0m\u001b[0;34m\u001b[0m\u001b[0m\n\u001b[0;32m-> 1712\u001b[0;31m         \u001b[0mD_chunk\u001b[0m \u001b[0;34m=\u001b[0m \u001b[0mpairwise_distances\u001b[0m\u001b[0;34m(\u001b[0m\u001b[0mX_chunk\u001b[0m\u001b[0;34m,\u001b[0m \u001b[0mY\u001b[0m\u001b[0;34m,\u001b[0m \u001b[0mmetric\u001b[0m\u001b[0;34m=\u001b[0m\u001b[0mmetric\u001b[0m\u001b[0;34m,\u001b[0m \u001b[0mn_jobs\u001b[0m\u001b[0;34m=\u001b[0m\u001b[0mn_jobs\u001b[0m\u001b[0;34m,\u001b[0m \u001b[0;34m**\u001b[0m\u001b[0mkwds\u001b[0m\u001b[0;34m)\u001b[0m\u001b[0;34m\u001b[0m\u001b[0;34m\u001b[0m\u001b[0m\n\u001b[0m\u001b[1;32m   1713\u001b[0m         if (X is Y or Y is None) and PAIRWISE_DISTANCE_FUNCTIONS.get(\n\u001b[1;32m   1714\u001b[0m             \u001b[0mmetric\u001b[0m\u001b[0;34m,\u001b[0m \u001b[0;32mNone\u001b[0m\u001b[0;34m\u001b[0m\u001b[0;34m\u001b[0m\u001b[0m\n",
      "\u001b[0;32m~/opt/miniconda3/envs/ML/lib/python3.9/site-packages/sklearn/metrics/pairwise.py\u001b[0m in \u001b[0;36mpairwise_distances\u001b[0;34m(X, Y, metric, n_jobs, force_all_finite, **kwds)\u001b[0m\n\u001b[1;32m   1882\u001b[0m         \u001b[0mfunc\u001b[0m \u001b[0;34m=\u001b[0m \u001b[0mpartial\u001b[0m\u001b[0;34m(\u001b[0m\u001b[0mdistance\u001b[0m\u001b[0;34m.\u001b[0m\u001b[0mcdist\u001b[0m\u001b[0;34m,\u001b[0m \u001b[0mmetric\u001b[0m\u001b[0;34m=\u001b[0m\u001b[0mmetric\u001b[0m\u001b[0;34m,\u001b[0m \u001b[0;34m**\u001b[0m\u001b[0mkwds\u001b[0m\u001b[0;34m)\u001b[0m\u001b[0;34m\u001b[0m\u001b[0;34m\u001b[0m\u001b[0m\n\u001b[1;32m   1883\u001b[0m \u001b[0;34m\u001b[0m\u001b[0m\n\u001b[0;32m-> 1884\u001b[0;31m     \u001b[0;32mreturn\u001b[0m \u001b[0m_parallel_pairwise\u001b[0m\u001b[0;34m(\u001b[0m\u001b[0mX\u001b[0m\u001b[0;34m,\u001b[0m \u001b[0mY\u001b[0m\u001b[0;34m,\u001b[0m \u001b[0mfunc\u001b[0m\u001b[0;34m,\u001b[0m \u001b[0mn_jobs\u001b[0m\u001b[0;34m,\u001b[0m \u001b[0;34m**\u001b[0m\u001b[0mkwds\u001b[0m\u001b[0;34m)\u001b[0m\u001b[0;34m\u001b[0m\u001b[0;34m\u001b[0m\u001b[0m\n\u001b[0m\u001b[1;32m   1885\u001b[0m \u001b[0;34m\u001b[0m\u001b[0m\n\u001b[1;32m   1886\u001b[0m \u001b[0;34m\u001b[0m\u001b[0m\n",
      "\u001b[0;32m~/opt/miniconda3/envs/ML/lib/python3.9/site-packages/sklearn/metrics/pairwise.py\u001b[0m in \u001b[0;36m_parallel_pairwise\u001b[0;34m(X, Y, func, n_jobs, **kwds)\u001b[0m\n\u001b[1;32m   1423\u001b[0m \u001b[0;34m\u001b[0m\u001b[0m\n\u001b[1;32m   1424\u001b[0m     \u001b[0;32mif\u001b[0m \u001b[0meffective_n_jobs\u001b[0m\u001b[0;34m(\u001b[0m\u001b[0mn_jobs\u001b[0m\u001b[0;34m)\u001b[0m \u001b[0;34m==\u001b[0m \u001b[0;36m1\u001b[0m\u001b[0;34m:\u001b[0m\u001b[0;34m\u001b[0m\u001b[0;34m\u001b[0m\u001b[0m\n\u001b[0;32m-> 1425\u001b[0;31m         \u001b[0;32mreturn\u001b[0m \u001b[0mfunc\u001b[0m\u001b[0;34m(\u001b[0m\u001b[0mX\u001b[0m\u001b[0;34m,\u001b[0m \u001b[0mY\u001b[0m\u001b[0;34m,\u001b[0m \u001b[0;34m**\u001b[0m\u001b[0mkwds\u001b[0m\u001b[0;34m)\u001b[0m\u001b[0;34m\u001b[0m\u001b[0;34m\u001b[0m\u001b[0m\n\u001b[0m\u001b[1;32m   1426\u001b[0m \u001b[0;34m\u001b[0m\u001b[0m\n\u001b[1;32m   1427\u001b[0m     \u001b[0;31m# enforce a threading backend to prevent data communication overhead\u001b[0m\u001b[0;34m\u001b[0m\u001b[0;34m\u001b[0m\u001b[0m\n",
      "\u001b[0;32m~/opt/miniconda3/envs/ML/lib/python3.9/site-packages/sklearn/metrics/pairwise.py\u001b[0m in \u001b[0;36meuclidean_distances\u001b[0;34m(X, Y, Y_norm_squared, squared, X_norm_squared)\u001b[0m\n\u001b[1;32m    297\u001b[0m            [1.41421356]])\n\u001b[1;32m    298\u001b[0m     \"\"\"\n\u001b[0;32m--> 299\u001b[0;31m     \u001b[0mX\u001b[0m\u001b[0;34m,\u001b[0m \u001b[0mY\u001b[0m \u001b[0;34m=\u001b[0m \u001b[0mcheck_pairwise_arrays\u001b[0m\u001b[0;34m(\u001b[0m\u001b[0mX\u001b[0m\u001b[0;34m,\u001b[0m \u001b[0mY\u001b[0m\u001b[0;34m)\u001b[0m\u001b[0;34m\u001b[0m\u001b[0;34m\u001b[0m\u001b[0m\n\u001b[0m\u001b[1;32m    300\u001b[0m \u001b[0;34m\u001b[0m\u001b[0m\n\u001b[1;32m    301\u001b[0m     \u001b[0;32mif\u001b[0m \u001b[0mX_norm_squared\u001b[0m \u001b[0;32mis\u001b[0m \u001b[0;32mnot\u001b[0m \u001b[0;32mNone\u001b[0m\u001b[0;34m:\u001b[0m\u001b[0;34m\u001b[0m\u001b[0;34m\u001b[0m\u001b[0m\n",
      "\u001b[0;32m~/opt/miniconda3/envs/ML/lib/python3.9/site-packages/sklearn/metrics/pairwise.py\u001b[0m in \u001b[0;36mcheck_pairwise_arrays\u001b[0;34m(X, Y, precomputed, dtype, accept_sparse, force_all_finite, copy)\u001b[0m\n\u001b[1;32m    162\u001b[0m             \u001b[0mestimator\u001b[0m\u001b[0;34m=\u001b[0m\u001b[0mestimator\u001b[0m\u001b[0;34m,\u001b[0m\u001b[0;34m\u001b[0m\u001b[0;34m\u001b[0m\u001b[0m\n\u001b[1;32m    163\u001b[0m         )\n\u001b[0;32m--> 164\u001b[0;31m         Y = check_array(\n\u001b[0m\u001b[1;32m    165\u001b[0m             \u001b[0mY\u001b[0m\u001b[0;34m,\u001b[0m\u001b[0;34m\u001b[0m\u001b[0;34m\u001b[0m\u001b[0m\n\u001b[1;32m    166\u001b[0m             \u001b[0maccept_sparse\u001b[0m\u001b[0;34m=\u001b[0m\u001b[0maccept_sparse\u001b[0m\u001b[0;34m,\u001b[0m\u001b[0;34m\u001b[0m\u001b[0;34m\u001b[0m\u001b[0m\n",
      "\u001b[0;32m~/opt/miniconda3/envs/ML/lib/python3.9/site-packages/sklearn/utils/validation.py\u001b[0m in \u001b[0;36mcheck_array\u001b[0;34m(array, accept_sparse, accept_large_sparse, dtype, order, copy, force_all_finite, ensure_2d, allow_nd, ensure_min_samples, ensure_min_features, estimator)\u001b[0m\n\u001b[1;32m    790\u001b[0m \u001b[0;34m\u001b[0m\u001b[0m\n\u001b[1;32m    791\u001b[0m         \u001b[0;32mif\u001b[0m \u001b[0mforce_all_finite\u001b[0m\u001b[0;34m:\u001b[0m\u001b[0;34m\u001b[0m\u001b[0;34m\u001b[0m\u001b[0m\n\u001b[0;32m--> 792\u001b[0;31m             \u001b[0m_assert_all_finite\u001b[0m\u001b[0;34m(\u001b[0m\u001b[0marray\u001b[0m\u001b[0;34m,\u001b[0m \u001b[0mallow_nan\u001b[0m\u001b[0;34m=\u001b[0m\u001b[0mforce_all_finite\u001b[0m \u001b[0;34m==\u001b[0m \u001b[0;34m\"allow-nan\"\u001b[0m\u001b[0;34m)\u001b[0m\u001b[0;34m\u001b[0m\u001b[0;34m\u001b[0m\u001b[0m\n\u001b[0m\u001b[1;32m    793\u001b[0m \u001b[0;34m\u001b[0m\u001b[0m\n\u001b[1;32m    794\u001b[0m     \u001b[0;32mif\u001b[0m \u001b[0mensure_min_samples\u001b[0m \u001b[0;34m>\u001b[0m \u001b[0;36m0\u001b[0m\u001b[0;34m:\u001b[0m\u001b[0;34m\u001b[0m\u001b[0;34m\u001b[0m\u001b[0m\n",
      "\u001b[0;32m~/opt/miniconda3/envs/ML/lib/python3.9/site-packages/sklearn/utils/validation.py\u001b[0m in \u001b[0;36m_assert_all_finite\u001b[0;34m(X, allow_nan, msg_dtype)\u001b[0m\n\u001b[1;32m    101\u001b[0m     \u001b[0;31m# safely to reduce dtype induced overflows.\u001b[0m\u001b[0;34m\u001b[0m\u001b[0;34m\u001b[0m\u001b[0m\n\u001b[1;32m    102\u001b[0m     \u001b[0mis_float\u001b[0m \u001b[0;34m=\u001b[0m \u001b[0mX\u001b[0m\u001b[0;34m.\u001b[0m\u001b[0mdtype\u001b[0m\u001b[0;34m.\u001b[0m\u001b[0mkind\u001b[0m \u001b[0;32min\u001b[0m \u001b[0;34m\"fc\"\u001b[0m\u001b[0;34m\u001b[0m\u001b[0;34m\u001b[0m\u001b[0m\n\u001b[0;32m--> 103\u001b[0;31m     \u001b[0;32mif\u001b[0m \u001b[0mis_float\u001b[0m \u001b[0;32mand\u001b[0m \u001b[0;34m(\u001b[0m\u001b[0mnp\u001b[0m\u001b[0;34m.\u001b[0m\u001b[0misfinite\u001b[0m\u001b[0;34m(\u001b[0m\u001b[0m_safe_accumulator_op\u001b[0m\u001b[0;34m(\u001b[0m\u001b[0mnp\u001b[0m\u001b[0;34m.\u001b[0m\u001b[0msum\u001b[0m\u001b[0;34m,\u001b[0m \u001b[0mX\u001b[0m\u001b[0;34m)\u001b[0m\u001b[0;34m)\u001b[0m\u001b[0;34m)\u001b[0m\u001b[0;34m:\u001b[0m\u001b[0;34m\u001b[0m\u001b[0;34m\u001b[0m\u001b[0m\n\u001b[0m\u001b[1;32m    104\u001b[0m         \u001b[0;32mpass\u001b[0m\u001b[0;34m\u001b[0m\u001b[0;34m\u001b[0m\u001b[0m\n\u001b[1;32m    105\u001b[0m     \u001b[0;32melif\u001b[0m \u001b[0mis_float\u001b[0m\u001b[0;34m:\u001b[0m\u001b[0;34m\u001b[0m\u001b[0;34m\u001b[0m\u001b[0m\n",
      "\u001b[0;32m~/opt/miniconda3/envs/ML/lib/python3.9/site-packages/sklearn/utils/extmath.py\u001b[0m in \u001b[0;36m_safe_accumulator_op\u001b[0;34m(op, x, *args, **kwargs)\u001b[0m\n\u001b[1;32m    892\u001b[0m     \"\"\"\n\u001b[1;32m    893\u001b[0m     \u001b[0;32mif\u001b[0m \u001b[0mnp\u001b[0m\u001b[0;34m.\u001b[0m\u001b[0missubdtype\u001b[0m\u001b[0;34m(\u001b[0m\u001b[0mx\u001b[0m\u001b[0;34m.\u001b[0m\u001b[0mdtype\u001b[0m\u001b[0;34m,\u001b[0m \u001b[0mnp\u001b[0m\u001b[0;34m.\u001b[0m\u001b[0mfloating\u001b[0m\u001b[0;34m)\u001b[0m \u001b[0;32mand\u001b[0m \u001b[0mx\u001b[0m\u001b[0;34m.\u001b[0m\u001b[0mdtype\u001b[0m\u001b[0;34m.\u001b[0m\u001b[0mitemsize\u001b[0m \u001b[0;34m<\u001b[0m \u001b[0;36m8\u001b[0m\u001b[0;34m:\u001b[0m\u001b[0;34m\u001b[0m\u001b[0;34m\u001b[0m\u001b[0m\n\u001b[0;32m--> 894\u001b[0;31m         \u001b[0mresult\u001b[0m \u001b[0;34m=\u001b[0m \u001b[0mop\u001b[0m\u001b[0;34m(\u001b[0m\u001b[0mx\u001b[0m\u001b[0;34m,\u001b[0m \u001b[0;34m*\u001b[0m\u001b[0margs\u001b[0m\u001b[0;34m,\u001b[0m \u001b[0;34m**\u001b[0m\u001b[0mkwargs\u001b[0m\u001b[0;34m,\u001b[0m \u001b[0mdtype\u001b[0m\u001b[0;34m=\u001b[0m\u001b[0mnp\u001b[0m\u001b[0;34m.\u001b[0m\u001b[0mfloat64\u001b[0m\u001b[0;34m)\u001b[0m\u001b[0;34m\u001b[0m\u001b[0;34m\u001b[0m\u001b[0m\n\u001b[0m\u001b[1;32m    895\u001b[0m     \u001b[0;32melse\u001b[0m\u001b[0;34m:\u001b[0m\u001b[0;34m\u001b[0m\u001b[0;34m\u001b[0m\u001b[0m\n\u001b[1;32m    896\u001b[0m         \u001b[0mresult\u001b[0m \u001b[0;34m=\u001b[0m \u001b[0mop\u001b[0m\u001b[0;34m(\u001b[0m\u001b[0mx\u001b[0m\u001b[0;34m,\u001b[0m \u001b[0;34m*\u001b[0m\u001b[0margs\u001b[0m\u001b[0;34m,\u001b[0m \u001b[0;34m**\u001b[0m\u001b[0mkwargs\u001b[0m\u001b[0;34m)\u001b[0m\u001b[0;34m\u001b[0m\u001b[0;34m\u001b[0m\u001b[0m\n",
      "\u001b[0;32m<__array_function__ internals>\u001b[0m in \u001b[0;36msum\u001b[0;34m(*args, **kwargs)\u001b[0m\n",
      "\u001b[0;32m~/opt/miniconda3/envs/ML/lib/python3.9/site-packages/numpy/core/fromnumeric.py\u001b[0m in \u001b[0;36msum\u001b[0;34m(a, axis, dtype, out, keepdims, initial, where)\u001b[0m\n\u001b[1;32m   2239\u001b[0m         \u001b[0;32mreturn\u001b[0m \u001b[0mres\u001b[0m\u001b[0;34m\u001b[0m\u001b[0;34m\u001b[0m\u001b[0m\n\u001b[1;32m   2240\u001b[0m \u001b[0;34m\u001b[0m\u001b[0m\n\u001b[0;32m-> 2241\u001b[0;31m     return _wrapreduction(a, np.add, 'sum', axis, dtype, out, keepdims=keepdims,\n\u001b[0m\u001b[1;32m   2242\u001b[0m                           initial=initial, where=where)\n\u001b[1;32m   2243\u001b[0m \u001b[0;34m\u001b[0m\u001b[0m\n",
      "\u001b[0;32m~/opt/miniconda3/envs/ML/lib/python3.9/site-packages/numpy/core/fromnumeric.py\u001b[0m in \u001b[0;36m_wrapreduction\u001b[0;34m(obj, ufunc, method, axis, dtype, out, **kwargs)\u001b[0m\n\u001b[1;32m     85\u001b[0m                 \u001b[0;32mreturn\u001b[0m \u001b[0mreduction\u001b[0m\u001b[0;34m(\u001b[0m\u001b[0maxis\u001b[0m\u001b[0;34m=\u001b[0m\u001b[0maxis\u001b[0m\u001b[0;34m,\u001b[0m \u001b[0mout\u001b[0m\u001b[0;34m=\u001b[0m\u001b[0mout\u001b[0m\u001b[0;34m,\u001b[0m \u001b[0;34m**\u001b[0m\u001b[0mpasskwargs\u001b[0m\u001b[0;34m)\u001b[0m\u001b[0;34m\u001b[0m\u001b[0;34m\u001b[0m\u001b[0m\n\u001b[1;32m     86\u001b[0m \u001b[0;34m\u001b[0m\u001b[0m\n\u001b[0;32m---> 87\u001b[0;31m     \u001b[0;32mreturn\u001b[0m \u001b[0mufunc\u001b[0m\u001b[0;34m.\u001b[0m\u001b[0mreduce\u001b[0m\u001b[0;34m(\u001b[0m\u001b[0mobj\u001b[0m\u001b[0;34m,\u001b[0m \u001b[0maxis\u001b[0m\u001b[0;34m,\u001b[0m \u001b[0mdtype\u001b[0m\u001b[0;34m,\u001b[0m \u001b[0mout\u001b[0m\u001b[0;34m,\u001b[0m \u001b[0;34m**\u001b[0m\u001b[0mpasskwargs\u001b[0m\u001b[0;34m)\u001b[0m\u001b[0;34m\u001b[0m\u001b[0;34m\u001b[0m\u001b[0m\n\u001b[0m\u001b[1;32m     88\u001b[0m \u001b[0;34m\u001b[0m\u001b[0m\n\u001b[1;32m     89\u001b[0m \u001b[0;34m\u001b[0m\u001b[0m\n",
      "\u001b[0;31mKeyboardInterrupt\u001b[0m: "
     ]
    }
   ],
   "source": [
    "#avg(2)\n",
    "method_name='Resize'\n",
    "red_param=2\n",
    "all_time=[]\n",
    "for dataset_name in ['Fashion']:#'MNIST','SignLanguage',\n",
    "    for model_name in ['RF','GB','pytorch']:\n",
    "        for shuffle in range(1):\n",
    "            if model_name=='pytorch':\n",
    "                model_info=load_model_pytorch(dataset_name, model_name, shuffle)\n",
    "            else:\n",
    "                model_info= load_model(dataset_name, model_name, shuffle)\n",
    "            data=model_info.data\n",
    "            pixels=int(sqrt(data.X_train.shape[1]))\n",
    "            size=pixels//red_param\n",
    "            \n",
    "            length= len(model_info.data.X_train)\n",
    "            X_train=torch.tensor(model_info.data.X_train.reshape(length,pixels,pixels))\n",
    "            X_train = X_train[ ..., tf.newaxis]\n",
    "            model_info.data.X_train=tf.image.resize(X_train, [size,size]).numpy().reshape(length,-1)\n",
    "            \n",
    "            length= len(model_info.data.X_test)\n",
    "            X_test=torch.tensor(model_info.data.X_test.reshape(length,pixels,pixels))\n",
    "            X_test = X_test[ ..., tf.newaxis]\n",
    "            model_info.data.X_test=tf.image.resize(X_test, [size,size]).numpy().reshape(length,-1)\n",
    "            \n",
    "            length= len(model_info.data.X_val)\n",
    "            X_val=torch.tensor(model_info.data.X_val.reshape(length,pixels,pixels))\n",
    "            X_val = X_val[ ..., tf.newaxis]\n",
    "            model_info.data.X_val=tf.image.resize(X_val, [size,size]).numpy().reshape(length,-1)\n",
    "            \n",
    "            print(\"done\")\n",
    "            print(model_info.data.X_train.shape,model_info.data.X_val.shape,model_info.data.X_test.shape)\n",
    "            num_label=model_info.data.num_labels\n",
    "            stability,time_all,ex_in_time=new_stability_calc(np.array(model_info.data.X_train),np.array(model_info.data.X_val),model_info.data.y_train,model_info.y_pred_val,num_label)\n",
    "            print(\"train\")\n",
    "            stability_test,_,_=new_stability_calc(np.array(model_info.data.X_train),np.array(model_info.data.X_test),model_info.data.y_train,model_info.y_pred_test,num_label)\n",
    "\n",
    "            all_time.append((model_name,time_all,ex_in_time))\n",
    "            np.save(f'./stab/{dataset_name}/stab_{method_name}_{dataset_name}_{model_name}_{shuffle}.npy',stability)\n",
    "            np.save(f'./stab/{dataset_name}/test_stab_{method_name}_{dataset_name}_{model_name}_{shuffle}.npy',stability_test)\n",
    "\n",
    "all_time"
   ]
  },
  {
   "cell_type": "code",
   "execution_count": 48,
   "id": "634d6256-2ffe-47e8-92ef-00c28a66df1f",
   "metadata": {},
   "outputs": [
    {
     "data": {
      "text/plain": [
       "(array([2.000e+00, 1.100e+01, 1.700e+02, 3.530e+03, 6.046e+03, 2.437e+03,\n",
       "        1.167e+03, 5.150e+02, 1.140e+02, 8.000e+00]),\n",
       " array([-221.90065002, -162.35749969, -102.81434937,  -43.27119904,\n",
       "          16.27195129,   75.81510162,  135.35825195,  194.90140228,\n",
       "         254.44455261,  313.98770294,  373.53085327]),\n",
       " <BarContainer object of 10 artists>)"
      ]
     },
     "execution_count": 48,
     "metadata": {},
     "output_type": "execute_result"
    },
    {
     "data": {
      "image/png": "[encoded data removed]",
      "text/plain": [
       "<Figure size 432x288 with 1 Axes>"
      ]
     },
     "metadata": {
      "needs_background": "light"
     },
     "output_type": "display_data"
    }
   ],
   "source": [
    "X=np.load(f'./stab/{dataset_name}/stab_{method_name}_{dataset_name}_RF_{shuffle}.npy')\n",
    "plt.hist(X)"
   ]
  },
  {
   "cell_type": "code",
   "execution_count": null,
   "id": "7f4fb9cd-e273-4918-a116-1350a688ebec",
   "metadata": {},
   "outputs": [],
   "source": [
    "#resize(2-4)\n",
    "method_name='Resize'\n",
    "all_time=[]\n",
    "for red_param in [2,3,4]:\n",
    "    for dataset_name in ['Fashion','MNIST','SignLanguage']:\n",
    "        for model_name in ['RF','GB','pytorch']:\n",
    "            for shuffle in range(10):\n",
    "                if model_name=='pytorch':\n",
    "                    model_info=load_model_pytorch(dataset_name, model_name, shuffle)\n",
    "                else:\n",
    "                    model_info= load_model(dataset_name, model_name, shuffle)\n",
    "                data=model_info.data\n",
    "                pixels=int(sqrt(data.X_train.shape[1]))\n",
    "                size=pixels//red_param\n",
    "\n",
    "                length= len(model_info.data.X_train)\n",
    "                X_train=torch.tensor(model_info.data.X_train.reshape(length,pixels,pixels))\n",
    "                X_train = X_train[ ..., tf.newaxis]\n",
    "                model_info.data.X_train=tf.image.resize(X_train, [size,size]).numpy().reshape(length,-1)\n",
    "\n",
    "                length= len(model_info.data.X_test)\n",
    "                X_test=torch.tensor(model_info.data.X_test.reshape(length,pixels,pixels))\n",
    "                X_test = X_test[ ..., tf.newaxis]\n",
    "                model_info.data.X_test=tf.image.resize(X_test, [size,size]).numpy().reshape(length,-1)\n",
    "\n",
    "                length= len(model_info.data.X_val)\n",
    "                X_val=torch.tensor(model_info.data.X_val.reshape(length,pixels,pixels))\n",
    "                X_val = X_val[ ..., tf.newaxis]\n",
    "                model_info.data.X_val=tf.image.resize(X_val, [size,size]).numpy().reshape(length,-1)\n",
    "            \n",
    "                num_label=model_info.data.num_labels\n",
    "                stability,time_all,ex_in_time=new_stability_calc(np.array(model_info.data.X_train),np.array(model_info.data.X_val),model_info.data.y_train,model_info.y_pred_val,num_label)\n",
    "                stability_test,_,_=new_stability_calc(np.array(model_info.data.X_train),np.array(model_info.data.X_test),model_info.data.y_train,model_info.y_pred_test,num_label)\n",
    "\n",
    "                all_time.append((model_name,time_all,ex_in_time))\n",
    "                np.save(f'./stab/{dataset_name}/stab_{method_name}_{red_param}_{dataset_name}_{model_name}_{shuffle}.npy',stability)\n",
    "                np.save(f'./stab/{dataset_name}/test_stab_{method_name}_{red_param}_{dataset_name}_{model_name}_{shuffle}.npy',stability_test)\n",
    "\n",
    "all_time"
   ]
  },
  {
   "cell_type": "markdown",
   "id": "bb3a8abc-c3a0-4690-89de-9799d093bd73",
   "metadata": {},
   "source": [
    "# PCA"
   ]
  },
  {
   "cell_type": "code",
   "execution_count": 52,
   "id": "06943771-8487-44d1-addd-5594a9c5b1c5",
   "metadata": {},
   "outputs": [],
   "source": [
    "from sklearn.decomposition import PCA"
   ]
  },
  {
   "cell_type": "code",
   "execution_count": 54,
   "id": "958d0123-d677-474c-aed8-e08a326ace7d",
   "metadata": {},
   "outputs": [
    {
     "name": "stdout",
     "output_type": "stream",
     "text": [
      "(42000, 196) (14000, 196) (14000, 196)\n"
     ]
    },
    {
     "ename": "KeyboardInterrupt",
     "evalue": "",
     "output_type": "error",
     "traceback": [
      "\u001b[0;31m---------------------------------------------------------------------------\u001b[0m",
      "\u001b[0;31mKeyboardInterrupt\u001b[0m                         Traceback (most recent call last)",
      "\u001b[0;32m/var/folders/bq/yr2g0hqx0vqcpvr3lgf609sh0000gn/T/ipykernel_92530/1461636465.py\u001b[0m in \u001b[0;36m<module>\u001b[0;34m\u001b[0m\n\u001b[1;32m     25\u001b[0m \u001b[0;34m\u001b[0m\u001b[0m\n\u001b[1;32m     26\u001b[0m                 \u001b[0mnum_label\u001b[0m\u001b[0;34m=\u001b[0m\u001b[0mmodel_info\u001b[0m\u001b[0;34m.\u001b[0m\u001b[0mdata\u001b[0m\u001b[0;34m.\u001b[0m\u001b[0mnum_labels\u001b[0m\u001b[0;34m\u001b[0m\u001b[0;34m\u001b[0m\u001b[0m\n\u001b[0;32m---> 27\u001b[0;31m                 \u001b[0mstability\u001b[0m\u001b[0;34m,\u001b[0m\u001b[0mtime_all\u001b[0m\u001b[0;34m,\u001b[0m\u001b[0mex_in_time\u001b[0m\u001b[0;34m=\u001b[0m\u001b[0mnew_stability_calc\u001b[0m\u001b[0;34m(\u001b[0m\u001b[0mnp\u001b[0m\u001b[0;34m.\u001b[0m\u001b[0marray\u001b[0m\u001b[0;34m(\u001b[0m\u001b[0mmodel_info\u001b[0m\u001b[0;34m.\u001b[0m\u001b[0mdata\u001b[0m\u001b[0;34m.\u001b[0m\u001b[0mX_train\u001b[0m\u001b[0;34m)\u001b[0m\u001b[0;34m,\u001b[0m\u001b[0mnp\u001b[0m\u001b[0;34m.\u001b[0m\u001b[0marray\u001b[0m\u001b[0;34m(\u001b[0m\u001b[0mmodel_info\u001b[0m\u001b[0;34m.\u001b[0m\u001b[0mdata\u001b[0m\u001b[0;34m.\u001b[0m\u001b[0mX_val\u001b[0m\u001b[0;34m)\u001b[0m\u001b[0;34m,\u001b[0m\u001b[0mmodel_info\u001b[0m\u001b[0;34m.\u001b[0m\u001b[0mdata\u001b[0m\u001b[0;34m.\u001b[0m\u001b[0my_train\u001b[0m\u001b[0;34m,\u001b[0m\u001b[0mmodel_info\u001b[0m\u001b[0;34m.\u001b[0m\u001b[0my_pred_val\u001b[0m\u001b[0;34m,\u001b[0m\u001b[0mnum_label\u001b[0m\u001b[0;34m)\u001b[0m\u001b[0;34m\u001b[0m\u001b[0;34m\u001b[0m\u001b[0m\n\u001b[0m\u001b[1;32m     28\u001b[0m                 \u001b[0mstability_test\u001b[0m\u001b[0;34m,\u001b[0m\u001b[0m_\u001b[0m\u001b[0;34m,\u001b[0m\u001b[0m_\u001b[0m\u001b[0;34m=\u001b[0m\u001b[0mnew_stability_calc\u001b[0m\u001b[0;34m(\u001b[0m\u001b[0mnp\u001b[0m\u001b[0;34m.\u001b[0m\u001b[0marray\u001b[0m\u001b[0;34m(\u001b[0m\u001b[0mmodel_info\u001b[0m\u001b[0;34m.\u001b[0m\u001b[0mdata\u001b[0m\u001b[0;34m.\u001b[0m\u001b[0mX_train\u001b[0m\u001b[0;34m)\u001b[0m\u001b[0;34m,\u001b[0m\u001b[0mnp\u001b[0m\u001b[0;34m.\u001b[0m\u001b[0marray\u001b[0m\u001b[0;34m(\u001b[0m\u001b[0mmodel_info\u001b[0m\u001b[0;34m.\u001b[0m\u001b[0mdata\u001b[0m\u001b[0;34m.\u001b[0m\u001b[0mX_test\u001b[0m\u001b[0;34m)\u001b[0m\u001b[0;34m,\u001b[0m\u001b[0mmodel_info\u001b[0m\u001b[0;34m.\u001b[0m\u001b[0mdata\u001b[0m\u001b[0;34m.\u001b[0m\u001b[0my_train\u001b[0m\u001b[0;34m,\u001b[0m\u001b[0mmodel_info\u001b[0m\u001b[0;34m.\u001b[0m\u001b[0my_pred_test\u001b[0m\u001b[0;34m,\u001b[0m\u001b[0mnum_label\u001b[0m\u001b[0;34m)\u001b[0m\u001b[0;34m\u001b[0m\u001b[0;34m\u001b[0m\u001b[0m\n\u001b[1;32m     29\u001b[0m \u001b[0;34m\u001b[0m\u001b[0m\n",
      "\u001b[0;32m~/Documents/GitHub/Geometric-Calibrator/utils.py\u001b[0m in \u001b[0;36mnew_stability_calc\u001b[0;34m(trainX, testX, train_y, test_y_pred, num_labels)\u001b[0m\n\u001b[1;32m    694\u001b[0m \u001b[0;34m\u001b[0m\u001b[0m\n\u001b[1;32m    695\u001b[0m         \u001b[0mdist1\u001b[0m\u001b[0;34m,\u001b[0m\u001b[0midx1\u001b[0m\u001b[0;34m=\u001b[0m \u001b[0msame_nbrs\u001b[0m\u001b[0;34m[\u001b[0m\u001b[0mpred_label\u001b[0m\u001b[0;34m]\u001b[0m\u001b[0;34m.\u001b[0m\u001b[0mkneighbors\u001b[0m\u001b[0;34m(\u001b[0m\u001b[0;34m[\u001b[0m\u001b[0mx\u001b[0m\u001b[0;34m]\u001b[0m\u001b[0;34m)\u001b[0m\u001b[0;34m\u001b[0m\u001b[0;34m\u001b[0m\u001b[0m\n\u001b[0;32m--> 696\u001b[0;31m         \u001b[0mdist2\u001b[0m\u001b[0;34m,\u001b[0m\u001b[0midx2\u001b[0m\u001b[0;34m=\u001b[0m \u001b[0mother_nbrs\u001b[0m\u001b[0;34m[\u001b[0m\u001b[0mpred_label\u001b[0m\u001b[0;34m]\u001b[0m\u001b[0;34m.\u001b[0m\u001b[0mkneighbors\u001b[0m\u001b[0;34m(\u001b[0m\u001b[0;34m[\u001b[0m\u001b[0mx\u001b[0m\u001b[0;34m]\u001b[0m\u001b[0;34m)\u001b[0m\u001b[0;34m\u001b[0m\u001b[0;34m\u001b[0m\u001b[0m\n\u001b[0m\u001b[1;32m    697\u001b[0m \u001b[0;34m\u001b[0m\u001b[0m\n\u001b[1;32m    698\u001b[0m         \u001b[0mstability\u001b[0m\u001b[0;34m[\u001b[0m\u001b[0mi\u001b[0m\u001b[0;34m]\u001b[0m\u001b[0;34m=\u001b[0m\u001b[0;34m(\u001b[0m\u001b[0mdist2\u001b[0m\u001b[0;34m-\u001b[0m\u001b[0mdist1\u001b[0m\u001b[0;34m)\u001b[0m\u001b[0;34m/\u001b[0m\u001b[0;36m2\u001b[0m\u001b[0;34m\u001b[0m\u001b[0;34m\u001b[0m\u001b[0m\n",
      "\u001b[0;32m~/opt/miniconda3/envs/ML/lib/python3.9/site-packages/sklearn/neighbors/_base.py\u001b[0m in \u001b[0;36mkneighbors\u001b[0;34m(self, X, n_neighbors, return_distance)\u001b[0m\n\u001b[1;32m    747\u001b[0m                 \u001b[0mkwds\u001b[0m \u001b[0;34m=\u001b[0m \u001b[0mself\u001b[0m\u001b[0;34m.\u001b[0m\u001b[0meffective_metric_params_\u001b[0m\u001b[0;34m\u001b[0m\u001b[0;34m\u001b[0m\u001b[0m\n\u001b[1;32m    748\u001b[0m \u001b[0;34m\u001b[0m\u001b[0m\n\u001b[0;32m--> 749\u001b[0;31m             chunked_results = list(\n\u001b[0m\u001b[1;32m    750\u001b[0m                 pairwise_distances_chunked(\n\u001b[1;32m    751\u001b[0m                     \u001b[0mX\u001b[0m\u001b[0;34m,\u001b[0m\u001b[0;34m\u001b[0m\u001b[0;34m\u001b[0m\u001b[0m\n",
      "\u001b[0;32m~/opt/miniconda3/envs/ML/lib/python3.9/site-packages/sklearn/metrics/pairwise.py\u001b[0m in \u001b[0;36mpairwise_distances_chunked\u001b[0;34m(X, Y, reduce_func, metric, n_jobs, working_memory, **kwds)\u001b[0m\n\u001b[1;32m   1710\u001b[0m         \u001b[0;32melse\u001b[0m\u001b[0;34m:\u001b[0m\u001b[0;34m\u001b[0m\u001b[0;34m\u001b[0m\u001b[0m\n\u001b[1;32m   1711\u001b[0m             \u001b[0mX_chunk\u001b[0m \u001b[0;34m=\u001b[0m \u001b[0mX\u001b[0m\u001b[0;34m[\u001b[0m\u001b[0msl\u001b[0m\u001b[0;34m]\u001b[0m\u001b[0;34m\u001b[0m\u001b[0;34m\u001b[0m\u001b[0m\n\u001b[0;32m-> 1712\u001b[0;31m         \u001b[0mD_chunk\u001b[0m \u001b[0;34m=\u001b[0m \u001b[0mpairwise_distances\u001b[0m\u001b[0;34m(\u001b[0m\u001b[0mX_chunk\u001b[0m\u001b[0;34m,\u001b[0m \u001b[0mY\u001b[0m\u001b[0;34m,\u001b[0m \u001b[0mmetric\u001b[0m\u001b[0;34m=\u001b[0m\u001b[0mmetric\u001b[0m\u001b[0;34m,\u001b[0m \u001b[0mn_jobs\u001b[0m\u001b[0;34m=\u001b[0m\u001b[0mn_jobs\u001b[0m\u001b[0;34m,\u001b[0m \u001b[0;34m**\u001b[0m\u001b[0mkwds\u001b[0m\u001b[0;34m)\u001b[0m\u001b[0;34m\u001b[0m\u001b[0;34m\u001b[0m\u001b[0m\n\u001b[0m\u001b[1;32m   1713\u001b[0m         if (X is Y or Y is None) and PAIRWISE_DISTANCE_FUNCTIONS.get(\n\u001b[1;32m   1714\u001b[0m             \u001b[0mmetric\u001b[0m\u001b[0;34m,\u001b[0m \u001b[0;32mNone\u001b[0m\u001b[0;34m\u001b[0m\u001b[0;34m\u001b[0m\u001b[0m\n",
      "\u001b[0;32m~/opt/miniconda3/envs/ML/lib/python3.9/site-packages/sklearn/metrics/pairwise.py\u001b[0m in \u001b[0;36mpairwise_distances\u001b[0;34m(X, Y, metric, n_jobs, force_all_finite, **kwds)\u001b[0m\n\u001b[1;32m   1882\u001b[0m         \u001b[0mfunc\u001b[0m \u001b[0;34m=\u001b[0m \u001b[0mpartial\u001b[0m\u001b[0;34m(\u001b[0m\u001b[0mdistance\u001b[0m\u001b[0;34m.\u001b[0m\u001b[0mcdist\u001b[0m\u001b[0;34m,\u001b[0m \u001b[0mmetric\u001b[0m\u001b[0;34m=\u001b[0m\u001b[0mmetric\u001b[0m\u001b[0;34m,\u001b[0m \u001b[0;34m**\u001b[0m\u001b[0mkwds\u001b[0m\u001b[0;34m)\u001b[0m\u001b[0;34m\u001b[0m\u001b[0;34m\u001b[0m\u001b[0m\n\u001b[1;32m   1883\u001b[0m \u001b[0;34m\u001b[0m\u001b[0m\n\u001b[0;32m-> 1884\u001b[0;31m     \u001b[0;32mreturn\u001b[0m \u001b[0m_parallel_pairwise\u001b[0m\u001b[0;34m(\u001b[0m\u001b[0mX\u001b[0m\u001b[0;34m,\u001b[0m \u001b[0mY\u001b[0m\u001b[0;34m,\u001b[0m \u001b[0mfunc\u001b[0m\u001b[0;34m,\u001b[0m \u001b[0mn_jobs\u001b[0m\u001b[0;34m,\u001b[0m \u001b[0;34m**\u001b[0m\u001b[0mkwds\u001b[0m\u001b[0;34m)\u001b[0m\u001b[0;34m\u001b[0m\u001b[0;34m\u001b[0m\u001b[0m\n\u001b[0m\u001b[1;32m   1885\u001b[0m \u001b[0;34m\u001b[0m\u001b[0m\n\u001b[1;32m   1886\u001b[0m \u001b[0;34m\u001b[0m\u001b[0m\n",
      "\u001b[0;32m~/opt/miniconda3/envs/ML/lib/python3.9/site-packages/sklearn/metrics/pairwise.py\u001b[0m in \u001b[0;36m_parallel_pairwise\u001b[0;34m(X, Y, func, n_jobs, **kwds)\u001b[0m\n\u001b[1;32m   1423\u001b[0m \u001b[0;34m\u001b[0m\u001b[0m\n\u001b[1;32m   1424\u001b[0m     \u001b[0;32mif\u001b[0m \u001b[0meffective_n_jobs\u001b[0m\u001b[0;34m(\u001b[0m\u001b[0mn_jobs\u001b[0m\u001b[0;34m)\u001b[0m \u001b[0;34m==\u001b[0m \u001b[0;36m1\u001b[0m\u001b[0;34m:\u001b[0m\u001b[0;34m\u001b[0m\u001b[0;34m\u001b[0m\u001b[0m\n\u001b[0;32m-> 1425\u001b[0;31m         \u001b[0;32mreturn\u001b[0m \u001b[0mfunc\u001b[0m\u001b[0;34m(\u001b[0m\u001b[0mX\u001b[0m\u001b[0;34m,\u001b[0m \u001b[0mY\u001b[0m\u001b[0;34m,\u001b[0m \u001b[0;34m**\u001b[0m\u001b[0mkwds\u001b[0m\u001b[0;34m)\u001b[0m\u001b[0;34m\u001b[0m\u001b[0;34m\u001b[0m\u001b[0m\n\u001b[0m\u001b[1;32m   1426\u001b[0m \u001b[0;34m\u001b[0m\u001b[0m\n\u001b[1;32m   1427\u001b[0m     \u001b[0;31m# enforce a threading backend to prevent data communication overhead\u001b[0m\u001b[0;34m\u001b[0m\u001b[0;34m\u001b[0m\u001b[0m\n",
      "\u001b[0;32m~/opt/miniconda3/envs/ML/lib/python3.9/site-packages/sklearn/metrics/pairwise.py\u001b[0m in \u001b[0;36meuclidean_distances\u001b[0;34m(X, Y, Y_norm_squared, squared, X_norm_squared)\u001b[0m\n\u001b[1;32m    325\u001b[0m             )\n\u001b[1;32m    326\u001b[0m \u001b[0;34m\u001b[0m\u001b[0m\n\u001b[0;32m--> 327\u001b[0;31m     \u001b[0;32mreturn\u001b[0m \u001b[0m_euclidean_distances\u001b[0m\u001b[0;34m(\u001b[0m\u001b[0mX\u001b[0m\u001b[0;34m,\u001b[0m \u001b[0mY\u001b[0m\u001b[0;34m,\u001b[0m \u001b[0mX_norm_squared\u001b[0m\u001b[0;34m,\u001b[0m \u001b[0mY_norm_squared\u001b[0m\u001b[0;34m,\u001b[0m \u001b[0msquared\u001b[0m\u001b[0;34m)\u001b[0m\u001b[0;34m\u001b[0m\u001b[0;34m\u001b[0m\u001b[0m\n\u001b[0m\u001b[1;32m    328\u001b[0m \u001b[0;34m\u001b[0m\u001b[0m\n\u001b[1;32m    329\u001b[0m \u001b[0;34m\u001b[0m\u001b[0m\n",
      "\u001b[0;32m~/opt/miniconda3/envs/ML/lib/python3.9/site-packages/sklearn/metrics/pairwise.py\u001b[0m in \u001b[0;36m_euclidean_distances\u001b[0;34m(X, Y, X_norm_squared, Y_norm_squared, squared)\u001b[0m\n\u001b[1;32m    366\u001b[0m     \u001b[0;32melse\u001b[0m\u001b[0;34m:\u001b[0m\u001b[0;34m\u001b[0m\u001b[0;34m\u001b[0m\u001b[0m\n\u001b[1;32m    367\u001b[0m         \u001b[0;31m# if dtype is already float64, no need to chunk and upcast\u001b[0m\u001b[0;34m\u001b[0m\u001b[0;34m\u001b[0m\u001b[0m\n\u001b[0;32m--> 368\u001b[0;31m         \u001b[0mdistances\u001b[0m \u001b[0;34m=\u001b[0m \u001b[0;34m-\u001b[0m\u001b[0;36m2\u001b[0m \u001b[0;34m*\u001b[0m \u001b[0msafe_sparse_dot\u001b[0m\u001b[0;34m(\u001b[0m\u001b[0mX\u001b[0m\u001b[0;34m,\u001b[0m \u001b[0mY\u001b[0m\u001b[0;34m.\u001b[0m\u001b[0mT\u001b[0m\u001b[0;34m,\u001b[0m \u001b[0mdense_output\u001b[0m\u001b[0;34m=\u001b[0m\u001b[0;32mTrue\u001b[0m\u001b[0;34m)\u001b[0m\u001b[0;34m\u001b[0m\u001b[0;34m\u001b[0m\u001b[0m\n\u001b[0m\u001b[1;32m    369\u001b[0m         \u001b[0mdistances\u001b[0m \u001b[0;34m+=\u001b[0m \u001b[0mXX\u001b[0m\u001b[0;34m\u001b[0m\u001b[0;34m\u001b[0m\u001b[0m\n\u001b[1;32m    370\u001b[0m         \u001b[0mdistances\u001b[0m \u001b[0;34m+=\u001b[0m \u001b[0mYY\u001b[0m\u001b[0;34m\u001b[0m\u001b[0;34m\u001b[0m\u001b[0m\n",
      "\u001b[0;32m~/opt/miniconda3/envs/ML/lib/python3.9/site-packages/sklearn/utils/extmath.py\u001b[0m in \u001b[0;36msafe_sparse_dot\u001b[0;34m(a, b, dense_output)\u001b[0m\n\u001b[1;32m    151\u001b[0m             \u001b[0mret\u001b[0m \u001b[0;34m=\u001b[0m \u001b[0mnp\u001b[0m\u001b[0;34m.\u001b[0m\u001b[0mdot\u001b[0m\u001b[0;34m(\u001b[0m\u001b[0ma\u001b[0m\u001b[0;34m,\u001b[0m \u001b[0mb\u001b[0m\u001b[0;34m)\u001b[0m\u001b[0;34m\u001b[0m\u001b[0;34m\u001b[0m\u001b[0m\n\u001b[1;32m    152\u001b[0m     \u001b[0;32melse\u001b[0m\u001b[0;34m:\u001b[0m\u001b[0;34m\u001b[0m\u001b[0;34m\u001b[0m\u001b[0m\n\u001b[0;32m--> 153\u001b[0;31m         \u001b[0mret\u001b[0m \u001b[0;34m=\u001b[0m \u001b[0ma\u001b[0m \u001b[0;34m@\u001b[0m \u001b[0mb\u001b[0m\u001b[0;34m\u001b[0m\u001b[0;34m\u001b[0m\u001b[0m\n\u001b[0m\u001b[1;32m    154\u001b[0m \u001b[0;34m\u001b[0m\u001b[0m\n\u001b[1;32m    155\u001b[0m     if (\n",
      "\u001b[0;31mKeyboardInterrupt\u001b[0m: "
     ]
    }
   ],
   "source": [
    "#PCA(2-4)\n",
    "method_name='PCA'\n",
    "all_time=[]\n",
    "for red_param in [2,3,4]:\n",
    "    for dataset_name in ['Fashion','MNIST','SignLanguage']:\n",
    "        for model_name in ['RF','GB','pytorch']:\n",
    "            for shuffle in range(10):\n",
    "                if model_name=='pytorch':\n",
    "                    model_info=load_model_pytorch(dataset_name, model_name, shuffle)\n",
    "                else:\n",
    "                    model_info= load_model(dataset_name, model_name, shuffle)\n",
    "                data=model_info.data\n",
    "                pixels=int(sqrt(data.X_train.shape[1]))\n",
    "                size=pixels//red_param\n",
    "                pca = PCA(n_components=size**2)\n",
    "                \n",
    "                model_info.data.X_train=pca.fit_transform(model_info.data.X_train)\n",
    "\n",
    "                model_info.data.X_test=pca.transform(model_info.data.X_test)\n",
    "              \n",
    "                model_info.data.X_val=pca.transform(model_info.data.X_val)\n",
    "            \n",
    "            \n",
    "                print(model_info.data.X_train.shape,model_info.data.X_val.shape,model_info.data.X_test.shape)\n",
    "\n",
    "                num_label=model_info.data.num_labels\n",
    "                stability,time_all,ex_in_time=new_stability_calc(np.array(model_info.data.X_train),np.array(model_info.data.X_val),model_info.data.y_train,model_info.y_pred_val,num_label)\n",
    "                stability_test,_,_=new_stability_calc(np.array(model_info.data.X_train),np.array(model_info.data.X_test),model_info.data.y_train,model_info.y_pred_test,num_label)\n",
    "\n",
    "                all_time.append((model_name,time_all,ex_in_time))\n",
    "                np.save(f'./stab/{dataset_name}/stab_{method_name}_{red_param}_{dataset_name}_{model_name}_{shuffle}.npy',stability)\n",
    "                np.save(f'./stab/{dataset_name}/test_stab_{method_name}_{red_param}_{dataset_name}_{model_name}_{shuffle}.npy',stability_test)\n",
    "\n",
    "all_time"
   ]
  },
  {
   "cell_type": "code",
   "execution_count": null,
   "id": "d3c3277a-eda9-45ef-860d-94420e293c88",
   "metadata": {},
   "outputs": [],
   "source": []
  },
  {
   "cell_type": "markdown",
   "id": "59abc499-d6e6-4e1e-84e1-6179ba547ad3",
   "metadata": {},
   "source": [
    "# Random choice of pixels"
   ]
  },
  {
   "cell_type": "code",
   "execution_count": null,
   "id": "51fc44f8-71d0-444c-a073-202b73e5920f",
   "metadata": {},
   "outputs": [],
   "source": [
    "np.random.randint(0,255, size=pixels//red_param)"
   ]
  },
  {
   "cell_type": "code",
   "execution_count": 55,
   "id": "586515e2-7427-4a87-9245-f391cde68f0d",
   "metadata": {},
   "outputs": [
    {
     "data": {
      "text/plain": [
       "array([193,  14, 107, 138,  35,  35, 225, 160, 146, 155,  63,  42,  95,\n",
       "       166, 129,  83,  48, 198, 234,  27,   9, 138, 194,  52,  23,  98,\n",
       "       186, 201, 148,  97, 222, 118,  18, 241, 175,  29, 137,   6, 154,\n",
       "       167, 229,  78, 206, 125, 137,  68,  41, 224,  44, 163, 129, 215,\n",
       "       215, 184,  59, 246, 128,  93, 207, 168, 111, 183,  19, 146, 238,\n",
       "        57, 106,  38,  92,  93, 110, 167,  12,  82, 169,  13,  29,  27,\n",
       "        97,  95, 190, 187, 135, 156,  13, 103, 228,  11,  30,  25,   5,\n",
       "        98, 163, 200,  80,  50, 189,  76, 247, 219, 119,   8, 159,  67,\n",
       "         7, 209,  78,  14, 222,   2, 210,  85, 249,  18, 224,  29,  64,\n",
       "       254,  26, 105,  70,  86, 160, 101, 102, 208,  93, 188, 197,  76,\n",
       "        59, 182,  44,  28, 253,  18,  45,   5, 199, 173,  22, 147,  30,\n",
       "         2,  54,  52,  43, 155, 127,  23,  48, 168, 106, 168,  20, 214,\n",
       "       122, 180, 196,  65, 203, 183,  30, 213,  46,  51,  41, 248, 214,\n",
       "       197,   7,   8, 200,  51, 213, 179, 155,  46, 118,  26,  42, 211,\n",
       "        80, 192,  19, 237,  51, 111,  95, 247, 212,  46, 104,  57,  50,\n",
       "        86])"
      ]
     },
     "execution_count": 55,
     "metadata": {},
     "output_type": "execute_result"
    }
   ],
   "source": [
    "np.random.randint(0,255, size=196)"
   ]
  },
  {
   "cell_type": "code",
   "execution_count": null,
   "id": "167ba881-5f4f-45cc-b154-5b310dddb049",
   "metadata": {},
   "outputs": [],
   "source": []
  },
  {
   "cell_type": "code",
   "execution_count": 58,
   "id": "89106302-fc82-49ca-9c03-3e3780e029ef",
   "metadata": {},
   "outputs": [
    {
     "name": "stdout",
     "output_type": "stream",
     "text": [
      "(42000, 196) (14000, 196) (14000, 196)\n"
     ]
    },
    {
     "ename": "KeyboardInterrupt",
     "evalue": "",
     "output_type": "error",
     "traceback": [
      "\u001b[0;31m---------------------------------------------------------------------------\u001b[0m",
      "\u001b[0;31mKeyboardInterrupt\u001b[0m                         Traceback (most recent call last)",
      "\u001b[0;32m/var/folders/bq/yr2g0hqx0vqcpvr3lgf609sh0000gn/T/ipykernel_92530/1869384767.py\u001b[0m in \u001b[0;36m<module>\u001b[0;34m\u001b[0m\n\u001b[1;32m     25\u001b[0m \u001b[0;34m\u001b[0m\u001b[0m\n\u001b[1;32m     26\u001b[0m                 \u001b[0mnum_label\u001b[0m\u001b[0;34m=\u001b[0m\u001b[0mmodel_info\u001b[0m\u001b[0;34m.\u001b[0m\u001b[0mdata\u001b[0m\u001b[0;34m.\u001b[0m\u001b[0mnum_labels\u001b[0m\u001b[0;34m\u001b[0m\u001b[0;34m\u001b[0m\u001b[0m\n\u001b[0;32m---> 27\u001b[0;31m                 \u001b[0mstability\u001b[0m\u001b[0;34m,\u001b[0m\u001b[0mtime_all\u001b[0m\u001b[0;34m,\u001b[0m\u001b[0mex_in_time\u001b[0m\u001b[0;34m=\u001b[0m\u001b[0mnew_stability_calc\u001b[0m\u001b[0;34m(\u001b[0m\u001b[0mnp\u001b[0m\u001b[0;34m.\u001b[0m\u001b[0marray\u001b[0m\u001b[0;34m(\u001b[0m\u001b[0mmodel_info\u001b[0m\u001b[0;34m.\u001b[0m\u001b[0mdata\u001b[0m\u001b[0;34m.\u001b[0m\u001b[0mX_train\u001b[0m\u001b[0;34m)\u001b[0m\u001b[0;34m,\u001b[0m\u001b[0mnp\u001b[0m\u001b[0;34m.\u001b[0m\u001b[0marray\u001b[0m\u001b[0;34m(\u001b[0m\u001b[0mmodel_info\u001b[0m\u001b[0;34m.\u001b[0m\u001b[0mdata\u001b[0m\u001b[0;34m.\u001b[0m\u001b[0mX_val\u001b[0m\u001b[0;34m)\u001b[0m\u001b[0;34m,\u001b[0m\u001b[0mmodel_info\u001b[0m\u001b[0;34m.\u001b[0m\u001b[0mdata\u001b[0m\u001b[0;34m.\u001b[0m\u001b[0my_train\u001b[0m\u001b[0;34m,\u001b[0m\u001b[0mmodel_info\u001b[0m\u001b[0;34m.\u001b[0m\u001b[0my_pred_val\u001b[0m\u001b[0;34m,\u001b[0m\u001b[0mnum_label\u001b[0m\u001b[0;34m)\u001b[0m\u001b[0;34m\u001b[0m\u001b[0;34m\u001b[0m\u001b[0m\n\u001b[0m\u001b[1;32m     28\u001b[0m                 \u001b[0mstability_test\u001b[0m\u001b[0;34m,\u001b[0m\u001b[0m_\u001b[0m\u001b[0;34m,\u001b[0m\u001b[0m_\u001b[0m\u001b[0;34m=\u001b[0m\u001b[0mnew_stability_calc\u001b[0m\u001b[0;34m(\u001b[0m\u001b[0mnp\u001b[0m\u001b[0;34m.\u001b[0m\u001b[0marray\u001b[0m\u001b[0;34m(\u001b[0m\u001b[0mmodel_info\u001b[0m\u001b[0;34m.\u001b[0m\u001b[0mdata\u001b[0m\u001b[0;34m.\u001b[0m\u001b[0mX_train\u001b[0m\u001b[0;34m)\u001b[0m\u001b[0;34m,\u001b[0m\u001b[0mnp\u001b[0m\u001b[0;34m.\u001b[0m\u001b[0marray\u001b[0m\u001b[0;34m(\u001b[0m\u001b[0mmodel_info\u001b[0m\u001b[0;34m.\u001b[0m\u001b[0mdata\u001b[0m\u001b[0;34m.\u001b[0m\u001b[0mX_test\u001b[0m\u001b[0;34m)\u001b[0m\u001b[0;34m,\u001b[0m\u001b[0mmodel_info\u001b[0m\u001b[0;34m.\u001b[0m\u001b[0mdata\u001b[0m\u001b[0;34m.\u001b[0m\u001b[0my_train\u001b[0m\u001b[0;34m,\u001b[0m\u001b[0mmodel_info\u001b[0m\u001b[0;34m.\u001b[0m\u001b[0my_pred_test\u001b[0m\u001b[0;34m,\u001b[0m\u001b[0mnum_label\u001b[0m\u001b[0;34m)\u001b[0m\u001b[0;34m\u001b[0m\u001b[0;34m\u001b[0m\u001b[0m\n\u001b[1;32m     29\u001b[0m \u001b[0;34m\u001b[0m\u001b[0m\n",
      "\u001b[0;32m~/Documents/GitHub/Geometric-Calibrator/utils.py\u001b[0m in \u001b[0;36mnew_stability_calc\u001b[0;34m(trainX, testX, train_y, test_y_pred, num_labels)\u001b[0m\n\u001b[1;32m    694\u001b[0m \u001b[0;34m\u001b[0m\u001b[0m\n\u001b[1;32m    695\u001b[0m         \u001b[0mdist1\u001b[0m\u001b[0;34m,\u001b[0m\u001b[0midx1\u001b[0m\u001b[0;34m=\u001b[0m \u001b[0msame_nbrs\u001b[0m\u001b[0;34m[\u001b[0m\u001b[0mpred_label\u001b[0m\u001b[0;34m]\u001b[0m\u001b[0;34m.\u001b[0m\u001b[0mkneighbors\u001b[0m\u001b[0;34m(\u001b[0m\u001b[0;34m[\u001b[0m\u001b[0mx\u001b[0m\u001b[0;34m]\u001b[0m\u001b[0;34m)\u001b[0m\u001b[0;34m\u001b[0m\u001b[0;34m\u001b[0m\u001b[0m\n\u001b[0;32m--> 696\u001b[0;31m         \u001b[0mdist2\u001b[0m\u001b[0;34m,\u001b[0m\u001b[0midx2\u001b[0m\u001b[0;34m=\u001b[0m \u001b[0mother_nbrs\u001b[0m\u001b[0;34m[\u001b[0m\u001b[0mpred_label\u001b[0m\u001b[0;34m]\u001b[0m\u001b[0;34m.\u001b[0m\u001b[0mkneighbors\u001b[0m\u001b[0;34m(\u001b[0m\u001b[0;34m[\u001b[0m\u001b[0mx\u001b[0m\u001b[0;34m]\u001b[0m\u001b[0;34m)\u001b[0m\u001b[0;34m\u001b[0m\u001b[0;34m\u001b[0m\u001b[0m\n\u001b[0m\u001b[1;32m    697\u001b[0m \u001b[0;34m\u001b[0m\u001b[0m\n\u001b[1;32m    698\u001b[0m         \u001b[0mstability\u001b[0m\u001b[0;34m[\u001b[0m\u001b[0mi\u001b[0m\u001b[0;34m]\u001b[0m\u001b[0;34m=\u001b[0m\u001b[0;34m(\u001b[0m\u001b[0mdist2\u001b[0m\u001b[0;34m-\u001b[0m\u001b[0mdist1\u001b[0m\u001b[0;34m)\u001b[0m\u001b[0;34m/\u001b[0m\u001b[0;36m2\u001b[0m\u001b[0;34m\u001b[0m\u001b[0;34m\u001b[0m\u001b[0m\n",
      "\u001b[0;32m~/opt/miniconda3/envs/ML/lib/python3.9/site-packages/sklearn/neighbors/_base.py\u001b[0m in \u001b[0;36mkneighbors\u001b[0;34m(self, X, n_neighbors, return_distance)\u001b[0m\n\u001b[1;32m    747\u001b[0m                 \u001b[0mkwds\u001b[0m \u001b[0;34m=\u001b[0m \u001b[0mself\u001b[0m\u001b[0;34m.\u001b[0m\u001b[0meffective_metric_params_\u001b[0m\u001b[0;34m\u001b[0m\u001b[0;34m\u001b[0m\u001b[0m\n\u001b[1;32m    748\u001b[0m \u001b[0;34m\u001b[0m\u001b[0m\n\u001b[0;32m--> 749\u001b[0;31m             chunked_results = list(\n\u001b[0m\u001b[1;32m    750\u001b[0m                 pairwise_distances_chunked(\n\u001b[1;32m    751\u001b[0m                     \u001b[0mX\u001b[0m\u001b[0;34m,\u001b[0m\u001b[0;34m\u001b[0m\u001b[0;34m\u001b[0m\u001b[0m\n",
      "\u001b[0;32m~/opt/miniconda3/envs/ML/lib/python3.9/site-packages/sklearn/metrics/pairwise.py\u001b[0m in \u001b[0;36mpairwise_distances_chunked\u001b[0;34m(X, Y, reduce_func, metric, n_jobs, working_memory, **kwds)\u001b[0m\n\u001b[1;32m   1710\u001b[0m         \u001b[0;32melse\u001b[0m\u001b[0;34m:\u001b[0m\u001b[0;34m\u001b[0m\u001b[0;34m\u001b[0m\u001b[0m\n\u001b[1;32m   1711\u001b[0m             \u001b[0mX_chunk\u001b[0m \u001b[0;34m=\u001b[0m \u001b[0mX\u001b[0m\u001b[0;34m[\u001b[0m\u001b[0msl\u001b[0m\u001b[0;34m]\u001b[0m\u001b[0;34m\u001b[0m\u001b[0;34m\u001b[0m\u001b[0m\n\u001b[0;32m-> 1712\u001b[0;31m         \u001b[0mD_chunk\u001b[0m \u001b[0;34m=\u001b[0m \u001b[0mpairwise_distances\u001b[0m\u001b[0;34m(\u001b[0m\u001b[0mX_chunk\u001b[0m\u001b[0;34m,\u001b[0m \u001b[0mY\u001b[0m\u001b[0;34m,\u001b[0m \u001b[0mmetric\u001b[0m\u001b[0;34m=\u001b[0m\u001b[0mmetric\u001b[0m\u001b[0;34m,\u001b[0m \u001b[0mn_jobs\u001b[0m\u001b[0;34m=\u001b[0m\u001b[0mn_jobs\u001b[0m\u001b[0;34m,\u001b[0m \u001b[0;34m**\u001b[0m\u001b[0mkwds\u001b[0m\u001b[0;34m)\u001b[0m\u001b[0;34m\u001b[0m\u001b[0;34m\u001b[0m\u001b[0m\n\u001b[0m\u001b[1;32m   1713\u001b[0m         if (X is Y or Y is None) and PAIRWISE_DISTANCE_FUNCTIONS.get(\n\u001b[1;32m   1714\u001b[0m             \u001b[0mmetric\u001b[0m\u001b[0;34m,\u001b[0m \u001b[0;32mNone\u001b[0m\u001b[0;34m\u001b[0m\u001b[0;34m\u001b[0m\u001b[0m\n",
      "\u001b[0;32m~/opt/miniconda3/envs/ML/lib/python3.9/site-packages/sklearn/metrics/pairwise.py\u001b[0m in \u001b[0;36mpairwise_distances\u001b[0;34m(X, Y, metric, n_jobs, force_all_finite, **kwds)\u001b[0m\n\u001b[1;32m   1882\u001b[0m         \u001b[0mfunc\u001b[0m \u001b[0;34m=\u001b[0m \u001b[0mpartial\u001b[0m\u001b[0;34m(\u001b[0m\u001b[0mdistance\u001b[0m\u001b[0;34m.\u001b[0m\u001b[0mcdist\u001b[0m\u001b[0;34m,\u001b[0m \u001b[0mmetric\u001b[0m\u001b[0;34m=\u001b[0m\u001b[0mmetric\u001b[0m\u001b[0;34m,\u001b[0m \u001b[0;34m**\u001b[0m\u001b[0mkwds\u001b[0m\u001b[0;34m)\u001b[0m\u001b[0;34m\u001b[0m\u001b[0;34m\u001b[0m\u001b[0m\n\u001b[1;32m   1883\u001b[0m \u001b[0;34m\u001b[0m\u001b[0m\n\u001b[0;32m-> 1884\u001b[0;31m     \u001b[0;32mreturn\u001b[0m \u001b[0m_parallel_pairwise\u001b[0m\u001b[0;34m(\u001b[0m\u001b[0mX\u001b[0m\u001b[0;34m,\u001b[0m \u001b[0mY\u001b[0m\u001b[0;34m,\u001b[0m \u001b[0mfunc\u001b[0m\u001b[0;34m,\u001b[0m \u001b[0mn_jobs\u001b[0m\u001b[0;34m,\u001b[0m \u001b[0;34m**\u001b[0m\u001b[0mkwds\u001b[0m\u001b[0;34m)\u001b[0m\u001b[0;34m\u001b[0m\u001b[0;34m\u001b[0m\u001b[0m\n\u001b[0m\u001b[1;32m   1885\u001b[0m \u001b[0;34m\u001b[0m\u001b[0m\n\u001b[1;32m   1886\u001b[0m \u001b[0;34m\u001b[0m\u001b[0m\n",
      "\u001b[0;32m~/opt/miniconda3/envs/ML/lib/python3.9/site-packages/sklearn/metrics/pairwise.py\u001b[0m in \u001b[0;36m_parallel_pairwise\u001b[0;34m(X, Y, func, n_jobs, **kwds)\u001b[0m\n\u001b[1;32m   1423\u001b[0m \u001b[0;34m\u001b[0m\u001b[0m\n\u001b[1;32m   1424\u001b[0m     \u001b[0;32mif\u001b[0m \u001b[0meffective_n_jobs\u001b[0m\u001b[0;34m(\u001b[0m\u001b[0mn_jobs\u001b[0m\u001b[0;34m)\u001b[0m \u001b[0;34m==\u001b[0m \u001b[0;36m1\u001b[0m\u001b[0;34m:\u001b[0m\u001b[0;34m\u001b[0m\u001b[0;34m\u001b[0m\u001b[0m\n\u001b[0;32m-> 1425\u001b[0;31m         \u001b[0;32mreturn\u001b[0m \u001b[0mfunc\u001b[0m\u001b[0;34m(\u001b[0m\u001b[0mX\u001b[0m\u001b[0;34m,\u001b[0m \u001b[0mY\u001b[0m\u001b[0;34m,\u001b[0m \u001b[0;34m**\u001b[0m\u001b[0mkwds\u001b[0m\u001b[0;34m)\u001b[0m\u001b[0;34m\u001b[0m\u001b[0;34m\u001b[0m\u001b[0m\n\u001b[0m\u001b[1;32m   1426\u001b[0m \u001b[0;34m\u001b[0m\u001b[0m\n\u001b[1;32m   1427\u001b[0m     \u001b[0;31m# enforce a threading backend to prevent data communication overhead\u001b[0m\u001b[0;34m\u001b[0m\u001b[0;34m\u001b[0m\u001b[0m\n",
      "\u001b[0;32m~/opt/miniconda3/envs/ML/lib/python3.9/site-packages/sklearn/metrics/pairwise.py\u001b[0m in \u001b[0;36meuclidean_distances\u001b[0;34m(X, Y, Y_norm_squared, squared, X_norm_squared)\u001b[0m\n\u001b[1;32m    325\u001b[0m             )\n\u001b[1;32m    326\u001b[0m \u001b[0;34m\u001b[0m\u001b[0m\n\u001b[0;32m--> 327\u001b[0;31m     \u001b[0;32mreturn\u001b[0m \u001b[0m_euclidean_distances\u001b[0m\u001b[0;34m(\u001b[0m\u001b[0mX\u001b[0m\u001b[0;34m,\u001b[0m \u001b[0mY\u001b[0m\u001b[0;34m,\u001b[0m \u001b[0mX_norm_squared\u001b[0m\u001b[0;34m,\u001b[0m \u001b[0mY_norm_squared\u001b[0m\u001b[0;34m,\u001b[0m \u001b[0msquared\u001b[0m\u001b[0;34m)\u001b[0m\u001b[0;34m\u001b[0m\u001b[0;34m\u001b[0m\u001b[0m\n\u001b[0m\u001b[1;32m    328\u001b[0m \u001b[0;34m\u001b[0m\u001b[0m\n\u001b[1;32m    329\u001b[0m \u001b[0;34m\u001b[0m\u001b[0m\n",
      "\u001b[0;32m~/opt/miniconda3/envs/ML/lib/python3.9/site-packages/sklearn/metrics/pairwise.py\u001b[0m in \u001b[0;36m_euclidean_distances\u001b[0;34m(X, Y, X_norm_squared, Y_norm_squared, squared)\u001b[0m\n\u001b[1;32m    366\u001b[0m     \u001b[0;32melse\u001b[0m\u001b[0;34m:\u001b[0m\u001b[0;34m\u001b[0m\u001b[0;34m\u001b[0m\u001b[0m\n\u001b[1;32m    367\u001b[0m         \u001b[0;31m# if dtype is already float64, no need to chunk and upcast\u001b[0m\u001b[0;34m\u001b[0m\u001b[0;34m\u001b[0m\u001b[0m\n\u001b[0;32m--> 368\u001b[0;31m         \u001b[0mdistances\u001b[0m \u001b[0;34m=\u001b[0m \u001b[0;34m-\u001b[0m\u001b[0;36m2\u001b[0m \u001b[0;34m*\u001b[0m \u001b[0msafe_sparse_dot\u001b[0m\u001b[0;34m(\u001b[0m\u001b[0mX\u001b[0m\u001b[0;34m,\u001b[0m \u001b[0mY\u001b[0m\u001b[0;34m.\u001b[0m\u001b[0mT\u001b[0m\u001b[0;34m,\u001b[0m \u001b[0mdense_output\u001b[0m\u001b[0;34m=\u001b[0m\u001b[0;32mTrue\u001b[0m\u001b[0;34m)\u001b[0m\u001b[0;34m\u001b[0m\u001b[0;34m\u001b[0m\u001b[0m\n\u001b[0m\u001b[1;32m    369\u001b[0m         \u001b[0mdistances\u001b[0m \u001b[0;34m+=\u001b[0m \u001b[0mXX\u001b[0m\u001b[0;34m\u001b[0m\u001b[0;34m\u001b[0m\u001b[0m\n\u001b[1;32m    370\u001b[0m         \u001b[0mdistances\u001b[0m \u001b[0;34m+=\u001b[0m \u001b[0mYY\u001b[0m\u001b[0;34m\u001b[0m\u001b[0;34m\u001b[0m\u001b[0m\n",
      "\u001b[0;32m~/opt/miniconda3/envs/ML/lib/python3.9/site-packages/sklearn/utils/extmath.py\u001b[0m in \u001b[0;36msafe_sparse_dot\u001b[0;34m(a, b, dense_output)\u001b[0m\n\u001b[1;32m    151\u001b[0m             \u001b[0mret\u001b[0m \u001b[0;34m=\u001b[0m \u001b[0mnp\u001b[0m\u001b[0;34m.\u001b[0m\u001b[0mdot\u001b[0m\u001b[0;34m(\u001b[0m\u001b[0ma\u001b[0m\u001b[0;34m,\u001b[0m \u001b[0mb\u001b[0m\u001b[0;34m)\u001b[0m\u001b[0;34m\u001b[0m\u001b[0;34m\u001b[0m\u001b[0m\n\u001b[1;32m    152\u001b[0m     \u001b[0;32melse\u001b[0m\u001b[0;34m:\u001b[0m\u001b[0;34m\u001b[0m\u001b[0;34m\u001b[0m\u001b[0m\n\u001b[0;32m--> 153\u001b[0;31m         \u001b[0mret\u001b[0m \u001b[0;34m=\u001b[0m \u001b[0ma\u001b[0m \u001b[0;34m@\u001b[0m \u001b[0mb\u001b[0m\u001b[0;34m\u001b[0m\u001b[0;34m\u001b[0m\u001b[0m\n\u001b[0m\u001b[1;32m    154\u001b[0m \u001b[0;34m\u001b[0m\u001b[0m\n\u001b[1;32m    155\u001b[0m     if (\n",
      "\u001b[0;31mKeyboardInterrupt\u001b[0m: "
     ]
    }
   ],
   "source": [
    "#random_pixels(2-4)\n",
    "method_name='rand_pix'\n",
    "all_time=[]\n",
    "for red_param in [2,3,4]:\n",
    "    for dataset_name in ['Fashion','MNIST','SignLanguage']:\n",
    "        for model_name in ['RF','GB','pytorch']:\n",
    "            for shuffle in range(10):\n",
    "                if model_name=='pytorch':\n",
    "                    model_info=load_model_pytorch(dataset_name, model_name, shuffle)\n",
    "                else:\n",
    "                    model_info= load_model(dataset_name, model_name, shuffle)\n",
    "                data=model_info.data\n",
    "                pixels=int(sqrt(data.X_train.shape[1]))\n",
    "                size=(pixels//red_param)**2\n",
    "                string=np.random.randint(0,255, size=size)\n",
    "                \n",
    "                model_info.data.X_train=model_info.data.X_train[:,string]\n",
    "\n",
    "                model_info.data.X_test=model_info.data.X_test[:,string]\n",
    "              \n",
    "                model_info.data.X_val=model_info.data.X_val[:,string]\n",
    "            \n",
    "            \n",
    "                print(model_info.data.X_train.shape,model_info.data.X_val.shape,model_info.data.X_test.shape)\n",
    "\n",
    "                num_label=model_info.data.num_labels\n",
    "                stability,time_all,ex_in_time=new_stability_calc(np.array(model_info.data.X_train),np.array(model_info.data.X_val),model_info.data.y_train,model_info.y_pred_val,num_label)\n",
    "                stability_test,_,_=new_stability_calc(np.array(model_info.data.X_train),np.array(model_info.data.X_test),model_info.data.y_train,model_info.y_pred_test,num_label)\n",
    "\n",
    "                all_time.append((model_name,time_all,ex_in_time))\n",
    "                np.save(f'./stab/{dataset_name}/stab_{method_name}_{red_param}_{dataset_name}_{model_name}_{shuffle}.npy',stability)\n",
    "                np.save(f'./stab/{dataset_name}/test_stab_{method_name}_{red_param}_{dataset_name}_{model_name}_{shuffle}.npy',stability_test)\n",
    "\n",
    "all_time"
   ]
  },
  {
   "cell_type": "code",
   "execution_count": 60,
   "id": "030c54b6-d38e-4cea-a5d2-97c782f7fa9e",
   "metadata": {},
   "outputs": [
    {
     "data": {
      "text/plain": [
       "(42000, 196)"
      ]
     },
     "execution_count": 60,
     "metadata": {},
     "output_type": "execute_result"
    }
   ],
   "source": [
    "model_info.data.X_train.shape"
   ]
  },
  {
   "cell_type": "code",
   "execution_count": null,
   "id": "e35a3cbc-3e74-4cb9-9032-13059409d1d1",
   "metadata": {},
   "outputs": [],
   "source": []
  },
  {
   "cell_type": "code",
   "execution_count": null,
   "id": "026af585-a92f-4332-b717-7da629465178",
   "metadata": {},
   "outputs": [],
   "source": []
  },
  {
   "cell_type": "markdown",
   "id": "9a7d6e6f-8ea0-46f1-b409-e83faed5c142",
   "metadata": {},
   "source": [
    "# random subset"
   ]
  },
  {
   "cell_type": "code",
   "execution_count": 82,
   "id": "5d219e9d-d240-43f2-b4b8-0e01969c04cf",
   "metadata": {},
   "outputs": [
    {
     "name": "stdout",
     "output_type": "stream",
     "text": [
      "(21000, 784) (14000, 784) (14000, 784)\n"
     ]
    },
    {
     "ename": "KeyboardInterrupt",
     "evalue": "",
     "output_type": "error",
     "traceback": [
      "\u001b[0;31m---------------------------------------------------------------------------\u001b[0m",
      "\u001b[0;31mKeyboardInterrupt\u001b[0m                         Traceback (most recent call last)",
      "\u001b[0;32m/var/folders/bq/yr2g0hqx0vqcpvr3lgf609sh0000gn/T/ipykernel_92530/328068034.py\u001b[0m in \u001b[0;36m<module>\u001b[0;34m\u001b[0m\n\u001b[1;32m     20\u001b[0m \u001b[0;34m\u001b[0m\u001b[0m\n\u001b[1;32m     21\u001b[0m                 \u001b[0mnum_label\u001b[0m\u001b[0;34m=\u001b[0m\u001b[0mmodel_info\u001b[0m\u001b[0;34m.\u001b[0m\u001b[0mdata\u001b[0m\u001b[0;34m.\u001b[0m\u001b[0mnum_labels\u001b[0m\u001b[0;34m\u001b[0m\u001b[0;34m\u001b[0m\u001b[0m\n\u001b[0;32m---> 22\u001b[0;31m                 \u001b[0mstability\u001b[0m\u001b[0;34m,\u001b[0m\u001b[0mtime_all\u001b[0m\u001b[0;34m,\u001b[0m\u001b[0mex_in_time\u001b[0m\u001b[0;34m=\u001b[0m\u001b[0mnew_stability_calc\u001b[0m\u001b[0;34m(\u001b[0m\u001b[0mnp\u001b[0m\u001b[0;34m.\u001b[0m\u001b[0marray\u001b[0m\u001b[0;34m(\u001b[0m\u001b[0mmodel_info\u001b[0m\u001b[0;34m.\u001b[0m\u001b[0mdata\u001b[0m\u001b[0;34m.\u001b[0m\u001b[0mX_train\u001b[0m\u001b[0;34m)\u001b[0m\u001b[0;34m,\u001b[0m\u001b[0mnp\u001b[0m\u001b[0;34m.\u001b[0m\u001b[0marray\u001b[0m\u001b[0;34m(\u001b[0m\u001b[0mmodel_info\u001b[0m\u001b[0;34m.\u001b[0m\u001b[0mdata\u001b[0m\u001b[0;34m.\u001b[0m\u001b[0mX_val\u001b[0m\u001b[0;34m)\u001b[0m\u001b[0;34m,\u001b[0m\u001b[0mmodel_info\u001b[0m\u001b[0;34m.\u001b[0m\u001b[0mdata\u001b[0m\u001b[0;34m.\u001b[0m\u001b[0my_train\u001b[0m\u001b[0;34m,\u001b[0m\u001b[0mmodel_info\u001b[0m\u001b[0;34m.\u001b[0m\u001b[0my_pred_val\u001b[0m\u001b[0;34m,\u001b[0m\u001b[0mnum_label\u001b[0m\u001b[0;34m)\u001b[0m\u001b[0;34m\u001b[0m\u001b[0;34m\u001b[0m\u001b[0m\n\u001b[0m\u001b[1;32m     23\u001b[0m                 \u001b[0mstability_test\u001b[0m\u001b[0;34m,\u001b[0m\u001b[0m_\u001b[0m\u001b[0;34m,\u001b[0m\u001b[0m_\u001b[0m\u001b[0;34m=\u001b[0m\u001b[0mnew_stability_calc\u001b[0m\u001b[0;34m(\u001b[0m\u001b[0mnp\u001b[0m\u001b[0;34m.\u001b[0m\u001b[0marray\u001b[0m\u001b[0;34m(\u001b[0m\u001b[0mmodel_info\u001b[0m\u001b[0;34m.\u001b[0m\u001b[0mdata\u001b[0m\u001b[0;34m.\u001b[0m\u001b[0mX_train\u001b[0m\u001b[0;34m)\u001b[0m\u001b[0;34m,\u001b[0m\u001b[0mnp\u001b[0m\u001b[0;34m.\u001b[0m\u001b[0marray\u001b[0m\u001b[0;34m(\u001b[0m\u001b[0mmodel_info\u001b[0m\u001b[0;34m.\u001b[0m\u001b[0mdata\u001b[0m\u001b[0;34m.\u001b[0m\u001b[0mX_test\u001b[0m\u001b[0;34m)\u001b[0m\u001b[0;34m,\u001b[0m\u001b[0mmodel_info\u001b[0m\u001b[0;34m.\u001b[0m\u001b[0mdata\u001b[0m\u001b[0;34m.\u001b[0m\u001b[0my_train\u001b[0m\u001b[0;34m,\u001b[0m\u001b[0mmodel_info\u001b[0m\u001b[0;34m.\u001b[0m\u001b[0my_pred_test\u001b[0m\u001b[0;34m,\u001b[0m\u001b[0mnum_label\u001b[0m\u001b[0;34m)\u001b[0m\u001b[0;34m\u001b[0m\u001b[0;34m\u001b[0m\u001b[0m\n\u001b[1;32m     24\u001b[0m \u001b[0;34m\u001b[0m\u001b[0m\n",
      "\u001b[0;32m~/Documents/GitHub/Geometric-Calibrator/utils.py\u001b[0m in \u001b[0;36mnew_stability_calc\u001b[0;34m(trainX, testX, train_y, test_y_pred, num_labels)\u001b[0m\n\u001b[1;32m    694\u001b[0m \u001b[0;34m\u001b[0m\u001b[0m\n\u001b[1;32m    695\u001b[0m         \u001b[0mdist1\u001b[0m\u001b[0;34m,\u001b[0m\u001b[0midx1\u001b[0m\u001b[0;34m=\u001b[0m \u001b[0msame_nbrs\u001b[0m\u001b[0;34m[\u001b[0m\u001b[0mpred_label\u001b[0m\u001b[0;34m]\u001b[0m\u001b[0;34m.\u001b[0m\u001b[0mkneighbors\u001b[0m\u001b[0;34m(\u001b[0m\u001b[0;34m[\u001b[0m\u001b[0mx\u001b[0m\u001b[0;34m]\u001b[0m\u001b[0;34m)\u001b[0m\u001b[0;34m\u001b[0m\u001b[0;34m\u001b[0m\u001b[0m\n\u001b[0;32m--> 696\u001b[0;31m         \u001b[0mdist2\u001b[0m\u001b[0;34m,\u001b[0m\u001b[0midx2\u001b[0m\u001b[0;34m=\u001b[0m \u001b[0mother_nbrs\u001b[0m\u001b[0;34m[\u001b[0m\u001b[0mpred_label\u001b[0m\u001b[0;34m]\u001b[0m\u001b[0;34m.\u001b[0m\u001b[0mkneighbors\u001b[0m\u001b[0;34m(\u001b[0m\u001b[0;34m[\u001b[0m\u001b[0mx\u001b[0m\u001b[0;34m]\u001b[0m\u001b[0;34m)\u001b[0m\u001b[0;34m\u001b[0m\u001b[0;34m\u001b[0m\u001b[0m\n\u001b[0m\u001b[1;32m    697\u001b[0m \u001b[0;34m\u001b[0m\u001b[0m\n\u001b[1;32m    698\u001b[0m         \u001b[0mstability\u001b[0m\u001b[0;34m[\u001b[0m\u001b[0mi\u001b[0m\u001b[0;34m]\u001b[0m\u001b[0;34m=\u001b[0m\u001b[0;34m(\u001b[0m\u001b[0mdist2\u001b[0m\u001b[0;34m-\u001b[0m\u001b[0mdist1\u001b[0m\u001b[0;34m)\u001b[0m\u001b[0;34m/\u001b[0m\u001b[0;36m2\u001b[0m\u001b[0;34m\u001b[0m\u001b[0;34m\u001b[0m\u001b[0m\n",
      "\u001b[0;32m~/opt/miniconda3/envs/ML/lib/python3.9/site-packages/sklearn/neighbors/_base.py\u001b[0m in \u001b[0;36mkneighbors\u001b[0;34m(self, X, n_neighbors, return_distance)\u001b[0m\n\u001b[1;32m    747\u001b[0m                 \u001b[0mkwds\u001b[0m \u001b[0;34m=\u001b[0m \u001b[0mself\u001b[0m\u001b[0;34m.\u001b[0m\u001b[0meffective_metric_params_\u001b[0m\u001b[0;34m\u001b[0m\u001b[0;34m\u001b[0m\u001b[0m\n\u001b[1;32m    748\u001b[0m \u001b[0;34m\u001b[0m\u001b[0m\n\u001b[0;32m--> 749\u001b[0;31m             chunked_results = list(\n\u001b[0m\u001b[1;32m    750\u001b[0m                 pairwise_distances_chunked(\n\u001b[1;32m    751\u001b[0m                     \u001b[0mX\u001b[0m\u001b[0;34m,\u001b[0m\u001b[0;34m\u001b[0m\u001b[0;34m\u001b[0m\u001b[0m\n",
      "\u001b[0;32m~/opt/miniconda3/envs/ML/lib/python3.9/site-packages/sklearn/metrics/pairwise.py\u001b[0m in \u001b[0;36mpairwise_distances_chunked\u001b[0;34m(X, Y, reduce_func, metric, n_jobs, working_memory, **kwds)\u001b[0m\n\u001b[1;32m   1710\u001b[0m         \u001b[0;32melse\u001b[0m\u001b[0;34m:\u001b[0m\u001b[0;34m\u001b[0m\u001b[0;34m\u001b[0m\u001b[0m\n\u001b[1;32m   1711\u001b[0m             \u001b[0mX_chunk\u001b[0m \u001b[0;34m=\u001b[0m \u001b[0mX\u001b[0m\u001b[0;34m[\u001b[0m\u001b[0msl\u001b[0m\u001b[0;34m]\u001b[0m\u001b[0;34m\u001b[0m\u001b[0;34m\u001b[0m\u001b[0m\n\u001b[0;32m-> 1712\u001b[0;31m         \u001b[0mD_chunk\u001b[0m \u001b[0;34m=\u001b[0m \u001b[0mpairwise_distances\u001b[0m\u001b[0;34m(\u001b[0m\u001b[0mX_chunk\u001b[0m\u001b[0;34m,\u001b[0m \u001b[0mY\u001b[0m\u001b[0;34m,\u001b[0m \u001b[0mmetric\u001b[0m\u001b[0;34m=\u001b[0m\u001b[0mmetric\u001b[0m\u001b[0;34m,\u001b[0m \u001b[0mn_jobs\u001b[0m\u001b[0;34m=\u001b[0m\u001b[0mn_jobs\u001b[0m\u001b[0;34m,\u001b[0m \u001b[0;34m**\u001b[0m\u001b[0mkwds\u001b[0m\u001b[0;34m)\u001b[0m\u001b[0;34m\u001b[0m\u001b[0;34m\u001b[0m\u001b[0m\n\u001b[0m\u001b[1;32m   1713\u001b[0m         if (X is Y or Y is None) and PAIRWISE_DISTANCE_FUNCTIONS.get(\n\u001b[1;32m   1714\u001b[0m             \u001b[0mmetric\u001b[0m\u001b[0;34m,\u001b[0m \u001b[0;32mNone\u001b[0m\u001b[0;34m\u001b[0m\u001b[0;34m\u001b[0m\u001b[0m\n",
      "\u001b[0;32m~/opt/miniconda3/envs/ML/lib/python3.9/site-packages/sklearn/metrics/pairwise.py\u001b[0m in \u001b[0;36mpairwise_distances\u001b[0;34m(X, Y, metric, n_jobs, force_all_finite, **kwds)\u001b[0m\n\u001b[1;32m   1882\u001b[0m         \u001b[0mfunc\u001b[0m \u001b[0;34m=\u001b[0m \u001b[0mpartial\u001b[0m\u001b[0;34m(\u001b[0m\u001b[0mdistance\u001b[0m\u001b[0;34m.\u001b[0m\u001b[0mcdist\u001b[0m\u001b[0;34m,\u001b[0m \u001b[0mmetric\u001b[0m\u001b[0;34m=\u001b[0m\u001b[0mmetric\u001b[0m\u001b[0;34m,\u001b[0m \u001b[0;34m**\u001b[0m\u001b[0mkwds\u001b[0m\u001b[0;34m)\u001b[0m\u001b[0;34m\u001b[0m\u001b[0;34m\u001b[0m\u001b[0m\n\u001b[1;32m   1883\u001b[0m \u001b[0;34m\u001b[0m\u001b[0m\n\u001b[0;32m-> 1884\u001b[0;31m     \u001b[0;32mreturn\u001b[0m \u001b[0m_parallel_pairwise\u001b[0m\u001b[0;34m(\u001b[0m\u001b[0mX\u001b[0m\u001b[0;34m,\u001b[0m \u001b[0mY\u001b[0m\u001b[0;34m,\u001b[0m \u001b[0mfunc\u001b[0m\u001b[0;34m,\u001b[0m \u001b[0mn_jobs\u001b[0m\u001b[0;34m,\u001b[0m \u001b[0;34m**\u001b[0m\u001b[0mkwds\u001b[0m\u001b[0;34m)\u001b[0m\u001b[0;34m\u001b[0m\u001b[0;34m\u001b[0m\u001b[0m\n\u001b[0m\u001b[1;32m   1885\u001b[0m \u001b[0;34m\u001b[0m\u001b[0m\n\u001b[1;32m   1886\u001b[0m \u001b[0;34m\u001b[0m\u001b[0m\n",
      "\u001b[0;32m~/opt/miniconda3/envs/ML/lib/python3.9/site-packages/sklearn/metrics/pairwise.py\u001b[0m in \u001b[0;36m_parallel_pairwise\u001b[0;34m(X, Y, func, n_jobs, **kwds)\u001b[0m\n\u001b[1;32m   1423\u001b[0m \u001b[0;34m\u001b[0m\u001b[0m\n\u001b[1;32m   1424\u001b[0m     \u001b[0;32mif\u001b[0m \u001b[0meffective_n_jobs\u001b[0m\u001b[0;34m(\u001b[0m\u001b[0mn_jobs\u001b[0m\u001b[0;34m)\u001b[0m \u001b[0;34m==\u001b[0m \u001b[0;36m1\u001b[0m\u001b[0;34m:\u001b[0m\u001b[0;34m\u001b[0m\u001b[0;34m\u001b[0m\u001b[0m\n\u001b[0;32m-> 1425\u001b[0;31m         \u001b[0;32mreturn\u001b[0m \u001b[0mfunc\u001b[0m\u001b[0;34m(\u001b[0m\u001b[0mX\u001b[0m\u001b[0;34m,\u001b[0m \u001b[0mY\u001b[0m\u001b[0;34m,\u001b[0m \u001b[0;34m**\u001b[0m\u001b[0mkwds\u001b[0m\u001b[0;34m)\u001b[0m\u001b[0;34m\u001b[0m\u001b[0;34m\u001b[0m\u001b[0m\n\u001b[0m\u001b[1;32m   1426\u001b[0m \u001b[0;34m\u001b[0m\u001b[0m\n\u001b[1;32m   1427\u001b[0m     \u001b[0;31m# enforce a threading backend to prevent data communication overhead\u001b[0m\u001b[0;34m\u001b[0m\u001b[0;34m\u001b[0m\u001b[0m\n",
      "\u001b[0;32m~/opt/miniconda3/envs/ML/lib/python3.9/site-packages/sklearn/metrics/pairwise.py\u001b[0m in \u001b[0;36meuclidean_distances\u001b[0;34m(X, Y, Y_norm_squared, squared, X_norm_squared)\u001b[0m\n\u001b[1;32m    325\u001b[0m             )\n\u001b[1;32m    326\u001b[0m \u001b[0;34m\u001b[0m\u001b[0m\n\u001b[0;32m--> 327\u001b[0;31m     \u001b[0;32mreturn\u001b[0m \u001b[0m_euclidean_distances\u001b[0m\u001b[0;34m(\u001b[0m\u001b[0mX\u001b[0m\u001b[0;34m,\u001b[0m \u001b[0mY\u001b[0m\u001b[0;34m,\u001b[0m \u001b[0mX_norm_squared\u001b[0m\u001b[0;34m,\u001b[0m \u001b[0mY_norm_squared\u001b[0m\u001b[0;34m,\u001b[0m \u001b[0msquared\u001b[0m\u001b[0;34m)\u001b[0m\u001b[0;34m\u001b[0m\u001b[0;34m\u001b[0m\u001b[0m\n\u001b[0m\u001b[1;32m    328\u001b[0m \u001b[0;34m\u001b[0m\u001b[0m\n\u001b[1;32m    329\u001b[0m \u001b[0;34m\u001b[0m\u001b[0m\n",
      "\u001b[0;32m~/opt/miniconda3/envs/ML/lib/python3.9/site-packages/sklearn/metrics/pairwise.py\u001b[0m in \u001b[0;36m_euclidean_distances\u001b[0;34m(X, Y, X_norm_squared, Y_norm_squared, squared)\u001b[0m\n\u001b[1;32m    366\u001b[0m     \u001b[0;32melse\u001b[0m\u001b[0;34m:\u001b[0m\u001b[0;34m\u001b[0m\u001b[0;34m\u001b[0m\u001b[0m\n\u001b[1;32m    367\u001b[0m         \u001b[0;31m# if dtype is already float64, no need to chunk and upcast\u001b[0m\u001b[0;34m\u001b[0m\u001b[0;34m\u001b[0m\u001b[0m\n\u001b[0;32m--> 368\u001b[0;31m         \u001b[0mdistances\u001b[0m \u001b[0;34m=\u001b[0m \u001b[0;34m-\u001b[0m\u001b[0;36m2\u001b[0m \u001b[0;34m*\u001b[0m \u001b[0msafe_sparse_dot\u001b[0m\u001b[0;34m(\u001b[0m\u001b[0mX\u001b[0m\u001b[0;34m,\u001b[0m \u001b[0mY\u001b[0m\u001b[0;34m.\u001b[0m\u001b[0mT\u001b[0m\u001b[0;34m,\u001b[0m \u001b[0mdense_output\u001b[0m\u001b[0;34m=\u001b[0m\u001b[0;32mTrue\u001b[0m\u001b[0;34m)\u001b[0m\u001b[0;34m\u001b[0m\u001b[0;34m\u001b[0m\u001b[0m\n\u001b[0m\u001b[1;32m    369\u001b[0m         \u001b[0mdistances\u001b[0m \u001b[0;34m+=\u001b[0m \u001b[0mXX\u001b[0m\u001b[0;34m\u001b[0m\u001b[0;34m\u001b[0m\u001b[0m\n\u001b[1;32m    370\u001b[0m         \u001b[0mdistances\u001b[0m \u001b[0;34m+=\u001b[0m \u001b[0mYY\u001b[0m\u001b[0;34m\u001b[0m\u001b[0;34m\u001b[0m\u001b[0m\n",
      "\u001b[0;32m~/opt/miniconda3/envs/ML/lib/python3.9/site-packages/sklearn/utils/extmath.py\u001b[0m in \u001b[0;36msafe_sparse_dot\u001b[0;34m(a, b, dense_output)\u001b[0m\n\u001b[1;32m    151\u001b[0m             \u001b[0mret\u001b[0m \u001b[0;34m=\u001b[0m \u001b[0mnp\u001b[0m\u001b[0;34m.\u001b[0m\u001b[0mdot\u001b[0m\u001b[0;34m(\u001b[0m\u001b[0ma\u001b[0m\u001b[0;34m,\u001b[0m \u001b[0mb\u001b[0m\u001b[0;34m)\u001b[0m\u001b[0;34m\u001b[0m\u001b[0;34m\u001b[0m\u001b[0m\n\u001b[1;32m    152\u001b[0m     \u001b[0;32melse\u001b[0m\u001b[0;34m:\u001b[0m\u001b[0;34m\u001b[0m\u001b[0;34m\u001b[0m\u001b[0m\n\u001b[0;32m--> 153\u001b[0;31m         \u001b[0mret\u001b[0m \u001b[0;34m=\u001b[0m \u001b[0ma\u001b[0m \u001b[0;34m@\u001b[0m \u001b[0mb\u001b[0m\u001b[0;34m\u001b[0m\u001b[0;34m\u001b[0m\u001b[0m\n\u001b[0m\u001b[1;32m    154\u001b[0m \u001b[0;34m\u001b[0m\u001b[0m\n\u001b[1;32m    155\u001b[0m     if (\n",
      "\u001b[0;31mKeyboardInterrupt\u001b[0m: "
     ]
    }
   ],
   "source": [
    "#random_subset(2-4)\n",
    "method_name='rand_set'\n",
    "all_time=[]\n",
    "for red_param in [2,3,4]:\n",
    "    for dataset_name in ['Fashion','MNIST','SignLanguage']:\n",
    "        for model_name in ['RF','GB','pytorch']:\n",
    "            for shuffle in range(10):\n",
    "                if model_name=='pytorch':\n",
    "                    model_info=load_model_pytorch(dataset_name, model_name, shuffle)\n",
    "                else:\n",
    "                    model_info= load_model(dataset_name, model_name, shuffle)\n",
    "                data=model_info.data\n",
    "                length=model_info.data.X_train.shape[0]\n",
    "                size=(length//red_param)\n",
    "                string=np.random.randint(0,length, size=size)\n",
    "                \n",
    "                model_info.data.X_train=model_info.data.X_train[string,:]\n",
    "                model_info.data.y_train=model_info.data.y_train[string]\n",
    "                print(model_info.data.X_train.shape,model_info.data.X_val.shape,model_info.data.X_test.shape)\n",
    "\n",
    "                num_label=model_info.data.num_labels\n",
    "                stability,time_all,ex_in_time=new_stability_calc(np.array(model_info.data.X_train),np.array(model_info.data.X_val),model_info.data.y_train,model_info.y_pred_val,num_label)\n",
    "                stability_test,_,_=new_stability_calc(np.array(model_info.data.X_train),np.array(model_info.data.X_test),model_info.data.y_train,model_info.y_pred_test,num_label)\n",
    "\n",
    "                all_time.append((model_name,time_all,ex_in_time))\n",
    "                np.save(f'./stab/{dataset_name}/stab_{method_name}_{red_param}_{dataset_name}_{model_name}_{shuffle}.npy',stability)\n",
    "                np.save(f'./stab/{dataset_name}/test_stab_{method_name}_{red_param}_{dataset_name}_{model_name}_{shuffle}.npy',stability_test)\n",
    "\n",
    "all_time"
   ]
  },
  {
   "cell_type": "code",
   "execution_count": null,
   "id": "356774b5-b649-42ee-8f53-c1c6e18c776b",
   "metadata": {},
   "outputs": [],
   "source": []
  },
  {
   "cell_type": "code",
   "execution_count": null,
   "id": "46481392-e47a-4ab7-9fd9-68a551b07138",
   "metadata": {},
   "outputs": [],
   "source": []
  },
  {
   "cell_type": "code",
   "execution_count": null,
   "id": "a06745fe-e491-4080-869c-7242ec3ab636",
   "metadata": {},
   "outputs": [],
   "source": []
  },
  {
   "cell_type": "markdown",
   "id": "41cc0d76-cb79-4de7-919c-a3790799268b",
   "metadata": {},
   "source": [
    "# K-means"
   ]
  },
  {
   "cell_type": "code",
   "execution_count": 61,
   "id": "35f56894-885c-4675-8a14-846784b096fe",
   "metadata": {},
   "outputs": [],
   "source": [
    "from sklearn.cluster import KMeans\n"
   ]
  },
  {
   "cell_type": "code",
   "execution_count": null,
   "id": "ee2519b4-89fb-481c-b2fc-ecbb8359db4d",
   "metadata": {},
   "outputs": [],
   "source": [
    "kmeans = KMeans(n_clusters=2, random_state=0).fit(X)"
   ]
  },
  {
   "cell_type": "code",
   "execution_count": 124,
   "id": "64e4b1d7-1561-44e3-a043-39b010c8c57b",
   "metadata": {
    "collapsed": true,
    "jupyter": {
     "outputs_hidden": true
    },
    "tags": []
   },
   "outputs": [
    {
     "name": "stdout",
     "output_type": "stream",
     "text": [
      "0\n",
      "1\n",
      "2\n",
      "3\n",
      "4\n",
      "5\n",
      "6\n",
      "7\n",
      "8\n",
      "9\n",
      "CPU times: user 5min 5s, sys: 5.03 s, total: 5min 10s\n",
      "Wall time: 1min 13s\n"
     ]
    },
    {
     "data": {
      "text/plain": [
       "[array([[4.33680869e-19, 0.00000000e+00, 0.00000000e+00, ...,\n",
       "         0.00000000e+00, 0.00000000e+00, 1.38777878e-17],\n",
       "        [4.33680869e-19, 0.00000000e+00, 3.70370370e-02, ...,\n",
       "         5.55111512e-17, 0.00000000e+00, 1.38777878e-17],\n",
       "        [2.16840434e-19, 1.88679245e-02, 1.88679245e-01, ...,\n",
       "         1.88679245e-02, 0.00000000e+00, 6.93889390e-18],\n",
       "        ...,\n",
       "        [0.00000000e+00, 0.00000000e+00, 0.00000000e+00, ...,\n",
       "         0.00000000e+00, 0.00000000e+00, 0.00000000e+00],\n",
       "        [2.16840434e-19, 0.00000000e+00, 0.00000000e+00, ...,\n",
       "         0.00000000e+00, 2.77555756e-17, 6.93889390e-18],\n",
       "        [2.16840434e-19, 3.46944695e-18, 0.00000000e+00, ...,\n",
       "         1.00000000e+00, 0.00000000e+00, 6.93889390e-18]]),\n",
       " array([[ 0.00000000e+00,  0.00000000e+00,  0.00000000e+00, ...,\n",
       "         -1.38777878e-17,  0.00000000e+00,  0.00000000e+00],\n",
       "        [ 0.00000000e+00,  0.00000000e+00,  0.00000000e+00, ...,\n",
       "         -1.38777878e-17,  0.00000000e+00,  0.00000000e+00],\n",
       "        [ 0.00000000e+00,  0.00000000e+00,  0.00000000e+00, ...,\n",
       "         -1.38777878e-17,  0.00000000e+00,  0.00000000e+00],\n",
       "        ...,\n",
       "        [ 0.00000000e+00,  0.00000000e+00,  0.00000000e+00, ...,\n",
       "          0.00000000e+00,  0.00000000e+00,  0.00000000e+00],\n",
       "        [ 0.00000000e+00,  0.00000000e+00,  0.00000000e+00, ...,\n",
       "          1.38777878e-17,  0.00000000e+00,  0.00000000e+00],\n",
       "        [ 0.00000000e+00,  0.00000000e+00,  0.00000000e+00, ...,\n",
       "         -4.16333634e-17, -3.46944695e-18,  0.00000000e+00]]),\n",
       " array([[ 0.00000000e+00,  0.00000000e+00,  0.00000000e+00, ...,\n",
       "          1.41000000e+02,  3.50000000e+01,  0.00000000e+00],\n",
       "        [ 0.00000000e+00,  1.73472348e-18, -6.93889390e-18, ...,\n",
       "         -8.88178420e-16,  0.00000000e+00, -1.38777878e-17],\n",
       "        [ 0.00000000e+00,  0.00000000e+00,  0.00000000e+00, ...,\n",
       "         -8.88178420e-16,  0.00000000e+00, -1.38777878e-17],\n",
       "        ...,\n",
       "        [ 0.00000000e+00,  0.00000000e+00,  0.00000000e+00, ...,\n",
       "          3.31818182e+00,  0.00000000e+00,  0.00000000e+00],\n",
       "        [ 0.00000000e+00,  1.73472348e-18,  6.93889390e-18, ...,\n",
       "          0.00000000e+00,  2.22044605e-16,  0.00000000e+00],\n",
       "        [ 0.00000000e+00,  0.00000000e+00,  1.00000000e+00, ...,\n",
       "          5.20000000e+01,  0.00000000e+00,  0.00000000e+00]]),\n",
       " array([[ 0.00000000e+00,  0.00000000e+00,  0.00000000e+00, ...,\n",
       "          0.00000000e+00,  0.00000000e+00,  0.00000000e+00],\n",
       "        [ 0.00000000e+00,  0.00000000e+00,  0.00000000e+00, ...,\n",
       "         -6.93889390e-18,  1.73472348e-18,  0.00000000e+00],\n",
       "        [ 0.00000000e+00,  0.00000000e+00,  0.00000000e+00, ...,\n",
       "          0.00000000e+00,  0.00000000e+00,  0.00000000e+00],\n",
       "        ...,\n",
       "        [ 0.00000000e+00,  0.00000000e+00,  0.00000000e+00, ...,\n",
       "          6.93889390e-18,  0.00000000e+00,  1.73472348e-18],\n",
       "        [ 0.00000000e+00,  0.00000000e+00,  0.00000000e+00, ...,\n",
       "          0.00000000e+00,  0.00000000e+00,  0.00000000e+00],\n",
       "        [ 0.00000000e+00,  0.00000000e+00,  0.00000000e+00, ...,\n",
       "          0.00000000e+00,  1.73472348e-18,  1.73472348e-18]]),\n",
       " array([[ 0.00000000e+00,  0.00000000e+00,  0.00000000e+00, ...,\n",
       "          0.00000000e+00,  1.11022302e-16, -3.46944695e-18],\n",
       "        [ 0.00000000e+00,  0.00000000e+00,  0.00000000e+00, ...,\n",
       "          0.00000000e+00,  0.00000000e+00,  1.73472348e-18],\n",
       "        [ 0.00000000e+00,  0.00000000e+00,  0.00000000e+00, ...,\n",
       "          5.88235294e-01,  2.94117647e-01,  3.82352941e-01],\n",
       "        ...,\n",
       "        [ 0.00000000e+00,  0.00000000e+00,  0.00000000e+00, ...,\n",
       "          4.44089210e-16, -1.11022302e-16, -1.73472348e-18],\n",
       "        [ 0.00000000e+00,  0.00000000e+00,  0.00000000e+00, ...,\n",
       "          8.88178420e-16, -5.55111512e-17,  0.00000000e+00],\n",
       "        [ 0.00000000e+00,  0.00000000e+00,  0.00000000e+00, ...,\n",
       "          2.81111111e+01,  5.55111512e-17,  1.73472348e-18]]),\n",
       " array([[0.00000000e+00, 0.00000000e+00, 0.00000000e+00, ...,\n",
       "         4.44089210e-16, 0.00000000e+00, 0.00000000e+00],\n",
       "        [0.00000000e+00, 4.33680869e-19, 4.33680869e-19, ...,\n",
       "         0.00000000e+00, 0.00000000e+00, 0.00000000e+00],\n",
       "        [0.00000000e+00, 4.33680869e-19, 4.33680869e-19, ...,\n",
       "         0.00000000e+00, 0.00000000e+00, 0.00000000e+00],\n",
       "        ...,\n",
       "        [0.00000000e+00, 4.33680869e-19, 4.33680869e-19, ...,\n",
       "         4.44089210e-16, 0.00000000e+00, 0.00000000e+00],\n",
       "        [0.00000000e+00, 0.00000000e+00, 0.00000000e+00, ...,\n",
       "         4.44089210e-16, 0.00000000e+00, 0.00000000e+00],\n",
       "        [0.00000000e+00, 2.16666667e+00, 2.16666667e+00, ...,\n",
       "         2.16666667e+00, 2.16666667e+00, 0.00000000e+00]]),\n",
       " array([[ 0.00000000e+00,  1.73472348e-18,  1.38777878e-17, ...,\n",
       "          3.57894737e+00,  0.00000000e+00,  6.93889390e-18],\n",
       "        [ 5.42101086e-20,  1.73472348e-18,  0.00000000e+00, ...,\n",
       "          0.00000000e+00,  0.00000000e+00,  6.93889390e-18],\n",
       "        [ 0.00000000e+00,  0.00000000e+00,  3.07692308e-01, ...,\n",
       "          5.38461538e-01,  0.00000000e+00, -6.93889390e-18],\n",
       "        ...,\n",
       "        [ 0.00000000e+00,  5.00000000e-01,  1.50000000e+00, ...,\n",
       "          1.31500000e+02,  2.35000000e+01,  0.00000000e+00],\n",
       "        [-5.42101086e-20,  0.00000000e+00,  0.00000000e+00, ...,\n",
       "          0.00000000e+00,  0.00000000e+00,  0.00000000e+00],\n",
       "        [-5.42101086e-20,  0.00000000e+00, -1.38777878e-17, ...,\n",
       "          9.95454545e+00,  2.31818182e+00,  0.00000000e+00]]),\n",
       " array([[ 0.00000000e+00,  0.00000000e+00,  0.00000000e+00, ...,\n",
       "          0.00000000e+00,  0.00000000e+00,  0.00000000e+00],\n",
       "        [ 0.00000000e+00,  0.00000000e+00,  0.00000000e+00, ...,\n",
       "          0.00000000e+00,  1.73472348e-18,  0.00000000e+00],\n",
       "        [ 0.00000000e+00,  0.00000000e+00,  0.00000000e+00, ...,\n",
       "         -1.73472348e-18,  0.00000000e+00,  0.00000000e+00],\n",
       "        ...,\n",
       "        [ 0.00000000e+00,  0.00000000e+00,  0.00000000e+00, ...,\n",
       "          1.73472348e-18,  1.73472348e-18,  0.00000000e+00],\n",
       "        [ 0.00000000e+00,  0.00000000e+00,  0.00000000e+00, ...,\n",
       "          0.00000000e+00,  0.00000000e+00,  0.00000000e+00],\n",
       "        [ 0.00000000e+00,  0.00000000e+00,  0.00000000e+00, ...,\n",
       "          0.00000000e+00,  1.73472348e-18,  0.00000000e+00]]),\n",
       " array([[ 0.00000000e+00,  1.73472348e-18,  3.46944695e-18, ...,\n",
       "          0.00000000e+00,  0.00000000e+00,  2.77555756e-17],\n",
       "        [ 0.00000000e+00,  0.00000000e+00,  1.04083409e-17, ...,\n",
       "         -8.88178420e-16,  2.22044605e-16,  0.00000000e+00],\n",
       "        [ 0.00000000e+00,  0.00000000e+00,  6.93889390e-18, ...,\n",
       "          0.00000000e+00,  2.22044605e-16,  2.77555756e-17],\n",
       "        ...,\n",
       "        [ 0.00000000e+00,  3.46944695e-18,  6.93889390e-18, ...,\n",
       "         -8.88178420e-16,  0.00000000e+00,  0.00000000e+00],\n",
       "        [ 0.00000000e+00,  0.00000000e+00,  3.46944695e-18, ...,\n",
       "          0.00000000e+00,  0.00000000e+00,  2.77555756e-17],\n",
       "        [-1.08420217e-19,  0.00000000e+00,  0.00000000e+00, ...,\n",
       "          5.45454545e-01,  1.18181818e+00,  9.09090909e-02]]),\n",
       " array([[ 0.00000000e+00, -1.73472348e-18, -1.73472348e-18, ...,\n",
       "         -8.88178420e-16,  0.00000000e+00,  1.38777878e-17],\n",
       "        [ 0.00000000e+00,  0.00000000e+00,  0.00000000e+00, ...,\n",
       "          4.00000000e-02,  8.00000000e-02,  4.00000000e-02],\n",
       "        [ 0.00000000e+00,  1.73472348e-18,  1.73472348e-18, ...,\n",
       "          0.00000000e+00,  0.00000000e+00,  0.00000000e+00],\n",
       "        ...,\n",
       "        [ 0.00000000e+00,  1.73472348e-18,  1.73472348e-18, ...,\n",
       "          0.00000000e+00,  0.00000000e+00,  0.00000000e+00],\n",
       "        [ 0.00000000e+00,  0.00000000e+00,  0.00000000e+00, ...,\n",
       "          0.00000000e+00,  4.44089210e-16,  0.00000000e+00],\n",
       "        [ 0.00000000e+00,  0.00000000e+00,  0.00000000e+00, ...,\n",
       "         -8.88178420e-16, -4.44089210e-16, -1.38777878e-17]])]"
      ]
     },
     "execution_count": 124,
     "metadata": {},
     "output_type": "execute_result"
    }
   ],
   "source": [
    "%%time\n",
    "model_info= load_model('Fashion', 'RF', 0)\n",
    "red_param=5\n",
    "num_label=model_info.data.num_labels\n",
    "new_points=[]\n",
    "new_y=[]\n",
    "for i in range(num_label):\n",
    "    idx_same=np.where(model_info.data.y_train==i)    \n",
    "    size=len(idx_same[0])//red_param**2\n",
    "    kmeans = KMeans(n_clusters=size)\n",
    "    kmeans.fit(model_info.data.X_train[idx_same])\n",
    "    new_points.append(kmeans.cluster_centers_)\n",
    "    new_y.append([i]*size)\n",
    "    print(i)\n",
    "new_points"
   ]
  },
  {
   "cell_type": "code",
   "execution_count": 128,
   "id": "71bb84cf-2b9f-4c11-af2c-b6d0be9e1161",
   "metadata": {},
   "outputs": [
    {
     "name": "stdout",
     "output_type": "stream",
     "text": [
      "(1674, 784) (1674,)\n",
      "[[ 4.33680869e-19  0.00000000e+00  0.00000000e+00 ...  0.00000000e+00\n",
      "   0.00000000e+00  1.38777878e-17]\n",
      " [ 4.33680869e-19  0.00000000e+00  3.70370370e-02 ...  5.55111512e-17\n",
      "   0.00000000e+00  1.38777878e-17]\n",
      " [ 2.16840434e-19  1.88679245e-02  1.88679245e-01 ...  1.88679245e-02\n",
      "   0.00000000e+00  6.93889390e-18]\n",
      " ...\n",
      " [ 0.00000000e+00  1.73472348e-18  1.73472348e-18 ...  0.00000000e+00\n",
      "   0.00000000e+00  0.00000000e+00]\n",
      " [ 0.00000000e+00  0.00000000e+00  0.00000000e+00 ...  0.00000000e+00\n",
      "   4.44089210e-16  0.00000000e+00]\n",
      " [ 0.00000000e+00  0.00000000e+00  0.00000000e+00 ... -8.88178420e-16\n",
      "  -4.44089210e-16 -1.38777878e-17]]\n",
      "[0 0 0 ... 9 9 9]\n"
     ]
    }
   ],
   "source": [
    "new_X=np.array([img for class_grp in new_points for img in class_grp])\n",
    "new_y=np.array([i for listt in new_y for i in listt])\n",
    "print(new_X.shape,new_y.shape)\n",
    "print(new_X)\n",
    "print(new_y)\n"
   ]
  },
  {
   "cell_type": "code",
   "execution_count": 130,
   "id": "a58ddf68-669f-4782-8043-01a68b0826e1",
   "metadata": {},
   "outputs": [],
   "source": [
    "def create_reduced_kmeans(X_train,y_train,num_label,red_param):\n",
    "    new_points=[]\n",
    "    new_y=[]\n",
    "    for i in range(num_label):\n",
    "        idx_same=np.where(y_train==i)    \n",
    "        size=len(idx_same[0])//(red_param**2)\n",
    "        kmeans = KMeans(n_clusters=size)\n",
    "        kmeans.fit(X_train[idx_same])\n",
    "        new_points.append(kmeans.cluster_centers_)\n",
    "        new_y.append([i]*size)    \n",
    "    new_X=np.array([img for class_grp in new_points for img in class_grp])\n",
    "    new_y=np.array([i for listt in new_y for i in listt])\n",
    "    return new_X, new_y\n",
    "    "
   ]
  },
  {
   "cell_type": "code",
   "execution_count": 133,
   "id": "77bb3234-5c3c-4721-94fb-f5104a4b13ab",
   "metadata": {},
   "outputs": [
    {
     "name": "stdout",
     "output_type": "stream",
     "text": [
      "(1674, 784) (14000, 784) (14000, 784)\n"
     ]
    },
    {
     "ename": "KeyboardInterrupt",
     "evalue": "",
     "output_type": "error",
     "traceback": [
      "\u001b[0;31m---------------------------------------------------------------------------\u001b[0m",
      "\u001b[0;31mKeyboardInterrupt\u001b[0m                         Traceback (most recent call last)",
      "\u001b[0;32m/var/folders/bq/yr2g0hqx0vqcpvr3lgf609sh0000gn/T/ipykernel_92530/1115588070.py\u001b[0m in \u001b[0;36m<module>\u001b[0;34m\u001b[0m\n\u001b[1;32m     16\u001b[0m                 \u001b[0mprint\u001b[0m\u001b[0;34m(\u001b[0m\u001b[0mmodel_info\u001b[0m\u001b[0;34m.\u001b[0m\u001b[0mdata\u001b[0m\u001b[0;34m.\u001b[0m\u001b[0mX_train\u001b[0m\u001b[0;34m.\u001b[0m\u001b[0mshape\u001b[0m\u001b[0;34m,\u001b[0m\u001b[0mmodel_info\u001b[0m\u001b[0;34m.\u001b[0m\u001b[0mdata\u001b[0m\u001b[0;34m.\u001b[0m\u001b[0mX_val\u001b[0m\u001b[0;34m.\u001b[0m\u001b[0mshape\u001b[0m\u001b[0;34m,\u001b[0m\u001b[0mmodel_info\u001b[0m\u001b[0;34m.\u001b[0m\u001b[0mdata\u001b[0m\u001b[0;34m.\u001b[0m\u001b[0mX_test\u001b[0m\u001b[0;34m.\u001b[0m\u001b[0mshape\u001b[0m\u001b[0;34m)\u001b[0m\u001b[0;34m\u001b[0m\u001b[0;34m\u001b[0m\u001b[0m\n\u001b[1;32m     17\u001b[0m \u001b[0;34m\u001b[0m\u001b[0m\n\u001b[0;32m---> 18\u001b[0;31m                 \u001b[0mstability\u001b[0m\u001b[0;34m,\u001b[0m\u001b[0mtime_all\u001b[0m\u001b[0;34m,\u001b[0m\u001b[0mex_in_time\u001b[0m\u001b[0;34m=\u001b[0m\u001b[0mnew_stability_calc\u001b[0m\u001b[0;34m(\u001b[0m\u001b[0mnp\u001b[0m\u001b[0;34m.\u001b[0m\u001b[0marray\u001b[0m\u001b[0;34m(\u001b[0m\u001b[0mmodel_info\u001b[0m\u001b[0;34m.\u001b[0m\u001b[0mdata\u001b[0m\u001b[0;34m.\u001b[0m\u001b[0mX_train\u001b[0m\u001b[0;34m)\u001b[0m\u001b[0;34m,\u001b[0m\u001b[0mnp\u001b[0m\u001b[0;34m.\u001b[0m\u001b[0marray\u001b[0m\u001b[0;34m(\u001b[0m\u001b[0mmodel_info\u001b[0m\u001b[0;34m.\u001b[0m\u001b[0mdata\u001b[0m\u001b[0;34m.\u001b[0m\u001b[0mX_val\u001b[0m\u001b[0;34m)\u001b[0m\u001b[0;34m,\u001b[0m\u001b[0mmodel_info\u001b[0m\u001b[0;34m.\u001b[0m\u001b[0mdata\u001b[0m\u001b[0;34m.\u001b[0m\u001b[0my_train\u001b[0m\u001b[0;34m,\u001b[0m\u001b[0mmodel_info\u001b[0m\u001b[0;34m.\u001b[0m\u001b[0my_pred_val\u001b[0m\u001b[0;34m,\u001b[0m\u001b[0mnum_label\u001b[0m\u001b[0;34m)\u001b[0m\u001b[0;34m\u001b[0m\u001b[0;34m\u001b[0m\u001b[0m\n\u001b[0m\u001b[1;32m     19\u001b[0m                 \u001b[0mstability_test\u001b[0m\u001b[0;34m,\u001b[0m\u001b[0m_\u001b[0m\u001b[0;34m,\u001b[0m\u001b[0m_\u001b[0m\u001b[0;34m=\u001b[0m\u001b[0mnew_stability_calc\u001b[0m\u001b[0;34m(\u001b[0m\u001b[0mnp\u001b[0m\u001b[0;34m.\u001b[0m\u001b[0marray\u001b[0m\u001b[0;34m(\u001b[0m\u001b[0mmodel_info\u001b[0m\u001b[0;34m.\u001b[0m\u001b[0mdata\u001b[0m\u001b[0;34m.\u001b[0m\u001b[0mX_train\u001b[0m\u001b[0;34m)\u001b[0m\u001b[0;34m,\u001b[0m\u001b[0mnp\u001b[0m\u001b[0;34m.\u001b[0m\u001b[0marray\u001b[0m\u001b[0;34m(\u001b[0m\u001b[0mmodel_info\u001b[0m\u001b[0;34m.\u001b[0m\u001b[0mdata\u001b[0m\u001b[0;34m.\u001b[0m\u001b[0mX_test\u001b[0m\u001b[0;34m)\u001b[0m\u001b[0;34m,\u001b[0m\u001b[0mmodel_info\u001b[0m\u001b[0;34m.\u001b[0m\u001b[0mdata\u001b[0m\u001b[0;34m.\u001b[0m\u001b[0my_train\u001b[0m\u001b[0;34m,\u001b[0m\u001b[0mmodel_info\u001b[0m\u001b[0;34m.\u001b[0m\u001b[0my_pred_test\u001b[0m\u001b[0;34m,\u001b[0m\u001b[0mnum_label\u001b[0m\u001b[0;34m)\u001b[0m\u001b[0;34m\u001b[0m\u001b[0;34m\u001b[0m\u001b[0m\n\u001b[1;32m     20\u001b[0m \u001b[0;34m\u001b[0m\u001b[0m\n",
      "\u001b[0;32m~/Documents/GitHub/Geometric-Calibrator/utils.py\u001b[0m in \u001b[0;36mnew_stability_calc\u001b[0;34m(trainX, testX, train_y, test_y_pred, num_labels)\u001b[0m\n\u001b[1;32m    693\u001b[0m         \u001b[0mpred_label\u001b[0m\u001b[0;34m=\u001b[0m\u001b[0mtest_y_pred\u001b[0m\u001b[0;34m[\u001b[0m\u001b[0mi\u001b[0m\u001b[0;34m]\u001b[0m\u001b[0;34m\u001b[0m\u001b[0;34m\u001b[0m\u001b[0m\n\u001b[1;32m    694\u001b[0m \u001b[0;34m\u001b[0m\u001b[0m\n\u001b[0;32m--> 695\u001b[0;31m         \u001b[0mdist1\u001b[0m\u001b[0;34m,\u001b[0m\u001b[0midx1\u001b[0m\u001b[0;34m=\u001b[0m \u001b[0msame_nbrs\u001b[0m\u001b[0;34m[\u001b[0m\u001b[0mpred_label\u001b[0m\u001b[0;34m]\u001b[0m\u001b[0;34m.\u001b[0m\u001b[0mkneighbors\u001b[0m\u001b[0;34m(\u001b[0m\u001b[0;34m[\u001b[0m\u001b[0mx\u001b[0m\u001b[0;34m]\u001b[0m\u001b[0;34m)\u001b[0m\u001b[0;34m\u001b[0m\u001b[0;34m\u001b[0m\u001b[0m\n\u001b[0m\u001b[1;32m    696\u001b[0m         \u001b[0mdist2\u001b[0m\u001b[0;34m,\u001b[0m\u001b[0midx2\u001b[0m\u001b[0;34m=\u001b[0m \u001b[0mother_nbrs\u001b[0m\u001b[0;34m[\u001b[0m\u001b[0mpred_label\u001b[0m\u001b[0;34m]\u001b[0m\u001b[0;34m.\u001b[0m\u001b[0mkneighbors\u001b[0m\u001b[0;34m(\u001b[0m\u001b[0;34m[\u001b[0m\u001b[0mx\u001b[0m\u001b[0;34m]\u001b[0m\u001b[0;34m)\u001b[0m\u001b[0;34m\u001b[0m\u001b[0;34m\u001b[0m\u001b[0m\n\u001b[1;32m    697\u001b[0m \u001b[0;34m\u001b[0m\u001b[0m\n",
      "\u001b[0;32m~/opt/miniconda3/envs/ML/lib/python3.9/site-packages/sklearn/neighbors/_base.py\u001b[0m in \u001b[0;36mkneighbors\u001b[0;34m(self, X, n_neighbors, return_distance)\u001b[0m\n\u001b[1;32m    712\u001b[0m                 \u001b[0mX\u001b[0m \u001b[0;34m=\u001b[0m \u001b[0m_check_precomputed\u001b[0m\u001b[0;34m(\u001b[0m\u001b[0mX\u001b[0m\u001b[0;34m)\u001b[0m\u001b[0;34m\u001b[0m\u001b[0;34m\u001b[0m\u001b[0m\n\u001b[1;32m    713\u001b[0m             \u001b[0;32melse\u001b[0m\u001b[0;34m:\u001b[0m\u001b[0;34m\u001b[0m\u001b[0;34m\u001b[0m\u001b[0m\n\u001b[0;32m--> 714\u001b[0;31m                 \u001b[0mX\u001b[0m \u001b[0;34m=\u001b[0m \u001b[0mself\u001b[0m\u001b[0;34m.\u001b[0m\u001b[0m_validate_data\u001b[0m\u001b[0;34m(\u001b[0m\u001b[0mX\u001b[0m\u001b[0;34m,\u001b[0m \u001b[0maccept_sparse\u001b[0m\u001b[0;34m=\u001b[0m\u001b[0;34m\"csr\"\u001b[0m\u001b[0;34m,\u001b[0m \u001b[0mreset\u001b[0m\u001b[0;34m=\u001b[0m\u001b[0;32mFalse\u001b[0m\u001b[0;34m)\u001b[0m\u001b[0;34m\u001b[0m\u001b[0;34m\u001b[0m\u001b[0m\n\u001b[0m\u001b[1;32m    715\u001b[0m         \u001b[0;32melse\u001b[0m\u001b[0;34m:\u001b[0m\u001b[0;34m\u001b[0m\u001b[0;34m\u001b[0m\u001b[0m\n\u001b[1;32m    716\u001b[0m             \u001b[0mquery_is_train\u001b[0m \u001b[0;34m=\u001b[0m \u001b[0;32mTrue\u001b[0m\u001b[0;34m\u001b[0m\u001b[0;34m\u001b[0m\u001b[0m\n",
      "\u001b[0;32m~/opt/miniconda3/envs/ML/lib/python3.9/site-packages/sklearn/base.py\u001b[0m in \u001b[0;36m_validate_data\u001b[0;34m(self, X, y, reset, validate_separately, **check_params)\u001b[0m\n\u001b[1;32m    559\u001b[0m             \u001b[0;32mraise\u001b[0m \u001b[0mValueError\u001b[0m\u001b[0;34m(\u001b[0m\u001b[0;34m\"Validation should be done on X, y or both.\"\u001b[0m\u001b[0;34m)\u001b[0m\u001b[0;34m\u001b[0m\u001b[0;34m\u001b[0m\u001b[0m\n\u001b[1;32m    560\u001b[0m         \u001b[0;32melif\u001b[0m \u001b[0;32mnot\u001b[0m \u001b[0mno_val_X\u001b[0m \u001b[0;32mand\u001b[0m \u001b[0mno_val_y\u001b[0m\u001b[0;34m:\u001b[0m\u001b[0;34m\u001b[0m\u001b[0;34m\u001b[0m\u001b[0m\n\u001b[0;32m--> 561\u001b[0;31m             \u001b[0mX\u001b[0m \u001b[0;34m=\u001b[0m \u001b[0mcheck_array\u001b[0m\u001b[0;34m(\u001b[0m\u001b[0mX\u001b[0m\u001b[0;34m,\u001b[0m \u001b[0;34m**\u001b[0m\u001b[0mcheck_params\u001b[0m\u001b[0;34m)\u001b[0m\u001b[0;34m\u001b[0m\u001b[0;34m\u001b[0m\u001b[0m\n\u001b[0m\u001b[1;32m    562\u001b[0m             \u001b[0mout\u001b[0m \u001b[0;34m=\u001b[0m \u001b[0mX\u001b[0m\u001b[0;34m\u001b[0m\u001b[0;34m\u001b[0m\u001b[0m\n\u001b[1;32m    563\u001b[0m         \u001b[0;32melif\u001b[0m \u001b[0mno_val_X\u001b[0m \u001b[0;32mand\u001b[0m \u001b[0;32mnot\u001b[0m \u001b[0mno_val_y\u001b[0m\u001b[0;34m:\u001b[0m\u001b[0;34m\u001b[0m\u001b[0;34m\u001b[0m\u001b[0m\n",
      "\u001b[0;32m~/opt/miniconda3/envs/ML/lib/python3.9/site-packages/sklearn/utils/validation.py\u001b[0m in \u001b[0;36mcheck_array\u001b[0;34m(array, accept_sparse, accept_large_sparse, dtype, order, copy, force_all_finite, ensure_2d, allow_nd, ensure_min_samples, ensure_min_features, estimator)\u001b[0m\n\u001b[1;32m    598\u001b[0m     \u001b[0mdtype_numeric\u001b[0m \u001b[0;34m=\u001b[0m \u001b[0misinstance\u001b[0m\u001b[0;34m(\u001b[0m\u001b[0mdtype\u001b[0m\u001b[0;34m,\u001b[0m \u001b[0mstr\u001b[0m\u001b[0;34m)\u001b[0m \u001b[0;32mand\u001b[0m \u001b[0mdtype\u001b[0m \u001b[0;34m==\u001b[0m \u001b[0;34m\"numeric\"\u001b[0m\u001b[0;34m\u001b[0m\u001b[0;34m\u001b[0m\u001b[0m\n\u001b[1;32m    599\u001b[0m \u001b[0;34m\u001b[0m\u001b[0m\n\u001b[0;32m--> 600\u001b[0;31m     \u001b[0mdtype_orig\u001b[0m \u001b[0;34m=\u001b[0m \u001b[0mgetattr\u001b[0m\u001b[0;34m(\u001b[0m\u001b[0marray\u001b[0m\u001b[0;34m,\u001b[0m \u001b[0;34m\"dtype\"\u001b[0m\u001b[0;34m,\u001b[0m \u001b[0;32mNone\u001b[0m\u001b[0;34m)\u001b[0m\u001b[0;34m\u001b[0m\u001b[0;34m\u001b[0m\u001b[0m\n\u001b[0m\u001b[1;32m    601\u001b[0m     \u001b[0;32mif\u001b[0m \u001b[0;32mnot\u001b[0m \u001b[0mhasattr\u001b[0m\u001b[0;34m(\u001b[0m\u001b[0mdtype_orig\u001b[0m\u001b[0;34m,\u001b[0m \u001b[0;34m\"kind\"\u001b[0m\u001b[0;34m)\u001b[0m\u001b[0;34m:\u001b[0m\u001b[0;34m\u001b[0m\u001b[0;34m\u001b[0m\u001b[0m\n\u001b[1;32m    602\u001b[0m         \u001b[0;31m# not a data type (e.g. a column named dtype in a pandas DataFrame)\u001b[0m\u001b[0;34m\u001b[0m\u001b[0;34m\u001b[0m\u001b[0m\n",
      "\u001b[0;31mKeyboardInterrupt\u001b[0m: "
     ]
    }
   ],
   "source": [
    "#K-means(2-4)\n",
    "method_name='kmeans'\n",
    "all_time=[]\n",
    "for red_param in [2,3,4]:\n",
    "    for dataset_name in ['Fashion','MNIST','SignLanguage']:\n",
    "        for model_name in ['RF','GB','pytorch']:\n",
    "            for shuffle in range(10):\n",
    "                if model_name=='pytorch':\n",
    "                    model_info=load_model_pytorch(dataset_name, model_name, shuffle)\n",
    "                else:\n",
    "                    model_info= load_model(dataset_name, model_name, shuffle)\n",
    "                \n",
    "                \n",
    "                num_label=model_info.data.num_labels\n",
    "                model_info.data.X_train,model_info.data.y_train = create_reduced_kmeans(model_info.data.X_train,model_info.data.y_train,num_label,red_param)\n",
    "                print(model_info.data.X_train.shape,model_info.data.X_val.shape,model_info.data.X_test.shape)\n",
    "\n",
    "                stability,time_all,ex_in_time=new_stability_calc(np.array(model_info.data.X_train),np.array(model_info.data.X_val),model_info.data.y_train,model_info.y_pred_val,num_label)\n",
    "                stability_test,_,_=new_stability_calc(np.array(model_info.data.X_train),np.array(model_info.data.X_test),model_info.data.y_train,model_info.y_pred_test,num_label)\n",
    "\n",
    "                all_time.append((model_name,time_all,ex_in_time))\n",
    "                np.save(f'./stab/{dataset_name}/stab_{method_name}_{red_param}_{dataset_name}_{model_name}_{shuffle}.npy',stability)\n",
    "                np.save(f'./stab/{dataset_name}/test_stab_{method_name}_{red_param}_{dataset_name}_{model_name}_{shuffle}.npy',stability_test)\n",
    "\n",
    "all_time"
   ]
  },
  {
   "cell_type": "code",
   "execution_count": null,
   "id": "cc6d7b51-7dcb-42d6-bac7-b6036a2efcf6",
   "metadata": {},
   "outputs": [],
   "source": []
  },
  {
   "cell_type": "code",
   "execution_count": 135,
   "id": "a20cea67-07e3-4edd-a677-78bf43c31c54",
   "metadata": {},
   "outputs": [],
   "source": [
    "X=np.load('test_stab_PCA_2_Fashion_RF_2.npy')"
   ]
  },
  {
   "cell_type": "code",
   "execution_count": 136,
   "id": "e223ad5e-e344-42ce-b0df-b6991bb655f8",
   "metadata": {},
   "outputs": [
    {
     "data": {
      "text/plain": [
       "(array([   6.,   43.,  515., 4138., 4606., 2335., 1231.,  787.,  312.,\n",
       "          27.]),\n",
       " array([-381.53996437, -271.34382026, -161.14767614,  -50.95153202,\n",
       "          59.24461209,  169.44075621,  279.63690033,  389.83304445,\n",
       "         500.02918856,  610.22533268,  720.4214768 ]),\n",
       " <BarContainer object of 10 artists>)"
      ]
     },
     "execution_count": 136,
     "metadata": {},
     "output_type": "execute_result"
    },
    {
     "data": {
      "image/png": "[encoded data removed]",
      "text/plain": [
       "<Figure size 432x288 with 1 Axes>"
      ]
     },
     "metadata": {
      "needs_background": "light"
     },
     "output_type": "display_data"
    }
   ],
   "source": [
    "plt.hist(X)"
   ]
  },
  {
   "cell_type": "code",
   "execution_count": null,
   "id": "09471dd4-0b23-4d03-9ef1-a76d443acf77",
   "metadata": {},
   "outputs": [],
   "source": []
  },
  {
   "cell_type": "code",
   "execution_count": null,
   "id": "91940042-7223-4339-9236-8950c10d904f",
   "metadata": {},
   "outputs": [],
   "source": []
  },
  {
   "cell_type": "code",
   "execution_count": null,
   "id": "549f4264-6486-4007-b45c-f442450add2a",
   "metadata": {},
   "outputs": [],
   "source": []
  },
  {
   "cell_type": "code",
   "execution_count": null,
   "id": "021bd138-e702-4e72-86c6-3989976b4eb8",
   "metadata": {},
   "outputs": [],
   "source": [
    "df_comparison = pd.concat(Series)[['Stab2avg','Stab3avg','Stab4avg','Stab2max','Stab3max','Stab4max','StabilityCalibrator', 'Base', 'SKlearn_calibrator_isotonic', 'SKlearn_calibrator_platt', 'HBCalibrator', 'SBCCalibrator']]\n",
    "df_comparison.style.apply(color_max, axis=1)"
   ]
  },
  {
   "cell_type": "code",
   "execution_count": null,
   "id": "edc5624e-0c65-4619-96ef-29d413943255",
   "metadata": {},
   "outputs": [],
   "source": []
  },
  {
   "cell_type": "code",
   "execution_count": null,
   "id": "037e16a6-3787-440f-80fc-2e675aca3955",
   "metadata": {},
   "outputs": [],
   "source": []
  },
  {
   "cell_type": "code",
   "execution_count": null,
   "id": "d5224e48-5ba8-41a7-9f65-514614cab170",
   "metadata": {},
   "outputs": [],
   "source": []
  },
  {
   "cell_type": "code",
   "execution_count": null,
   "id": "fe960ecf-3d3a-4afe-8e13-fb325bd2025d",
   "metadata": {},
   "outputs": [],
   "source": []
  },
  {
   "cell_type": "code",
   "execution_count": 25,
   "id": "2c375fbb-dccc-4cc9-a0cc-880c2321d8e8",
   "metadata": {},
   "outputs": [],
   "source": [
    "from sklearn.decomposition import PCA\n",
    "def apply_reduction(trainX,train_y,reduced_type,red_param,train=True,train_X=None):\n",
    "    \n",
    "    pixels=int(sqrt(trainX.shape[1]))\n",
    "    if reduced_type == 'Avgpool':\n",
    "        polling = torch.nn.AvgPool2d(red_param)\n",
    "        trainX=polling(torch.tensor(trainX.reshape((len(trainX),pixels,pixels)))).reshape(len(trainX),-1)\n",
    "        \n",
    "    elif reduced_type == 'Maxpool':\n",
    "        polling = torch.nn.MaxPool2d(red_param) \n",
    "        trainX=polling(torch.tensor(trainX.reshape((len(trainX),pixels,pixels)))).reshape(len(trainX),-1)\n",
    "        \n",
    "    elif reduced_type == 'resize':\n",
    "        size=pixels//red_param\n",
    "        length= len(trainX)\n",
    "        X_train=torch.tensor(trainX.reshape(length,pixels,pixels))\n",
    "        X_train = X_train[ ..., tf.newaxis]\n",
    "        trainX=tf.image.resize(X_train, [size,size]).numpy().reshape(length,-1)\n",
    "                \n",
    "    elif reduced_type == 'PCA':\n",
    "        if train == True:\n",
    "            size=pixels//red_param\n",
    "            pca = PCA(n_components=size**2)  \n",
    "            trainX=pca.fit_transform(trainX)\n",
    "        if train == False:\n",
    "            size=pixels//red_param\n",
    "            pca = PCA(n_components=size**2)  \n",
    "            pca.fit_transform(train_X)\n",
    "            trainX=pca.transform(trainX.reshape(1,-1))\n",
    "    elif reduced_type == 'randpix':\n",
    "        size=(pixels//red_param)**2\n",
    "        string=np.random.randint(0,255, size=size)        \n",
    "        trainX=trainX[:,string]\n",
    "        \n",
    "    elif reduced_type == 'randset':\n",
    "        if train == True:\n",
    "            size=(length//red_param)\n",
    "            string=np.random.randint(0,length, size=size)\n",
    "            trainX=trainX[string,:]\n",
    "            train_y=train_y[string]\n",
    "        \n",
    "    #elif reduced_type == 'kmeans':\n",
    "      \n",
    "        \n",
    "    else:\n",
    "        print(\"error reduce type\")\n",
    "        \n",
    "    return trainX,train_y\n"
   ]
  },
  {
   "cell_type": "code",
   "execution_count": 28,
   "id": "e14f4d11-877e-4247-9b2a-3b301b7b56b8",
   "metadata": {},
   "outputs": [],
   "source": [
    "\n",
    "def stability_calc_reduced(trainX,testX,train_y,test_y_pred,num_labels,reduced_type='Avgpool',red_param=1,RGB=False):\n",
    "    '''\n",
    "    Calculates the stability of the test set.\n",
    "            Parameters:\n",
    "                    trainX (List)\n",
    "                    testX (List) \n",
    "                    train_y (List)\n",
    "                    test_y_pred (list)\n",
    "                    num_labels (Int)\n",
    "            Returns:\n",
    "                    stability(List)\n",
    "    '''  \n",
    "    \n",
    "        \n",
    "    # if RGB==False:\n",
    "    train_X=trainX\n",
    "    trainX,train_y = apply_reduction(trainX,train_y,reduced_type,red_param)\n",
    "\n",
    "    same_nbrs=[]\n",
    "    other_nbrs=[]\n",
    "    for i in range(num_labels):\n",
    "        idx_other=np.where(train_y!=i)\n",
    "        other_nbrs.append(NearestNeighbors(n_neighbors=1).fit(trainX[idx_other]))\n",
    "        idx_same=np.where(train_y==i)\n",
    "        same_nbrs.append(NearestNeighbors(n_neighbors=1).fit(trainX[idx_same]))\n",
    "\n",
    "    stability=np.array([-1.]*testX.shape[0])\n",
    "    start = time.time()\n",
    "    for i in range(testX.shape[0]):\n",
    "        x=testX[i]\n",
    "        y=test_y_pred[i]\n",
    "        x,y = apply_reduction(x.reshape(1, -1),y,reduced_type,red_param,train=False,train_X= train_X)\n",
    "        pred_label=y\n",
    "\n",
    "        dist1,idx1= same_nbrs[pred_label].kneighbors(x)\n",
    "        dist2,idx2= other_nbrs[pred_label].kneighbors(x)\n",
    "\n",
    "        stability[i]=(dist2-dist1)/2\n",
    "    end = time.time()\n",
    "    time_all=end-start\n",
    "    ex_in_time=testX.shape[0]/time_all\n",
    "    return stability,time_all,ex_in_time  "
   ]
  },
  {
   "cell_type": "code",
   "execution_count": 29,
   "id": "77d7b3c1-07b3-4d09-b417-a33af96bcf56",
   "metadata": {},
   "outputs": [
    {
     "name": "stdout",
     "output_type": "stream",
     "text": [
      "28 7 49\n",
      "[[173. 177. 181. ...  82. 109.  93.]\n",
      " [106. 111. 120. ...   0.   0.   7.]\n",
      " [151. 151. 153. ...  47.  40.  37.]\n",
      " ...\n",
      " [157. 156. 157. ...  81.  83.  84.]\n",
      " [192. 192. 192. ... 224. 222. 221.]\n",
      " [196. 198. 198. ... 170. 170. 171.]] (20775, 784)\n",
      "[[ 92. 109. 121. 130. 135. 137. 143. 150. 155. 160. 164. 166. 168. 170.\n",
      "  171. 171. 175. 160. 172. 171. 171. 170. 170. 169. 169. 168. 166. 164.\n",
      "   95. 110. 123. 133. 137. 139. 145. 152. 157. 161. 165. 169. 171. 172.\n",
      "  171. 184. 193. 124. 160. 176. 173. 173. 172. 171. 170. 169. 167. 165.\n",
      "   96. 112. 124. 134. 139. 141. 147. 153. 159. 162. 167. 171. 172. 174.\n",
      "  171. 193. 199. 123. 144. 181. 174. 175. 175. 173. 171. 170. 169. 167.\n",
      "   98. 113. 126. 135. 139. 143. 148. 155. 161. 164. 167. 170. 171. 174.\n",
      "  172. 192. 209. 131. 140. 183. 173. 175. 174. 173. 171. 169. 169. 167.\n",
      "   99. 113. 128. 138. 142. 144. 151. 158. 161. 166. 168. 170. 174. 177.\n",
      "  172. 199. 218. 139. 139. 184. 176. 176. 175. 175. 172. 171. 169. 168.\n",
      "  101. 116. 130. 139. 144. 147. 151. 158. 167. 170. 169. 175. 175. 179.\n",
      "  175. 208. 220. 147. 135. 187. 178. 179. 177. 176. 175. 173. 172. 170.\n",
      "  104. 120. 132. 140. 145. 146. 167. 174. 145. 157. 195. 169. 120. 183.\n",
      "  178. 212. 220. 140. 131. 191. 181. 182. 181. 180. 178. 175. 174. 173.\n",
      "  104. 120. 134. 143. 147. 144. 188. 172.  97.  85. 156. 132.  83. 171.\n",
      "  184. 219. 221. 137. 119. 193. 183. 184. 184. 182. 181. 179. 176. 175.\n",
      "  105. 121. 135. 145. 149. 150. 168. 137.  90.  69. 105. 131.  60. 124.\n",
      "  197. 221. 204. 134. 109. 193. 185. 186. 186. 183. 182. 181. 179. 177.\n",
      "  106. 124. 137. 147. 151. 155. 163. 158. 121.  87. 120. 138.  84.  74.\n",
      "  196. 204. 174. 117.  97. 193. 187. 187. 187. 186. 185. 183. 181. 179.\n",
      "  109. 126. 139. 148. 152. 156. 163. 171. 179. 146. 136. 150. 116.  71.\n",
      "  108. 137. 149. 121.  97. 196. 191. 190. 189. 189. 187. 186. 183. 182.\n",
      "  112. 127. 141. 150. 154. 158. 164. 172. 175. 183. 166. 175. 143. 128.\n",
      "   77.  72. 112. 114.  99. 196. 191. 191. 192. 191. 189. 187. 186. 185.\n",
      "  113. 129. 144. 152. 156. 162. 168. 173. 184. 188. 126. 120. 190. 162.\n",
      "  132.  80.  79.  95.  83. 182. 198. 193. 193. 192. 191. 190. 189. 187.\n",
      "  114. 130. 146. 153. 156. 163. 170. 173. 192. 196. 156.  76. 143. 196.\n",
      "  158. 129.  83.  77.  68. 163. 204. 195. 195. 194. 192. 191. 192. 188.\n",
      "  115. 132. 146. 154. 159. 163. 178. 185. 155. 205. 172. 100. 100. 221.\n",
      "  170. 157. 107.  65.  58. 163. 207. 196. 195. 195. 194. 193. 192. 189.\n",
      "  117. 133. 147. 156. 161. 162. 195. 220. 143. 165. 160. 105. 176. 224.\n",
      "  179. 163. 117.  67.  51. 149. 209. 198. 199. 198. 197. 195. 192. 191.\n",
      "  119. 135. 149. 160. 163. 164. 197. 221. 159. 119. 172. 129. 207. 228.\n",
      "  167. 151. 122.  76.  50. 126. 214. 199. 201. 200. 199. 197. 195. 194.\n",
      "  119. 136. 150. 161. 163. 168. 178. 202. 173. 118. 205. 174. 195. 222.\n",
      "  186. 142. 116.  84.  50. 135. 216. 201. 201. 200. 200. 198. 197. 196.\n",
      "  120. 137. 152. 161. 164. 170. 174. 216. 167. 143. 221. 157. 147. 220.\n",
      "  183. 146. 102.  85.  52. 152. 217. 203. 203. 203. 202. 201. 199. 197.\n",
      "  120. 138. 153. 162. 166. 173. 176. 202. 198. 192. 165.  80. 149. 213.\n",
      "  173. 134.  98.  85.  57. 160. 217. 204. 205. 205. 204. 202. 200. 199.\n",
      "  122. 139. 154. 163. 166. 173. 182. 186. 226. 217. 131. 101. 214. 197.\n",
      "  162. 125.  91.  83.  63. 177. 217. 205. 206. 206. 206. 203. 201. 201.\n",
      "  123. 140. 155. 163. 168. 174. 184. 186. 209. 232. 213. 186. 211. 182.\n",
      "  146. 113.  92.  84.  75. 200. 215. 210. 208. 207. 206. 206. 203. 201.\n",
      "  123. 141. 157. 165. 168. 176. 185. 188. 196. 225. 218. 178. 182. 165.\n",
      "  136. 114. 101.  85.  97. 218. 214. 213. 210. 210. 207. 206. 205. 202.\n",
      "  125. 143. 157. 165. 169. 178. 184. 198. 206. 220. 211. 145. 164. 171.\n",
      "  160. 139. 115.  80. 120. 226. 213. 213. 212. 211. 208. 206. 205. 204.\n",
      "  126. 143. 158. 166. 169. 177. 192. 163.  74. 180. 217. 190. 194. 176.\n",
      "  192. 170. 126.  70. 144. 228. 213. 215. 214. 212. 210. 209. 206. 206.\n",
      "  127. 143. 159. 167. 170. 177. 193.  90.   0. 166. 231. 213. 186. 179.\n",
      "  191. 164. 108.  67. 177. 228. 217. 217. 213. 213. 212. 211. 209. 207.\n",
      "  128. 144. 160. 168. 169. 186. 157.  74.  52. 105. 214. 204. 180. 178.\n",
      "  179. 143.  97.  72. 203. 224. 217. 217. 216. 214. 212. 211. 210. 207.\n",
      "  127. 144. 160. 167. 169. 187. 122.  66.  72.  55. 130. 176. 152. 152.\n",
      "  144. 106.  76.  28. 160. 233. 217. 219. 219. 216. 213. 212. 211. 210.]] (1, 784)\n",
      "28 7 49\n",
      "[[173. 177. 181. ...  82. 109.  93.]\n",
      " [106. 111. 120. ...   0.   0.   7.]\n",
      " [151. 151. 153. ...  47.  40.  37.]\n",
      " ...\n",
      " [157. 156. 157. ...  81.  83.  84.]\n",
      " [192. 192. 192. ... 224. 222. 221.]\n",
      " [196. 198. 198. ... 170. 170. 171.]] (20775, 784)\n",
      "[[109. 110. 111. 111. 112. 123. 134. 144. 152. 160. 167. 173. 175. 176.\n",
      "  179. 184. 188. 192. 196. 199. 203. 206. 207. 210. 212. 214. 217. 219.\n",
      "  108. 109. 111. 111. 112. 124. 134. 144. 153. 159. 168. 173. 174. 176.\n",
      "  178. 182. 187. 192. 196. 201. 203. 206. 208. 211. 213. 214. 217. 219.\n",
      "  108. 108. 110. 110. 111. 123. 134. 144. 151. 159. 167. 172. 174. 173.\n",
      "  178. 181. 184. 190. 195. 199. 201. 205. 206. 210. 213. 215. 217. 218.\n",
      "  107. 107. 111. 110. 112. 124. 133. 143. 153. 161. 168. 172. 173. 174.\n",
      "  174. 183. 189. 190. 193. 198. 201. 204. 205. 209. 213. 214. 217. 219.\n",
      "  107. 107. 110. 110. 113. 124. 134. 143. 152. 157. 164. 166. 189. 194.\n",
      "  165. 151. 172. 195. 200. 197. 200. 204. 208. 210. 213. 215. 218. 220.\n",
      "  107. 107. 108. 108. 112. 123. 133. 144. 147. 167. 176. 191. 211. 191.\n",
      "  167. 144. 123. 135. 173. 202. 206. 205. 207. 210. 214. 216. 218. 219.\n",
      "  106. 106. 108. 106. 111. 121. 134. 134. 166. 220. 207. 209. 197. 169.\n",
      "  152. 149. 131. 111. 103. 136. 182. 202. 211. 214. 213. 214. 217. 218.\n",
      "  106. 107. 107. 107. 110. 123. 130. 138. 216. 215. 195. 186. 178. 161.\n",
      "  145. 130. 129. 121. 108. 102. 108. 131. 158. 186. 211. 220. 217. 218.\n",
      "  104. 106. 107. 105. 110. 119. 129. 211. 216. 182. 174. 168. 157. 148.\n",
      "  129. 119. 123. 128. 114. 112. 107. 102. 103. 111. 142. 189. 219. 223.\n",
      "  103. 105. 107. 104. 110. 106. 171. 220. 180. 169. 160. 147. 135. 124.\n",
      "  117. 118. 111. 134. 122. 118. 113. 107. 103. 101. 100. 112. 154. 205.\n",
      "   98.  98.  99.  98. 100. 155. 186. 175. 163. 156. 139. 125. 117. 110.\n",
      "  115. 104. 103. 130. 129. 137. 117. 111. 103. 100. 102. 102.  98. 119.\n",
      "  144. 139. 141. 135. 164. 206. 167. 157. 150. 132. 118. 112. 102. 105.\n",
      "  110.  82. 105. 133. 137. 139. 121. 115. 102. 100.  99. 102. 104.  98.\n",
      "  136. 140. 140. 138. 223. 206. 171. 144. 123. 115. 109.  98.  94. 106.\n",
      "   90.  69. 118. 134. 138. 141. 126. 118. 106. 104.  98.  99. 101. 102.\n",
      "  133. 137. 121. 169. 226. 192. 156. 124. 100.  97.  90.  85.  95.  89.\n",
      "   59.  68. 122. 131. 136. 151. 140. 129. 113. 107.  97.  97. 100.  99.\n",
      "  142. 137. 145. 217. 200. 172. 129. 104.  88.  93.  78.  68.  64.  55.\n",
      "   47.  55. 119. 127. 142. 165. 157. 139. 125. 100.  95.  99.  98.  95.\n",
      "  143. 128. 190. 199. 166. 139. 108.  91.  84.  86.  62.  47.  45.  43.\n",
      "   45.  46. 107. 129. 148. 175. 147. 143. 133.  95.  94.  96.  95.  93.\n",
      "  134. 158. 210. 172. 132. 107.  93.  87.  88.  86.  70.  44.  40.  42.\n",
      "   42.  40.  84. 122. 168. 165. 124. 145. 132.  92.  94.  91.  94.  93.\n",
      "  134. 206. 194. 145. 107.  84.  84.  89.  93.  94.  95.  78.  45.  48.\n",
      "   53.  55.  51. 142. 186. 141. 116. 136. 115.  91.  94.  92.  93.  90.\n",
      "  174. 195. 150. 112.  93. 111.  96.  95.  98. 100.  99.  92.  74.  76.\n",
      "   77.  63.  89. 192. 164. 123. 112. 112.  95.  91.  91.  92.  89.  87.\n",
      "  201. 148. 113.  82. 118. 137. 110. 119. 110. 107. 102.  93.  88.  88.\n",
      "   84.  69. 167. 184. 144. 112. 100.  93.  87.  92.  90.  88.  90.  94.\n",
      "  159. 115.  83. 104. 134. 116. 115. 115. 113. 107. 102.  94.  87.  86.\n",
      "   67. 113. 203. 167. 127.  98.  90.  85.  86.  88.  84.  89.  96.  96.\n",
      "  119.  89. 106. 139. 139. 134. 132. 117. 105.  99. 103.  90.  89. 101.\n",
      "  106. 174. 204. 170. 108.  88.  85.  87.  89.  87.  88.  94.  93.  93.\n",
      "  123. 124. 138. 139. 141. 141. 140. 140. 132. 127. 133. 129. 132. 141.\n",
      "  135. 204. 207. 175. 104.  73.  80.  93.  91.  89.  91.  92.  94.  94.\n",
      "  142. 140. 138. 138. 140. 141. 140. 142. 141. 143. 141. 143. 143. 141.\n",
      "  137. 206. 212. 179. 116.  80. 122. 106. 101.  97.  95.  97.  96.  97.\n",
      "  139. 137. 138. 139. 140. 140. 140. 140. 139. 140. 141. 141. 141. 143.\n",
      "  133. 182. 197. 166. 108. 126. 167. 116. 110. 110. 108. 107. 100.  97.\n",
      "  138. 139. 137. 139. 141. 139. 139. 140. 140. 141. 140. 141. 142. 144.\n",
      "  137. 150. 173. 136. 105. 133. 175. 156. 122. 115. 119. 120. 111. 100.\n",
      "  139. 139. 138. 138. 140. 140. 139. 139. 140. 140. 139. 139. 143. 142.\n",
      "  140. 141. 146. 122. 119. 135. 156. 189. 154. 140. 136. 135. 125. 114.\n",
      "  138. 139. 139. 139. 140. 140. 140. 140. 140. 140. 140. 141. 143. 142.\n",
      "  142. 142. 142. 141. 142. 138. 139. 200. 177. 161. 152. 144. 135. 123.]] (1, 784)\n",
      "28 7 49\n",
      "[[173. 177. 181. ...  82. 109.  93.]\n",
      " [106. 111. 120. ...   0.   0.   7.]\n",
      " [151. 151. 153. ...  47.  40.  37.]\n",
      " ...\n",
      " [157. 156. 157. ...  81.  83.  84.]\n",
      " [192. 192. 192. ... 224. 222. 221.]\n",
      " [196. 198. 198. ... 170. 170. 171.]] (20775, 784)\n",
      "[[155. 157. 158. 158. 158. 158. 158. 158. 159. 160. 158. 157. 157. 158.\n",
      "  160. 159. 157. 156. 155. 155. 155. 156. 155. 153. 151. 152.  91.  54.\n",
      "  159. 159. 160. 160. 160. 160. 160. 161. 150. 143. 164. 160. 160. 161.\n",
      "  162. 162. 161. 159. 158. 158. 157. 157. 157. 157. 154. 159. 113.  48.\n",
      "  162. 162. 162. 162. 162. 163. 162. 167. 141.  99. 162. 164. 162. 164.\n",
      "  164. 164. 164. 162. 161. 161. 160. 158. 159. 158. 156. 164. 124.  51.\n",
      "  164. 164. 164. 164. 164. 165. 162. 173. 151.  84. 156. 168. 164. 165.\n",
      "  165. 166. 166. 164. 164. 163. 163. 161. 161. 161. 158. 161. 142. 113.\n",
      "  165. 166. 166. 165. 166. 167. 163. 173. 153.  82. 160. 172. 167. 169.\n",
      "  168. 168. 167. 167. 166. 165. 165. 164. 163. 163. 161. 161. 160.  89.\n",
      "  167. 168. 169. 169. 169. 170. 167. 174. 139.  85. 168. 172. 169. 169.\n",
      "  168. 168. 169. 169. 169. 167. 168. 167. 164. 164. 164. 165. 155. 101.\n",
      "  169. 170. 171. 171. 172. 171. 168. 179. 152.  87. 166. 175. 173. 175.\n",
      "  170. 170. 170. 170. 170. 169. 170. 168. 167. 165. 165. 165. 160. 144.\n",
      "  170. 172. 173. 172. 173. 173. 170. 181. 153.  84. 167. 171. 145. 147.\n",
      "  177. 172. 174. 176. 171. 171. 170. 168. 168. 169. 166. 167. 166. 165.\n",
      "  174. 174. 173. 173. 174. 175. 172. 183. 150.  84. 158. 159. 148. 107.\n",
      "  152. 179. 150. 155. 178. 173. 170. 164. 139. 168. 169. 169. 168. 164.\n",
      "  175. 175. 175. 175. 176. 176. 172. 182. 170. 106. 113. 161. 187. 142.\n",
      "  107. 165. 145.  98. 153. 174. 171. 161. 115. 167. 171. 169. 169. 166.\n",
      "  176. 175. 176. 176. 177. 178. 174. 182. 170. 112.  81. 135. 195. 167.\n",
      "  101. 149. 152. 106.  91. 113. 152. 168. 108. 167. 173. 173. 173. 171.\n",
      "  176. 177. 177. 177. 177. 180. 176. 183. 171. 139. 111. 111. 166. 177.\n",
      "  108. 149. 154. 103. 125. 116. 137. 175. 104. 153. 180. 173. 173. 172.\n",
      "  177. 179. 179. 180. 180. 182. 180. 182. 194. 161. 114. 120. 136. 167.\n",
      "   92. 154. 154.  99. 152. 124. 107. 169. 112. 118. 182. 173. 175. 174.\n",
      "  179. 180. 181. 181. 182. 183. 180. 186. 178. 120.  98.  99. 131. 146.\n",
      "   85. 164. 130.  89. 153. 119. 112. 175. 112. 101. 183. 176. 177. 176.\n",
      "  181. 182. 182. 182. 182. 183. 181. 187. 182. 139. 102.  80. 107. 137.\n",
      "  106. 163. 114. 111. 170. 111. 127. 176.  91. 136. 187. 176. 178. 177.\n",
      "  181. 182. 182. 182. 183. 185. 180. 194. 192. 154. 109.  89.  84. 125.\n",
      "  120. 162. 103. 120. 172. 101. 145. 149.  86. 169. 183. 178. 178. 178.\n",
      "  182. 184. 184. 185. 185. 186. 182. 198. 191. 159. 121.  94.  76.  66.\n",
      "  109. 172. 104. 137. 145. 128. 161. 113. 104. 187. 181. 181. 180. 180.\n",
      "  183. 185. 184. 185. 185. 185. 185. 201. 192. 166. 137. 105.  82.  94.\n",
      "  125. 155. 159. 177. 162. 135. 137.  90. 125. 192. 181. 182. 180. 181.\n",
      "  183. 185. 185. 185. 186. 186. 185. 201. 195. 175. 142. 112.  90.  94.\n",
      "  159. 186. 187. 171. 151. 118. 102.  79. 149. 192. 182. 182. 180. 181.\n",
      "  185. 186. 186. 186. 186. 187. 184. 198. 197. 179. 142. 120. 101.  98.\n",
      "  167. 189. 188. 167. 137. 112.  81.  97. 185. 185. 185. 183. 181. 181.\n",
      "  186. 187. 187. 187. 187. 189. 182. 195. 197. 178. 145. 130. 113. 102.\n",
      "  168. 191. 183. 154. 126.  98.  77. 162. 192. 185. 186. 184. 181. 182.\n",
      "  186. 187. 187. 188. 189. 190. 186. 195. 196. 179. 148. 134. 112. 104.\n",
      "  177. 191. 168. 139. 112.  77. 129. 197. 186. 187. 187. 185. 184. 183.\n",
      "  187. 188. 188. 188. 189. 190. 187. 197. 196. 175. 147. 133. 103. 109.\n",
      "  164. 169. 150. 127.  90.  90. 187. 191. 187. 187. 187. 186. 186. 184.\n",
      "  186. 187. 188. 188. 190. 186. 182. 200. 187. 165. 145. 119.  94. 118.\n",
      "  145. 141. 130. 108.  74. 155. 198. 189. 189. 188. 188. 187. 187. 187.\n",
      "  186. 187. 187. 188. 189. 181. 194. 198. 177. 164. 141. 113. 101. 129.\n",
      "  128. 121. 113.  82. 116. 197. 190. 190. 190. 190. 187. 188. 188. 186.\n",
      "  186. 187. 188. 189. 183. 186. 194. 186. 170. 162. 137. 121. 114. 125.\n",
      "  117. 111.  92. 100. 183. 191. 190. 188. 188. 188. 187. 189. 176. 153.\n",
      "  187. 187. 188. 188. 178. 190. 189. 168. 151. 147. 130. 121. 116. 109.\n",
      "  108.  94.  99. 179. 193. 190. 191. 190. 191. 189. 186. 182. 183. 157.\n",
      "  187. 188. 189. 183. 176. 189. 186. 160. 134. 120. 116. 113. 105.  99.\n",
      "   97.  81. 159. 196. 190. 191. 192. 189. 184. 184. 179. 171. 174. 176.]] (1, 784)\n"
     ]
    },
    {
     "ename": "KeyboardInterrupt",
     "evalue": "",
     "output_type": "error",
     "traceback": [
      "\u001b[0;31m---------------------------------------------------------------------------\u001b[0m",
      "\u001b[0;31mKeyboardInterrupt\u001b[0m                         Traceback (most recent call last)",
      "\u001b[0;32m/var/folders/bq/yr2g0hqx0vqcpvr3lgf609sh0000gn/T/ipykernel_60174/377376015.py\u001b[0m in \u001b[0;36m<module>\u001b[0;34m\u001b[0m\n\u001b[1;32m     13\u001b[0m                     \u001b[0mRGB\u001b[0m\u001b[0;34m=\u001b[0m\u001b[0;34m'RGB'\u001b[0m \u001b[0;32min\u001b[0m \u001b[0mdataset_name\u001b[0m\u001b[0;34m\u001b[0m\u001b[0;34m\u001b[0m\u001b[0m\n\u001b[1;32m     14\u001b[0m \u001b[0;34m\u001b[0m\u001b[0m\n\u001b[0;32m---> 15\u001b[0;31m                     \u001b[0mstability\u001b[0m\u001b[0;34m,\u001b[0m\u001b[0mtime_all\u001b[0m\u001b[0;34m,\u001b[0m\u001b[0mex_in_time\u001b[0m\u001b[0;34m=\u001b[0m \u001b[0mstability_calc_reduced\u001b[0m\u001b[0;34m(\u001b[0m\u001b[0mmodel_info\u001b[0m\u001b[0;34m.\u001b[0m\u001b[0mdata\u001b[0m\u001b[0;34m.\u001b[0m\u001b[0mX_train\u001b[0m\u001b[0;34m,\u001b[0m\u001b[0mmodel_info\u001b[0m\u001b[0;34m.\u001b[0m\u001b[0mdata\u001b[0m\u001b[0;34m.\u001b[0m\u001b[0mX_val\u001b[0m\u001b[0;34m,\u001b[0m\u001b[0mmodel_info\u001b[0m\u001b[0;34m.\u001b[0m\u001b[0mdata\u001b[0m\u001b[0;34m.\u001b[0m\u001b[0my_train\u001b[0m\u001b[0;34m,\u001b[0m\u001b[0mmodel_info\u001b[0m\u001b[0;34m.\u001b[0m\u001b[0my_pred_val\u001b[0m\u001b[0;34m,\u001b[0m\u001b[0mnum_labels\u001b[0m\u001b[0;34m,\u001b[0m\u001b[0mreduced_type\u001b[0m\u001b[0;34m=\u001b[0m\u001b[0mreduced_method\u001b[0m\u001b[0;34m,\u001b[0m\u001b[0mred_param\u001b[0m\u001b[0;34m=\u001b[0m\u001b[0mred_param\u001b[0m\u001b[0;34m,\u001b[0m\u001b[0mRGB\u001b[0m\u001b[0;34m=\u001b[0m\u001b[0mRGB\u001b[0m\u001b[0;34m)\u001b[0m\u001b[0;34m\u001b[0m\u001b[0;34m\u001b[0m\u001b[0m\n\u001b[0m\u001b[1;32m     16\u001b[0m                     \u001b[0;31m#stability_test,_,_= stability_calc_reduced(model_info.data.X_train,model_info.data.X_test,model_info.data.y_train,model_info.y_pred_test,num_labels,pool_type='Avg',pool_size=pool_size,RGB=RGB)\u001b[0m\u001b[0;34m\u001b[0m\u001b[0;34m\u001b[0m\u001b[0m\n\u001b[1;32m     17\u001b[0m \u001b[0;34m\u001b[0m\u001b[0m\n",
      "\u001b[0;32m/var/folders/bq/yr2g0hqx0vqcpvr3lgf609sh0000gn/T/ipykernel_60174/886464011.py\u001b[0m in \u001b[0;36mstability_calc_reduced\u001b[0;34m(trainX, testX, train_y, test_y_pred, num_labels, reduced_type, red_param, RGB)\u001b[0m\n\u001b[1;32m     30\u001b[0m         \u001b[0mx\u001b[0m\u001b[0;34m=\u001b[0m\u001b[0mtestX\u001b[0m\u001b[0;34m[\u001b[0m\u001b[0mi\u001b[0m\u001b[0;34m]\u001b[0m\u001b[0;34m\u001b[0m\u001b[0;34m\u001b[0m\u001b[0m\n\u001b[1;32m     31\u001b[0m         \u001b[0my\u001b[0m\u001b[0;34m=\u001b[0m\u001b[0mtest_y_pred\u001b[0m\u001b[0;34m[\u001b[0m\u001b[0mi\u001b[0m\u001b[0;34m]\u001b[0m\u001b[0;34m\u001b[0m\u001b[0;34m\u001b[0m\u001b[0m\n\u001b[0;32m---> 32\u001b[0;31m         \u001b[0mx\u001b[0m\u001b[0;34m,\u001b[0m\u001b[0my\u001b[0m \u001b[0;34m=\u001b[0m \u001b[0mapply_reduction\u001b[0m\u001b[0;34m(\u001b[0m\u001b[0mx\u001b[0m\u001b[0;34m.\u001b[0m\u001b[0mreshape\u001b[0m\u001b[0;34m(\u001b[0m\u001b[0;36m1\u001b[0m\u001b[0;34m,\u001b[0m \u001b[0;34m-\u001b[0m\u001b[0;36m1\u001b[0m\u001b[0;34m)\u001b[0m\u001b[0;34m,\u001b[0m\u001b[0my\u001b[0m\u001b[0;34m,\u001b[0m\u001b[0mreduced_type\u001b[0m\u001b[0;34m,\u001b[0m\u001b[0mred_param\u001b[0m\u001b[0;34m,\u001b[0m\u001b[0mtrain\u001b[0m\u001b[0;34m=\u001b[0m\u001b[0;32mFalse\u001b[0m\u001b[0;34m,\u001b[0m\u001b[0mtrain_X\u001b[0m\u001b[0;34m=\u001b[0m \u001b[0mtrain_X\u001b[0m\u001b[0;34m)\u001b[0m\u001b[0;34m\u001b[0m\u001b[0;34m\u001b[0m\u001b[0m\n\u001b[0m\u001b[1;32m     33\u001b[0m         \u001b[0mpred_label\u001b[0m\u001b[0;34m=\u001b[0m\u001b[0my\u001b[0m\u001b[0;34m\u001b[0m\u001b[0;34m\u001b[0m\u001b[0m\n\u001b[1;32m     34\u001b[0m \u001b[0;34m\u001b[0m\u001b[0m\n",
      "\u001b[0;32m/var/folders/bq/yr2g0hqx0vqcpvr3lgf609sh0000gn/T/ipykernel_60174/1028698257.py\u001b[0m in \u001b[0;36mapply_reduction\u001b[0;34m(trainX, train_y, reduced_type, red_param, train, train_X)\u001b[0m\n\u001b[1;32m     29\u001b[0m             \u001b[0mprint\u001b[0m\u001b[0;34m(\u001b[0m\u001b[0mtrainX\u001b[0m\u001b[0;34m,\u001b[0m\u001b[0mtrainX\u001b[0m\u001b[0;34m.\u001b[0m\u001b[0mshape\u001b[0m\u001b[0;34m)\u001b[0m\u001b[0;34m\u001b[0m\u001b[0;34m\u001b[0m\u001b[0m\n\u001b[1;32m     30\u001b[0m             \u001b[0mpca\u001b[0m \u001b[0;34m=\u001b[0m \u001b[0mPCA\u001b[0m\u001b[0;34m(\u001b[0m\u001b[0mn_components\u001b[0m\u001b[0;34m=\u001b[0m\u001b[0msize\u001b[0m\u001b[0;34m**\u001b[0m\u001b[0;36m2\u001b[0m\u001b[0;34m)\u001b[0m\u001b[0;34m\u001b[0m\u001b[0;34m\u001b[0m\u001b[0m\n\u001b[0;32m---> 31\u001b[0;31m             \u001b[0mpca\u001b[0m\u001b[0;34m.\u001b[0m\u001b[0mfit_transform\u001b[0m\u001b[0;34m(\u001b[0m\u001b[0mtrain_X\u001b[0m\u001b[0;34m)\u001b[0m\u001b[0;34m\u001b[0m\u001b[0;34m\u001b[0m\u001b[0m\n\u001b[0m\u001b[1;32m     32\u001b[0m             \u001b[0mtrainX\u001b[0m\u001b[0;34m=\u001b[0m\u001b[0mpca\u001b[0m\u001b[0;34m.\u001b[0m\u001b[0mtransform\u001b[0m\u001b[0;34m(\u001b[0m\u001b[0mtrainX\u001b[0m\u001b[0;34m.\u001b[0m\u001b[0mreshape\u001b[0m\u001b[0;34m(\u001b[0m\u001b[0;36m1\u001b[0m\u001b[0;34m,\u001b[0m\u001b[0;34m-\u001b[0m\u001b[0;36m1\u001b[0m\u001b[0;34m)\u001b[0m\u001b[0;34m)\u001b[0m\u001b[0;34m\u001b[0m\u001b[0;34m\u001b[0m\u001b[0m\n\u001b[1;32m     33\u001b[0m     \u001b[0;32melif\u001b[0m \u001b[0mreduced_type\u001b[0m \u001b[0;34m==\u001b[0m \u001b[0;34m'randpix'\u001b[0m\u001b[0;34m:\u001b[0m\u001b[0;34m\u001b[0m\u001b[0;34m\u001b[0m\u001b[0m\n",
      "\u001b[0;32m~/opt/miniconda3/envs/ML/lib/python3.9/site-packages/sklearn/decomposition/_pca.py\u001b[0m in \u001b[0;36mfit_transform\u001b[0;34m(self, X, y)\u001b[0m\n\u001b[1;32m    405\u001b[0m         \u001b[0mC\u001b[0m\u001b[0;34m-\u001b[0m\u001b[0mordered\u001b[0m \u001b[0marray\u001b[0m\u001b[0;34m,\u001b[0m \u001b[0muse\u001b[0m \u001b[0;34m'np.ascontiguousarray'\u001b[0m\u001b[0;34m.\u001b[0m\u001b[0;34m\u001b[0m\u001b[0;34m\u001b[0m\u001b[0m\n\u001b[1;32m    406\u001b[0m         \"\"\"\n\u001b[0;32m--> 407\u001b[0;31m         \u001b[0mU\u001b[0m\u001b[0;34m,\u001b[0m \u001b[0mS\u001b[0m\u001b[0;34m,\u001b[0m \u001b[0mVt\u001b[0m \u001b[0;34m=\u001b[0m \u001b[0mself\u001b[0m\u001b[0;34m.\u001b[0m\u001b[0m_fit\u001b[0m\u001b[0;34m(\u001b[0m\u001b[0mX\u001b[0m\u001b[0;34m)\u001b[0m\u001b[0;34m\u001b[0m\u001b[0;34m\u001b[0m\u001b[0m\n\u001b[0m\u001b[1;32m    408\u001b[0m         \u001b[0mU\u001b[0m \u001b[0;34m=\u001b[0m \u001b[0mU\u001b[0m\u001b[0;34m[\u001b[0m\u001b[0;34m:\u001b[0m\u001b[0;34m,\u001b[0m \u001b[0;34m:\u001b[0m \u001b[0mself\u001b[0m\u001b[0;34m.\u001b[0m\u001b[0mn_components_\u001b[0m\u001b[0;34m]\u001b[0m\u001b[0;34m\u001b[0m\u001b[0;34m\u001b[0m\u001b[0m\n\u001b[1;32m    409\u001b[0m \u001b[0;34m\u001b[0m\u001b[0m\n",
      "\u001b[0;32m~/opt/miniconda3/envs/ML/lib/python3.9/site-packages/sklearn/decomposition/_pca.py\u001b[0m in \u001b[0;36m_fit\u001b[0;34m(self, X)\u001b[0m\n\u001b[1;32m    457\u001b[0m             \u001b[0;32mreturn\u001b[0m \u001b[0mself\u001b[0m\u001b[0;34m.\u001b[0m\u001b[0m_fit_full\u001b[0m\u001b[0;34m(\u001b[0m\u001b[0mX\u001b[0m\u001b[0;34m,\u001b[0m \u001b[0mn_components\u001b[0m\u001b[0;34m)\u001b[0m\u001b[0;34m\u001b[0m\u001b[0;34m\u001b[0m\u001b[0m\n\u001b[1;32m    458\u001b[0m         \u001b[0;32melif\u001b[0m \u001b[0mself\u001b[0m\u001b[0;34m.\u001b[0m\u001b[0m_fit_svd_solver\u001b[0m \u001b[0;32min\u001b[0m \u001b[0;34m[\u001b[0m\u001b[0;34m\"arpack\"\u001b[0m\u001b[0;34m,\u001b[0m \u001b[0;34m\"randomized\"\u001b[0m\u001b[0;34m]\u001b[0m\u001b[0;34m:\u001b[0m\u001b[0;34m\u001b[0m\u001b[0;34m\u001b[0m\u001b[0m\n\u001b[0;32m--> 459\u001b[0;31m             \u001b[0;32mreturn\u001b[0m \u001b[0mself\u001b[0m\u001b[0;34m.\u001b[0m\u001b[0m_fit_truncated\u001b[0m\u001b[0;34m(\u001b[0m\u001b[0mX\u001b[0m\u001b[0;34m,\u001b[0m \u001b[0mn_components\u001b[0m\u001b[0;34m,\u001b[0m \u001b[0mself\u001b[0m\u001b[0;34m.\u001b[0m\u001b[0m_fit_svd_solver\u001b[0m\u001b[0;34m)\u001b[0m\u001b[0;34m\u001b[0m\u001b[0;34m\u001b[0m\u001b[0m\n\u001b[0m\u001b[1;32m    460\u001b[0m         \u001b[0;32melse\u001b[0m\u001b[0;34m:\u001b[0m\u001b[0;34m\u001b[0m\u001b[0;34m\u001b[0m\u001b[0m\n\u001b[1;32m    461\u001b[0m             raise ValueError(\n",
      "\u001b[0;32m~/opt/miniconda3/envs/ML/lib/python3.9/site-packages/sklearn/decomposition/_pca.py\u001b[0m in \u001b[0;36m_fit_truncated\u001b[0;34m(self, X, n_components, svd_solver)\u001b[0m\n\u001b[1;32m    578\u001b[0m         \u001b[0;32melif\u001b[0m \u001b[0msvd_solver\u001b[0m \u001b[0;34m==\u001b[0m \u001b[0;34m\"randomized\"\u001b[0m\u001b[0;34m:\u001b[0m\u001b[0;34m\u001b[0m\u001b[0;34m\u001b[0m\u001b[0m\n\u001b[1;32m    579\u001b[0m             \u001b[0;31m# sign flipping is done inside\u001b[0m\u001b[0;34m\u001b[0m\u001b[0;34m\u001b[0m\u001b[0m\n\u001b[0;32m--> 580\u001b[0;31m             U, S, Vt = randomized_svd(\n\u001b[0m\u001b[1;32m    581\u001b[0m                 \u001b[0mX\u001b[0m\u001b[0;34m,\u001b[0m\u001b[0;34m\u001b[0m\u001b[0;34m\u001b[0m\u001b[0m\n\u001b[1;32m    582\u001b[0m                 \u001b[0mn_components\u001b[0m\u001b[0;34m=\u001b[0m\u001b[0mn_components\u001b[0m\u001b[0;34m,\u001b[0m\u001b[0;34m\u001b[0m\u001b[0;34m\u001b[0m\u001b[0m\n",
      "\u001b[0;32m~/opt/miniconda3/envs/ML/lib/python3.9/site-packages/sklearn/utils/extmath.py\u001b[0m in \u001b[0;36mrandomized_svd\u001b[0;34m(M, n_components, n_oversamples, n_iter, power_iteration_normalizer, transpose, flip_sign, random_state)\u001b[0m\n\u001b[1;32m    402\u001b[0m \u001b[0;34m\u001b[0m\u001b[0m\n\u001b[1;32m    403\u001b[0m     \u001b[0;31m# project M to the (k + p) dimensional space using the basis vectors\u001b[0m\u001b[0;34m\u001b[0m\u001b[0;34m\u001b[0m\u001b[0m\n\u001b[0;32m--> 404\u001b[0;31m     \u001b[0mB\u001b[0m \u001b[0;34m=\u001b[0m \u001b[0msafe_sparse_dot\u001b[0m\u001b[0;34m(\u001b[0m\u001b[0mQ\u001b[0m\u001b[0;34m.\u001b[0m\u001b[0mT\u001b[0m\u001b[0;34m,\u001b[0m \u001b[0mM\u001b[0m\u001b[0;34m)\u001b[0m\u001b[0;34m\u001b[0m\u001b[0;34m\u001b[0m\u001b[0m\n\u001b[0m\u001b[1;32m    405\u001b[0m \u001b[0;34m\u001b[0m\u001b[0m\n\u001b[1;32m    406\u001b[0m     \u001b[0;31m# compute the SVD on the thin matrix: (k + p) wide\u001b[0m\u001b[0;34m\u001b[0m\u001b[0;34m\u001b[0m\u001b[0m\n",
      "\u001b[0;32m~/opt/miniconda3/envs/ML/lib/python3.9/site-packages/sklearn/utils/extmath.py\u001b[0m in \u001b[0;36msafe_sparse_dot\u001b[0;34m(a, b, dense_output)\u001b[0m\n\u001b[1;32m    151\u001b[0m             \u001b[0mret\u001b[0m \u001b[0;34m=\u001b[0m \u001b[0mnp\u001b[0m\u001b[0;34m.\u001b[0m\u001b[0mdot\u001b[0m\u001b[0;34m(\u001b[0m\u001b[0ma\u001b[0m\u001b[0;34m,\u001b[0m \u001b[0mb\u001b[0m\u001b[0;34m)\u001b[0m\u001b[0;34m\u001b[0m\u001b[0;34m\u001b[0m\u001b[0m\n\u001b[1;32m    152\u001b[0m     \u001b[0;32melse\u001b[0m\u001b[0;34m:\u001b[0m\u001b[0;34m\u001b[0m\u001b[0;34m\u001b[0m\u001b[0m\n\u001b[0;32m--> 153\u001b[0;31m         \u001b[0mret\u001b[0m \u001b[0;34m=\u001b[0m \u001b[0ma\u001b[0m \u001b[0;34m@\u001b[0m \u001b[0mb\u001b[0m\u001b[0;34m\u001b[0m\u001b[0;34m\u001b[0m\u001b[0m\n\u001b[0m\u001b[1;32m    154\u001b[0m \u001b[0;34m\u001b[0m\u001b[0m\n\u001b[1;32m    155\u001b[0m     if (\n",
      "\u001b[0;31mKeyboardInterrupt\u001b[0m: "
     ]
    }
   ],
   "source": [
    "  \n",
    "\n",
    "#avg\n",
    "all_time=[]\n",
    "Time_dict={}\n",
    "for reduced_method in ['PCA','randpix','randset','resize','Avgpool','Maxpool']:#,'kmeans']:\n",
    "    for red_param in [4]:#range(1,5):\n",
    "        data_dict={}\n",
    "        for dataset_name in ['SignLanguage','Fashion','MNIST']:#,'CIFAR_RGB','GTSRB_RGB']:       \n",
    "            for model_name in ['RF','GB','pytorch']:\n",
    "                shuffle_list=[]\n",
    "                for shuffle in range(1):\n",
    "                    model_info= load_model(dataset_name, model_name, shuffle)\n",
    "                    num_labels=model_info.data.num_labels\n",
    "                    RGB='RGB' in dataset_name \n",
    "\n",
    "                    stability,time_all,ex_in_time= stability_calc_reduced(model_info.data.X_train,model_info.data.X_val,model_info.data.y_train,model_info.y_pred_val,num_labels,reduced_type=reduced_method,red_param=red_param,RGB=RGB) \n",
    "                    #stability_test,_,_= stability_calc_reduced(model_info.data.X_train,model_info.data.X_test,model_info.data.y_train,model_info.y_pred_test,num_labels,pool_type='Avg',pool_size=pool_size,RGB=RGB) \n",
    "\n",
    "                    all_time.append((dataset_name,model_name,shuffle,time_all,ex_in_time))\n",
    "                    shuffle_list.append(ex_in_time)\n",
    "                data_dict[f'{dataset_name}-{model_name}']= mean_confidence_interval2(shuffle_list)\n",
    "        Time_dict[f'{reduced_method}-{red_param}']=data_dict\n",
    "        \n",
    "pd.DataFrame(Time_dict).to_csv(\"X_time_df.csv\")\n",
    "\n",
    "\n",
    "print(all_time)\n",
    "print(Time_dict)\n",
    "\n",
    "\n",
    "\n"
   ]
  },
  {
   "cell_type": "code",
   "execution_count": 15,
   "id": "02309156-abcc-42ef-976f-d3a3a1be7830",
   "metadata": {},
   "outputs": [
    {
     "data": {
      "text/plain": [
       "array([[-1.77161445, -0.97993425]])"
      ]
     },
     "execution_count": 15,
     "metadata": {},
     "output_type": "execute_result"
    }
   ],
   "source": [
    "x=[[1,2,3],[2.3,4,5],[3,5,2]]\n",
    "xx=np.array([1,2,3])\n",
    "pca=PCA(n_components=2)\n",
    "pca.fit(x)\n",
    "pca.transform(xx.reshape(1, -1))"
   ]
  },
  {
   "cell_type": "code",
   "execution_count": 16,
   "id": "706a47ee-39ae-4af4-b5cb-2e453d594450",
   "metadata": {},
   "outputs": [
    {
     "data": {
      "text/plain": [
       "array([[1, 2, 3]])"
      ]
     },
     "execution_count": 16,
     "metadata": {},
     "output_type": "execute_result"
    }
   ],
   "source": [
    "xx.reshape(1, -1)"
   ]
  },
  {
   "cell_type": "code",
   "execution_count": null,
   "id": "0c298f8c-3c51-4ca8-b492-7cb5ae802b35",
   "metadata": {},
   "outputs": [],
   "source": []
  }
 ],
 "metadata": {
  "kernelspec": {
   "display_name": "Python 3 (ipykernel)",
   "language": "python",
   "name": "python3"
  },
  "language_info": {
   "codemirror_mode": {
    "name": "ipython",
    "version": 3
   },
   "file_extension": ".py",
   "mimetype": "text/x-python",
   "name": "python",
   "nbconvert_exporter": "python",
   "pygments_lexer": "ipython3",
   "version": "3.9.9"
  }
 },
 "nbformat": 4,
 "nbformat_minor": 5
}
