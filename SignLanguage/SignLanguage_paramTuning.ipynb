{
 "cells": [
  {
   "cell_type": "code",
   "execution_count": 1,
   "id": "8563776a",
   "metadata": {},
   "outputs": [],
   "source": [
    "import sys  \n",
    "sys.path.insert(0, '../')\n",
    "from utils import *"
   ]
  },
  {
   "cell_type": "code",
   "execution_count": 2,
   "id": "591374c5",
   "metadata": {},
   "outputs": [],
   "source": [
    "X_train = np.load('./0/data/X_train.npy')\n",
    "X_test = np.load('./0/data/X_test.npy')\n",
    "X_val = np.load('./0/data/X_val.npy')\n",
    "y_train = np.load('./0/data/y_train.npy')\n",
    "y_test = np.load('./0/data/y_test.npy')\n",
    "y_val = np.load('./0/data/y_val.npy')"
   ]
  },
  {
   "cell_type": "code",
   "execution_count": 3,
   "id": "0b0ff9d2",
   "metadata": {},
   "outputs": [],
   "source": [
    "from sklearn.ensemble import RandomForestClassifier\n",
    "from sklearn.ensemble import GradientBoostingClassifier\n",
    "from sklearn.neighbors import KNeighborsClassifier\n",
    "from sklearn.model_selection import RandomizedSearchCV\n",
    "from pprint import pprint"
   ]
  },
  {
   "cell_type": "markdown",
   "id": "e07398e7",
   "metadata": {},
   "source": [
    "# Tuning RF"
   ]
  },
  {
   "cell_type": "code",
   "execution_count": 18,
   "id": "c5107133",
   "metadata": {},
   "outputs": [
    {
     "name": "stdout",
     "output_type": "stream",
     "text": [
      "{'n_estimators': [20, 65, 110, 155, 200], 'max_features': ['auto', 'sqrt'], 'max_depth': [1, 23, 45], 'min_samples_split': [5, 10], 'random_state': [0]}\n"
     ]
    }
   ],
   "source": [
    "# Number of trees in random forest\n",
    "n_estimators = [int(x) for x in np.linspace(start = 20, stop = 200, num = 5)]\n",
    "# Number of features to consider at every split\n",
    "max_features = ['auto', 'sqrt']\n",
    "# Maximum number of levels in tree\n",
    "max_depth = [int(x) for x in np.linspace(1, 45, num = 3)]\n",
    "# Minimum number of samples required to split a node\n",
    "min_samples_split = [5, 10]\n",
    "\n",
    "\n",
    "# Create the random grid\n",
    "random_grid = {'n_estimators': n_estimators,\n",
    "               'max_features': max_features,\n",
    "               'max_depth': max_depth,\n",
    "               'min_samples_split': min_samples_split,\n",
    "               'random_state':[0]}\n",
    "\n",
    "print(random_grid)"
   ]
  },
  {
   "cell_type": "code",
   "execution_count": 19,
   "id": "e0a53674",
   "metadata": {},
   "outputs": [
    {
     "name": "stdout",
     "output_type": "stream",
     "text": [
      "Fitting 5 folds for each of 10 candidates, totalling 50 fits\n",
      "[CV] END max_depth=45, max_features=sqrt, min_samples_split=10, n_estimators=155, random_state=0; total time=  33.8s\n",
      "[CV] END max_depth=45, max_features=sqrt, min_samples_split=10, n_estimators=155, random_state=0; total time=  34.1s\n",
      "[CV] END max_depth=45, max_features=sqrt, min_samples_split=10, n_estimators=155, random_state=0; total time=  32.1s\n",
      "[CV] END max_depth=45, max_features=sqrt, min_samples_split=10, n_estimators=155, random_state=0; total time=  32.0s\n",
      "[CV] END max_depth=45, max_features=sqrt, min_samples_split=10, n_estimators=155, random_state=0; total time=  32.0s\n",
      "[CV] END max_depth=45, max_features=auto, min_samples_split=10, n_estimators=65, random_state=0; total time=  13.3s\n",
      "[CV] END max_depth=45, max_features=auto, min_samples_split=10, n_estimators=65, random_state=0; total time=  13.5s\n",
      "[CV] END max_depth=45, max_features=auto, min_samples_split=10, n_estimators=65, random_state=0; total time=  13.5s\n",
      "[CV] END max_depth=45, max_features=auto, min_samples_split=10, n_estimators=65, random_state=0; total time=  13.4s\n",
      "[CV] END max_depth=45, max_features=auto, min_samples_split=10, n_estimators=65, random_state=0; total time=  13.3s\n",
      "[CV] END max_depth=45, max_features=auto, min_samples_split=10, n_estimators=110, random_state=0; total time=  22.7s\n",
      "[CV] END max_depth=45, max_features=auto, min_samples_split=10, n_estimators=110, random_state=0; total time=  22.8s\n",
      "[CV] END max_depth=45, max_features=auto, min_samples_split=10, n_estimators=110, random_state=0; total time=  22.6s\n",
      "[CV] END max_depth=45, max_features=auto, min_samples_split=10, n_estimators=110, random_state=0; total time=  22.8s\n",
      "[CV] END max_depth=45, max_features=auto, min_samples_split=10, n_estimators=110, random_state=0; total time=  22.7s\n",
      "[CV] END max_depth=1, max_features=auto, min_samples_split=10, n_estimators=65, random_state=0; total time=   1.0s\n",
      "[CV] END max_depth=1, max_features=auto, min_samples_split=10, n_estimators=65, random_state=0; total time=   1.0s\n",
      "[CV] END max_depth=1, max_features=auto, min_samples_split=10, n_estimators=65, random_state=0; total time=   1.0s\n",
      "[CV] END max_depth=1, max_features=auto, min_samples_split=10, n_estimators=65, random_state=0; total time=   1.0s\n",
      "[CV] END max_depth=1, max_features=auto, min_samples_split=10, n_estimators=65, random_state=0; total time=   1.0s\n",
      "[CV] END max_depth=1, max_features=auto, min_samples_split=5, n_estimators=65, random_state=0; total time=   1.0s\n",
      "[CV] END max_depth=1, max_features=auto, min_samples_split=5, n_estimators=65, random_state=0; total time=   1.0s\n",
      "[CV] END max_depth=1, max_features=auto, min_samples_split=5, n_estimators=65, random_state=0; total time=   1.0s\n",
      "[CV] END max_depth=1, max_features=auto, min_samples_split=5, n_estimators=65, random_state=0; total time=   1.0s\n",
      "[CV] END max_depth=1, max_features=auto, min_samples_split=5, n_estimators=65, random_state=0; total time=   1.0s\n",
      "[CV] END max_depth=23, max_features=auto, min_samples_split=10, n_estimators=155, random_state=0; total time=  32.0s\n",
      "[CV] END max_depth=23, max_features=auto, min_samples_split=10, n_estimators=155, random_state=0; total time=  32.1s\n",
      "[CV] END max_depth=23, max_features=auto, min_samples_split=10, n_estimators=155, random_state=0; total time=  31.9s\n",
      "[CV] END max_depth=23, max_features=auto, min_samples_split=10, n_estimators=155, random_state=0; total time=  31.9s\n",
      "[CV] END max_depth=23, max_features=auto, min_samples_split=10, n_estimators=155, random_state=0; total time=  31.9s\n",
      "[CV] END max_depth=23, max_features=auto, min_samples_split=10, n_estimators=200, random_state=0; total time=  41.3s\n",
      "[CV] END max_depth=23, max_features=auto, min_samples_split=10, n_estimators=200, random_state=0; total time=  41.4s\n",
      "[CV] END max_depth=23, max_features=auto, min_samples_split=10, n_estimators=200, random_state=0; total time=  41.2s\n",
      "[CV] END max_depth=23, max_features=auto, min_samples_split=10, n_estimators=200, random_state=0; total time=  41.4s\n",
      "[CV] END max_depth=23, max_features=auto, min_samples_split=10, n_estimators=200, random_state=0; total time=  41.2s\n",
      "[CV] END max_depth=45, max_features=auto, min_samples_split=5, n_estimators=200, random_state=0; total time=  42.3s\n",
      "[CV] END max_depth=45, max_features=auto, min_samples_split=5, n_estimators=200, random_state=0; total time=  42.3s\n",
      "[CV] END max_depth=45, max_features=auto, min_samples_split=5, n_estimators=200, random_state=0; total time=  42.5s\n",
      "[CV] END max_depth=45, max_features=auto, min_samples_split=5, n_estimators=200, random_state=0; total time=  42.4s\n",
      "[CV] END max_depth=45, max_features=auto, min_samples_split=5, n_estimators=200, random_state=0; total time=  42.4s\n",
      "[CV] END max_depth=1, max_features=auto, min_samples_split=10, n_estimators=110, random_state=0; total time=   1.7s\n",
      "[CV] END max_depth=1, max_features=auto, min_samples_split=10, n_estimators=110, random_state=0; total time=   1.7s\n",
      "[CV] END max_depth=1, max_features=auto, min_samples_split=10, n_estimators=110, random_state=0; total time=   1.8s\n",
      "[CV] END max_depth=1, max_features=auto, min_samples_split=10, n_estimators=110, random_state=0; total time=   1.8s\n",
      "[CV] END max_depth=1, max_features=auto, min_samples_split=10, n_estimators=110, random_state=0; total time=   1.7s\n",
      "[CV] END max_depth=1, max_features=auto, min_samples_split=10, n_estimators=155, random_state=0; total time=   2.4s\n",
      "[CV] END max_depth=1, max_features=auto, min_samples_split=10, n_estimators=155, random_state=0; total time=   2.4s\n",
      "[CV] END max_depth=1, max_features=auto, min_samples_split=10, n_estimators=155, random_state=0; total time=   2.4s\n",
      "[CV] END max_depth=1, max_features=auto, min_samples_split=10, n_estimators=155, random_state=0; total time=   2.4s\n",
      "[CV] END max_depth=1, max_features=auto, min_samples_split=10, n_estimators=155, random_state=0; total time=   2.4s\n",
      "Wall time: 16min 51s\n"
     ]
    },
    {
     "data": {
      "text/plain": [
       "RandomizedSearchCV(cv=5, estimator=RandomForestClassifier(),\n",
       "                   param_distributions={'max_depth': [1, 23, 45],\n",
       "                                        'max_features': ['auto', 'sqrt'],\n",
       "                                        'min_samples_split': [5, 10],\n",
       "                                        'n_estimators': [20, 65, 110, 155, 200],\n",
       "                                        'random_state': [0]},\n",
       "                   verbose=2)"
      ]
     },
     "execution_count": 19,
     "metadata": {},
     "output_type": "execute_result"
    }
   ],
   "source": [
    "%%time\n",
    "rf_random = RandomizedSearchCV(estimator = RandomForestClassifier(), param_distributions = random_grid, n_iter = 10, cv = 5, verbose=2)\n",
    "# Fit the random search model\n",
    "rf_random.fit(X_train, y_train)"
   ]
  },
  {
   "cell_type": "code",
   "execution_count": 20,
   "id": "0407dd28",
   "metadata": {},
   "outputs": [
    {
     "data": {
      "text/plain": [
       "(RandomForestClassifier(max_depth=45, min_samples_split=5, n_estimators=200,\n",
       "                        random_state=0),\n",
       " 0.9921058965102286)"
      ]
     },
     "execution_count": 20,
     "metadata": {},
     "output_type": "execute_result"
    }
   ],
   "source": [
    "rf_random.best_estimator_ , rf_random.best_score_"
   ]
  },
  {
   "cell_type": "code",
   "execution_count": 21,
   "id": "cb4db31b",
   "metadata": {},
   "outputs": [
    {
     "data": {
      "text/plain": [
       "sklearn.ensemble._forest.RandomForestClassifier"
      ]
     },
     "execution_count": 21,
     "metadata": {},
     "output_type": "execute_result"
    }
   ],
   "source": [
    "type(rf_random.best_estimator_)"
   ]
  },
  {
   "cell_type": "code",
   "execution_count": 22,
   "id": "e20e9ddc",
   "metadata": {},
   "outputs": [],
   "source": [
    "RF = rf_random.best_estimator_"
   ]
  },
  {
   "cell_type": "code",
   "execution_count": 23,
   "id": "f3cfe11a",
   "metadata": {},
   "outputs": [
    {
     "name": "stdout",
     "output_type": "stream",
     "text": [
      "val accuracy: 0.9940802772162864\n",
      "test accuracy: 0.9948021946289345\n"
     ]
    }
   ],
   "source": [
    "RF.fit(X_train,y_train)\n",
    "y_pred_val = RF.predict(X_val)\n",
    "y_pred_test = RF.predict(X_test)\n",
    "\n",
    "print('val accuracy:',accuracy_score(y_val, y_pred_val))\n",
    "print('test accuracy:',accuracy_score(y_test, y_pred_test))"
   ]
  },
  {
   "cell_type": "code",
   "execution_count": null,
   "id": "769919dd",
   "metadata": {},
   "outputs": [],
   "source": []
  },
  {
   "cell_type": "markdown",
   "id": "c8b16108",
   "metadata": {},
   "source": [
    "# GB tuning"
   ]
  },
  {
   "cell_type": "code",
   "execution_count": 33,
   "id": "afcae292",
   "metadata": {},
   "outputs": [
    {
     "name": "stdout",
     "output_type": "stream",
     "text": [
      "{'learning_rate': [0.05, 0.1, 0.15, 0.2],\n",
      " 'max_depth': [5, 7, 9, 12],\n",
      " 'max_features': ['auto', 'sqrt'],\n",
      " 'n_estimators': [10, 20, 30, 40],\n",
      " 'random_state': [0]}\n"
     ]
    }
   ],
   "source": [
    "# Number of trees in random forest\n",
    "n_estimators = [int(x) for x in np.linspace(start = 10, stop = 40, num = 4)]\n",
    "# Maximum number of levels in tree\n",
    "max_depth = [int(x) for x in np.linspace(start = 5, stop = 12, num = 4)]\n",
    "\n",
    "\n",
    "\n",
    "# Create the random grid\n",
    "random_grid = {'n_estimators': n_estimators,\n",
    "               'learning_rate' : [0.05, 0.1, 0.15, 0.2],\n",
    "               'max_features': ['auto', 'sqrt'],\n",
    "               'max_depth': max_depth,\n",
    "               'random_state': [0]\n",
    "              }\n",
    "\n",
    "pprint(random_grid)"
   ]
  },
  {
   "cell_type": "code",
   "execution_count": 36,
   "id": "afafc95d",
   "metadata": {},
   "outputs": [
    {
     "name": "stdout",
     "output_type": "stream",
     "text": [
      "Fitting 5 folds for each of 10 candidates, totalling 50 fits\n",
      "[CV] END learning_rate=0.2, max_depth=12, max_features=auto, n_estimators=20, random_state=0; total time=52.2min\n",
      "[CV] END learning_rate=0.2, max_depth=12, max_features=auto, n_estimators=20, random_state=0; total time=52.3min\n",
      "[CV] END learning_rate=0.2, max_depth=12, max_features=auto, n_estimators=20, random_state=0; total time=52.3min\n",
      "[CV] END learning_rate=0.2, max_depth=12, max_features=auto, n_estimators=20, random_state=0; total time=52.2min\n",
      "[CV] END learning_rate=0.2, max_depth=12, max_features=auto, n_estimators=20, random_state=0; total time=51.9min\n",
      "[CV] END learning_rate=0.2, max_depth=5, max_features=auto, n_estimators=20, random_state=0; total time=22.1min\n",
      "[CV] END learning_rate=0.2, max_depth=5, max_features=auto, n_estimators=20, random_state=0; total time=22.0min\n",
      "[CV] END learning_rate=0.2, max_depth=5, max_features=auto, n_estimators=20, random_state=0; total time=22.0min\n",
      "[CV] END learning_rate=0.2, max_depth=5, max_features=auto, n_estimators=20, random_state=0; total time=22.0min\n",
      "[CV] END learning_rate=0.2, max_depth=5, max_features=auto, n_estimators=20, random_state=0; total time=22.0min\n",
      "[CV] END learning_rate=0.15, max_depth=12, max_features=sqrt, n_estimators=30, random_state=0; total time= 3.3min\n",
      "[CV] END learning_rate=0.15, max_depth=12, max_features=sqrt, n_estimators=30, random_state=0; total time= 3.3min\n",
      "[CV] END learning_rate=0.15, max_depth=12, max_features=sqrt, n_estimators=30, random_state=0; total time= 3.3min\n",
      "[CV] END learning_rate=0.15, max_depth=12, max_features=sqrt, n_estimators=30, random_state=0; total time= 3.3min\n",
      "[CV] END learning_rate=0.15, max_depth=12, max_features=sqrt, n_estimators=30, random_state=0; total time= 3.3min\n",
      "[CV] END learning_rate=0.1, max_depth=12, max_features=auto, n_estimators=20, random_state=0; total time=51.9min\n",
      "[CV] END learning_rate=0.1, max_depth=12, max_features=auto, n_estimators=20, random_state=0; total time=51.9min\n",
      "[CV] END learning_rate=0.1, max_depth=12, max_features=auto, n_estimators=20, random_state=0; total time=51.9min\n",
      "[CV] END learning_rate=0.1, max_depth=12, max_features=auto, n_estimators=20, random_state=0; total time=51.9min\n",
      "[CV] END learning_rate=0.1, max_depth=12, max_features=auto, n_estimators=20, random_state=0; total time=51.9min\n",
      "[CV] END learning_rate=0.05, max_depth=9, max_features=sqrt, n_estimators=20, random_state=0; total time= 1.6min\n",
      "[CV] END learning_rate=0.05, max_depth=9, max_features=sqrt, n_estimators=20, random_state=0; total time= 1.6min\n",
      "[CV] END learning_rate=0.05, max_depth=9, max_features=sqrt, n_estimators=20, random_state=0; total time= 1.6min\n",
      "[CV] END learning_rate=0.05, max_depth=9, max_features=sqrt, n_estimators=20, random_state=0; total time= 1.6min\n",
      "[CV] END learning_rate=0.05, max_depth=9, max_features=sqrt, n_estimators=20, random_state=0; total time= 1.6min\n",
      "[CV] END learning_rate=0.05, max_depth=7, max_features=sqrt, n_estimators=20, random_state=0; total time= 1.2min\n",
      "[CV] END learning_rate=0.05, max_depth=7, max_features=sqrt, n_estimators=20, random_state=0; total time= 1.2min\n",
      "[CV] END learning_rate=0.05, max_depth=7, max_features=sqrt, n_estimators=20, random_state=0; total time= 1.2min\n",
      "[CV] END learning_rate=0.05, max_depth=7, max_features=sqrt, n_estimators=20, random_state=0; total time= 1.2min\n",
      "[CV] END learning_rate=0.05, max_depth=7, max_features=sqrt, n_estimators=20, random_state=0; total time= 1.2min\n",
      "[CV] END learning_rate=0.05, max_depth=7, max_features=auto, n_estimators=40, random_state=0; total time=62.1min\n",
      "[CV] END learning_rate=0.05, max_depth=7, max_features=auto, n_estimators=40, random_state=0; total time=72.3min\n",
      "[CV] END learning_rate=0.05, max_depth=7, max_features=auto, n_estimators=40, random_state=0; total time=61.9min\n",
      "[CV] END learning_rate=0.05, max_depth=7, max_features=auto, n_estimators=40, random_state=0; total time=61.8min\n",
      "[CV] END learning_rate=0.05, max_depth=7, max_features=auto, n_estimators=40, random_state=0; total time=61.8min\n",
      "[CV] END learning_rate=0.2, max_depth=9, max_features=auto, n_estimators=40, random_state=0; total time=79.2min\n",
      "[CV] END learning_rate=0.2, max_depth=9, max_features=auto, n_estimators=40, random_state=0; total time=81.5min\n",
      "[CV] END learning_rate=0.2, max_depth=9, max_features=auto, n_estimators=40, random_state=0; total time=82.7min\n",
      "[CV] END learning_rate=0.2, max_depth=9, max_features=auto, n_estimators=40, random_state=0; total time=84.6min\n",
      "[CV] END learning_rate=0.2, max_depth=9, max_features=auto, n_estimators=40, random_state=0; total time=83.3min\n",
      "[CV] END learning_rate=0.05, max_depth=9, max_features=sqrt, n_estimators=10, random_state=0; total time=  48.5s\n",
      "[CV] END learning_rate=0.05, max_depth=9, max_features=sqrt, n_estimators=10, random_state=0; total time=  49.0s\n",
      "[CV] END learning_rate=0.05, max_depth=9, max_features=sqrt, n_estimators=10, random_state=0; total time=  49.0s\n",
      "[CV] END learning_rate=0.05, max_depth=9, max_features=sqrt, n_estimators=10, random_state=0; total time=  49.0s\n",
      "[CV] END learning_rate=0.05, max_depth=9, max_features=sqrt, n_estimators=10, random_state=0; total time=  49.0s\n",
      "[CV] END learning_rate=0.05, max_depth=7, max_features=auto, n_estimators=20, random_state=0; total time=38.3min\n",
      "[CV] END learning_rate=0.05, max_depth=7, max_features=auto, n_estimators=20, random_state=0; total time=34.6min\n",
      "[CV] END learning_rate=0.05, max_depth=7, max_features=auto, n_estimators=20, random_state=0; total time=30.4min\n",
      "[CV] END learning_rate=0.05, max_depth=7, max_features=auto, n_estimators=20, random_state=0; total time=29.9min\n",
      "[CV] END learning_rate=0.05, max_depth=7, max_features=auto, n_estimators=20, random_state=0; total time=29.9min\n",
      "Wall time: 1d 3h 36min\n"
     ]
    },
    {
     "data": {
      "text/plain": [
       "RandomizedSearchCV(cv=5, estimator=GradientBoostingClassifier(),\n",
       "                   param_distributions={'learning_rate': [0.05, 0.1, 0.15, 0.2],\n",
       "                                        'max_depth': [5, 7, 9, 12],\n",
       "                                        'max_features': ['auto', 'sqrt'],\n",
       "                                        'n_estimators': [10, 20, 30, 40],\n",
       "                                        'random_state': [0]},\n",
       "                   verbose=2)"
      ]
     },
     "execution_count": 36,
     "metadata": {},
     "output_type": "execute_result"
    }
   ],
   "source": [
    "%%time\n",
    "GBDT_random = RandomizedSearchCV(estimator = GradientBoostingClassifier(), param_distributions = random_grid, n_iter = 10, cv = 5, verbose=2)\n",
    "# Fit the random search model\n",
    "GBDT_random.fit(X_train, y_train)"
   ]
  },
  {
   "cell_type": "code",
   "execution_count": null,
   "id": "78ef6da4",
   "metadata": {},
   "outputs": [],
   "source": []
  },
  {
   "cell_type": "code",
   "execution_count": 37,
   "id": "6d9ee50b",
   "metadata": {},
   "outputs": [
    {
     "data": {
      "text/plain": [
       "(GradientBoostingClassifier(learning_rate=0.2, max_depth=9, max_features='auto',\n",
       "                            n_estimators=40, random_state=0),\n",
       " 0.9723225030084237)"
      ]
     },
     "execution_count": 37,
     "metadata": {},
     "output_type": "execute_result"
    }
   ],
   "source": [
    "GBDT_random.best_estimator_ , GBDT_random.best_score_"
   ]
  },
  {
   "cell_type": "code",
   "execution_count": 38,
   "id": "729734b0",
   "metadata": {},
   "outputs": [
    {
     "name": "stdout",
     "output_type": "stream",
     "text": [
      "val accuracy: 0.9770430262777938\n",
      "test accuracy: 0.978775628068149\n"
     ]
    }
   ],
   "source": [
    "GB = GBDT_random.best_estimator_\n",
    "GB.fit(X_train,y_train)\n",
    "y_pred_val = GB.predict(X_val)\n",
    "y_pred_test = GB.predict(X_test)\n",
    "\n",
    "print('val accuracy:',accuracy_score(y_val, y_pred_val))\n",
    "print('test accuracy:',accuracy_score(y_test, y_pred_test))"
   ]
  },
  {
   "cell_type": "code",
   "execution_count": 41,
   "id": "eab21530",
   "metadata": {},
   "outputs": [],
   "source": [
    "if not os.path.exists('./model_params/'):\n",
    "    os.makedirs('./model_params')\n",
    "\n",
    "with open('./model_params/GB_params_tuning.pkl', 'wb') as f:\n",
    "        pickle.dump(GBDT_random.best_estimator_, f)\n",
    "with open('./model_params/RF_params_tuning.pkl', 'wb') as f:\n",
    "        pickle.dump(rf_random.best_estimator_, f)"
   ]
  },
  {
   "cell_type": "markdown",
   "id": "b4a1dcb4",
   "metadata": {},
   "source": [
    "# 1-NN"
   ]
  },
  {
   "cell_type": "code",
   "execution_count": 7,
   "id": "90745fef",
   "metadata": {},
   "outputs": [],
   "source": [
    "OneNN_model = KNeighborsClassifier(n_neighbors=1).fit(X_train, y_train)"
   ]
  },
  {
   "cell_type": "code",
   "execution_count": 12,
   "id": "6a75c3aa",
   "metadata": {},
   "outputs": [
    {
     "name": "stdout",
     "output_type": "stream",
     "text": [
      "val accuracy: 0.998556165174704\n",
      "test accuracy: 0.9988449321397632\n"
     ]
    }
   ],
   "source": [
    "y_pred_val = OneNN_model.predict(X_val)\n",
    "y_pred_test = OneNN_model.predict(X_test)\n",
    "print('val accuracy:',accuracy_score(y_val, y_pred_val))\n",
    "print('test accuracy:',accuracy_score(y_test, y_pred_test))"
   ]
  },
  {
   "cell_type": "code",
   "execution_count": 10,
   "id": "db8360f7",
   "metadata": {},
   "outputs": [],
   "source": [
    "if not os.path.exists('./model_params/'):\n",
    "    os.makedirs('./model_params')\n",
    "with open('./model_params/OneNN_params_tuning.pkl', 'wb') as f:\n",
    "        pickle.dump(OneNN_model, f)"
   ]
  },
  {
   "cell_type": "code",
   "execution_count": null,
   "id": "7ed64afe",
   "metadata": {},
   "outputs": [],
   "source": []
  },
  {
   "cell_type": "markdown",
   "id": "739d51b1",
   "metadata": {},
   "source": [
    "# CNN"
   ]
  },
  {
   "cell_type": "code",
   "execution_count": 4,
   "id": "af5be540",
   "metadata": {},
   "outputs": [],
   "source": [
    "batch_size = 128\n",
    "num_classes = 24\n",
    "epochs = 50"
   ]
  },
  {
   "cell_type": "code",
   "execution_count": 5,
   "id": "4d95cc58",
   "metadata": {},
   "outputs": [],
   "source": [
    "from tensorflow.keras.optimizers import SGD\n",
    "pixels  = int(sqrt(X_train.shape[1]))\n",
    "classes = len(np.unique(y_test))\n",
    "\n",
    "model = Sequential()\n",
    "model.add(Conv2D(64, kernel_size=(3,3), activation = 'relu', input_shape=(28, 28 ,1) ))\n",
    "model.add(MaxPooling2D(pool_size = (2, 2)))\n",
    "\n",
    "model.add(Conv2D(64, kernel_size = (3, 3), activation = 'relu'))\n",
    "model.add(MaxPooling2D(pool_size = (2, 2)))\n",
    "\n",
    "model.add(Conv2D(64, kernel_size = (3, 3), activation = 'relu'))\n",
    "model.add(MaxPooling2D(pool_size = (2, 2)))\n",
    "\n",
    "model.add(Flatten())\n",
    "model.add(Dense(128, activation = 'relu'))\n",
    "model.add(Dropout(0.20))\n",
    "\n",
    "model.add(Dense(num_classes, activation = 'softmax'))\n",
    "\n",
    "model.compile(loss = keras.losses.categorical_crossentropy, optimizer=keras.optimizers.Adam(), metrics=['accuracy'])\n",
    "# model.save(f'./model_params/CNN_params_tuning')"
   ]
  },
  {
   "cell_type": "code",
   "execution_count": 6,
   "id": "4896e081",
   "metadata": {},
   "outputs": [],
   "source": [
    "from numpy.random import seed\n",
    "seed(0)\n",
    "import tensorflow as tf\n",
    "tf.random.set_seed(0)"
   ]
  },
  {
   "cell_type": "code",
   "execution_count": 8,
   "id": "5435dcaa",
   "metadata": {
    "tags": []
   },
   "outputs": [
    {
     "name": "stdout",
     "output_type": "stream",
     "text": [
      "Epoch 1/5\n",
      "130/130 [==============================] - 7s 55ms/step - loss: 2.8957 - accuracy: 0.1261 - val_loss: 2.0175 - val_accuracy: 0.3933\n",
      "Epoch 2/5\n",
      "130/130 [==============================] - 7s 55ms/step - loss: 1.5323 - accuracy: 0.4921 - val_loss: 0.9732 - val_accuracy: 0.6898\n",
      "Epoch 3/5\n",
      "130/130 [==============================] - 7s 54ms/step - loss: 0.9057 - accuracy: 0.6883 - val_loss: 0.6275 - val_accuracy: 0.8010\n",
      "Epoch 4/5\n",
      "130/130 [==============================] - 7s 55ms/step - loss: 0.6320 - accuracy: 0.7819 - val_loss: 0.4347 - val_accuracy: 0.8708\n",
      "Epoch 5/5\n",
      "130/130 [==============================] - 7s 54ms/step - loss: 0.4550 - accuracy: 0.8480 - val_loss: 0.3416 - val_accuracy: 0.8927\n"
     ]
    },
    {
     "data": {
      "text/plain": [
       "<keras.callbacks.History at 0x2181735bf40>"
      ]
     },
     "execution_count": 8,
     "metadata": {},
     "output_type": "execute_result"
    }
   ],
   "source": [
    "#load model\n",
    "num_labels = classes\n",
    "pixels = int(sqrt(X_train.shape[1]))\n",
    "# Reshaping to format which CNN expects (batch, height, width, channels)\n",
    "trainX_cnn = X_train.reshape(X_train.shape[0], pixels, pixels, 1).astype('float32')\n",
    "valX_cnn = X_val.reshape(X_val.shape[0], pixels, pixels, 1).astype('float32')\n",
    "testX_cnn= X_test.reshape(X_test.shape[0], pixels, pixels, 1).astype('float32')\n",
    "\n",
    "# Normalize images from 0-255 to 0-1\n",
    "trainX_cnn /= 255\n",
    "valX_cnn /= 255\n",
    "\n",
    "train_y_cnn = utils.to_categorical(y_train, num_labels)\n",
    "val_y_cnn = utils.to_categorical(y_val, num_labels)\n",
    "test_y_cnn = utils.to_categorical(y_test, num_labels)\n",
    "\n",
    "trainX_cnn, evalX_cnn, train_y_cnn , eval_y_cnn = train_test_split(trainX_cnn, train_y_cnn, test_size=0.2)\n",
    "\n",
    "# Learn model\n",
    "model.fit(trainX_cnn, train_y_cnn, validation_data=(evalX_cnn, eval_y_cnn), epochs=50, batch_size=128)\n",
    "# model.fit(trainX_cnn, train_y_cnn, validation_data=(evalX_cnn, eval_y_cnn), epochs=5, batch_size=128)\n"
   ]
  },
  {
   "cell_type": "code",
   "execution_count": 9,
   "id": "c2cfd94e",
   "metadata": {},
   "outputs": [],
   "source": [
    "# model = keras.models.load_model(f'./0/model/CNN_model')"
   ]
  },
  {
   "cell_type": "code",
   "execution_count": 10,
   "id": "ea4bf941",
   "metadata": {},
   "outputs": [],
   "source": [
    "y_pred_val=np.argmax(model.predict(valX_cnn),axis=1)\n",
    "y_pred_test=np.argmax(model.predict(testX_cnn),axis=1)"
   ]
  },
  {
   "cell_type": "code",
   "execution_count": 11,
   "id": "8254faa1",
   "metadata": {},
   "outputs": [
    {
     "name": "stdout",
     "output_type": "stream",
     "text": [
      "val accuracy: 0.8904129367600346\n",
      "test accuracy: 0.8228414669361825\n"
     ]
    }
   ],
   "source": [
    "print('val accuracy:',accuracy_score(y_val, y_pred_val))\n",
    "print('test accuracy:',accuracy_score(y_test, y_pred_test))"
   ]
  }
 ],
 "metadata": {
  "kernelspec": {
   "display_name": "Python 3",
   "language": "python",
   "name": "python3"
  },
  "language_info": {
   "codemirror_mode": {
    "name": "ipython",
    "version": 3
   },
   "file_extension": ".py",
   "mimetype": "text/x-python",
   "name": "python",
   "nbconvert_exporter": "python",
   "pygments_lexer": "ipython3",
   "version": "3.8.8"
  }
 },
 "nbformat": 4,
 "nbformat_minor": 5
}
