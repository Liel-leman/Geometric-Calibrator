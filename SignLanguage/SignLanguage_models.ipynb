{
 "cells": [
  {
   "cell_type": "code",
   "execution_count": 19,
   "id": "10da0601-68fd-4107-813c-1422f234ed47",
   "metadata": {
    "tags": []
   },
   "outputs": [
    {
     "name": "stdout",
     "output_type": "stream",
     "text": [
      "saved model OneNN_0\n",
      "saved model OneNN_1\n",
      "saved model OneNN_2\n",
      "saved model OneNN_3\n",
      "saved model OneNN_4\n",
      "saved model OneNN_5\n",
      "saved model OneNN_6\n",
      "saved model OneNN_7\n",
      "saved model OneNN_8\n",
      "saved model OneNN_9\n"
     ]
    }
   ],
   "source": [
    "%run ../DataClass.ipynb\n",
    "# compute_models_and_save_range(dataset_name='SignLanguage',model_name='CNN',shuffle_range=range(10),num_labels=24)\n",
    "# compute_models_and_save_range(dataset_name='SignLanguage',model_name='RF',shuffle_range=range(10),num_labels=24)\n",
    "# compute_models_and_save_range(dataset_name='SignLanguage',model_name='GB',shuffle_range=range(10),num_labels=24)\n",
    "compute_models_and_save_range(dataset_name='SignLanguage',model_name='OneNN',shuffle_range=range(10),num_labels=24)"
   ]
  },
  {
   "cell_type": "code",
   "execution_count": null,
   "id": "1e7ed241-e82f-419f-846c-b9632b59db43",
   "metadata": {},
   "outputs": [],
   "source": []
  }
 ],
 "metadata": {
  "kernelspec": {
   "display_name": "Python 3",
   "language": "python",
   "name": "python3"
  },
  "language_info": {
   "codemirror_mode": {
    "name": "ipython",
    "version": 3
   },
   "file_extension": ".py",
   "mimetype": "text/x-python",
   "name": "python",
   "nbconvert_exporter": "python",
   "pygments_lexer": "ipython3",
   "version": "3.8.8"
  }
 },
 "nbformat": 4,
 "nbformat_minor": 5
}
