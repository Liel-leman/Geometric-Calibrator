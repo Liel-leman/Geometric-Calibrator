{
 "cells": [
  {
   "cell_type": "code",
   "execution_count": 1,
   "id": "3e7e0f63-d57d-45f0-80df-b89caacb73f5",
   "metadata": {},
   "outputs": [],
   "source": [
    "from keras.datasets import mnist\n",
    "import sys  \n",
    "sys.path.insert(0, '../')\n",
    "from utils import *"
   ]
  },
  {
   "cell_type": "code",
   "execution_count": 2,
   "id": "4ad2a729-4757-4a68-aafe-aeb464fbc0d8",
   "metadata": {},
   "outputs": [
    {
     "name": "stdout",
     "output_type": "stream",
     "text": [
      "(42000, 784) (14000, 784) (14000, 784) (42000,) (14000,) (14000,)\n",
      "(42000, 784) (14000, 784) (14000, 784) (42000,) (14000,) (14000,)\n",
      "(42000, 784) (14000, 784) (14000, 784) (42000,) (14000,) (14000,)\n",
      "(42000, 784) (14000, 784) (14000, 784) (42000,) (14000,) (14000,)\n",
      "(42000, 784) (14000, 784) (14000, 784) (42000,) (14000,) (14000,)\n",
      "(42000, 784) (14000, 784) (14000, 784) (42000,) (14000,) (14000,)\n",
      "(42000, 784) (14000, 784) (14000, 784) (42000,) (14000,) (14000,)\n",
      "(42000, 784) (14000, 784) (14000, 784) (42000,) (14000,) (14000,)\n",
      "(42000, 784) (14000, 784) (14000, 784) (42000,) (14000,) (14000,)\n",
      "(42000, 784) (14000, 784) (14000, 784) (42000,) (14000,) (14000,)\n"
     ]
    }
   ],
   "source": [
    "classes = 10\n",
    "for i in range(10):\n",
    "    (train_X, train_y), (test_X, test_y) = mnist.load_data()\n",
    "    trainX = train_X.reshape((train_X.shape[0], 784)).astype(np.float64)\n",
    "    testX = test_X.reshape((test_X.shape[0], 784)).astype(np.float64)\n",
    "    data=np.concatenate((trainX,testX),axis=0)\n",
    "    y=np.concatenate((train_y,test_y),axis=0)\n",
    "\n",
    "    X_train, X_test, y_train, y_test = train_test_split(data, y, test_size=0.2, random_state=i)\n",
    "    X_train, X_val, y_train, y_val = train_test_split(X_train, y_train, test_size=0.25, random_state=i)\n",
    "    print(X_train.shape, X_test.shape,X_val.shape, y_train.shape, y_test.shape,y_val.shape )\n",
    "    directory = f'./{i}/data/'\n",
    "    if not os.path.exists(directory):\n",
    "        os.makedirs(directory)\n",
    "    np.save(directory+'/X_train.npy',X_train)\n",
    "    np.save(directory+'/X_test.npy',X_test)\n",
    "    np.save(directory+'/X_val.npy',X_val)\n",
    "    np.save(directory+'/y_train.npy',y_train)\n",
    "    np.save(directory+'/y_test.npy',y_test)\n",
    "    np.save(directory+'/y_val.npy',y_val)\n",
    "\n"
   ]
  },
  {
   "cell_type": "code",
   "execution_count": null,
   "id": "9ee80020-d3ba-4644-bfc1-ae07add6a539",
   "metadata": {},
   "outputs": [],
   "source": []
  },
  {
   "cell_type": "code",
   "execution_count": null,
   "id": "400599b9-4efa-47cd-acaa-03d9481e78db",
   "metadata": {},
   "outputs": [],
   "source": []
  },
  {
   "cell_type": "code",
   "execution_count": null,
   "id": "70c1fc90-e222-40c6-a593-262cb7146aea",
   "metadata": {},
   "outputs": [],
   "source": []
  },
  {
   "cell_type": "code",
   "execution_count": null,
   "id": "4ed1f3dc-014e-4673-b9d2-a63de7cf2313",
   "metadata": {},
   "outputs": [],
   "source": []
  }
 ],
 "metadata": {
  "kernelspec": {
   "display_name": "Python 3",
   "language": "python",
   "name": "python3"
  },
  "language_info": {
   "codemirror_mode": {
    "name": "ipython",
    "version": 3
   },
   "file_extension": ".py",
   "mimetype": "text/x-python",
   "name": "python",
   "nbconvert_exporter": "python",
   "pygments_lexer": "ipython3",
   "version": "3.8.8"
  }
 },
 "nbformat": 4,
 "nbformat_minor": 5
}
