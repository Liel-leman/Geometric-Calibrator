{
 "cells": [
  {
   "cell_type": "code",
   "execution_count": 1,
   "metadata": {},
   "outputs": [],
   "source": [
    "import numpy as np\n",
    "import warnings\n",
    "warnings.filterwarnings(\"ignore\")"
   ]
  },
  {
   "cell_type": "code",
   "execution_count": 2,
   "metadata": {},
   "outputs": [],
   "source": [
    "from utils import *"
   ]
  },
  {
   "cell_type": "markdown",
   "metadata": {},
   "source": [
    "The below cell is about"
   ]
  },
  {
   "cell_type": "code",
   "execution_count": 3,
   "metadata": {
    "collapsed": true,
    "jupyter": {
     "outputs_hidden": true
    },
    "tags": []
   },
   "outputs": [
    {
     "name": "stdout",
     "output_type": "stream",
     "text": [
      "CNN-MNIST:\n",
      "MNIST-CNN-stability:  0.002871193995118818+-0.0007555850646820007\n",
      "MNIST-CNN-sep:  0.0030827882727934484+-0.0006893436246300723\n",
      "MNIST-CNN-sklearn:  0.0031720520101754745+-0.0003796888851265853\n",
      "MNIST-CNN-Base:  0.008185034811496728+-0.0007424660166781005\n",
      "MNIST-CNN-SBC:  0.01900041983600475+-0.001834830380289365\n",
      "MNIST-CNN-HB:  0.004532066007179527+-0.00044340021370288096\n"
     ]
    },
    {
     "data": {
      "text/html": [
       "<style type=\"text/css\">\n",
       "#T_7906c_row0_col0 {\n",
       "  background-color: lightgreen;\n",
       "}\n",
       "</style>\n",
       "<table id=\"T_7906c\">\n",
       "  <thead>\n",
       "    <tr>\n",
       "      <th class=\"blank level0\" >&nbsp;</th>\n",
       "      <th id=\"T_7906c_level0_col0\" class=\"col_heading level0 col0\" >ECE-stability</th>\n",
       "      <th id=\"T_7906c_level0_col1\" class=\"col_heading level0 col1\" >ECE-sep</th>\n",
       "      <th id=\"T_7906c_level0_col2\" class=\"col_heading level0 col2\" >ECE-sklearn</th>\n",
       "      <th id=\"T_7906c_level0_col3\" class=\"col_heading level0 col3\" >ECE-Base</th>\n",
       "      <th id=\"T_7906c_level0_col4\" class=\"col_heading level0 col4\" >ECE-SBC</th>\n",
       "      <th id=\"T_7906c_level0_col5\" class=\"col_heading level0 col5\" >ECE-HB</th>\n",
       "    </tr>\n",
       "  </thead>\n",
       "  <tbody>\n",
       "    <tr>\n",
       "      <th id=\"T_7906c_level0_row0\" class=\"row_heading level0 row0\" >CNN-MNIST</th>\n",
       "      <td id=\"T_7906c_row0_col0\" class=\"data row0 col0\" >0.0029+-0.0008</td>\n",
       "      <td id=\"T_7906c_row0_col1\" class=\"data row0 col1\" >0.0031+-0.0007</td>\n",
       "      <td id=\"T_7906c_row0_col2\" class=\"data row0 col2\" >0.0032+-0.0004</td>\n",
       "      <td id=\"T_7906c_row0_col3\" class=\"data row0 col3\" >0.0082+-0.0007</td>\n",
       "      <td id=\"T_7906c_row0_col4\" class=\"data row0 col4\" >0.0190+-0.0018</td>\n",
       "      <td id=\"T_7906c_row0_col5\" class=\"data row0 col5\" >0.0045+-0.0004</td>\n",
       "    </tr>\n",
       "  </tbody>\n",
       "</table>\n"
      ],
      "text/plain": [
       "<pandas.io.formats.style.Styler at 0x2340aea48e0>"
      ]
     },
     "metadata": {},
     "output_type": "display_data"
    },
    {
     "name": "stdout",
     "output_type": "stream",
     "text": [
      "RF-MNIST:\n",
      "MNIST-RF-stability:  0.004367789400895705+-0.0005399931821688242\n",
      "MNIST-RF-sep:  0.004537107303579059+-0.0005679677494686468\n",
      "MNIST-RF-sklearn:  0.00980412335498948+-0.0011784510548416196\n",
      "MNIST-RF-Base:  0.1628779623389904+-0.001572455705851572\n",
      "MNIST-RF-SBC:  0.033079098873308434+-0.0017193495814586054\n",
      "MNIST-RF-HB:  0.007769800268038395+-0.0009186682785837482\n"
     ]
    },
    {
     "data": {
      "text/html": [
       "<style type=\"text/css\">\n",
       "#T_6e250_row0_col0 {\n",
       "  background-color: lightgreen;\n",
       "}\n",
       "</style>\n",
       "<table id=\"T_6e250\">\n",
       "  <thead>\n",
       "    <tr>\n",
       "      <th class=\"blank level0\" >&nbsp;</th>\n",
       "      <th id=\"T_6e250_level0_col0\" class=\"col_heading level0 col0\" >ECE-stability</th>\n",
       "      <th id=\"T_6e250_level0_col1\" class=\"col_heading level0 col1\" >ECE-sep</th>\n",
       "      <th id=\"T_6e250_level0_col2\" class=\"col_heading level0 col2\" >ECE-sklearn</th>\n",
       "      <th id=\"T_6e250_level0_col3\" class=\"col_heading level0 col3\" >ECE-Base</th>\n",
       "      <th id=\"T_6e250_level0_col4\" class=\"col_heading level0 col4\" >ECE-SBC</th>\n",
       "      <th id=\"T_6e250_level0_col5\" class=\"col_heading level0 col5\" >ECE-HB</th>\n",
       "    </tr>\n",
       "  </thead>\n",
       "  <tbody>\n",
       "    <tr>\n",
       "      <th id=\"T_6e250_level0_row0\" class=\"row_heading level0 row0\" >RF-MNIST</th>\n",
       "      <td id=\"T_6e250_row0_col0\" class=\"data row0 col0\" >0.0044+-0.0005</td>\n",
       "      <td id=\"T_6e250_row0_col1\" class=\"data row0 col1\" >0.0045+-0.0006</td>\n",
       "      <td id=\"T_6e250_row0_col2\" class=\"data row0 col2\" >0.0098+-0.0012</td>\n",
       "      <td id=\"T_6e250_row0_col3\" class=\"data row0 col3\" >0.1629+-0.0016</td>\n",
       "      <td id=\"T_6e250_row0_col4\" class=\"data row0 col4\" >0.0331+-0.0017</td>\n",
       "      <td id=\"T_6e250_row0_col5\" class=\"data row0 col5\" >0.0078+-0.0009</td>\n",
       "    </tr>\n",
       "  </tbody>\n",
       "</table>\n"
      ],
      "text/plain": [
       "<pandas.io.formats.style.Styler at 0x2340aec7d90>"
      ]
     },
     "metadata": {},
     "output_type": "display_data"
    },
    {
     "name": "stdout",
     "output_type": "stream",
     "text": [
      "GB-MNIST:\n",
      "MNIST-GB-stability:  0.0039838785385857365+-0.0006825425118557413\n",
      "MNIST-GB-sep:  0.0040069845034887905+-0.0007570249911727964\n",
      "MNIST-GB-sklearn:  0.017550469056491998+-0.001442304051006496\n",
      "MNIST-GB-Base:  0.017267812362200638+-0.0010271445515828911\n",
      "MNIST-GB-SBC:  0.038364407314215386+-0.002503635471417541\n",
      "MNIST-GB-HB:  0.007398909329828039+-0.0011642637239642388\n"
     ]
    },
    {
     "data": {
      "text/html": [
       "<style type=\"text/css\">\n",
       "#T_d4e13_row0_col0 {\n",
       "  background-color: lightgreen;\n",
       "}\n",
       "</style>\n",
       "<table id=\"T_d4e13\">\n",
       "  <thead>\n",
       "    <tr>\n",
       "      <th class=\"blank level0\" >&nbsp;</th>\n",
       "      <th id=\"T_d4e13_level0_col0\" class=\"col_heading level0 col0\" >ECE-stability</th>\n",
       "      <th id=\"T_d4e13_level0_col1\" class=\"col_heading level0 col1\" >ECE-sep</th>\n",
       "      <th id=\"T_d4e13_level0_col2\" class=\"col_heading level0 col2\" >ECE-sklearn</th>\n",
       "      <th id=\"T_d4e13_level0_col3\" class=\"col_heading level0 col3\" >ECE-Base</th>\n",
       "      <th id=\"T_d4e13_level0_col4\" class=\"col_heading level0 col4\" >ECE-SBC</th>\n",
       "      <th id=\"T_d4e13_level0_col5\" class=\"col_heading level0 col5\" >ECE-HB</th>\n",
       "    </tr>\n",
       "  </thead>\n",
       "  <tbody>\n",
       "    <tr>\n",
       "      <th id=\"T_d4e13_level0_row0\" class=\"row_heading level0 row0\" >GB-MNIST</th>\n",
       "      <td id=\"T_d4e13_row0_col0\" class=\"data row0 col0\" >0.0040+-0.0007</td>\n",
       "      <td id=\"T_d4e13_row0_col1\" class=\"data row0 col1\" >0.0040+-0.0008</td>\n",
       "      <td id=\"T_d4e13_row0_col2\" class=\"data row0 col2\" >0.0176+-0.0014</td>\n",
       "      <td id=\"T_d4e13_row0_col3\" class=\"data row0 col3\" >0.0173+-0.0010</td>\n",
       "      <td id=\"T_d4e13_row0_col4\" class=\"data row0 col4\" >0.0384+-0.0025</td>\n",
       "      <td id=\"T_d4e13_row0_col5\" class=\"data row0 col5\" >0.0074+-0.0012</td>\n",
       "    </tr>\n",
       "  </tbody>\n",
       "</table>\n"
      ],
      "text/plain": [
       "<pandas.io.formats.style.Styler at 0x2340aedd0d0>"
      ]
     },
     "metadata": {},
     "output_type": "display_data"
    },
    {
     "name": "stdout",
     "output_type": "stream",
     "text": [
      "CNN-GTSRB_RGB:\n",
      "GTSRB_RGB-CNN-stability:  0.0013833306676656922+-0.0004767165584325093\n",
      "GTSRB_RGB-CNN-sep:  0.0015341896073767444+-0.0003482910799209051\n",
      "GTSRB_RGB-CNN-sklearn:  0.0018478033772944956+-0.00036947877304485243\n",
      "GTSRB_RGB-CNN-Base:  0.0024964342957339383+-0.000723987999622666\n",
      "GTSRB_RGB-CNN-SBC:  0.1954593320278553+-0.0072403188004565855\n",
      "GTSRB_RGB-CNN-HB:  0.0020028879648003343+-0.00048359108883798884\n"
     ]
    },
    {
     "data": {
      "text/html": [
       "<style type=\"text/css\">\n",
       "#T_ab5fe_row0_col0 {\n",
       "  background-color: lightgreen;\n",
       "}\n",
       "</style>\n",
       "<table id=\"T_ab5fe\">\n",
       "  <thead>\n",
       "    <tr>\n",
       "      <th class=\"blank level0\" >&nbsp;</th>\n",
       "      <th id=\"T_ab5fe_level0_col0\" class=\"col_heading level0 col0\" >ECE-stability</th>\n",
       "      <th id=\"T_ab5fe_level0_col1\" class=\"col_heading level0 col1\" >ECE-sep</th>\n",
       "      <th id=\"T_ab5fe_level0_col2\" class=\"col_heading level0 col2\" >ECE-sklearn</th>\n",
       "      <th id=\"T_ab5fe_level0_col3\" class=\"col_heading level0 col3\" >ECE-Base</th>\n",
       "      <th id=\"T_ab5fe_level0_col4\" class=\"col_heading level0 col4\" >ECE-SBC</th>\n",
       "      <th id=\"T_ab5fe_level0_col5\" class=\"col_heading level0 col5\" >ECE-HB</th>\n",
       "    </tr>\n",
       "  </thead>\n",
       "  <tbody>\n",
       "    <tr>\n",
       "      <th id=\"T_ab5fe_level0_row0\" class=\"row_heading level0 row0\" >CNN-GTSRB_RGB</th>\n",
       "      <td id=\"T_ab5fe_row0_col0\" class=\"data row0 col0\" >0.0014+-0.0005</td>\n",
       "      <td id=\"T_ab5fe_row0_col1\" class=\"data row0 col1\" >0.0015+-0.0003</td>\n",
       "      <td id=\"T_ab5fe_row0_col2\" class=\"data row0 col2\" >0.0018+-0.0004</td>\n",
       "      <td id=\"T_ab5fe_row0_col3\" class=\"data row0 col3\" >0.0025+-0.0007</td>\n",
       "      <td id=\"T_ab5fe_row0_col4\" class=\"data row0 col4\" >0.1955+-0.0072</td>\n",
       "      <td id=\"T_ab5fe_row0_col5\" class=\"data row0 col5\" >0.0020+-0.0005</td>\n",
       "    </tr>\n",
       "  </tbody>\n",
       "</table>\n"
      ],
      "text/plain": [
       "<pandas.io.formats.style.Styler at 0x23425eb02b0>"
      ]
     },
     "metadata": {},
     "output_type": "display_data"
    },
    {
     "name": "stdout",
     "output_type": "stream",
     "text": [
      "Predictions for class 1 not recalibrated since fewer than 30 calibration points were predicted as class 1.\n",
      "Predictions for class 1 not recalibrated since fewer than 30 calibration points were predicted as class 1.\n",
      "RF-GTSRB_RGB:\n",
      "GTSRB_RGB-RF-stability:  0.004234394023153815+-0.000517260096596655\n",
      "GTSRB_RGB-RF-sep:  0.004150314280141268+-0.000686038841909346\n",
      "GTSRB_RGB-RF-sklearn:  0.026224844869137027+-0.001434689303888955\n",
      "GTSRB_RGB-RF-Base:  0.3433766910082829+-0.0019345857739619943\n",
      "GTSRB_RGB-RF-SBC:  0.07875626836344847+-0.004711987390360536\n",
      "GTSRB_RGB-RF-HB:  0.006455699320290891+-0.0012454991893919116\n"
     ]
    },
    {
     "data": {
      "text/html": [
       "<style type=\"text/css\">\n",
       "#T_5afdf_row0_col0 {\n",
       "  background-color: lightgreen;\n",
       "}\n",
       "</style>\n",
       "<table id=\"T_5afdf\">\n",
       "  <thead>\n",
       "    <tr>\n",
       "      <th class=\"blank level0\" >&nbsp;</th>\n",
       "      <th id=\"T_5afdf_level0_col0\" class=\"col_heading level0 col0\" >ECE-stability</th>\n",
       "      <th id=\"T_5afdf_level0_col1\" class=\"col_heading level0 col1\" >ECE-sep</th>\n",
       "      <th id=\"T_5afdf_level0_col2\" class=\"col_heading level0 col2\" >ECE-sklearn</th>\n",
       "      <th id=\"T_5afdf_level0_col3\" class=\"col_heading level0 col3\" >ECE-Base</th>\n",
       "      <th id=\"T_5afdf_level0_col4\" class=\"col_heading level0 col4\" >ECE-SBC</th>\n",
       "      <th id=\"T_5afdf_level0_col5\" class=\"col_heading level0 col5\" >ECE-HB</th>\n",
       "    </tr>\n",
       "  </thead>\n",
       "  <tbody>\n",
       "    <tr>\n",
       "      <th id=\"T_5afdf_level0_row0\" class=\"row_heading level0 row0\" >RF-GTSRB_RGB</th>\n",
       "      <td id=\"T_5afdf_row0_col0\" class=\"data row0 col0\" >0.0042+-0.0005</td>\n",
       "      <td id=\"T_5afdf_row0_col1\" class=\"data row0 col1\" >0.0042+-0.0007</td>\n",
       "      <td id=\"T_5afdf_row0_col2\" class=\"data row0 col2\" >0.0262+-0.0014</td>\n",
       "      <td id=\"T_5afdf_row0_col3\" class=\"data row0 col3\" >0.3434+-0.0019</td>\n",
       "      <td id=\"T_5afdf_row0_col4\" class=\"data row0 col4\" >0.0788+-0.0047</td>\n",
       "      <td id=\"T_5afdf_row0_col5\" class=\"data row0 col5\" >0.0065+-0.0012</td>\n",
       "    </tr>\n",
       "  </tbody>\n",
       "</table>\n"
      ],
      "text/plain": [
       "<pandas.io.formats.style.Styler at 0x2341b18e370>"
      ]
     },
     "metadata": {},
     "output_type": "display_data"
    },
    {
     "name": "stdout",
     "output_type": "stream",
     "text": [
      "GB-GTSRB_RGB:\n",
      "GTSRB_RGB-GB-stability:  0.0070920438892791895+-0.0009516769053629611\n",
      "GTSRB_RGB-GB-sep:  0.007542521146137249+-0.0012883787046056201\n",
      "GTSRB_RGB-GB-sklearn:  0.10015579584693275+-0.0029383323705281655\n",
      "GTSRB_RGB-GB-Base:  0.06065850900912836+-0.0019924068956332433\n",
      "GTSRB_RGB-GB-SBC:  0.17329926092013165+-0.004543768540410664\n",
      "GTSRB_RGB-GB-HB:  0.017712100723496507+-0.0015424501520304897\n"
     ]
    },
    {
     "data": {
      "text/html": [
       "<style type=\"text/css\">\n",
       "#T_354a6_row0_col0 {\n",
       "  background-color: lightgreen;\n",
       "}\n",
       "</style>\n",
       "<table id=\"T_354a6\">\n",
       "  <thead>\n",
       "    <tr>\n",
       "      <th class=\"blank level0\" >&nbsp;</th>\n",
       "      <th id=\"T_354a6_level0_col0\" class=\"col_heading level0 col0\" >ECE-stability</th>\n",
       "      <th id=\"T_354a6_level0_col1\" class=\"col_heading level0 col1\" >ECE-sep</th>\n",
       "      <th id=\"T_354a6_level0_col2\" class=\"col_heading level0 col2\" >ECE-sklearn</th>\n",
       "      <th id=\"T_354a6_level0_col3\" class=\"col_heading level0 col3\" >ECE-Base</th>\n",
       "      <th id=\"T_354a6_level0_col4\" class=\"col_heading level0 col4\" >ECE-SBC</th>\n",
       "      <th id=\"T_354a6_level0_col5\" class=\"col_heading level0 col5\" >ECE-HB</th>\n",
       "    </tr>\n",
       "  </thead>\n",
       "  <tbody>\n",
       "    <tr>\n",
       "      <th id=\"T_354a6_level0_row0\" class=\"row_heading level0 row0\" >GB-GTSRB_RGB</th>\n",
       "      <td id=\"T_354a6_row0_col0\" class=\"data row0 col0\" >0.0071+-0.0010</td>\n",
       "      <td id=\"T_354a6_row0_col1\" class=\"data row0 col1\" >0.0075+-0.0013</td>\n",
       "      <td id=\"T_354a6_row0_col2\" class=\"data row0 col2\" >0.1002+-0.0029</td>\n",
       "      <td id=\"T_354a6_row0_col3\" class=\"data row0 col3\" >0.0607+-0.0020</td>\n",
       "      <td id=\"T_354a6_row0_col4\" class=\"data row0 col4\" >0.1733+-0.0045</td>\n",
       "      <td id=\"T_354a6_row0_col5\" class=\"data row0 col5\" >0.0177+-0.0015</td>\n",
       "    </tr>\n",
       "  </tbody>\n",
       "</table>\n"
      ],
      "text/plain": [
       "<pandas.io.formats.style.Styler at 0x23425e401f0>"
      ]
     },
     "metadata": {},
     "output_type": "display_data"
    },
    {
     "name": "stdout",
     "output_type": "stream",
     "text": [
      "CNN-SignLanguage:\n",
      "SignLanguage-CNN-stability:  5.002286822754689e-05+-5.293099032191692e-05\n",
      "SignLanguage-CNN-sep:  9.196217668835232e-05+-8.284129576069336e-05\n",
      "SignLanguage-CNN-sklearn:  0.00035346415934730326+-0.0002014872516650546\n",
      "SignLanguage-CNN-Base:  0.001855360582544007+-0.0009449657482027331\n",
      "SignLanguage-CNN-SBC:  0.12865352136386915+-0.015088515226762994\n",
      "SignLanguage-CNN-HB:  0.0008056673883123176+-0.00038438196226047496\n"
     ]
    },
    {
     "data": {
      "text/html": [
       "<style type=\"text/css\">\n",
       "#T_0b104_row0_col0, #T_0b104_row0_col1 {\n",
       "  background-color: lightgreen;\n",
       "}\n",
       "</style>\n",
       "<table id=\"T_0b104\">\n",
       "  <thead>\n",
       "    <tr>\n",
       "      <th class=\"blank level0\" >&nbsp;</th>\n",
       "      <th id=\"T_0b104_level0_col0\" class=\"col_heading level0 col0\" >ECE-stability</th>\n",
       "      <th id=\"T_0b104_level0_col1\" class=\"col_heading level0 col1\" >ECE-sep</th>\n",
       "      <th id=\"T_0b104_level0_col2\" class=\"col_heading level0 col2\" >ECE-sklearn</th>\n",
       "      <th id=\"T_0b104_level0_col3\" class=\"col_heading level0 col3\" >ECE-Base</th>\n",
       "      <th id=\"T_0b104_level0_col4\" class=\"col_heading level0 col4\" >ECE-SBC</th>\n",
       "      <th id=\"T_0b104_level0_col5\" class=\"col_heading level0 col5\" >ECE-HB</th>\n",
       "    </tr>\n",
       "  </thead>\n",
       "  <tbody>\n",
       "    <tr>\n",
       "      <th id=\"T_0b104_level0_row0\" class=\"row_heading level0 row0\" >CNN-SignLanguage</th>\n",
       "      <td id=\"T_0b104_row0_col0\" class=\"data row0 col0\" >0.0001+-0.0001</td>\n",
       "      <td id=\"T_0b104_row0_col1\" class=\"data row0 col1\" >0.0001+-0.0001</td>\n",
       "      <td id=\"T_0b104_row0_col2\" class=\"data row0 col2\" >0.0004+-0.0002</td>\n",
       "      <td id=\"T_0b104_row0_col3\" class=\"data row0 col3\" >0.0019+-0.0009</td>\n",
       "      <td id=\"T_0b104_row0_col4\" class=\"data row0 col4\" >0.1287+-0.0151</td>\n",
       "      <td id=\"T_0b104_row0_col5\" class=\"data row0 col5\" >0.0008+-0.0004</td>\n",
       "    </tr>\n",
       "  </tbody>\n",
       "</table>\n"
      ],
      "text/plain": [
       "<pandas.io.formats.style.Styler at 0x2340aedd0d0>"
      ]
     },
     "metadata": {},
     "output_type": "display_data"
    },
    {
     "name": "stdout",
     "output_type": "stream",
     "text": [
      "RF-SignLanguage:\n",
      "SignLanguage-RF-stability:  0.0008209248584125654+-0.0001713969230423655\n",
      "SignLanguage-RF-sep:  0.0009002516689361215+-0.0002718277043210679\n",
      "SignLanguage-RF-sklearn:  0.004899959955755763+-0.0006044284577509818\n",
      "SignLanguage-RF-Base:  0.2535736726037061+-0.0014933677900744735\n",
      "SignLanguage-RF-SBC:  0.07283063377198658+-0.007936778965927288\n",
      "SignLanguage-RF-HB:  0.002581991338931198+-0.0008116581604819262\n"
     ]
    },
    {
     "data": {
      "text/html": [
       "<style type=\"text/css\">\n",
       "#T_15106_row0_col0 {\n",
       "  background-color: lightgreen;\n",
       "}\n",
       "</style>\n",
       "<table id=\"T_15106\">\n",
       "  <thead>\n",
       "    <tr>\n",
       "      <th class=\"blank level0\" >&nbsp;</th>\n",
       "      <th id=\"T_15106_level0_col0\" class=\"col_heading level0 col0\" >ECE-stability</th>\n",
       "      <th id=\"T_15106_level0_col1\" class=\"col_heading level0 col1\" >ECE-sep</th>\n",
       "      <th id=\"T_15106_level0_col2\" class=\"col_heading level0 col2\" >ECE-sklearn</th>\n",
       "      <th id=\"T_15106_level0_col3\" class=\"col_heading level0 col3\" >ECE-Base</th>\n",
       "      <th id=\"T_15106_level0_col4\" class=\"col_heading level0 col4\" >ECE-SBC</th>\n",
       "      <th id=\"T_15106_level0_col5\" class=\"col_heading level0 col5\" >ECE-HB</th>\n",
       "    </tr>\n",
       "  </thead>\n",
       "  <tbody>\n",
       "    <tr>\n",
       "      <th id=\"T_15106_level0_row0\" class=\"row_heading level0 row0\" >RF-SignLanguage</th>\n",
       "      <td id=\"T_15106_row0_col0\" class=\"data row0 col0\" >0.0008+-0.0002</td>\n",
       "      <td id=\"T_15106_row0_col1\" class=\"data row0 col1\" >0.0009+-0.0003</td>\n",
       "      <td id=\"T_15106_row0_col2\" class=\"data row0 col2\" >0.0049+-0.0006</td>\n",
       "      <td id=\"T_15106_row0_col3\" class=\"data row0 col3\" >0.2536+-0.0015</td>\n",
       "      <td id=\"T_15106_row0_col4\" class=\"data row0 col4\" >0.0728+-0.0079</td>\n",
       "      <td id=\"T_15106_row0_col5\" class=\"data row0 col5\" >0.0026+-0.0008</td>\n",
       "    </tr>\n",
       "  </tbody>\n",
       "</table>\n"
      ],
      "text/plain": [
       "<pandas.io.formats.style.Styler at 0x23425e51a60>"
      ]
     },
     "metadata": {},
     "output_type": "display_data"
    },
    {
     "name": "stdout",
     "output_type": "stream",
     "text": [
      "GB-SignLanguage:\n",
      "SignLanguage-GB-stability:  0.0007795643656508157+-0.00031179545964238987\n",
      "SignLanguage-GB-sep:  0.0008460547663720005+-0.0002448574159722818\n",
      "SignLanguage-GB-sklearn:  0.04057886265449195+-0.0017788808700602773\n",
      "SignLanguage-GB-Base:  0.007144539534301444+-0.0008455024726452586\n",
      "SignLanguage-GB-SBC:  0.25644652357553693+-0.02067822561681884\n",
      "SignLanguage-GB-HB:  0.0064153644930279+-0.0008592743266410382\n"
     ]
    },
    {
     "data": {
      "text/html": [
       "<style type=\"text/css\">\n",
       "#T_c0c82_row0_col1 {\n",
       "  background-color: lightgreen;\n",
       "}\n",
       "</style>\n",
       "<table id=\"T_c0c82\">\n",
       "  <thead>\n",
       "    <tr>\n",
       "      <th class=\"blank level0\" >&nbsp;</th>\n",
       "      <th id=\"T_c0c82_level0_col0\" class=\"col_heading level0 col0\" >ECE-stability</th>\n",
       "      <th id=\"T_c0c82_level0_col1\" class=\"col_heading level0 col1\" >ECE-sep</th>\n",
       "      <th id=\"T_c0c82_level0_col2\" class=\"col_heading level0 col2\" >ECE-sklearn</th>\n",
       "      <th id=\"T_c0c82_level0_col3\" class=\"col_heading level0 col3\" >ECE-Base</th>\n",
       "      <th id=\"T_c0c82_level0_col4\" class=\"col_heading level0 col4\" >ECE-SBC</th>\n",
       "      <th id=\"T_c0c82_level0_col5\" class=\"col_heading level0 col5\" >ECE-HB</th>\n",
       "    </tr>\n",
       "  </thead>\n",
       "  <tbody>\n",
       "    <tr>\n",
       "      <th id=\"T_c0c82_level0_row0\" class=\"row_heading level0 row0\" >GB-SignLanguage</th>\n",
       "      <td id=\"T_c0c82_row0_col0\" class=\"data row0 col0\" >0.0008+-0.0003</td>\n",
       "      <td id=\"T_c0c82_row0_col1\" class=\"data row0 col1\" >0.0008+-0.0002</td>\n",
       "      <td id=\"T_c0c82_row0_col2\" class=\"data row0 col2\" >0.0406+-0.0018</td>\n",
       "      <td id=\"T_c0c82_row0_col3\" class=\"data row0 col3\" >0.0071+-0.0008</td>\n",
       "      <td id=\"T_c0c82_row0_col4\" class=\"data row0 col4\" >0.2564+-0.0207</td>\n",
       "      <td id=\"T_c0c82_row0_col5\" class=\"data row0 col5\" >0.0064+-0.0009</td>\n",
       "    </tr>\n",
       "  </tbody>\n",
       "</table>\n"
      ],
      "text/plain": [
       "<pandas.io.formats.style.Styler at 0x2341b176cd0>"
      ]
     },
     "metadata": {},
     "output_type": "display_data"
    },
    {
     "name": "stdout",
     "output_type": "stream",
     "text": [
      "CNN-Fashion:\n",
      "Fashion-CNN-stability:  0.008991103214995562+-0.0007092267240019785\n",
      "Fashion-CNN-sep:  0.008710264831992543+-0.0010206054245612984\n",
      "Fashion-CNN-sklearn:  0.009095771378254132+-0.0013390662073833855\n",
      "Fashion-CNN-Base:  0.035124106406314054+-0.004704169333709405\n",
      "Fashion-CNN-SBC:  0.026619537716120585+-0.0020915161066563173\n",
      "Fashion-CNN-HB:  0.014238625162269498+-0.0018212007175779817\n"
     ]
    },
    {
     "data": {
      "text/html": [
       "<style type=\"text/css\">\n",
       "#T_6f350_row0_col1 {\n",
       "  background-color: lightgreen;\n",
       "}\n",
       "</style>\n",
       "<table id=\"T_6f350\">\n",
       "  <thead>\n",
       "    <tr>\n",
       "      <th class=\"blank level0\" >&nbsp;</th>\n",
       "      <th id=\"T_6f350_level0_col0\" class=\"col_heading level0 col0\" >ECE-stability</th>\n",
       "      <th id=\"T_6f350_level0_col1\" class=\"col_heading level0 col1\" >ECE-sep</th>\n",
       "      <th id=\"T_6f350_level0_col2\" class=\"col_heading level0 col2\" >ECE-sklearn</th>\n",
       "      <th id=\"T_6f350_level0_col3\" class=\"col_heading level0 col3\" >ECE-Base</th>\n",
       "      <th id=\"T_6f350_level0_col4\" class=\"col_heading level0 col4\" >ECE-SBC</th>\n",
       "      <th id=\"T_6f350_level0_col5\" class=\"col_heading level0 col5\" >ECE-HB</th>\n",
       "    </tr>\n",
       "  </thead>\n",
       "  <tbody>\n",
       "    <tr>\n",
       "      <th id=\"T_6f350_level0_row0\" class=\"row_heading level0 row0\" >CNN-Fashion</th>\n",
       "      <td id=\"T_6f350_row0_col0\" class=\"data row0 col0\" >0.0090+-0.0007</td>\n",
       "      <td id=\"T_6f350_row0_col1\" class=\"data row0 col1\" >0.0087+-0.0010</td>\n",
       "      <td id=\"T_6f350_row0_col2\" class=\"data row0 col2\" >0.0091+-0.0013</td>\n",
       "      <td id=\"T_6f350_row0_col3\" class=\"data row0 col3\" >0.0351+-0.0047</td>\n",
       "      <td id=\"T_6f350_row0_col4\" class=\"data row0 col4\" >0.0266+-0.0021</td>\n",
       "      <td id=\"T_6f350_row0_col5\" class=\"data row0 col5\" >0.0142+-0.0018</td>\n",
       "    </tr>\n",
       "  </tbody>\n",
       "</table>\n"
      ],
      "text/plain": [
       "<pandas.io.formats.style.Styler at 0x23425e2a820>"
      ]
     },
     "metadata": {},
     "output_type": "display_data"
    },
    {
     "name": "stdout",
     "output_type": "stream",
     "text": [
      "RF-Fashion:\n",
      "Fashion-RF-stability:  0.00905296741325681+-0.0013737462420360478\n",
      "Fashion-RF-sep:  0.010081853744293478+-0.0015747708337782024\n",
      "Fashion-RF-sklearn:  0.011113783140320951+-0.0010590466967943454\n",
      "Fashion-RF-Base:  0.09181623001375733+-0.0013920268680316233\n",
      "Fashion-RF-SBC:  0.05063568261840941+-0.0021758645370710955\n",
      "Fashion-RF-HB:  0.017040921628568635+-0.0019561414979631306\n"
     ]
    },
    {
     "data": {
      "text/html": [
       "<style type=\"text/css\">\n",
       "#T_0d7c1_row0_col0 {\n",
       "  background-color: lightgreen;\n",
       "}\n",
       "</style>\n",
       "<table id=\"T_0d7c1\">\n",
       "  <thead>\n",
       "    <tr>\n",
       "      <th class=\"blank level0\" >&nbsp;</th>\n",
       "      <th id=\"T_0d7c1_level0_col0\" class=\"col_heading level0 col0\" >ECE-stability</th>\n",
       "      <th id=\"T_0d7c1_level0_col1\" class=\"col_heading level0 col1\" >ECE-sep</th>\n",
       "      <th id=\"T_0d7c1_level0_col2\" class=\"col_heading level0 col2\" >ECE-sklearn</th>\n",
       "      <th id=\"T_0d7c1_level0_col3\" class=\"col_heading level0 col3\" >ECE-Base</th>\n",
       "      <th id=\"T_0d7c1_level0_col4\" class=\"col_heading level0 col4\" >ECE-SBC</th>\n",
       "      <th id=\"T_0d7c1_level0_col5\" class=\"col_heading level0 col5\" >ECE-HB</th>\n",
       "    </tr>\n",
       "  </thead>\n",
       "  <tbody>\n",
       "    <tr>\n",
       "      <th id=\"T_0d7c1_level0_row0\" class=\"row_heading level0 row0\" >RF-Fashion</th>\n",
       "      <td id=\"T_0d7c1_row0_col0\" class=\"data row0 col0\" >0.0091+-0.0014</td>\n",
       "      <td id=\"T_0d7c1_row0_col1\" class=\"data row0 col1\" >0.0101+-0.0016</td>\n",
       "      <td id=\"T_0d7c1_row0_col2\" class=\"data row0 col2\" >0.0111+-0.0011</td>\n",
       "      <td id=\"T_0d7c1_row0_col3\" class=\"data row0 col3\" >0.0918+-0.0014</td>\n",
       "      <td id=\"T_0d7c1_row0_col4\" class=\"data row0 col4\" >0.0506+-0.0022</td>\n",
       "      <td id=\"T_0d7c1_row0_col5\" class=\"data row0 col5\" >0.0170+-0.0020</td>\n",
       "    </tr>\n",
       "  </tbody>\n",
       "</table>\n"
      ],
      "text/plain": [
       "<pandas.io.formats.style.Styler at 0x2340fd44550>"
      ]
     },
     "metadata": {},
     "output_type": "display_data"
    },
    {
     "name": "stdout",
     "output_type": "stream",
     "text": [
      "GB-Fashion:\n",
      "Fashion-GB-stability:  0.009150644389461393+-0.0013602289679098345\n",
      "Fashion-GB-sep:  0.009279787823872378+-0.0006365710554120108\n",
      "Fashion-GB-sklearn:  0.0384025792082508+-0.001929069880508373\n",
      "Fashion-GB-Base:  0.024942526189853754+-0.002323629424753282\n",
      "Fashion-GB-SBC:  0.0667319777240475+-0.0026565799319748368\n",
      "Fashion-GB-HB:  0.015945529925751205+-0.0021594356386722448\n"
     ]
    },
    {
     "data": {
      "text/html": [
       "<style type=\"text/css\">\n",
       "#T_95d3d_row0_col0 {\n",
       "  background-color: lightgreen;\n",
       "}\n",
       "</style>\n",
       "<table id=\"T_95d3d\">\n",
       "  <thead>\n",
       "    <tr>\n",
       "      <th class=\"blank level0\" >&nbsp;</th>\n",
       "      <th id=\"T_95d3d_level0_col0\" class=\"col_heading level0 col0\" >ECE-stability</th>\n",
       "      <th id=\"T_95d3d_level0_col1\" class=\"col_heading level0 col1\" >ECE-sep</th>\n",
       "      <th id=\"T_95d3d_level0_col2\" class=\"col_heading level0 col2\" >ECE-sklearn</th>\n",
       "      <th id=\"T_95d3d_level0_col3\" class=\"col_heading level0 col3\" >ECE-Base</th>\n",
       "      <th id=\"T_95d3d_level0_col4\" class=\"col_heading level0 col4\" >ECE-SBC</th>\n",
       "      <th id=\"T_95d3d_level0_col5\" class=\"col_heading level0 col5\" >ECE-HB</th>\n",
       "    </tr>\n",
       "  </thead>\n",
       "  <tbody>\n",
       "    <tr>\n",
       "      <th id=\"T_95d3d_level0_row0\" class=\"row_heading level0 row0\" >GB-Fashion</th>\n",
       "      <td id=\"T_95d3d_row0_col0\" class=\"data row0 col0\" >0.0092+-0.0014</td>\n",
       "      <td id=\"T_95d3d_row0_col1\" class=\"data row0 col1\" >0.0093+-0.0006</td>\n",
       "      <td id=\"T_95d3d_row0_col2\" class=\"data row0 col2\" >0.0384+-0.0019</td>\n",
       "      <td id=\"T_95d3d_row0_col3\" class=\"data row0 col3\" >0.0249+-0.0023</td>\n",
       "      <td id=\"T_95d3d_row0_col4\" class=\"data row0 col4\" >0.0667+-0.0027</td>\n",
       "      <td id=\"T_95d3d_row0_col5\" class=\"data row0 col5\" >0.0159+-0.0022</td>\n",
       "    </tr>\n",
       "  </tbody>\n",
       "</table>\n"
      ],
      "text/plain": [
       "<pandas.io.formats.style.Styler at 0x23425e25fa0>"
      ]
     },
     "metadata": {},
     "output_type": "display_data"
    },
    {
     "name": "stdout",
     "output_type": "stream",
     "text": [
      "CNN-CIFAR_RGB:\n",
      "CIFAR_RGB-CNN-stability:  0.010996325016449553+-0.0026211841597055963\n",
      "CIFAR_RGB-CNN-sep:  0.010166797769043737+-0.001996990599151146\n",
      "CIFAR_RGB-CNN-sklearn:  0.01546439090289583+-0.0028142055506262965\n",
      "CIFAR_RGB-CNN-Base:  0.09210131681859493+-0.002117029490850547\n",
      "CIFAR_RGB-CNN-SBC:  0.055892275223874986+-0.0017393796620395544\n",
      "CIFAR_RGB-CNN-HB:  0.019174695313464576+-0.0021803588055687127\n"
     ]
    },
    {
     "data": {
      "text/html": [
       "<style type=\"text/css\">\n",
       "#T_e1154_row0_col1 {\n",
       "  background-color: lightgreen;\n",
       "}\n",
       "</style>\n",
       "<table id=\"T_e1154\">\n",
       "  <thead>\n",
       "    <tr>\n",
       "      <th class=\"blank level0\" >&nbsp;</th>\n",
       "      <th id=\"T_e1154_level0_col0\" class=\"col_heading level0 col0\" >ECE-stability</th>\n",
       "      <th id=\"T_e1154_level0_col1\" class=\"col_heading level0 col1\" >ECE-sep</th>\n",
       "      <th id=\"T_e1154_level0_col2\" class=\"col_heading level0 col2\" >ECE-sklearn</th>\n",
       "      <th id=\"T_e1154_level0_col3\" class=\"col_heading level0 col3\" >ECE-Base</th>\n",
       "      <th id=\"T_e1154_level0_col4\" class=\"col_heading level0 col4\" >ECE-SBC</th>\n",
       "      <th id=\"T_e1154_level0_col5\" class=\"col_heading level0 col5\" >ECE-HB</th>\n",
       "    </tr>\n",
       "  </thead>\n",
       "  <tbody>\n",
       "    <tr>\n",
       "      <th id=\"T_e1154_level0_row0\" class=\"row_heading level0 row0\" >CNN-CIFAR_RGB</th>\n",
       "      <td id=\"T_e1154_row0_col0\" class=\"data row0 col0\" >0.0110+-0.0026</td>\n",
       "      <td id=\"T_e1154_row0_col1\" class=\"data row0 col1\" >0.0102+-0.0020</td>\n",
       "      <td id=\"T_e1154_row0_col2\" class=\"data row0 col2\" >0.0155+-0.0028</td>\n",
       "      <td id=\"T_e1154_row0_col3\" class=\"data row0 col3\" >0.0921+-0.0021</td>\n",
       "      <td id=\"T_e1154_row0_col4\" class=\"data row0 col4\" >0.0559+-0.0017</td>\n",
       "      <td id=\"T_e1154_row0_col5\" class=\"data row0 col5\" >0.0192+-0.0022</td>\n",
       "    </tr>\n",
       "  </tbody>\n",
       "</table>\n"
      ],
      "text/plain": [
       "<pandas.io.formats.style.Styler at 0x23425ece6d0>"
      ]
     },
     "metadata": {},
     "output_type": "display_data"
    },
    {
     "name": "stdout",
     "output_type": "stream",
     "text": [
      "RF-CIFAR_RGB:\n",
      "CIFAR_RGB-RF-stability:  0.014211611863261578+-0.0020169234756141612\n",
      "CIFAR_RGB-RF-sep:  0.015294076193281509+-0.0016683165614174988\n",
      "CIFAR_RGB-RF-sklearn:  0.03424006506844465+-0.0024828467103523363\n",
      "CIFAR_RGB-RF-Base:  0.1731734477723606+-0.002916221470958741\n",
      "CIFAR_RGB-RF-SBC:  0.14369327144601513+-0.002040782549608683\n",
      "CIFAR_RGB-RF-HB:  0.03730042113351819+-0.00319573132895639\n"
     ]
    },
    {
     "data": {
      "text/html": [
       "<style type=\"text/css\">\n",
       "#T_5a446_row0_col0 {\n",
       "  background-color: lightgreen;\n",
       "}\n",
       "</style>\n",
       "<table id=\"T_5a446\">\n",
       "  <thead>\n",
       "    <tr>\n",
       "      <th class=\"blank level0\" >&nbsp;</th>\n",
       "      <th id=\"T_5a446_level0_col0\" class=\"col_heading level0 col0\" >ECE-stability</th>\n",
       "      <th id=\"T_5a446_level0_col1\" class=\"col_heading level0 col1\" >ECE-sep</th>\n",
       "      <th id=\"T_5a446_level0_col2\" class=\"col_heading level0 col2\" >ECE-sklearn</th>\n",
       "      <th id=\"T_5a446_level0_col3\" class=\"col_heading level0 col3\" >ECE-Base</th>\n",
       "      <th id=\"T_5a446_level0_col4\" class=\"col_heading level0 col4\" >ECE-SBC</th>\n",
       "      <th id=\"T_5a446_level0_col5\" class=\"col_heading level0 col5\" >ECE-HB</th>\n",
       "    </tr>\n",
       "  </thead>\n",
       "  <tbody>\n",
       "    <tr>\n",
       "      <th id=\"T_5a446_level0_row0\" class=\"row_heading level0 row0\" >RF-CIFAR_RGB</th>\n",
       "      <td id=\"T_5a446_row0_col0\" class=\"data row0 col0\" >0.0142+-0.0020</td>\n",
       "      <td id=\"T_5a446_row0_col1\" class=\"data row0 col1\" >0.0153+-0.0017</td>\n",
       "      <td id=\"T_5a446_row0_col2\" class=\"data row0 col2\" >0.0342+-0.0025</td>\n",
       "      <td id=\"T_5a446_row0_col3\" class=\"data row0 col3\" >0.1732+-0.0029</td>\n",
       "      <td id=\"T_5a446_row0_col4\" class=\"data row0 col4\" >0.1437+-0.0020</td>\n",
       "      <td id=\"T_5a446_row0_col5\" class=\"data row0 col5\" >0.0373+-0.0032</td>\n",
       "    </tr>\n",
       "  </tbody>\n",
       "</table>\n"
      ],
      "text/plain": [
       "<pandas.io.formats.style.Styler at 0x2340fd18460>"
      ]
     },
     "metadata": {},
     "output_type": "display_data"
    },
    {
     "name": "stdout",
     "output_type": "stream",
     "text": [
      "GB-CIFAR_RGB:\n",
      "CIFAR_RGB-GB-stability:  0.015492030946544699+-0.0022764859971739874\n",
      "CIFAR_RGB-GB-sep:  0.01525951035959124+-0.001636939913035181\n",
      "CIFAR_RGB-GB-sklearn:  0.07693015041580618+-0.001991312335847664\n",
      "CIFAR_RGB-GB-Base:  0.038507872961924414+-0.002513041528376593\n",
      "CIFAR_RGB-GB-SBC:  0.2036477341241813+-0.0028174634049984992\n",
      "CIFAR_RGB-GB-HB:  0.039122643358221264+-0.001954672622771242\n"
     ]
    },
    {
     "data": {
      "text/html": [
       "<style type=\"text/css\">\n",
       "#T_c660e_row0_col1 {\n",
       "  background-color: lightgreen;\n",
       "}\n",
       "</style>\n",
       "<table id=\"T_c660e\">\n",
       "  <thead>\n",
       "    <tr>\n",
       "      <th class=\"blank level0\" >&nbsp;</th>\n",
       "      <th id=\"T_c660e_level0_col0\" class=\"col_heading level0 col0\" >ECE-stability</th>\n",
       "      <th id=\"T_c660e_level0_col1\" class=\"col_heading level0 col1\" >ECE-sep</th>\n",
       "      <th id=\"T_c660e_level0_col2\" class=\"col_heading level0 col2\" >ECE-sklearn</th>\n",
       "      <th id=\"T_c660e_level0_col3\" class=\"col_heading level0 col3\" >ECE-Base</th>\n",
       "      <th id=\"T_c660e_level0_col4\" class=\"col_heading level0 col4\" >ECE-SBC</th>\n",
       "      <th id=\"T_c660e_level0_col5\" class=\"col_heading level0 col5\" >ECE-HB</th>\n",
       "    </tr>\n",
       "  </thead>\n",
       "  <tbody>\n",
       "    <tr>\n",
       "      <th id=\"T_c660e_level0_row0\" class=\"row_heading level0 row0\" >GB-CIFAR_RGB</th>\n",
       "      <td id=\"T_c660e_row0_col0\" class=\"data row0 col0\" >0.0155+-0.0023</td>\n",
       "      <td id=\"T_c660e_row0_col1\" class=\"data row0 col1\" >0.0153+-0.0016</td>\n",
       "      <td id=\"T_c660e_row0_col2\" class=\"data row0 col2\" >0.0769+-0.0020</td>\n",
       "      <td id=\"T_c660e_row0_col3\" class=\"data row0 col3\" >0.0385+-0.0025</td>\n",
       "      <td id=\"T_c660e_row0_col4\" class=\"data row0 col4\" >0.2036+-0.0028</td>\n",
       "      <td id=\"T_c660e_row0_col5\" class=\"data row0 col5\" >0.0391+-0.0020</td>\n",
       "    </tr>\n",
       "  </tbody>\n",
       "</table>\n"
      ],
      "text/plain": [
       "<pandas.io.formats.style.Styler at 0x2341b1ffbe0>"
      ]
     },
     "metadata": {},
     "output_type": "display_data"
    }
   ],
   "source": [
    "models = ['CNN','RF','GB']\n",
    "datasets = ['MNIST','GTSRB_RGB','SignLanguage','Fashion','CIFAR_RGB']\n",
    "series =[]\n",
    "for dataset in datasets:\n",
    "    for model in models:\n",
    "        serie = compare_calib_table(model_name=model,dataset_name=dataset,fitting = 'isotonic_regression',err_metric='ECE')\n",
    "        series.append(serie)"
   ]
  },
  {
   "cell_type": "code",
   "execution_count": 4,
   "metadata": {},
   "outputs": [
    {
     "data": {
      "text/html": [
       "<style type=\"text/css\">\n",
       "#T_4f8d0_row0_col0, #T_4f8d0_row1_col0, #T_4f8d0_row2_col0, #T_4f8d0_row3_col0, #T_4f8d0_row4_col0, #T_4f8d0_row5_col0, #T_4f8d0_row6_col0, #T_4f8d0_row6_col1, #T_4f8d0_row7_col0, #T_4f8d0_row8_col1, #T_4f8d0_row9_col1, #T_4f8d0_row10_col0, #T_4f8d0_row11_col0, #T_4f8d0_row12_col1, #T_4f8d0_row13_col0, #T_4f8d0_row14_col1 {\n",
       "  background-color: lightgreen;\n",
       "}\n",
       "</style>\n",
       "<table id=\"T_4f8d0\">\n",
       "  <thead>\n",
       "    <tr>\n",
       "      <th class=\"blank level0\" >&nbsp;</th>\n",
       "      <th id=\"T_4f8d0_level0_col0\" class=\"col_heading level0 col0\" >ECE-stability</th>\n",
       "      <th id=\"T_4f8d0_level0_col1\" class=\"col_heading level0 col1\" >ECE-sep</th>\n",
       "      <th id=\"T_4f8d0_level0_col2\" class=\"col_heading level0 col2\" >ECE-sklearn</th>\n",
       "      <th id=\"T_4f8d0_level0_col3\" class=\"col_heading level0 col3\" >ECE-Base</th>\n",
       "      <th id=\"T_4f8d0_level0_col4\" class=\"col_heading level0 col4\" >ECE-SBC</th>\n",
       "      <th id=\"T_4f8d0_level0_col5\" class=\"col_heading level0 col5\" >ECE-HB</th>\n",
       "    </tr>\n",
       "  </thead>\n",
       "  <tbody>\n",
       "    <tr>\n",
       "      <th id=\"T_4f8d0_level0_row0\" class=\"row_heading level0 row0\" >CNN-MNIST</th>\n",
       "      <td id=\"T_4f8d0_row0_col0\" class=\"data row0 col0\" >0.0029+-0.0008</td>\n",
       "      <td id=\"T_4f8d0_row0_col1\" class=\"data row0 col1\" >0.0031+-0.0007</td>\n",
       "      <td id=\"T_4f8d0_row0_col2\" class=\"data row0 col2\" >0.0032+-0.0004</td>\n",
       "      <td id=\"T_4f8d0_row0_col3\" class=\"data row0 col3\" >0.0082+-0.0007</td>\n",
       "      <td id=\"T_4f8d0_row0_col4\" class=\"data row0 col4\" >0.0190+-0.0018</td>\n",
       "      <td id=\"T_4f8d0_row0_col5\" class=\"data row0 col5\" >0.0045+-0.0004</td>\n",
       "    </tr>\n",
       "    <tr>\n",
       "      <th id=\"T_4f8d0_level0_row1\" class=\"row_heading level0 row1\" >RF-MNIST</th>\n",
       "      <td id=\"T_4f8d0_row1_col0\" class=\"data row1 col0\" >0.0044+-0.0005</td>\n",
       "      <td id=\"T_4f8d0_row1_col1\" class=\"data row1 col1\" >0.0045+-0.0006</td>\n",
       "      <td id=\"T_4f8d0_row1_col2\" class=\"data row1 col2\" >0.0098+-0.0012</td>\n",
       "      <td id=\"T_4f8d0_row1_col3\" class=\"data row1 col3\" >0.1629+-0.0016</td>\n",
       "      <td id=\"T_4f8d0_row1_col4\" class=\"data row1 col4\" >0.0331+-0.0017</td>\n",
       "      <td id=\"T_4f8d0_row1_col5\" class=\"data row1 col5\" >0.0078+-0.0009</td>\n",
       "    </tr>\n",
       "    <tr>\n",
       "      <th id=\"T_4f8d0_level0_row2\" class=\"row_heading level0 row2\" >GB-MNIST</th>\n",
       "      <td id=\"T_4f8d0_row2_col0\" class=\"data row2 col0\" >0.0040+-0.0007</td>\n",
       "      <td id=\"T_4f8d0_row2_col1\" class=\"data row2 col1\" >0.0040+-0.0008</td>\n",
       "      <td id=\"T_4f8d0_row2_col2\" class=\"data row2 col2\" >0.0176+-0.0014</td>\n",
       "      <td id=\"T_4f8d0_row2_col3\" class=\"data row2 col3\" >0.0173+-0.0010</td>\n",
       "      <td id=\"T_4f8d0_row2_col4\" class=\"data row2 col4\" >0.0384+-0.0025</td>\n",
       "      <td id=\"T_4f8d0_row2_col5\" class=\"data row2 col5\" >0.0074+-0.0012</td>\n",
       "    </tr>\n",
       "    <tr>\n",
       "      <th id=\"T_4f8d0_level0_row3\" class=\"row_heading level0 row3\" >CNN-GTSRB_RGB</th>\n",
       "      <td id=\"T_4f8d0_row3_col0\" class=\"data row3 col0\" >0.0014+-0.0005</td>\n",
       "      <td id=\"T_4f8d0_row3_col1\" class=\"data row3 col1\" >0.0015+-0.0003</td>\n",
       "      <td id=\"T_4f8d0_row3_col2\" class=\"data row3 col2\" >0.0018+-0.0004</td>\n",
       "      <td id=\"T_4f8d0_row3_col3\" class=\"data row3 col3\" >0.0025+-0.0007</td>\n",
       "      <td id=\"T_4f8d0_row3_col4\" class=\"data row3 col4\" >0.1955+-0.0072</td>\n",
       "      <td id=\"T_4f8d0_row3_col5\" class=\"data row3 col5\" >0.0020+-0.0005</td>\n",
       "    </tr>\n",
       "    <tr>\n",
       "      <th id=\"T_4f8d0_level0_row4\" class=\"row_heading level0 row4\" >RF-GTSRB_RGB</th>\n",
       "      <td id=\"T_4f8d0_row4_col0\" class=\"data row4 col0\" >0.0042+-0.0005</td>\n",
       "      <td id=\"T_4f8d0_row4_col1\" class=\"data row4 col1\" >0.0042+-0.0007</td>\n",
       "      <td id=\"T_4f8d0_row4_col2\" class=\"data row4 col2\" >0.0262+-0.0014</td>\n",
       "      <td id=\"T_4f8d0_row4_col3\" class=\"data row4 col3\" >0.3434+-0.0019</td>\n",
       "      <td id=\"T_4f8d0_row4_col4\" class=\"data row4 col4\" >0.0788+-0.0047</td>\n",
       "      <td id=\"T_4f8d0_row4_col5\" class=\"data row4 col5\" >0.0065+-0.0012</td>\n",
       "    </tr>\n",
       "    <tr>\n",
       "      <th id=\"T_4f8d0_level0_row5\" class=\"row_heading level0 row5\" >GB-GTSRB_RGB</th>\n",
       "      <td id=\"T_4f8d0_row5_col0\" class=\"data row5 col0\" >0.0071+-0.0010</td>\n",
       "      <td id=\"T_4f8d0_row5_col1\" class=\"data row5 col1\" >0.0075+-0.0013</td>\n",
       "      <td id=\"T_4f8d0_row5_col2\" class=\"data row5 col2\" >0.1002+-0.0029</td>\n",
       "      <td id=\"T_4f8d0_row5_col3\" class=\"data row5 col3\" >0.0607+-0.0020</td>\n",
       "      <td id=\"T_4f8d0_row5_col4\" class=\"data row5 col4\" >0.1733+-0.0045</td>\n",
       "      <td id=\"T_4f8d0_row5_col5\" class=\"data row5 col5\" >0.0177+-0.0015</td>\n",
       "    </tr>\n",
       "    <tr>\n",
       "      <th id=\"T_4f8d0_level0_row6\" class=\"row_heading level0 row6\" >CNN-SignLanguage</th>\n",
       "      <td id=\"T_4f8d0_row6_col0\" class=\"data row6 col0\" >0.0001+-0.0001</td>\n",
       "      <td id=\"T_4f8d0_row6_col1\" class=\"data row6 col1\" >0.0001+-0.0001</td>\n",
       "      <td id=\"T_4f8d0_row6_col2\" class=\"data row6 col2\" >0.0004+-0.0002</td>\n",
       "      <td id=\"T_4f8d0_row6_col3\" class=\"data row6 col3\" >0.0019+-0.0009</td>\n",
       "      <td id=\"T_4f8d0_row6_col4\" class=\"data row6 col4\" >0.1287+-0.0151</td>\n",
       "      <td id=\"T_4f8d0_row6_col5\" class=\"data row6 col5\" >0.0008+-0.0004</td>\n",
       "    </tr>\n",
       "    <tr>\n",
       "      <th id=\"T_4f8d0_level0_row7\" class=\"row_heading level0 row7\" >RF-SignLanguage</th>\n",
       "      <td id=\"T_4f8d0_row7_col0\" class=\"data row7 col0\" >0.0008+-0.0002</td>\n",
       "      <td id=\"T_4f8d0_row7_col1\" class=\"data row7 col1\" >0.0009+-0.0003</td>\n",
       "      <td id=\"T_4f8d0_row7_col2\" class=\"data row7 col2\" >0.0049+-0.0006</td>\n",
       "      <td id=\"T_4f8d0_row7_col3\" class=\"data row7 col3\" >0.2536+-0.0015</td>\n",
       "      <td id=\"T_4f8d0_row7_col4\" class=\"data row7 col4\" >0.0728+-0.0079</td>\n",
       "      <td id=\"T_4f8d0_row7_col5\" class=\"data row7 col5\" >0.0026+-0.0008</td>\n",
       "    </tr>\n",
       "    <tr>\n",
       "      <th id=\"T_4f8d0_level0_row8\" class=\"row_heading level0 row8\" >GB-SignLanguage</th>\n",
       "      <td id=\"T_4f8d0_row8_col0\" class=\"data row8 col0\" >0.0008+-0.0003</td>\n",
       "      <td id=\"T_4f8d0_row8_col1\" class=\"data row8 col1\" >0.0008+-0.0002</td>\n",
       "      <td id=\"T_4f8d0_row8_col2\" class=\"data row8 col2\" >0.0406+-0.0018</td>\n",
       "      <td id=\"T_4f8d0_row8_col3\" class=\"data row8 col3\" >0.0071+-0.0008</td>\n",
       "      <td id=\"T_4f8d0_row8_col4\" class=\"data row8 col4\" >0.2564+-0.0207</td>\n",
       "      <td id=\"T_4f8d0_row8_col5\" class=\"data row8 col5\" >0.0064+-0.0009</td>\n",
       "    </tr>\n",
       "    <tr>\n",
       "      <th id=\"T_4f8d0_level0_row9\" class=\"row_heading level0 row9\" >CNN-Fashion</th>\n",
       "      <td id=\"T_4f8d0_row9_col0\" class=\"data row9 col0\" >0.0090+-0.0007</td>\n",
       "      <td id=\"T_4f8d0_row9_col1\" class=\"data row9 col1\" >0.0087+-0.0010</td>\n",
       "      <td id=\"T_4f8d0_row9_col2\" class=\"data row9 col2\" >0.0091+-0.0013</td>\n",
       "      <td id=\"T_4f8d0_row9_col3\" class=\"data row9 col3\" >0.0351+-0.0047</td>\n",
       "      <td id=\"T_4f8d0_row9_col4\" class=\"data row9 col4\" >0.0266+-0.0021</td>\n",
       "      <td id=\"T_4f8d0_row9_col5\" class=\"data row9 col5\" >0.0142+-0.0018</td>\n",
       "    </tr>\n",
       "    <tr>\n",
       "      <th id=\"T_4f8d0_level0_row10\" class=\"row_heading level0 row10\" >RF-Fashion</th>\n",
       "      <td id=\"T_4f8d0_row10_col0\" class=\"data row10 col0\" >0.0091+-0.0014</td>\n",
       "      <td id=\"T_4f8d0_row10_col1\" class=\"data row10 col1\" >0.0101+-0.0016</td>\n",
       "      <td id=\"T_4f8d0_row10_col2\" class=\"data row10 col2\" >0.0111+-0.0011</td>\n",
       "      <td id=\"T_4f8d0_row10_col3\" class=\"data row10 col3\" >0.0918+-0.0014</td>\n",
       "      <td id=\"T_4f8d0_row10_col4\" class=\"data row10 col4\" >0.0506+-0.0022</td>\n",
       "      <td id=\"T_4f8d0_row10_col5\" class=\"data row10 col5\" >0.0170+-0.0020</td>\n",
       "    </tr>\n",
       "    <tr>\n",
       "      <th id=\"T_4f8d0_level0_row11\" class=\"row_heading level0 row11\" >GB-Fashion</th>\n",
       "      <td id=\"T_4f8d0_row11_col0\" class=\"data row11 col0\" >0.0092+-0.0014</td>\n",
       "      <td id=\"T_4f8d0_row11_col1\" class=\"data row11 col1\" >0.0093+-0.0006</td>\n",
       "      <td id=\"T_4f8d0_row11_col2\" class=\"data row11 col2\" >0.0384+-0.0019</td>\n",
       "      <td id=\"T_4f8d0_row11_col3\" class=\"data row11 col3\" >0.0249+-0.0023</td>\n",
       "      <td id=\"T_4f8d0_row11_col4\" class=\"data row11 col4\" >0.0667+-0.0027</td>\n",
       "      <td id=\"T_4f8d0_row11_col5\" class=\"data row11 col5\" >0.0159+-0.0022</td>\n",
       "    </tr>\n",
       "    <tr>\n",
       "      <th id=\"T_4f8d0_level0_row12\" class=\"row_heading level0 row12\" >CNN-CIFAR_RGB</th>\n",
       "      <td id=\"T_4f8d0_row12_col0\" class=\"data row12 col0\" >0.0110+-0.0026</td>\n",
       "      <td id=\"T_4f8d0_row12_col1\" class=\"data row12 col1\" >0.0102+-0.0020</td>\n",
       "      <td id=\"T_4f8d0_row12_col2\" class=\"data row12 col2\" >0.0155+-0.0028</td>\n",
       "      <td id=\"T_4f8d0_row12_col3\" class=\"data row12 col3\" >0.0921+-0.0021</td>\n",
       "      <td id=\"T_4f8d0_row12_col4\" class=\"data row12 col4\" >0.0559+-0.0017</td>\n",
       "      <td id=\"T_4f8d0_row12_col5\" class=\"data row12 col5\" >0.0192+-0.0022</td>\n",
       "    </tr>\n",
       "    <tr>\n",
       "      <th id=\"T_4f8d0_level0_row13\" class=\"row_heading level0 row13\" >RF-CIFAR_RGB</th>\n",
       "      <td id=\"T_4f8d0_row13_col0\" class=\"data row13 col0\" >0.0142+-0.0020</td>\n",
       "      <td id=\"T_4f8d0_row13_col1\" class=\"data row13 col1\" >0.0153+-0.0017</td>\n",
       "      <td id=\"T_4f8d0_row13_col2\" class=\"data row13 col2\" >0.0342+-0.0025</td>\n",
       "      <td id=\"T_4f8d0_row13_col3\" class=\"data row13 col3\" >0.1732+-0.0029</td>\n",
       "      <td id=\"T_4f8d0_row13_col4\" class=\"data row13 col4\" >0.1437+-0.0020</td>\n",
       "      <td id=\"T_4f8d0_row13_col5\" class=\"data row13 col5\" >0.0373+-0.0032</td>\n",
       "    </tr>\n",
       "    <tr>\n",
       "      <th id=\"T_4f8d0_level0_row14\" class=\"row_heading level0 row14\" >GB-CIFAR_RGB</th>\n",
       "      <td id=\"T_4f8d0_row14_col0\" class=\"data row14 col0\" >0.0155+-0.0023</td>\n",
       "      <td id=\"T_4f8d0_row14_col1\" class=\"data row14 col1\" >0.0153+-0.0016</td>\n",
       "      <td id=\"T_4f8d0_row14_col2\" class=\"data row14 col2\" >0.0769+-0.0020</td>\n",
       "      <td id=\"T_4f8d0_row14_col3\" class=\"data row14 col3\" >0.0385+-0.0025</td>\n",
       "      <td id=\"T_4f8d0_row14_col4\" class=\"data row14 col4\" >0.2036+-0.0028</td>\n",
       "      <td id=\"T_4f8d0_row14_col5\" class=\"data row14 col5\" >0.0391+-0.0020</td>\n",
       "    </tr>\n",
       "  </tbody>\n",
       "</table>\n"
      ],
      "text/plain": [
       "<pandas.io.formats.style.Styler at 0x2340f6bf700>"
      ]
     },
     "execution_count": 4,
     "metadata": {},
     "output_type": "execute_result"
    }
   ],
   "source": [
    "df = series[0]\n",
    "for s in series[1:]:\n",
    "    df = df.append(s)\n",
    "df.style.apply(color_max, axis=1)"
   ]
  },
  {
   "cell_type": "code",
   "execution_count": 6,
   "metadata": {},
   "outputs": [],
   "source": [
    "df.to_csv('Table_1.csv')"
   ]
  },
  {
   "cell_type": "markdown",
   "metadata": {},
   "source": [
    "#### An illustration of the inputs to the fitting function(blue and red dots), and the functions fitted by Sigmoid(black line) and isotonic regression (green line)."
   ]
  },
  {
   "cell_type": "code",
   "execution_count": 3,
   "metadata": {},
   "outputs": [],
   "source": [
    "model_info  = load_shuffle(dataset_name='MNIST',model_name='RF',shuffle_num=0)"
   ]
  },
  {
   "cell_type": "code",
   "execution_count": 4,
   "metadata": {},
   "outputs": [
    {
     "data": {
      "image/png": "[encoded data removed]",
      "text/plain": [
       "<Figure size 432x288 with 1 Axes>"
      ]
     },
     "metadata": {
      "needs_background": "light"
     },
     "output_type": "display_data"
    }
   ],
   "source": [
    "plot_fitting_function(model_info,n_bins=50)"
   ]
  },
  {
   "cell_type": "code",
   "execution_count": 7,
   "metadata": {},
   "outputs": [],
   "source": [
    "model_info  = load_shuffle(dataset_name='GTSRB_RGB',model_name='GB',shuffle_num=0)"
   ]
  },
  {
   "cell_type": "code",
   "execution_count": null,
   "metadata": {},
   "outputs": [],
   "source": [
    "plot_fitting_function(model_info,n_bins=50)"
   ]
  },
  {
   "cell_type": "code",
   "execution_count": null,
   "metadata": {},
   "outputs": [],
   "source": []
  }
 ],
 "metadata": {
  "kernelspec": {
   "display_name": "Python 3",
   "language": "python",
   "name": "python3"
  },
  "language_info": {
   "codemirror_mode": {
    "name": "ipython",
    "version": 3
   },
   "file_extension": ".py",
   "mimetype": "text/x-python",
   "name": "python",
   "nbconvert_exporter": "python",
   "pygments_lexer": "ipython3",
   "version": "3.8.8"
  }
 },
 "nbformat": 4,
 "nbformat_minor": 4
}
