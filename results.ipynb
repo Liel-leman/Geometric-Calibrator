{
 "cells": [
  {
   "cell_type": "code",
   "execution_count": 1,
   "metadata": {},
   "outputs": [],
   "source": [
    "import numpy as np\n",
    "import warnings\n",
    "from utils import *\n",
    "from calibrators import * \n",
    "import pickle\n",
    "warnings.filterwarnings(\"ignore\")"
   ]
  },
  {
   "cell_type": "markdown",
   "metadata": {
    "tags": []
   },
   "source": [
    "## Accuracy Series: \n",
    "### on each dataset-model we compute the average accuracy on 10 shuffles of it"
   ]
  },
  {
   "cell_type": "code",
   "execution_count": 7,
   "metadata": {},
   "outputs": [
    {
     "name": "stdout",
     "output_type": "stream",
     "text": [
      "Computing accuracy of CNN-MNIST..\n",
      "Computing accuracy of RF-MNIST..\n",
      "Computing accuracy of GB-MNIST..\n",
      "Computing accuracy of CNN-GTSRB_RGB..\n",
      "Computing accuracy of RF-GTSRB_RGB..\n",
      "Computing accuracy of GB-GTSRB_RGB..\n",
      "Computing accuracy of CNN-SignLanguage..\n",
      "Computing accuracy of RF-SignLanguage..\n",
      "Computing accuracy of GB-SignLanguage..\n",
      "Computing accuracy of CNN-Fashion..\n",
      "Computing accuracy of RF-Fashion..\n",
      "Computing accuracy of GB-Fashion..\n",
      "Computing accuracy of CNN-CIFAR_RGB..\n",
      "Computing accuracy of RF-CIFAR_RGB..\n",
      "Computing accuracy of GB-CIFAR_RGB..\n"
     ]
    },
    {
     "data": {
      "text/plain": [
       "CNN-MNIST           0.990157\n",
       "RF-MNIST            0.965964\n",
       "GB-MNIST            0.968300\n",
       "CNN-GTSRB_RGB       0.966850\n",
       "RF-GTSRB_RGB        0.975357\n",
       "GB-GTSRB_RGB        0.841127\n",
       "CNN-SignLanguage    0.998527\n",
       "RF-SignLanguage     0.994903\n",
       "GB-SignLanguage     0.978862\n",
       "CNN-Fashion         0.897221\n",
       "RF-Fashion          0.877793\n",
       "GB-Fashion          0.885064\n",
       "CNN-CIFAR_RGB       0.669542\n",
       "RF-CIFAR_RGB        0.467625\n",
       "GB-CIFAR_RGB        0.447675\n",
       "dtype: float64"
      ]
     },
     "execution_count": 7,
     "metadata": {},
     "output_type": "execute_result"
    }
   ],
   "source": [
    "#sklean models\n",
    "models = ['CNN','RF','GB']\n",
    "datasets = ['MNIST','GTSRB_RGB','SignLanguage','Fashion','CIFAR_RGB']\n",
    "acc_lst = []\n",
    "for dataset in datasets:\n",
    "    for model in models:\n",
    "        serie = calculate_avarege_acc(model,dataset)\n",
    "        acc_lst.append(serie)\n",
    "pd.concat(acc_lst, axis=0,names=['Accuracy'])"
   ]
  },
  {
   "cell_type": "code",
   "execution_count": null,
   "metadata": {},
   "outputs": [],
   "source": []
  },
  {
   "cell_type": "code",
   "execution_count": null,
   "metadata": {},
   "outputs": [],
   "source": []
  },
  {
   "cell_type": "markdown",
   "metadata": {},
   "source": [
    "## ECE tables:"
   ]
  },
  {
   "cell_type": "markdown",
   "metadata": {},
   "source": [
    "#### pytorch models:"
   ]
  },
  {
   "cell_type": "code",
   "execution_count": 9,
   "metadata": {},
   "outputs": [],
   "source": [
    "#load all ece's\n",
    "calib_methods = ['base', 'TSCalibrator', 'EnsembleTSCalibrator', 'HBCalibrator', 'SBCCalibrator', 'StabilityCalibrator','SepCalibrator', 'stab->SBC-Calibrator']\n",
    "datasets = ['MNIST','GTSRB_RGB','SignLanguage','Fashion','CIFAR_RGB']\n",
    "series = []\n",
    "d = {dataset:[] for dataset in datasets}\n",
    "for dataset in datasets:\n",
    "    ecesSpecificDataset = []\n",
    "    for shuffle in range(10):\n",
    "        PATH_ece = f'./{dataset}/{shuffle}/pytorch/ECEs.npy'\n",
    "        ecesSpecificDataset.append(np.load(PATH_ece,allow_pickle=True).item())\n",
    "    \n",
    "    ECEs = np.array([list(dic.values()) for dic in ecesSpecificDataset]) \n",
    "    conf_interval = np.apply_along_axis(mean_confidence_interval_str, 0, ECEs)\n",
    "    calib_methods = list(ecesSpecificDataset[0].keys())\n",
    "    prep_df_mnist = {calib:val for val, calib in zip(conf_interval, calib_methods)}\n",
    "    serie = pd.DataFrame.from_dict(prep_df_mnist, orient = 'index', columns=[f'{dataset}-CNN'])\n",
    "    series.append(serie)"
   ]
  },
  {
   "cell_type": "code",
   "execution_count": 10,
   "metadata": {},
   "outputs": [
    {
     "data": {
      "text/html": [
       "<style type=\"text/css\">\n",
       "#T_1414f_row0_col0, #T_1414f_row0_col1, #T_1414f_row1_col1, #T_1414f_row2_col0, #T_1414f_row2_col1, #T_1414f_row3_col1, #T_1414f_row4_col1 {\n",
       "  background-color: lightgreen;\n",
       "}\n",
       "</style>\n",
       "<table id=\"T_1414f\">\n",
       "  <thead>\n",
       "    <tr>\n",
       "      <th class=\"blank level0\" >&nbsp;</th>\n",
       "      <th id=\"T_1414f_level0_col0\" class=\"col_heading level0 col0\" >StabilityCalibrator</th>\n",
       "      <th id=\"T_1414f_level0_col1\" class=\"col_heading level0 col1\" >SeperationCalibrator</th>\n",
       "      <th id=\"T_1414f_level0_col2\" class=\"col_heading level0 col2\" >base</th>\n",
       "      <th id=\"T_1414f_level0_col3\" class=\"col_heading level0 col3\" >TSCalibrator</th>\n",
       "      <th id=\"T_1414f_level0_col4\" class=\"col_heading level0 col4\" >EnsembleTSCalibrator</th>\n",
       "      <th id=\"T_1414f_level0_col5\" class=\"col_heading level0 col5\" >SBCCalibrator</th>\n",
       "      <th id=\"T_1414f_level0_col6\" class=\"col_heading level0 col6\" >HBCalibrator</th>\n",
       "    </tr>\n",
       "  </thead>\n",
       "  <tbody>\n",
       "    <tr>\n",
       "      <th id=\"T_1414f_level0_row0\" class=\"row_heading level0 row0\" >MNIST-CNN</th>\n",
       "      <td id=\"T_1414f_row0_col0\" class=\"data row0 col0\" >0.0019+-0.0004</td>\n",
       "      <td id=\"T_1414f_row0_col1\" class=\"data row0 col1\" >0.0019+-0.0004</td>\n",
       "      <td id=\"T_1414f_row0_col2\" class=\"data row0 col2\" >0.0065+-0.0009</td>\n",
       "      <td id=\"T_1414f_row0_col3\" class=\"data row0 col3\" >0.0029+-0.0006</td>\n",
       "      <td id=\"T_1414f_row0_col4\" class=\"data row0 col4\" >0.0027+-0.0005</td>\n",
       "      <td id=\"T_1414f_row0_col5\" class=\"data row0 col5\" >0.0871+-0.0083</td>\n",
       "      <td id=\"T_1414f_row0_col6\" class=\"data row0 col6\" >0.0049+-0.0009</td>\n",
       "    </tr>\n",
       "    <tr>\n",
       "      <th id=\"T_1414f_level0_row1\" class=\"row_heading level0 row1\" >GTSRB_RGB-CNN</th>\n",
       "      <td id=\"T_1414f_row1_col0\" class=\"data row1 col0\" >0.0040+-0.0010</td>\n",
       "      <td id=\"T_1414f_row1_col1\" class=\"data row1 col1\" >0.0038+-0.0007</td>\n",
       "      <td id=\"T_1414f_row1_col2\" class=\"data row1 col2\" >0.0136+-0.0035</td>\n",
       "      <td id=\"T_1414f_row1_col3\" class=\"data row1 col3\" >0.0111+-0.0040</td>\n",
       "      <td id=\"T_1414f_row1_col4\" class=\"data row1 col4\" >0.0099+-0.0041</td>\n",
       "      <td id=\"T_1414f_row1_col5\" class=\"data row1 col5\" >0.2844+-0.0208</td>\n",
       "      <td id=\"T_1414f_row1_col6\" class=\"data row1 col6\" >0.0088+-0.0032</td>\n",
       "    </tr>\n",
       "    <tr>\n",
       "      <th id=\"T_1414f_level0_row2\" class=\"row_heading level0 row2\" >SignLanguage-CNN</th>\n",
       "      <td id=\"T_1414f_row2_col0\" class=\"data row2 col0\" >0.0001+-0.0001</td>\n",
       "      <td id=\"T_1414f_row2_col1\" class=\"data row2 col1\" >0.0001+-0.0001</td>\n",
       "      <td id=\"T_1414f_row2_col2\" class=\"data row2 col2\" >0.0026+-0.0008</td>\n",
       "      <td id=\"T_1414f_row2_col3\" class=\"data row2 col3\" >0.0025+-0.0009</td>\n",
       "      <td id=\"T_1414f_row2_col4\" class=\"data row2 col4\" >0.0024+-0.0009</td>\n",
       "      <td id=\"T_1414f_row2_col5\" class=\"data row2 col5\" >0.1783+-0.0090</td>\n",
       "      <td id=\"T_1414f_row2_col6\" class=\"data row2 col6\" >0.0022+-0.0012</td>\n",
       "    </tr>\n",
       "    <tr>\n",
       "      <th id=\"T_1414f_level0_row3\" class=\"row_heading level0 row3\" >Fashion-CNN</th>\n",
       "      <td id=\"T_1414f_row3_col0\" class=\"data row3 col0\" >0.0079+-0.0013</td>\n",
       "      <td id=\"T_1414f_row3_col1\" class=\"data row3 col1\" >0.0076+-0.0013</td>\n",
       "      <td id=\"T_1414f_row3_col2\" class=\"data row3 col2\" >0.0787+-0.0026</td>\n",
       "      <td id=\"T_1414f_row3_col3\" class=\"data row3 col3\" >0.0084+-0.0011</td>\n",
       "      <td id=\"T_1414f_row3_col4\" class=\"data row3 col4\" >0.0088+-0.0015</td>\n",
       "      <td id=\"T_1414f_row3_col5\" class=\"data row3 col5\" >0.0733+-0.0051</td>\n",
       "      <td id=\"T_1414f_row3_col6\" class=\"data row3 col6\" >0.0193+-0.0020</td>\n",
       "    </tr>\n",
       "    <tr>\n",
       "      <th id=\"T_1414f_level0_row4\" class=\"row_heading level0 row4\" >CIFAR_RGB-CNN</th>\n",
       "      <td id=\"T_1414f_row4_col0\" class=\"data row4 col0\" >0.0127+-0.0019</td>\n",
       "      <td id=\"T_1414f_row4_col1\" class=\"data row4 col1\" >0.0120+-0.0015</td>\n",
       "      <td id=\"T_1414f_row4_col2\" class=\"data row4 col2\" >0.2379+-0.0025</td>\n",
       "      <td id=\"T_1414f_row4_col3\" class=\"data row4 col3\" >0.0516+-0.0022</td>\n",
       "      <td id=\"T_1414f_row4_col4\" class=\"data row4 col4\" >0.0516+-0.0043</td>\n",
       "      <td id=\"T_1414f_row4_col5\" class=\"data row4 col5\" >0.0357+-0.0040</td>\n",
       "      <td id=\"T_1414f_row4_col6\" class=\"data row4 col6\" >0.0599+-0.0026</td>\n",
       "    </tr>\n",
       "  </tbody>\n",
       "</table>\n"
      ],
      "text/plain": [
       "<pandas.io.formats.style.Styler at 0x19f6a6ac850>"
      ]
     },
     "execution_count": 10,
     "metadata": {},
     "output_type": "execute_result"
    }
   ],
   "source": [
    "df = pd.concat(series, axis=1)\n",
    "df = df.T.drop(columns=['IsotonicCalibrator','PlattCalibrator'])\n",
    "df = df[['StabilityCalibrator','SeperationCalibrator','base','TSCalibrator','EnsembleTSCalibrator','SBCCalibrator','HBCalibrator']]\n",
    "df.style.apply(color_max, axis=1)"
   ]
  },
  {
   "cell_type": "markdown",
   "metadata": {},
   "source": [
    "#### sklearn models:"
   ]
  },
  {
   "cell_type": "code",
   "execution_count": 4,
   "metadata": {},
   "outputs": [
    {
     "name": "stdout",
     "output_type": "stream",
     "text": [
      "calculating MNIST-RF-0 ece....\n",
      "calculating MNIST-RF-1 ece....\n",
      "calculating MNIST-RF-2 ece....\n",
      "calculating MNIST-RF-3 ece....\n",
      "calculating MNIST-RF-4 ece....\n",
      "calculating MNIST-RF-5 ece....\n",
      "calculating MNIST-RF-6 ece....\n",
      "calculating MNIST-RF-7 ece....\n",
      "calculating MNIST-RF-8 ece....\n",
      "calculating MNIST-RF-9 ece....\n",
      "calculating MNIST-GB-0 ece....\n",
      "calculating MNIST-GB-1 ece....\n",
      "calculating MNIST-GB-2 ece....\n",
      "calculating MNIST-GB-3 ece....\n",
      "calculating MNIST-GB-4 ece....\n",
      "calculating MNIST-GB-5 ece....\n",
      "calculating MNIST-GB-6 ece....\n",
      "calculating MNIST-GB-7 ece....\n",
      "calculating MNIST-GB-8 ece....\n",
      "calculating MNIST-GB-9 ece....\n",
      "calculating GTSRB_RGB-RF-0 ece....\n",
      "Predictions for class 1 not recalibrated since fewer than 50 calibration points were predicted as class 1.\n",
      "Predictions for class 33 not recalibrated since fewer than 50 calibration points were predicted as class 33.\n",
      "calculating GTSRB_RGB-RF-1 ece....\n",
      "Predictions for class 1 not recalibrated since fewer than 50 calibration points were predicted as class 1.\n",
      "calculating GTSRB_RGB-RF-2 ece....\n",
      "Predictions for class 1 not recalibrated since fewer than 50 calibration points were predicted as class 1.\n",
      "Predictions for class 33 not recalibrated since fewer than 50 calibration points were predicted as class 33.\n",
      "calculating GTSRB_RGB-RF-3 ece....\n",
      "Predictions for class 1 not recalibrated since fewer than 50 calibration points were predicted as class 1.\n",
      "Predictions for class 20 not recalibrated since fewer than 50 calibration points were predicted as class 20.\n",
      "Predictions for class 28 not recalibrated since fewer than 50 calibration points were predicted as class 28.\n",
      "calculating GTSRB_RGB-RF-4 ece....\n",
      "Predictions for class 1 not recalibrated since fewer than 50 calibration points were predicted as class 1.\n",
      "calculating GTSRB_RGB-RF-5 ece....\n",
      "Predictions for class 1 not recalibrated since fewer than 50 calibration points were predicted as class 1.\n",
      "Predictions for class 20 not recalibrated since fewer than 50 calibration points were predicted as class 20.\n",
      "Predictions for class 42 not recalibrated since fewer than 50 calibration points were predicted as class 42.\n",
      "calculating GTSRB_RGB-RF-6 ece....\n",
      "Predictions for class 1 not recalibrated since fewer than 50 calibration points were predicted as class 1.\n",
      "Predictions for class 38 not recalibrated since fewer than 50 calibration points were predicted as class 38.\n",
      "calculating GTSRB_RGB-RF-7 ece....\n",
      "Predictions for class 1 not recalibrated since fewer than 50 calibration points were predicted as class 1.\n",
      "calculating GTSRB_RGB-RF-8 ece....\n",
      "Predictions for class 1 not recalibrated since fewer than 50 calibration points were predicted as class 1.\n",
      "Predictions for class 38 not recalibrated since fewer than 50 calibration points were predicted as class 38.\n",
      "calculating GTSRB_RGB-RF-9 ece....\n",
      "Predictions for class 1 not recalibrated since fewer than 50 calibration points were predicted as class 1.\n",
      "Predictions for class 20 not recalibrated since fewer than 50 calibration points were predicted as class 20.\n",
      "Predictions for class 42 not recalibrated since fewer than 50 calibration points were predicted as class 42.\n",
      "calculating GTSRB_RGB-GB-0 ece....\n",
      "Predictions for class 20 not recalibrated since fewer than 50 calibration points were predicted as class 20.\n",
      "calculating GTSRB_RGB-GB-1 ece....\n",
      "Predictions for class 1 not recalibrated since fewer than 50 calibration points were predicted as class 1.\n",
      "Predictions for class 38 not recalibrated since fewer than 50 calibration points were predicted as class 38.\n",
      "calculating GTSRB_RGB-GB-2 ece....\n",
      "calculating GTSRB_RGB-GB-3 ece....\n",
      "Predictions for class 38 not recalibrated since fewer than 50 calibration points were predicted as class 38.\n",
      "calculating GTSRB_RGB-GB-4 ece....\n",
      "calculating GTSRB_RGB-GB-5 ece....\n",
      "Predictions for class 1 not recalibrated since fewer than 50 calibration points were predicted as class 1.\n",
      "calculating GTSRB_RGB-GB-6 ece....\n",
      "Predictions for class 1 not recalibrated since fewer than 50 calibration points were predicted as class 1.\n",
      "calculating GTSRB_RGB-GB-7 ece....\n",
      "Predictions for class 1 not recalibrated since fewer than 50 calibration points were predicted as class 1.\n",
      "Predictions for class 28 not recalibrated since fewer than 50 calibration points were predicted as class 28.\n",
      "Predictions for class 38 not recalibrated since fewer than 50 calibration points were predicted as class 38.\n",
      "calculating GTSRB_RGB-GB-8 ece....\n",
      "Predictions for class 38 not recalibrated since fewer than 50 calibration points were predicted as class 38.\n",
      "calculating GTSRB_RGB-GB-9 ece....\n",
      "Predictions for class 20 not recalibrated since fewer than 50 calibration points were predicted as class 20.\n",
      "Predictions for class 28 not recalibrated since fewer than 50 calibration points were predicted as class 28.\n",
      "calculating SignLanguage-RF-0 ece....\n",
      "calculating SignLanguage-RF-1 ece....\n",
      "calculating SignLanguage-RF-2 ece....\n",
      "calculating SignLanguage-RF-3 ece....\n",
      "calculating SignLanguage-RF-4 ece....\n",
      "calculating SignLanguage-RF-5 ece....\n",
      "calculating SignLanguage-RF-6 ece....\n",
      "calculating SignLanguage-RF-7 ece....\n",
      "calculating SignLanguage-RF-8 ece....\n",
      "calculating SignLanguage-RF-9 ece....\n",
      "calculating SignLanguage-GB-0 ece....\n",
      "calculating SignLanguage-GB-1 ece....\n",
      "calculating SignLanguage-GB-2 ece....\n",
      "calculating SignLanguage-GB-3 ece....\n",
      "calculating SignLanguage-GB-4 ece....\n",
      "calculating SignLanguage-GB-5 ece....\n",
      "calculating SignLanguage-GB-6 ece....\n",
      "calculating SignLanguage-GB-7 ece....\n",
      "calculating SignLanguage-GB-8 ece....\n",
      "calculating SignLanguage-GB-9 ece....\n",
      "calculating Fashion-RF-0 ece....\n",
      "calculating Fashion-RF-1 ece....\n",
      "calculating Fashion-RF-2 ece....\n",
      "calculating Fashion-RF-3 ece....\n",
      "calculating Fashion-RF-4 ece....\n",
      "calculating Fashion-RF-5 ece....\n",
      "calculating Fashion-RF-6 ece....\n",
      "calculating Fashion-RF-7 ece....\n",
      "calculating Fashion-RF-8 ece....\n",
      "calculating Fashion-RF-9 ece....\n",
      "calculating Fashion-GB-0 ece....\n",
      "calculating Fashion-GB-1 ece....\n",
      "calculating Fashion-GB-2 ece....\n",
      "calculating Fashion-GB-3 ece....\n",
      "calculating Fashion-GB-4 ece....\n",
      "calculating Fashion-GB-5 ece....\n",
      "calculating Fashion-GB-6 ece....\n",
      "calculating Fashion-GB-7 ece....\n",
      "calculating Fashion-GB-8 ece....\n",
      "calculating Fashion-GB-9 ece....\n",
      "calculating CIFAR_RGB-RF-0 ece....\n",
      "calculating CIFAR_RGB-RF-1 ece....\n",
      "calculating CIFAR_RGB-RF-2 ece....\n",
      "calculating CIFAR_RGB-RF-3 ece....\n",
      "calculating CIFAR_RGB-RF-4 ece....\n",
      "calculating CIFAR_RGB-RF-5 ece....\n",
      "calculating CIFAR_RGB-RF-6 ece....\n",
      "calculating CIFAR_RGB-RF-7 ece....\n",
      "calculating CIFAR_RGB-RF-8 ece....\n",
      "calculating CIFAR_RGB-RF-9 ece....\n",
      "calculating CIFAR_RGB-GB-0 ece....\n",
      "calculating CIFAR_RGB-GB-1 ece....\n",
      "calculating CIFAR_RGB-GB-2 ece....\n",
      "calculating CIFAR_RGB-GB-3 ece....\n",
      "calculating CIFAR_RGB-GB-4 ece....\n",
      "calculating CIFAR_RGB-GB-5 ece....\n",
      "calculating CIFAR_RGB-GB-6 ece....\n",
      "calculating CIFAR_RGB-GB-7 ece....\n",
      "calculating CIFAR_RGB-GB-8 ece....\n",
      "calculating CIFAR_RGB-GB-9 ece....\n"
     ]
    }
   ],
   "source": [
    "Series = []\n",
    "datasets = ['MNIST','GTSRB_RGB','SignLanguage','Fashion','CIFAR_RGB']\n",
    "models = ['RF','GB']\n",
    "for dataset_name in datasets:\n",
    "    for model_name in models:\n",
    "        ECEs = []\n",
    "        for shuffle_num in range(10):\n",
    "            print(f'calculating {dataset_name}-{model_name}-{shuffle_num} ece....')\n",
    "            ece = {}\n",
    "\n",
    "            #load model\n",
    "            model_info = load_shuffle(dataset_name, model_name, shuffle_num, isCalibrate=False)\n",
    "            model_dir =  f'{dataset_name}/{shuffle_num}/model/model_{dataset_name}_{model_name}.sav'\n",
    "            model = pickle.load(open(model_dir, 'rb'))\n",
    "\n",
    "            # compute ece's\n",
    "            #Base\n",
    "            idCal = IdentityCalibrator()\n",
    "            idCal.fit(model_info.all_predictions_val ,model_info.y_pred_val==model_info.data.y_val)\n",
    "            ece['Base'] = idCal.ECE(model_info.all_predictions_test, model_info.y_pred_test, model_info.data.y_test)\n",
    "\n",
    "            #Isotonic_sklearn\n",
    "            ece['SKlearn_calibrator_isotonic'] = SKlearn_calibrator(model_info.data,'isotonic',model).fit().ECE()\n",
    "\n",
    "            # #iso_self_imp\n",
    "            # isoCal = IsotonicCalibrator()\n",
    "            # isoCal.fit(model_info.all_predictions_val ,model_info.y_pred_val==model_info.data.y_val)\n",
    "            # ece['IsotonicCalibrator'] = isoCal.ECE(model_info.all_predictions_test, model_info.y_pred_test, model_info.data.y_test)\n",
    "\n",
    "            #sklearn platt\n",
    "            ece['SKlearn_calibrator_platt'] = SKlearn_calibrator(model_info.data,'sigmoid',model).fit().ECE()\n",
    "\n",
    "#             #plat_self_imp\n",
    "#             platCal = PlattCalibrator()\n",
    "#             platCal.fit(model_info.all_predictions_val ,model_info.y_pred_val==model_info.data.y_val)\n",
    "#             ece['PlattCalibrator'] = platCal.ECE(model_info.all_predictions_test, model_info.y_pred_test, model_info.data.y_test)\n",
    " \n",
    "            #stab\n",
    "            stabCal = StabilityCalibrator()\n",
    "            stabCal.fit(model_info.stability_val ,model_info.y_pred_val==model_info.data.y_val)\n",
    "            ece['StabilityCalibrator'] = stabCal.ECE(model_info.stability_test, model_info.y_pred_test, model_info.data.y_test)\n",
    "\n",
    "            #Sep\n",
    "            sepCal = SeparationCalibrator()\n",
    "            sepCal.fit(model_info.sep_val ,model_info.y_pred_val==model_info.data.y_val)\n",
    "            ece['SeparationCalibrator'] = sepCal.ECE(model_info.sep_test, model_info.y_pred_test, model_info.data.y_test)\n",
    "\n",
    "            # HB_toplabel\n",
    "            HBcali = HBCalibrator()\n",
    "            HBcali.fit(model_info.all_predictions_val, model_info.data.y_val + 1)\n",
    "            prob_HB = HBcali.calibrate(model_info.all_predictions_test)\n",
    "            ece['HBCalibrator'] = ECE_calc(prob_HB, model_info.y_pred_test, model_info.data.y_test, bins=15)\n",
    "\n",
    "            #SBC\n",
    "            SBCcali = SBCCalibrator()\n",
    "            SBCcali.fit(model_info.all_predictions_val, model_info.data.y_val)\n",
    "            SBC_probs_test = SBCcali.calibrate(model_info.all_predictions_test)\n",
    "            y_SBC_test = np.argmax(SBC_probs_test,axis=1)\n",
    "            ece['SBCCalibrator'] = ECE_calc(SBC_probs_test, y_SBC_test, model_info.data.y_test, bins=15)\n",
    "\n",
    "            PATH = f'./{dataset_name}/{shuffle_num}/{model_name}/ece.npy'\n",
    "            # np.save(PATH,ece)\n",
    "            \n",
    "            \n",
    "            ECEs.append(ece)\n",
    "            \n",
    "            \n",
    "        values = np.array([list(dic.values()) for dic in ECEs]) \n",
    "        conf_interval = np.apply_along_axis(mean_confidence_interval_str, 0, values)\n",
    "        calib_methods = list(ece.keys())\n",
    "        prep_df_mnist = {calib:val for val, calib in zip(conf_interval, calib_methods)}\n",
    "        series = pd.DataFrame.from_dict(prep_df_mnist, orient = 'index', columns=[f'{dataset_name}-{model_name}'])\n",
    "        Series.append(series.T)"
   ]
  },
  {
   "cell_type": "code",
   "execution_count": 19,
   "metadata": {},
   "outputs": [
    {
     "data": {
      "text/html": [
       "<style type=\"text/css\">\n",
       "#T_504e8_row0_col0, #T_504e8_row1_col1, #T_504e8_row2_col1, #T_504e8_row3_col0, #T_504e8_row4_col0, #T_504e8_row5_col1, #T_504e8_row6_col0, #T_504e8_row7_col1, #T_504e8_row8_col0, #T_504e8_row9_col0 {\n",
       "  background-color: lightgreen;\n",
       "}\n",
       "</style>\n",
       "<table id=\"T_504e8\">\n",
       "  <thead>\n",
       "    <tr>\n",
       "      <th class=\"blank level0\" >&nbsp;</th>\n",
       "      <th id=\"T_504e8_level0_col0\" class=\"col_heading level0 col0\" >StabilityCalibrator</th>\n",
       "      <th id=\"T_504e8_level0_col1\" class=\"col_heading level0 col1\" >SeparationCalibrator</th>\n",
       "      <th id=\"T_504e8_level0_col2\" class=\"col_heading level0 col2\" >Base</th>\n",
       "      <th id=\"T_504e8_level0_col3\" class=\"col_heading level0 col3\" >SKlearn_calibrator_isotonic</th>\n",
       "      <th id=\"T_504e8_level0_col4\" class=\"col_heading level0 col4\" >SKlearn_calibrator_platt</th>\n",
       "      <th id=\"T_504e8_level0_col5\" class=\"col_heading level0 col5\" >HBCalibrator</th>\n",
       "      <th id=\"T_504e8_level0_col6\" class=\"col_heading level0 col6\" >SBCCalibrator</th>\n",
       "    </tr>\n",
       "  </thead>\n",
       "  <tbody>\n",
       "    <tr>\n",
       "      <th id=\"T_504e8_level0_row0\" class=\"row_heading level0 row0\" >MNIST-RF</th>\n",
       "      <td id=\"T_504e8_row0_col0\" class=\"data row0 col0\" >0.0039+-0.0006</td>\n",
       "      <td id=\"T_504e8_row0_col1\" class=\"data row0 col1\" >0.0040+-0.0006</td>\n",
       "      <td id=\"T_504e8_row0_col2\" class=\"data row0 col2\" >0.1629+-0.0016</td>\n",
       "      <td id=\"T_504e8_row0_col3\" class=\"data row0 col3\" >0.0090+-0.0012</td>\n",
       "      <td id=\"T_504e8_row0_col4\" class=\"data row0 col4\" >0.0148+-0.0007</td>\n",
       "      <td id=\"T_504e8_row0_col5\" class=\"data row0 col5\" >0.0052+-0.0004</td>\n",
       "      <td id=\"T_504e8_row0_col6\" class=\"data row0 col6\" >0.0366+-0.0038</td>\n",
       "    </tr>\n",
       "    <tr>\n",
       "      <th id=\"T_504e8_level0_row1\" class=\"row_heading level0 row1\" >MNIST-GB</th>\n",
       "      <td id=\"T_504e8_row1_col0\" class=\"data row1 col0\" >0.0036+-0.0007</td>\n",
       "      <td id=\"T_504e8_row1_col1\" class=\"data row1 col1\" >0.0035+-0.0009</td>\n",
       "      <td id=\"T_504e8_row1_col2\" class=\"data row1 col2\" >0.0170+-0.0010</td>\n",
       "      <td id=\"T_504e8_row1_col3\" class=\"data row1 col3\" >0.0174+-0.0015</td>\n",
       "      <td id=\"T_504e8_row1_col4\" class=\"data row1 col4\" >0.0194+-0.0013</td>\n",
       "      <td id=\"T_504e8_row1_col5\" class=\"data row1 col5\" >0.0048+-0.0008</td>\n",
       "      <td id=\"T_504e8_row1_col6\" class=\"data row1 col6\" >0.0823+-0.0024</td>\n",
       "    </tr>\n",
       "    <tr>\n",
       "      <th id=\"T_504e8_level0_row2\" class=\"row_heading level0 row2\" >GTSRB_RGB-RF</th>\n",
       "      <td id=\"T_504e8_row2_col0\" class=\"data row2 col0\" >0.0037+-0.0004</td>\n",
       "      <td id=\"T_504e8_row2_col1\" class=\"data row2 col1\" >0.0036+-0.0007</td>\n",
       "      <td id=\"T_504e8_row2_col2\" class=\"data row2 col2\" >0.3434+-0.0019</td>\n",
       "      <td id=\"T_504e8_row2_col3\" class=\"data row2 col3\" >0.0257+-0.0013</td>\n",
       "      <td id=\"T_504e8_row2_col4\" class=\"data row2 col4\" >0.0427+-0.0014</td>\n",
       "      <td id=\"T_504e8_row2_col5\" class=\"data row2 col5\" >0.0080+-0.0015</td>\n",
       "      <td id=\"T_504e8_row2_col6\" class=\"data row2 col6\" >0.1371+-0.0038</td>\n",
       "    </tr>\n",
       "    <tr>\n",
       "      <th id=\"T_504e8_level0_row3\" class=\"row_heading level0 row3\" >GTSRB_RGB-GB</th>\n",
       "      <td id=\"T_504e8_row3_col0\" class=\"data row3 col0\" >0.0065+-0.0011</td>\n",
       "      <td id=\"T_504e8_row3_col1\" class=\"data row3 col1\" >0.0067+-0.0013</td>\n",
       "      <td id=\"T_504e8_row3_col2\" class=\"data row3 col2\" >0.0592+-0.0021</td>\n",
       "      <td id=\"T_504e8_row3_col3\" class=\"data row3 col3\" >0.0996+-0.0030</td>\n",
       "      <td id=\"T_504e8_row3_col4\" class=\"data row3 col4\" >0.2025+-0.0217</td>\n",
       "      <td id=\"T_504e8_row3_col5\" class=\"data row3 col5\" >0.0134+-0.0024</td>\n",
       "      <td id=\"T_504e8_row3_col6\" class=\"data row3 col6\" >0.3108+-0.0043</td>\n",
       "    </tr>\n",
       "    <tr>\n",
       "      <th id=\"T_504e8_level0_row4\" class=\"row_heading level0 row4\" >SignLanguage-RF</th>\n",
       "      <td id=\"T_504e8_row4_col0\" class=\"data row4 col0\" >0.0008+-0.0002</td>\n",
       "      <td id=\"T_504e8_row4_col1\" class=\"data row4 col1\" >0.0009+-0.0003</td>\n",
       "      <td id=\"T_504e8_row4_col2\" class=\"data row4 col2\" >0.2536+-0.0015</td>\n",
       "      <td id=\"T_504e8_row4_col3\" class=\"data row4 col3\" >0.0039+-0.0006</td>\n",
       "      <td id=\"T_504e8_row4_col4\" class=\"data row4 col4\" >0.0174+-0.0008</td>\n",
       "      <td id=\"T_504e8_row4_col5\" class=\"data row4 col5\" >0.0019+-0.0006</td>\n",
       "      <td id=\"T_504e8_row4_col6\" class=\"data row4 col6\" >0.1688+-0.0066</td>\n",
       "    </tr>\n",
       "    <tr>\n",
       "      <th id=\"T_504e8_level0_row5\" class=\"row_heading level0 row5\" >SignLanguage-GB</th>\n",
       "      <td id=\"T_504e8_row5_col0\" class=\"data row5 col0\" >0.0008+-0.0003</td>\n",
       "      <td id=\"T_504e8_row5_col1\" class=\"data row5 col1\" >0.0008+-0.0002</td>\n",
       "      <td id=\"T_504e8_row5_col2\" class=\"data row5 col2\" >0.0059+-0.0010</td>\n",
       "      <td id=\"T_504e8_row5_col3\" class=\"data row5 col3\" >0.0405+-0.0018</td>\n",
       "      <td id=\"T_504e8_row5_col4\" class=\"data row5 col4\" >0.0596+-0.0017</td>\n",
       "      <td id=\"T_504e8_row5_col5\" class=\"data row5 col5\" >0.0047+-0.0004</td>\n",
       "      <td id=\"T_504e8_row5_col6\" class=\"data row5 col6\" >0.3097+-0.0017</td>\n",
       "    </tr>\n",
       "    <tr>\n",
       "      <th id=\"T_504e8_level0_row6\" class=\"row_heading level0 row6\" >Fashion-RF</th>\n",
       "      <td id=\"T_504e8_row6_col0\" class=\"data row6 col0\" >0.0074+-0.0016</td>\n",
       "      <td id=\"T_504e8_row6_col1\" class=\"data row6 col1\" >0.0079+-0.0010</td>\n",
       "      <td id=\"T_504e8_row6_col2\" class=\"data row6 col2\" >0.0918+-0.0014</td>\n",
       "      <td id=\"T_504e8_row6_col3\" class=\"data row6 col3\" >0.0091+-0.0011</td>\n",
       "      <td id=\"T_504e8_row6_col4\" class=\"data row6 col4\" >0.0374+-0.0012</td>\n",
       "      <td id=\"T_504e8_row6_col5\" class=\"data row6 col5\" >0.0105+-0.0015</td>\n",
       "      <td id=\"T_504e8_row6_col6\" class=\"data row6 col6\" >0.0345+-0.0031</td>\n",
       "    </tr>\n",
       "    <tr>\n",
       "      <th id=\"T_504e8_level0_row7\" class=\"row_heading level0 row7\" >Fashion-GB</th>\n",
       "      <td id=\"T_504e8_row7_col0\" class=\"data row7 col0\" >0.0073+-0.0013</td>\n",
       "      <td id=\"T_504e8_row7_col1\" class=\"data row7 col1\" >0.0073+-0.0008</td>\n",
       "      <td id=\"T_504e8_row7_col2\" class=\"data row7 col2\" >0.0245+-0.0023</td>\n",
       "      <td id=\"T_504e8_row7_col3\" class=\"data row7 col3\" >0.0380+-0.0020</td>\n",
       "      <td id=\"T_504e8_row7_col4\" class=\"data row7 col4\" >0.0571+-0.0391</td>\n",
       "      <td id=\"T_504e8_row7_col5\" class=\"data row7 col5\" >0.0105+-0.0014</td>\n",
       "      <td id=\"T_504e8_row7_col6\" class=\"data row7 col6\" >0.0390+-0.0046</td>\n",
       "    </tr>\n",
       "    <tr>\n",
       "      <th id=\"T_504e8_level0_row8\" class=\"row_heading level0 row8\" >CIFAR_RGB-RF</th>\n",
       "      <td id=\"T_504e8_row8_col0\" class=\"data row8 col0\" >0.0115+-0.0024</td>\n",
       "      <td id=\"T_504e8_row8_col1\" class=\"data row8 col1\" >0.0119+-0.0023</td>\n",
       "      <td id=\"T_504e8_row8_col2\" class=\"data row8 col2\" >0.1729+-0.0029</td>\n",
       "      <td id=\"T_504e8_row8_col3\" class=\"data row8 col3\" >0.0325+-0.0028</td>\n",
       "      <td id=\"T_504e8_row8_col4\" class=\"data row8 col4\" >0.0459+-0.0024</td>\n",
       "      <td id=\"T_504e8_row8_col5\" class=\"data row8 col5\" >0.0254+-0.0036</td>\n",
       "      <td id=\"T_504e8_row8_col6\" class=\"data row8 col6\" >0.0299+-0.0026</td>\n",
       "    </tr>\n",
       "    <tr>\n",
       "      <th id=\"T_504e8_level0_row9\" class=\"row_heading level0 row9\" >CIFAR_RGB-GB</th>\n",
       "      <td id=\"T_504e8_row9_col0\" class=\"data row9 col0\" >0.0125+-0.0021</td>\n",
       "      <td id=\"T_504e8_row9_col1\" class=\"data row9 col1\" >0.0131+-0.0016</td>\n",
       "      <td id=\"T_504e8_row9_col2\" class=\"data row9 col2\" >0.0366+-0.0027</td>\n",
       "      <td id=\"T_504e8_row9_col3\" class=\"data row9 col3\" >0.0757+-0.0025</td>\n",
       "      <td id=\"T_504e8_row9_col4\" class=\"data row9 col4\" >0.0839+-0.0018</td>\n",
       "      <td id=\"T_504e8_row9_col5\" class=\"data row9 col5\" >0.0282+-0.0022</td>\n",
       "      <td id=\"T_504e8_row9_col6\" class=\"data row9 col6\" >0.0270+-0.0034</td>\n",
       "    </tr>\n",
       "  </tbody>\n",
       "</table>\n"
      ],
      "text/plain": [
       "<pandas.io.formats.style.Styler at 0x22867d61640>"
      ]
     },
     "execution_count": 19,
     "metadata": {},
     "output_type": "execute_result"
    }
   ],
   "source": [
    "df_comparison = pd.concat(Series)[['StabilityCalibrator', 'SeparationCalibrator','Base', 'SKlearn_calibrator_isotonic', 'SKlearn_calibrator_platt', 'HBCalibrator', 'SBCCalibrator']]\n",
    "df_comparison.style.apply(color_max, axis=1)"
   ]
  },
  {
   "cell_type": "code",
   "execution_count": null,
   "metadata": {},
   "outputs": [],
   "source": []
  },
  {
   "cell_type": "code",
   "execution_count": null,
   "metadata": {},
   "outputs": [],
   "source": []
  },
  {
   "cell_type": "markdown",
   "metadata": {
    "tags": []
   },
   "source": [
    "## An illustration of the inputs to the fitting function(blue and red dots), and the functions fitted by Sigmoid(black line) and isotonic regression (green line)"
   ]
  },
  {
   "cell_type": "code",
   "execution_count": 3,
   "metadata": {},
   "outputs": [],
   "source": [
    "model_info = load_shuffle(dataset_name='GTSRB_RGB',model_name='GB',shuffle_num=0)"
   ]
  },
  {
   "cell_type": "code",
   "execution_count": 4,
   "metadata": {},
   "outputs": [
    {
     "data": {
      "image/png": "[encoded data removed]",
      "text/plain": [
       "<Figure size 432x288 with 1 Axes>"
      ]
     },
     "metadata": {
      "needs_background": "light"
     },
     "output_type": "display_data"
    }
   ],
   "source": [
    "plot_fitting_function(model_info,n_bins=50)"
   ]
  },
  {
   "cell_type": "code",
   "execution_count": 5,
   "metadata": {},
   "outputs": [],
   "source": [
    "model_info = load_shuffle(dataset_name='MNIST',model_name='RF',shuffle_num=0)"
   ]
  },
  {
   "cell_type": "code",
   "execution_count": 6,
   "metadata": {},
   "outputs": [
    {
     "data": {
      "image/png": "[encoded data removed]",
      "text/plain": [
       "<Figure size 432x288 with 1 Axes>"
      ]
     },
     "metadata": {
      "needs_background": "light"
     },
     "output_type": "display_data"
    }
   ],
   "source": [
    "plot_fitting_function(model_info,n_bins=50)"
   ]
  },
  {
   "cell_type": "code",
   "execution_count": null,
   "metadata": {},
   "outputs": [],
   "source": []
  }
 ],
 "metadata": {
  "kernelspec": {
   "display_name": "Python 3",
   "language": "python",
   "name": "python3"
  },
  "language_info": {
   "codemirror_mode": {
    "name": "ipython",
    "version": 3
   },
   "file_extension": ".py",
   "mimetype": "text/x-python",
   "name": "python",
   "nbconvert_exporter": "python",
   "pygments_lexer": "ipython3",
   "version": "3.8.8"
  }
 },
 "nbformat": 4,
 "nbformat_minor": 4
}
