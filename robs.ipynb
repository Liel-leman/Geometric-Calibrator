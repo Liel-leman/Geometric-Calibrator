{
 "cells": [
  {
   "cell_type": "code",
   "execution_count": 14,
   "id": "98ce3ad8-33ba-4771-993c-d19205165c62",
   "metadata": {},
   "outputs": [],
   "source": [
    "import numpy as np\n",
    "import warnings\n",
    "from utils import *\n",
    "from calibrators import * \n",
    "import pickle\n",
    "warnings.filterwarnings(\"ignore\")\n",
    "import torch\n",
    "import sys\n",
    "sys.path.append('../')\n",
    "import time\n",
    "import copy\n",
    "from SLURM.sklearn_config import *\n",
    "from ModelInfo import *\n",
    "from art.metrics import RobustnessVerificationTreeModelsCliqueMethod\n",
    "from art.estimators.classification import  SklearnClassifier\n",
    "from sklearn.preprocessing import OneHotEncoder\n",
    "from tqdm import tqdm"
   ]
  },
  {
   "cell_type": "code",
   "execution_count": 5,
   "id": "12a34c72-d04e-45df-95c5-7f67b332037b",
   "metadata": {},
   "outputs": [],
   "source": [
    "dataset_name, model_name, shuffle='MNIST','RF',0\n",
    "\n",
    "model_info= load_model(dataset_name, model_name, shuffle)\n",
    "\n"
   ]
  },
  {
   "cell_type": "code",
   "execution_count": 9,
   "id": "3f081c60-9534-4f63-8346-3c902f6d3617",
   "metadata": {},
   "outputs": [
    {
     "data": {
      "text/plain": [
       "(MNIST-RF-0)"
      ]
     },
     "execution_count": 9,
     "metadata": {},
     "output_type": "execute_result"
    }
   ],
   "source": [
    "model_info"
   ]
  },
  {
   "cell_type": "code",
   "execution_count": 17,
   "id": "02706f54-be01-4b2a-bf35-2858a6fb7b53",
   "metadata": {},
   "outputs": [
    {
     "name": "stdout",
     "output_type": "stream",
     "text": [
      "start rob\n"
     ]
    },
    {
     "name": "stderr",
     "output_type": "stream",
     "text": [
      "  0%|                                                    | 0/10 [00:00<?, ?it/s]"
     ]
    },
    {
     "data": {
      "application/vnd.jupyter.widget-view+json": {
       "model_id": "aa29c3a8e87f49eb893aa1f83f306a62",
       "version_major": 2,
       "version_minor": 0
      },
      "text/plain": [
       "Decision tree verification:   0%|          | 0/1 [00:00<?, ?it/s]"
      ]
     },
     "metadata": {},
     "output_type": "display_data"
    },
    {
     "name": "stderr",
     "output_type": "stream",
     "text": [
      "  0%|                                                 | 0/10 [13:15:32<?, ?it/s]\n"
     ]
    },
    {
     "ename": "KeyboardInterrupt",
     "evalue": "",
     "output_type": "error",
     "traceback": [
      "\u001b[0;31m---------------------------------------------------------------------------\u001b[0m",
      "\u001b[0;31mKeyboardInterrupt\u001b[0m                         Traceback (most recent call last)",
      "\u001b[0;32m/var/folders/bq/yr2g0hqx0vqcpvr3lgf609sh0000gn/T/ipykernel_9951/613382770.py\u001b[0m in \u001b[0;36m<module>\u001b[0;34m\u001b[0m\n\u001b[1;32m     14\u001b[0m \u001b[0mprint\u001b[0m\u001b[0;34m(\u001b[0m\u001b[0;34m\"start rob\"\u001b[0m\u001b[0;34m)\u001b[0m\u001b[0;34m\u001b[0m\u001b[0;34m\u001b[0m\u001b[0m\n\u001b[1;32m     15\u001b[0m \u001b[0;34m\u001b[0m\u001b[0m\n\u001b[0;32m---> 16\u001b[0;31m \u001b[0mrob_val\u001b[0m\u001b[0;34m=\u001b[0m\u001b[0mcalc_rob\u001b[0m\u001b[0;34m(\u001b[0m\u001b[0mnorm_X_val\u001b[0m\u001b[0;34m[\u001b[0m\u001b[0;34m:\u001b[0m\u001b[0;36m10\u001b[0m\u001b[0;34m]\u001b[0m\u001b[0;34m,\u001b[0m\u001b[0menc_y_val\u001b[0m\u001b[0;34m[\u001b[0m\u001b[0;34m:\u001b[0m\u001b[0;36m10\u001b[0m\u001b[0;34m]\u001b[0m\u001b[0;34m,\u001b[0m\u001b[0mclassifier\u001b[0m\u001b[0;34m)\u001b[0m\u001b[0;34m\u001b[0m\u001b[0;34m\u001b[0m\u001b[0m\n\u001b[0m\u001b[1;32m     17\u001b[0m \u001b[0mrob_test\u001b[0m\u001b[0;34m=\u001b[0m\u001b[0mcalc_rob\u001b[0m\u001b[0;34m(\u001b[0m\u001b[0mnorm_X_test\u001b[0m\u001b[0;34m[\u001b[0m\u001b[0;34m:\u001b[0m\u001b[0;36m10\u001b[0m\u001b[0;34m]\u001b[0m\u001b[0;34m,\u001b[0m\u001b[0menc_y_test\u001b[0m\u001b[0;34m[\u001b[0m\u001b[0;34m:\u001b[0m\u001b[0;36m10\u001b[0m\u001b[0;34m]\u001b[0m\u001b[0;34m,\u001b[0m\u001b[0mclassifier\u001b[0m\u001b[0;34m)\u001b[0m\u001b[0;34m\u001b[0m\u001b[0;34m\u001b[0m\u001b[0m\n\u001b[1;32m     18\u001b[0m \u001b[0;34m\u001b[0m\u001b[0m\n",
      "\u001b[0;32m/var/folders/bq/yr2g0hqx0vqcpvr3lgf609sh0000gn/T/ipykernel_9951/613201503.py\u001b[0m in \u001b[0;36mcalc_rob\u001b[0;34m(X, Y, classifier, eps_init)\u001b[0m\n\u001b[1;32m      3\u001b[0m     \u001b[0mrob\u001b[0m\u001b[0;34m=\u001b[0m\u001b[0;34m[\u001b[0m\u001b[0;34m]\u001b[0m\u001b[0;34m\u001b[0m\u001b[0;34m\u001b[0m\u001b[0m\n\u001b[1;32m      4\u001b[0m     \u001b[0;32mfor\u001b[0m \u001b[0mi\u001b[0m \u001b[0;32min\u001b[0m \u001b[0mtqdm\u001b[0m\u001b[0;34m(\u001b[0m\u001b[0mrange\u001b[0m\u001b[0;34m(\u001b[0m\u001b[0mlen\u001b[0m\u001b[0;34m(\u001b[0m\u001b[0mX\u001b[0m\u001b[0;34m)\u001b[0m\u001b[0;34m)\u001b[0m\u001b[0;34m)\u001b[0m\u001b[0;34m:\u001b[0m\u001b[0;34m\u001b[0m\u001b[0;34m\u001b[0m\u001b[0m\n\u001b[0;32m----> 5\u001b[0;31m         average_bound, verified_error = rt.verify(x=X[i:i+1], y=Y[i:i+1], eps_init=0.01, nb_search_steps=100, max_clique=10, \n\u001b[0m\u001b[1;32m      6\u001b[0m                                           max_level=10)\n\u001b[1;32m      7\u001b[0m         \u001b[0mrob\u001b[0m\u001b[0;34m.\u001b[0m\u001b[0mappend\u001b[0m\u001b[0;34m(\u001b[0m\u001b[0maverage_bound\u001b[0m\u001b[0;34m)\u001b[0m\u001b[0;34m\u001b[0m\u001b[0;34m\u001b[0m\u001b[0m\n",
      "\u001b[0;32m~/opt/miniconda3/envs/ML/lib/python3.9/site-packages/art/metrics/verification_decisions_trees.py\u001b[0m in \u001b[0;36mverify\u001b[0;34m(self, x, y, eps_init, norm, nb_search_steps, max_clique, max_level)\u001b[0m\n\u001b[1;32m    235\u001b[0m                     \u001b[0;32mfor\u001b[0m \u001b[0mi_class\u001b[0m \u001b[0;32min\u001b[0m \u001b[0mrange\u001b[0m\u001b[0;34m(\u001b[0m\u001b[0mself\u001b[0m\u001b[0;34m.\u001b[0m\u001b[0m_classifier\u001b[0m\u001b[0;34m.\u001b[0m\u001b[0mnb_classes\u001b[0m\u001b[0;34m)\u001b[0m\u001b[0;34m:\u001b[0m\u001b[0;34m\u001b[0m\u001b[0;34m\u001b[0m\u001b[0m\n\u001b[1;32m    236\u001b[0m                         \u001b[0;32mif\u001b[0m \u001b[0mi_class\u001b[0m \u001b[0;34m!=\u001b[0m \u001b[0mself\u001b[0m\u001b[0;34m.\u001b[0m\u001b[0my\u001b[0m\u001b[0;34m[\u001b[0m\u001b[0mi_sample\u001b[0m\u001b[0;34m]\u001b[0m\u001b[0;34m:\u001b[0m\u001b[0;34m\u001b[0m\u001b[0;34m\u001b[0m\u001b[0m\n\u001b[0;32m--> 237\u001b[0;31m                             \u001b[0mbest_score\u001b[0m \u001b[0;34m=\u001b[0m \u001b[0mself\u001b[0m\u001b[0;34m.\u001b[0m\u001b[0m_get_best_score\u001b[0m\u001b[0;34m(\u001b[0m\u001b[0mi_sample\u001b[0m\u001b[0;34m,\u001b[0m \u001b[0meps\u001b[0m\u001b[0;34m,\u001b[0m \u001b[0mnorm\u001b[0m\u001b[0;34m,\u001b[0m \u001b[0mtarget_label\u001b[0m\u001b[0;34m=\u001b[0m\u001b[0mi_class\u001b[0m\u001b[0;34m)\u001b[0m\u001b[0;34m\u001b[0m\u001b[0;34m\u001b[0m\u001b[0m\n\u001b[0m\u001b[1;32m    238\u001b[0m                             \u001b[0mis_robust\u001b[0m \u001b[0;34m=\u001b[0m \u001b[0mis_robust\u001b[0m \u001b[0;32mand\u001b[0m \u001b[0;34m(\u001b[0m\u001b[0mbest_score\u001b[0m \u001b[0;34m>\u001b[0m \u001b[0;36m0.0\u001b[0m\u001b[0;34m)\u001b[0m\u001b[0;34m\u001b[0m\u001b[0;34m\u001b[0m\u001b[0m\n\u001b[1;32m    239\u001b[0m                             \u001b[0;32mif\u001b[0m \u001b[0;32mnot\u001b[0m \u001b[0mis_robust\u001b[0m\u001b[0;34m:\u001b[0m\u001b[0;34m\u001b[0m\u001b[0;34m\u001b[0m\u001b[0m\n",
      "\u001b[0;32m~/opt/miniconda3/envs/ML/lib/python3.9/site-packages/art/metrics/verification_decisions_trees.py\u001b[0m in \u001b[0;36m_get_best_score\u001b[0;34m(self, i_sample, eps, norm, target_label)\u001b[0m\n\u001b[1;32m    381\u001b[0m         \u001b[0;34m:\u001b[0m\u001b[0;32mreturn\u001b[0m\u001b[0;34m:\u001b[0m \u001b[0mThe\u001b[0m \u001b[0mbest\u001b[0m \u001b[0mscores\u001b[0m\u001b[0;34m.\u001b[0m\u001b[0;34m\u001b[0m\u001b[0;34m\u001b[0m\u001b[0m\n\u001b[1;32m    382\u001b[0m         \"\"\"\n\u001b[0;32m--> 383\u001b[0;31m         \u001b[0mnodes\u001b[0m \u001b[0;34m=\u001b[0m \u001b[0mself\u001b[0m\u001b[0;34m.\u001b[0m\u001b[0m_get_accessible_leaves\u001b[0m\u001b[0;34m(\u001b[0m\u001b[0mi_sample\u001b[0m\u001b[0;34m,\u001b[0m \u001b[0meps\u001b[0m\u001b[0;34m,\u001b[0m \u001b[0mnorm\u001b[0m\u001b[0;34m,\u001b[0m \u001b[0mtarget_label\u001b[0m\u001b[0;34m)\u001b[0m\u001b[0;34m\u001b[0m\u001b[0;34m\u001b[0m\u001b[0m\n\u001b[0m\u001b[1;32m    384\u001b[0m         \u001b[0mbest_score\u001b[0m\u001b[0;34m:\u001b[0m \u001b[0mfloat\u001b[0m \u001b[0;34m=\u001b[0m \u001b[0;36m0.0\u001b[0m\u001b[0;34m\u001b[0m\u001b[0;34m\u001b[0m\u001b[0m\n\u001b[1;32m    385\u001b[0m \u001b[0;34m\u001b[0m\u001b[0m\n",
      "\u001b[0;32m~/opt/miniconda3/envs/ML/lib/python3.9/site-packages/art/metrics/verification_decisions_trees.py\u001b[0m in \u001b[0;36m_get_accessible_leaves\u001b[0;34m(self, i_sample, eps, norm, target_label)\u001b[0m\n\u001b[1;32m    457\u001b[0m \u001b[0;34m\u001b[0m\u001b[0m\n\u001b[1;32m    458\u001b[0m                 \u001b[0;32mfor\u001b[0m \u001b[0mleaf_node\u001b[0m \u001b[0;32min\u001b[0m \u001b[0mtree\u001b[0m\u001b[0;34m.\u001b[0m\u001b[0mleaf_nodes\u001b[0m\u001b[0;34m:\u001b[0m\u001b[0;34m\u001b[0m\u001b[0;34m\u001b[0m\u001b[0m\n\u001b[0;32m--> 459\u001b[0;31m                     \u001b[0mdistance\u001b[0m \u001b[0;34m=\u001b[0m \u001b[0mself\u001b[0m\u001b[0;34m.\u001b[0m\u001b[0m_get_distance\u001b[0m\u001b[0;34m(\u001b[0m\u001b[0mleaf_node\u001b[0m\u001b[0;34m.\u001b[0m\u001b[0mbox\u001b[0m\u001b[0;34m,\u001b[0m \u001b[0mi_sample\u001b[0m\u001b[0;34m,\u001b[0m \u001b[0mnorm\u001b[0m\u001b[0;34m)\u001b[0m\u001b[0;34m\u001b[0m\u001b[0;34m\u001b[0m\u001b[0m\n\u001b[0m\u001b[1;32m    460\u001b[0m                     \u001b[0;32mif\u001b[0m \u001b[0mleaf_node\u001b[0m\u001b[0;34m.\u001b[0m\u001b[0mbox\u001b[0m \u001b[0;32mand\u001b[0m \u001b[0mdistance\u001b[0m \u001b[0;34m<=\u001b[0m \u001b[0meps\u001b[0m\u001b[0;34m:\u001b[0m\u001b[0;34m\u001b[0m\u001b[0;34m\u001b[0m\u001b[0m\n\u001b[1;32m    461\u001b[0m                         \u001b[0mleaves\u001b[0m\u001b[0;34m.\u001b[0m\u001b[0mappend\u001b[0m\u001b[0;34m(\u001b[0m\u001b[0mleaf_node\u001b[0m\u001b[0;34m)\u001b[0m\u001b[0;34m\u001b[0m\u001b[0;34m\u001b[0m\u001b[0m\n",
      "\u001b[0;32m~/opt/miniconda3/envs/ML/lib/python3.9/site-packages/art/metrics/verification_decisions_trees.py\u001b[0m in \u001b[0;36m_get_distance\u001b[0;34m(self, box, i_sample, norm)\u001b[0m\n\u001b[1;32m    424\u001b[0m \u001b[0;34m\u001b[0m\u001b[0m\n\u001b[1;32m    425\u001b[0m             \u001b[0;32mif\u001b[0m \u001b[0mnorm\u001b[0m \u001b[0;34m==\u001b[0m \u001b[0mnp\u001b[0m\u001b[0;34m.\u001b[0m\u001b[0minf\u001b[0m\u001b[0;34m:\u001b[0m\u001b[0;34m\u001b[0m\u001b[0;34m\u001b[0m\u001b[0m\n\u001b[0;32m--> 426\u001b[0;31m                 \u001b[0mresulting_distance\u001b[0m \u001b[0;34m=\u001b[0m \u001b[0mmax\u001b[0m\u001b[0;34m(\u001b[0m\u001b[0mresulting_distance\u001b[0m\u001b[0;34m,\u001b[0m \u001b[0mdistance\u001b[0m\u001b[0;34m)\u001b[0m\u001b[0;34m\u001b[0m\u001b[0;34m\u001b[0m\u001b[0m\n\u001b[0m\u001b[1;32m    427\u001b[0m             \u001b[0;32melse\u001b[0m\u001b[0;34m:\u001b[0m\u001b[0;34m\u001b[0m\u001b[0;34m\u001b[0m\u001b[0m\n\u001b[1;32m    428\u001b[0m                 \u001b[0mresulting_distance\u001b[0m \u001b[0;34m+=\u001b[0m \u001b[0mdistance\u001b[0m\u001b[0;34m\u001b[0m\u001b[0;34m\u001b[0m\u001b[0m\n",
      "\u001b[0;31mKeyboardInterrupt\u001b[0m: "
     ]
    }
   ],
   "source": [
    "model_info= load_model(dataset_name, model_name, shuffle)\n",
    "\n",
    "\n",
    "enc = OneHotEncoder(handle_unknown='ignore')\n",
    "enc_y_test = enc.fit_transform(model_info.data.y_test.reshape(-1,1)).toarray()\n",
    "enc_y_val = enc.fit_transform(model_info.data.y_val.reshape(-1,1)).toarray()\n",
    "enc_y_train = enc.fit_transform(model_info.data.y_train.reshape(-1,1)).toarray()\n",
    "norm_X_test=model_info.data.X_test/255\n",
    "norm_X_val=model_info.data.X_val/255\n",
    "norm_X_train=model_info.data.X_train/255\n",
    "model_dir =  f'{dataset_name}/{shuffle}/model/model_{dataset_name}_{model_name}.sav'\n",
    "model = pickle.load(open(model_dir, 'rb'))\n",
    "classifier = SklearnClassifier(model=model)\n",
    "print(\"start rob\")\n",
    "\n",
    "rob_val=calc_rob(norm_X_val[:10],enc_y_val[:10],classifier)\n",
    "rob_test=calc_rob(norm_X_test[:10],enc_y_test[:10],classifier)\n",
    "\n",
    "np.save(f'./rob/{dataset_name}/rob_{dataset_name}_{model_name}_{shuffle}_val.npy',rob_val)\n",
    "np.save(f'./rob/{dataset_name}/rob_{dataset_name}_{model_name}_{shuffle}_test.npy',rob_test)\n",
    "\n",
    "\n"
   ]
  },
  {
   "cell_type": "code",
   "execution_count": null,
   "id": "1a0b9b01-fe77-43aa-ac35-7da06cf5830a",
   "metadata": {},
   "outputs": [],
   "source": [
    "rob_val"
   ]
  },
  {
   "cell_type": "code",
   "execution_count": null,
   "id": "444df165-b0df-41fe-ab0d-b1689ba33e18",
   "metadata": {},
   "outputs": [],
   "source": [
    "rob_test"
   ]
  },
  {
   "cell_type": "code",
   "execution_count": 12,
   "id": "36750874-ab87-4088-8c7e-ea36b22b4e11",
   "metadata": {},
   "outputs": [],
   "source": [
    "def calc_rob(X,Y,classifier,eps_init=0.01):\n",
    "    rt = RobustnessVerificationTreeModelsCliqueMethod(classifier=classifier)\n",
    "    rob=[]\n",
    "    for i in tqdm(range(len(X))):\n",
    "        average_bound, verified_error = rt.verify(x=X[i:i+1], y=Y[i:i+1], eps_init=0.01, nb_search_steps=100, max_clique=10, \n",
    "                                          max_level=10)\n",
    "        rob.append(average_bound)\n",
    "    return rob\n",
    "        "
   ]
  },
  {
   "cell_type": "code",
   "execution_count": null,
   "id": "703f8970-aca0-458e-b8c3-db8fc7a191c1",
   "metadata": {},
   "outputs": [],
   "source": [
    "#rob\n",
    "for dataset_name in ['MNIST']:#'MNIST','SignLanguage',\n",
    "    for model_name in ['RF','GB']:#,'pytorch']:\n",
    "        for shuffle in range(10):\n",
    "            model_info= load_model(dataset_name, model_name, shuffle)\n",
    "            #data processing\n",
    "            enc = OneHotEncoder(handle_unknown='ignore')\n",
    "            enc_y_test = enc.fit_transform(model_info.data.y_test.reshape(-1,1)).toarray()\n",
    "            enc_y_val = enc.fit_transform(model_info.data.y_val.reshape(-1,1)).toarray()\n",
    "            enc_y_train = enc.fit_transform(model_info.data.y_train.reshape(-1,1)).toarray()\n",
    "            norm_X_test=model_info.data.X_test/255\n",
    "            norm_X_val=model_info.data.X_val/255\n",
    "            norm_X_train=model_info.data.X_train/255\n",
    "            #model\n",
    "            model_dir =  f'{dataset_name}/{shuffle}/model/model_{dataset_name}_{model_name}.sav'\n",
    "            model = pickle.load(open(model_dir, 'rb'))\n",
    "            classifier = SklearnClassifier(model=model)\n",
    "            #roc calc\n",
    "            rob_val=calc_rob(norm_X_val[:10],enc_y_val[:10],classifier)\n",
    "            rob_test=calc_rob(norm_X_test[:10],enc_y_test[:10],classifier)\n",
    "            np.save(f'./rob/{dataset_name}/rob_{dataset_name}_{model_name}_{shuffle}_val.npy',rob_val)\n",
    "            np.save(f'./rob/{dataset_name}/rob_{dataset_name}_{model_name}_{shuffle}_test.npy',rob_test)\n",
    "\n",
    "\n"
   ]
  },
  {
   "cell_type": "code",
   "execution_count": null,
   "id": "47e99c3b-25ef-424c-ac55-996af986c83d",
   "metadata": {},
   "outputs": [],
   "source": [
    "def all_rob_calc(dataset_name,model_name,shuffle):\n",
    "    #rob\n",
    "    model_info= load_model(dataset_name, model_name, shuffle)\n",
    "    #data processing\n",
    "    enc = OneHotEncoder(handle_unknown='ignore')\n",
    "    enc_y_test = enc.fit_transform(model_info.data.y_test.reshape(-1,1)).toarray()\n",
    "    enc_y_val = enc.fit_transform(model_info.data.y_val.reshape(-1,1)).toarray()\n",
    "    enc_y_train = enc.fit_transform(model_info.data.y_train.reshape(-1,1)).toarray()\n",
    "    norm_X_test=model_info.data.X_test/255\n",
    "    norm_X_val=model_info.data.X_val/255\n",
    "    norm_X_train=model_info.data.X_train/255\n",
    "    #model\n",
    "    model_dir =  f'{dataset_name}/{shuffle}/model/model_{dataset_name}_{model_name}.sav'\n",
    "    model = pickle.load(open(model_dir, 'rb'))\n",
    "    classifier = SklearnClassifier(model=model)\n",
    "    #roc calc\n",
    "    rob_val=calc_rob(norm_X_val[:10],enc_y_val[:10],classifier)\n",
    "    rob_test=calc_rob(norm_X_test[:10],enc_y_test[:10],classifier)\n",
    "    np.save(f'./rob/{dataset_name}/rob_{dataset_name}_{model_name}_{shuffle}_val.npy',rob_val)\n",
    "    np.save(f'./rob/{dataset_name}/rob_{dataset_name}_{model_name}_{shuffle}_test.npy',rob_test)\n",
    "\n",
    "\n",
    "\n",
    "if __name__ == \"__main__\":\n",
    "    all_rob_calc(sys.argv[1],sys.argv[2],sys.argv[3])\n",
    "\n",
    "\n",
    "\n",
    "\n"
   ]
  }
 ],
 "metadata": {
  "kernelspec": {
   "display_name": "Python 3 (ipykernel)",
   "language": "python",
   "name": "python3"
  },
  "language_info": {
   "codemirror_mode": {
    "name": "ipython",
    "version": 3
   },
   "file_extension": ".py",
   "mimetype": "text/x-python",
   "name": "python",
   "nbconvert_exporter": "python",
   "pygments_lexer": "ipython3",
   "version": "3.9.9"
  }
 },
 "nbformat": 4,
 "nbformat_minor": 5
}
