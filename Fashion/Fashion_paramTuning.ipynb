{
 "cells": [
  {
   "cell_type": "code",
   "execution_count": 4,
   "id": "b98d87c7-8510-4840-9ca0-71eca395ab33",
   "metadata": {},
   "outputs": [],
   "source": [
    "import sys  \n",
    "sys.path.insert(0, '../')\n",
    "from utils import *"
   ]
  },
  {
   "cell_type": "code",
   "execution_count": 5,
   "id": "5fea582b-781e-43d4-9191-b90169e0fc8d",
   "metadata": {},
   "outputs": [],
   "source": [
    "X_train = np.load('./0/data/X_train.npy')\n",
    "X_test = np.load('./0/data/X_test.npy')\n",
    "X_val = np.load('./0/data/X_val.npy')\n",
    "y_train = np.load('./0/data/y_train.npy')\n",
    "y_test = np.load('./0/data/y_test.npy')\n",
    "y_val = np.load('./0/data/y_val.npy')"
   ]
  },
  {
   "cell_type": "code",
   "execution_count": 6,
   "id": "750f406f-1785-41aa-8025-afed26ee8e05",
   "metadata": {},
   "outputs": [],
   "source": [
    "from sklearn.ensemble import RandomForestClassifier\n",
    "from sklearn.ensemble import GradientBoostingClassifier\n",
    "from sklearn.neighbors import KNeighborsClassifier\n",
    "from sklearn.model_selection import RandomizedSearchCV\n",
    "from pprint import pprint"
   ]
  },
  {
   "cell_type": "markdown",
   "id": "51b108c5-c521-45a2-8444-c3cf9b1c4cd3",
   "metadata": {},
   "source": [
    "# Tuning RF"
   ]
  },
  {
   "cell_type": "code",
   "execution_count": 29,
   "id": "8ee957a1-ec7a-491b-b95a-db803f245e6b",
   "metadata": {},
   "outputs": [
    {
     "name": "stdout",
     "output_type": "stream",
     "text": [
      "{'n_estimators': [20, 65, 110, 155, 200], 'max_features': ['auto', 'sqrt'], 'max_depth': [1, 23, 45], 'min_samples_split': [5, 10], 'random_state': [0]}\n"
     ]
    }
   ],
   "source": [
    "# Number of trees in random forest\n",
    "n_estimators = [int(x) for x in np.linspace(start = 20, stop = 200, num = 5)]\n",
    "# Number of features to consider at every split\n",
    "max_features = ['auto', 'sqrt']\n",
    "# Maximum number of levels in tree\n",
    "max_depth = [int(x) for x in np.linspace(1, 45, num = 3)]\n",
    "# Minimum number of samples required to split a node\n",
    "min_samples_split = [5, 10]\n",
    "\n",
    "\n",
    "# Create the random grid\n",
    "random_grid = {'n_estimators': n_estimators,\n",
    "               'max_features': max_features,\n",
    "               'max_depth': max_depth,\n",
    "               'min_samples_split': min_samples_split,\n",
    "              'random_state': [0]}\n",
    "\n",
    "print(random_grid)"
   ]
  },
  {
   "cell_type": "code",
   "execution_count": 30,
   "id": "c7773254-ed09-4b8f-a127-fe949ee350f3",
   "metadata": {},
   "outputs": [
    {
     "name": "stdout",
     "output_type": "stream",
     "text": [
      "Fitting 5 folds for each of 10 candidates, totalling 50 fits\n",
      "[CV] END max_depth=23, max_features=sqrt, min_samples_split=10, n_estimators=200, random_state=0; total time= 2.3min\n",
      "[CV] END max_depth=23, max_features=sqrt, min_samples_split=10, n_estimators=200, random_state=0; total time= 1.3min\n",
      "[CV] END max_depth=23, max_features=sqrt, min_samples_split=10, n_estimators=200, random_state=0; total time= 1.2min\n",
      "[CV] END max_depth=23, max_features=sqrt, min_samples_split=10, n_estimators=200, random_state=0; total time= 1.2min\n",
      "[CV] END max_depth=23, max_features=sqrt, min_samples_split=10, n_estimators=200, random_state=0; total time= 1.3min\n",
      "[CV] END max_depth=1, max_features=sqrt, min_samples_split=10, n_estimators=110, random_state=0; total time=   3.4s\n",
      "[CV] END max_depth=1, max_features=sqrt, min_samples_split=10, n_estimators=110, random_state=0; total time=   3.4s\n",
      "[CV] END max_depth=1, max_features=sqrt, min_samples_split=10, n_estimators=110, random_state=0; total time=   3.6s\n",
      "[CV] END max_depth=1, max_features=sqrt, min_samples_split=10, n_estimators=110, random_state=0; total time=   3.4s\n",
      "[CV] END max_depth=1, max_features=sqrt, min_samples_split=10, n_estimators=110, random_state=0; total time=   3.3s\n",
      "[CV] END max_depth=45, max_features=auto, min_samples_split=5, n_estimators=20, random_state=0; total time=   7.6s\n",
      "[CV] END max_depth=45, max_features=auto, min_samples_split=5, n_estimators=20, random_state=0; total time=   7.7s\n",
      "[CV] END max_depth=45, max_features=auto, min_samples_split=5, n_estimators=20, random_state=0; total time=   7.7s\n",
      "[CV] END max_depth=45, max_features=auto, min_samples_split=5, n_estimators=20, random_state=0; total time=   7.6s\n",
      "[CV] END max_depth=45, max_features=auto, min_samples_split=5, n_estimators=20, random_state=0; total time=   7.6s\n",
      "[CV] END max_depth=45, max_features=sqrt, min_samples_split=10, n_estimators=110, random_state=0; total time=  41.4s\n",
      "[CV] END max_depth=45, max_features=sqrt, min_samples_split=10, n_estimators=110, random_state=0; total time=  42.5s\n",
      "[CV] END max_depth=45, max_features=sqrt, min_samples_split=10, n_estimators=110, random_state=0; total time=  41.7s\n",
      "[CV] END max_depth=45, max_features=sqrt, min_samples_split=10, n_estimators=110, random_state=0; total time=  41.4s\n",
      "[CV] END max_depth=45, max_features=sqrt, min_samples_split=10, n_estimators=110, random_state=0; total time=  41.9s\n",
      "[CV] END max_depth=45, max_features=auto, min_samples_split=10, n_estimators=200, random_state=0; total time= 1.3min\n",
      "[CV] END max_depth=45, max_features=auto, min_samples_split=10, n_estimators=200, random_state=0; total time= 1.3min\n",
      "[CV] END max_depth=45, max_features=auto, min_samples_split=10, n_estimators=200, random_state=0; total time= 1.2min\n",
      "[CV] END max_depth=45, max_features=auto, min_samples_split=10, n_estimators=200, random_state=0; total time= 1.3min\n",
      "[CV] END max_depth=45, max_features=auto, min_samples_split=10, n_estimators=200, random_state=0; total time= 1.3min\n",
      "[CV] END max_depth=1, max_features=auto, min_samples_split=10, n_estimators=200, random_state=0; total time=   6.0s\n",
      "[CV] END max_depth=1, max_features=auto, min_samples_split=10, n_estimators=200, random_state=0; total time=   6.2s\n",
      "[CV] END max_depth=1, max_features=auto, min_samples_split=10, n_estimators=200, random_state=0; total time=   6.0s\n",
      "[CV] END max_depth=1, max_features=auto, min_samples_split=10, n_estimators=200, random_state=0; total time=   6.1s\n",
      "[CV] END max_depth=1, max_features=auto, min_samples_split=10, n_estimators=200, random_state=0; total time=   6.0s\n",
      "[CV] END max_depth=23, max_features=sqrt, min_samples_split=10, n_estimators=110, random_state=0; total time=  41.3s\n",
      "[CV] END max_depth=23, max_features=sqrt, min_samples_split=10, n_estimators=110, random_state=0; total time=  41.3s\n",
      "[CV] END max_depth=23, max_features=sqrt, min_samples_split=10, n_estimators=110, random_state=0; total time=  41.7s\n",
      "[CV] END max_depth=23, max_features=sqrt, min_samples_split=10, n_estimators=110, random_state=0; total time=  40.9s\n",
      "[CV] END max_depth=23, max_features=sqrt, min_samples_split=10, n_estimators=110, random_state=0; total time=  41.2s\n",
      "[CV] END max_depth=23, max_features=sqrt, min_samples_split=10, n_estimators=65, random_state=0; total time=  24.5s\n",
      "[CV] END max_depth=23, max_features=sqrt, min_samples_split=10, n_estimators=65, random_state=0; total time=  24.6s\n",
      "[CV] END max_depth=23, max_features=sqrt, min_samples_split=10, n_estimators=65, random_state=0; total time=  24.4s\n",
      "[CV] END max_depth=23, max_features=sqrt, min_samples_split=10, n_estimators=65, random_state=0; total time=  24.2s\n",
      "[CV] END max_depth=23, max_features=sqrt, min_samples_split=10, n_estimators=65, random_state=0; total time=  23.9s\n",
      "[CV] END max_depth=1, max_features=sqrt, min_samples_split=5, n_estimators=65, random_state=0; total time=   1.9s\n",
      "[CV] END max_depth=1, max_features=sqrt, min_samples_split=5, n_estimators=65, random_state=0; total time=   1.9s\n",
      "[CV] END max_depth=1, max_features=sqrt, min_samples_split=5, n_estimators=65, random_state=0; total time=   1.9s\n",
      "[CV] END max_depth=1, max_features=sqrt, min_samples_split=5, n_estimators=65, random_state=0; total time=   2.0s\n",
      "[CV] END max_depth=1, max_features=sqrt, min_samples_split=5, n_estimators=65, random_state=0; total time=   1.9s\n",
      "[CV] END max_depth=23, max_features=sqrt, min_samples_split=10, n_estimators=20, random_state=0; total time=   7.5s\n",
      "[CV] END max_depth=23, max_features=sqrt, min_samples_split=10, n_estimators=20, random_state=0; total time=   7.5s\n",
      "[CV] END max_depth=23, max_features=sqrt, min_samples_split=10, n_estimators=20, random_state=0; total time=   7.3s\n",
      "[CV] END max_depth=23, max_features=sqrt, min_samples_split=10, n_estimators=20, random_state=0; total time=   7.4s\n",
      "[CV] END max_depth=23, max_features=sqrt, min_samples_split=10, n_estimators=20, random_state=0; total time=   7.3s\n",
      "Wall time: 26min 22s\n"
     ]
    },
    {
     "data": {
      "text/plain": [
       "RandomizedSearchCV(cv=5, estimator=RandomForestClassifier(),\n",
       "                   param_distributions={'max_depth': [1, 23, 45],\n",
       "                                        'max_features': ['auto', 'sqrt'],\n",
       "                                        'min_samples_split': [5, 10],\n",
       "                                        'n_estimators': [20, 65, 110, 155, 200],\n",
       "                                        'random_state': [0]},\n",
       "                   verbose=2)"
      ]
     },
     "execution_count": 30,
     "metadata": {},
     "output_type": "execute_result"
    }
   ],
   "source": [
    "%%time\n",
    "rf_random = RandomizedSearchCV(estimator = RandomForestClassifier(), param_distributions = random_grid, n_iter = 10, cv = 5, verbose=2)\n",
    "# Fit the random search model\n",
    "rf_random.fit(X_train, y_train)"
   ]
  },
  {
   "cell_type": "code",
   "execution_count": null,
   "id": "bdb8b79c-3d51-4916-ae82-0b72791d23e9",
   "metadata": {},
   "outputs": [],
   "source": []
  },
  {
   "cell_type": "code",
   "execution_count": 31,
   "id": "e85902e6-452e-4499-b05b-2619c9331f71",
   "metadata": {},
   "outputs": [
    {
     "data": {
      "text/plain": [
       "(RandomForestClassifier(max_depth=23, max_features='sqrt', min_samples_split=10,\n",
       "                        n_estimators=200, random_state=0),\n",
       " 0.8752380952380951)"
      ]
     },
     "execution_count": 31,
     "metadata": {},
     "output_type": "execute_result"
    }
   ],
   "source": [
    "rf_random.best_estimator_ , rf_random.best_score_"
   ]
  },
  {
   "cell_type": "code",
   "execution_count": 32,
   "id": "9877b0f2-09f5-4317-a50d-55c29918d752",
   "metadata": {},
   "outputs": [
    {
     "data": {
      "text/plain": [
       "sklearn.ensemble._forest.RandomForestClassifier"
      ]
     },
     "execution_count": 32,
     "metadata": {},
     "output_type": "execute_result"
    }
   ],
   "source": [
    "type(rf_random.best_estimator_)"
   ]
  },
  {
   "cell_type": "code",
   "execution_count": 33,
   "id": "4c220292-7c0b-4e55-8fac-123c95bf975b",
   "metadata": {},
   "outputs": [],
   "source": [
    "RF = rf_random.best_estimator_"
   ]
  },
  {
   "cell_type": "code",
   "execution_count": 34,
   "id": "37ed66c8-c55b-429e-b620-d3f6fe7f2159",
   "metadata": {},
   "outputs": [
    {
     "name": "stdout",
     "output_type": "stream",
     "text": [
      "val accuracy: 0.8816428571428572\n",
      "test accuracy: 0.8741428571428571\n"
     ]
    }
   ],
   "source": [
    "RF.fit(X_train,y_train)\n",
    "y_pred_val = RF.predict(X_val)\n",
    "y_pred_test = RF.predict(X_test)\n",
    "\n",
    "print('val accuracy:',accuracy_score(y_val, y_pred_val))\n",
    "print('test accuracy:',accuracy_score(y_test, y_pred_test))"
   ]
  },
  {
   "cell_type": "code",
   "execution_count": 35,
   "id": "5f66d5b0-e92b-47e9-96c6-be55ad118721",
   "metadata": {},
   "outputs": [],
   "source": [
    "if not os.path.exists('./model_params/'):\n",
    "    os.makedirs('./model_params')\n",
    "\n",
    "# with open('./model_params/GB_params_tuning.pkl', 'wb') as f:\n",
    "#         pickle.dump(GBDT_random.best_estimator_, f)\n",
    "with open('./model_params/RF_params_tuning.pkl', 'wb') as f:\n",
    "        pickle.dump(rf_random.best_estimator_, f)"
   ]
  },
  {
   "cell_type": "code",
   "execution_count": null,
   "id": "a9a74897-fb96-434d-b7b6-3b28892ac8a5",
   "metadata": {},
   "outputs": [],
   "source": []
  },
  {
   "cell_type": "markdown",
   "id": "e9a5af9d-d461-4c92-a36e-b6ab49ab4656",
   "metadata": {},
   "source": [
    "# GB tuning"
   ]
  },
  {
   "cell_type": "code",
   "execution_count": 36,
   "id": "f331cdde-a650-4365-9d69-0ace6c4ce2ab",
   "metadata": {},
   "outputs": [
    {
     "name": "stdout",
     "output_type": "stream",
     "text": [
      "{'learning_rate': [0.05, 0.1, 0.15, 0.2],\n",
      " 'max_depth': [2, 4, 7, 10],\n",
      " 'max_features': ['auto', 'sqrt'],\n",
      " 'n_estimators': [10, 23, 36, 50],\n",
      " 'random_state': [0]}\n"
     ]
    }
   ],
   "source": [
    "# Number of trees in random forest\n",
    "n_estimators = [int(x) for x in np.linspace(start = 10, stop = 50, num = 4)]\n",
    "learning_rate = [x for x in np.linspace(start = 0.05, stop = 0.2, num = 4)]\n",
    "# Number of features to consider at every split\n",
    "max_features = ['auto', 'sqrt']\n",
    "# Maximum number of levels in tree\n",
    "max_depth = [int(x) for x in np.linspace(start = 2, stop = 10, num = 4)]\n",
    "\n",
    "\n",
    "# Create the random grid\n",
    "random_grid = {'n_estimators': n_estimators,\n",
    "               'learning_rate' : [0.05, 0.1, 0.15, 0.2],\n",
    "               'max_features': max_features,\n",
    "               'max_depth': max_depth,\n",
    "              'random_state': [0]}\n",
    "\n",
    "pprint(random_grid)"
   ]
  },
  {
   "cell_type": "code",
   "execution_count": 37,
   "id": "bd2f9ec9-1a3e-4cc5-9c69-38a32be1d58d",
   "metadata": {},
   "outputs": [
    {
     "name": "stdout",
     "output_type": "stream",
     "text": [
      "Fitting 5 folds for each of 10 candidates, totalling 50 fits\n",
      "[CV] END learning_rate=0.1, max_depth=4, max_features=sqrt, n_estimators=23, random_state=0; total time=  36.1s\n",
      "[CV] END learning_rate=0.1, max_depth=4, max_features=sqrt, n_estimators=23, random_state=0; total time=  36.8s\n",
      "[CV] END learning_rate=0.1, max_depth=4, max_features=sqrt, n_estimators=23, random_state=0; total time=  36.3s\n",
      "[CV] END learning_rate=0.1, max_depth=4, max_features=sqrt, n_estimators=23, random_state=0; total time=  35.7s\n",
      "[CV] END learning_rate=0.1, max_depth=4, max_features=sqrt, n_estimators=23, random_state=0; total time=  35.6s\n",
      "[CV] END learning_rate=0.1, max_depth=10, max_features=auto, n_estimators=10, random_state=0; total time=15.6min\n",
      "[CV] END learning_rate=0.1, max_depth=10, max_features=auto, n_estimators=10, random_state=0; total time=15.6min\n",
      "[CV] END learning_rate=0.1, max_depth=10, max_features=auto, n_estimators=10, random_state=0; total time=15.6min\n",
      "[CV] END learning_rate=0.1, max_depth=10, max_features=auto, n_estimators=10, random_state=0; total time=23.5min\n",
      "[CV] END learning_rate=0.1, max_depth=10, max_features=auto, n_estimators=10, random_state=0; total time=37.8min\n",
      "[CV] END learning_rate=0.15, max_depth=4, max_features=auto, n_estimators=10, random_state=0; total time= 8.1min\n",
      "[CV] END learning_rate=0.15, max_depth=4, max_features=auto, n_estimators=10, random_state=0; total time= 6.4min\n",
      "[CV] END learning_rate=0.15, max_depth=4, max_features=auto, n_estimators=10, random_state=0; total time= 6.4min\n",
      "[CV] END learning_rate=0.15, max_depth=4, max_features=auto, n_estimators=10, random_state=0; total time=10.7min\n",
      "[CV] END learning_rate=0.15, max_depth=4, max_features=auto, n_estimators=10, random_state=0; total time= 9.6min\n",
      "[CV] END learning_rate=0.05, max_depth=4, max_features=sqrt, n_estimators=36, random_state=0; total time= 1.2min\n",
      "[CV] END learning_rate=0.05, max_depth=4, max_features=sqrt, n_estimators=36, random_state=0; total time= 1.1min\n",
      "[CV] END learning_rate=0.05, max_depth=4, max_features=sqrt, n_estimators=36, random_state=0; total time= 1.2min\n",
      "[CV] END learning_rate=0.05, max_depth=4, max_features=sqrt, n_estimators=36, random_state=0; total time= 1.3min\n",
      "[CV] END learning_rate=0.05, max_depth=4, max_features=sqrt, n_estimators=36, random_state=0; total time= 1.1min\n",
      "[CV] END learning_rate=0.05, max_depth=2, max_features=sqrt, n_estimators=10, random_state=0; total time=   9.8s\n",
      "[CV] END learning_rate=0.05, max_depth=2, max_features=sqrt, n_estimators=10, random_state=0; total time=  10.6s\n",
      "[CV] END learning_rate=0.05, max_depth=2, max_features=sqrt, n_estimators=10, random_state=0; total time=  11.7s\n",
      "[CV] END learning_rate=0.05, max_depth=2, max_features=sqrt, n_estimators=10, random_state=0; total time=  10.5s\n",
      "[CV] END learning_rate=0.05, max_depth=2, max_features=sqrt, n_estimators=10, random_state=0; total time=  11.7s\n",
      "[CV] END learning_rate=0.2, max_depth=7, max_features=sqrt, n_estimators=23, random_state=0; total time= 1.2min\n",
      "[CV] END learning_rate=0.2, max_depth=7, max_features=sqrt, n_estimators=23, random_state=0; total time= 1.3min\n",
      "[CV] END learning_rate=0.2, max_depth=7, max_features=sqrt, n_estimators=23, random_state=0; total time= 1.2min\n",
      "[CV] END learning_rate=0.2, max_depth=7, max_features=sqrt, n_estimators=23, random_state=0; total time= 1.0min\n",
      "[CV] END learning_rate=0.2, max_depth=7, max_features=sqrt, n_estimators=23, random_state=0; total time= 1.0min\n",
      "[CV] END learning_rate=0.2, max_depth=7, max_features=sqrt, n_estimators=50, random_state=0; total time= 2.2min\n",
      "[CV] END learning_rate=0.2, max_depth=7, max_features=sqrt, n_estimators=50, random_state=0; total time= 2.2min\n",
      "[CV] END learning_rate=0.2, max_depth=7, max_features=sqrt, n_estimators=50, random_state=0; total time= 2.2min\n",
      "[CV] END learning_rate=0.2, max_depth=7, max_features=sqrt, n_estimators=50, random_state=0; total time= 2.2min\n",
      "[CV] END learning_rate=0.2, max_depth=7, max_features=sqrt, n_estimators=50, random_state=0; total time= 2.2min\n",
      "[CV] END learning_rate=0.05, max_depth=4, max_features=auto, n_estimators=10, random_state=0; total time= 6.5min\n",
      "[CV] END learning_rate=0.05, max_depth=4, max_features=auto, n_estimators=10, random_state=0; total time= 6.5min\n",
      "[CV] END learning_rate=0.05, max_depth=4, max_features=auto, n_estimators=10, random_state=0; total time= 6.5min\n",
      "[CV] END learning_rate=0.05, max_depth=4, max_features=auto, n_estimators=10, random_state=0; total time= 6.5min\n",
      "[CV] END learning_rate=0.05, max_depth=4, max_features=auto, n_estimators=10, random_state=0; total time= 6.5min\n",
      "[CV] END learning_rate=0.05, max_depth=7, max_features=auto, n_estimators=50, random_state=0; total time=55.3min\n",
      "[CV] END learning_rate=0.05, max_depth=7, max_features=auto, n_estimators=50, random_state=0; total time=55.6min\n",
      "[CV] END learning_rate=0.05, max_depth=7, max_features=auto, n_estimators=50, random_state=0; total time=55.5min\n",
      "[CV] END learning_rate=0.05, max_depth=7, max_features=auto, n_estimators=50, random_state=0; total time=55.7min\n",
      "[CV] END learning_rate=0.05, max_depth=7, max_features=auto, n_estimators=50, random_state=0; total time=110.2min\n",
      "[CV] END learning_rate=0.2, max_depth=10, max_features=auto, n_estimators=23, random_state=0; total time=39.3min\n",
      "[CV] END learning_rate=0.2, max_depth=10, max_features=auto, n_estimators=23, random_state=0; total time=35.7min\n",
      "[CV] END learning_rate=0.2, max_depth=10, max_features=auto, n_estimators=23, random_state=0; total time=35.8min\n",
      "[CV] END learning_rate=0.2, max_depth=10, max_features=auto, n_estimators=23, random_state=0; total time=35.7min\n",
      "[CV] END learning_rate=0.2, max_depth=10, max_features=auto, n_estimators=23, random_state=0; total time=35.7min\n",
      "Wall time: 12h 6min 10s\n"
     ]
    },
    {
     "data": {
      "text/plain": [
       "RandomizedSearchCV(cv=5, estimator=GradientBoostingClassifier(),\n",
       "                   param_distributions={'learning_rate': [0.05, 0.1, 0.15, 0.2],\n",
       "                                        'max_depth': [2, 4, 7, 10],\n",
       "                                        'max_features': ['auto', 'sqrt'],\n",
       "                                        'n_estimators': [10, 23, 36, 50],\n",
       "                                        'random_state': [0]},\n",
       "                   verbose=2)"
      ]
     },
     "execution_count": 37,
     "metadata": {},
     "output_type": "execute_result"
    }
   ],
   "source": [
    "%%time\n",
    "GBDT_random = RandomizedSearchCV(estimator = GradientBoostingClassifier(), param_distributions = random_grid, n_iter = 10, cv = 5, verbose=2)\n",
    "# Fit the random search model\n",
    "GBDT_random.fit(X_train, y_train)"
   ]
  },
  {
   "cell_type": "code",
   "execution_count": 38,
   "id": "c9885512-9d33-4d21-99f6-47b60b41a4b3",
   "metadata": {},
   "outputs": [
    {
     "data": {
      "text/plain": [
       "(GradientBoostingClassifier(learning_rate=0.2, max_depth=7, max_features='sqrt',\n",
       "                            n_estimators=50, random_state=0),\n",
       " 0.8823571428571428)"
      ]
     },
     "execution_count": 38,
     "metadata": {},
     "output_type": "execute_result"
    }
   ],
   "source": [
    "GBDT_random.best_estimator_ , GBDT_random.best_score_"
   ]
  },
  {
   "cell_type": "code",
   "execution_count": 39,
   "id": "be712ff1-714d-406b-bf15-ca571d3754e1",
   "metadata": {},
   "outputs": [
    {
     "name": "stdout",
     "output_type": "stream",
     "text": [
      "val accuracy: 0.8816428571428572\n",
      "test accuracy: 0.8741428571428571\n"
     ]
    }
   ],
   "source": [
    "GB = rf_random.best_estimator_\n",
    "GB.fit(X_train,y_train)\n",
    "y_pred_val = GB.predict(X_val)\n",
    "y_pred_test = GB.predict(X_test)\n",
    "\n",
    "print('val accuracy:',accuracy_score(y_val, y_pred_val))\n",
    "print('test accuracy:',accuracy_score(y_test, y_pred_test))"
   ]
  },
  {
   "cell_type": "code",
   "execution_count": null,
   "id": "f76e20c4-396a-45c5-a080-09661cfb2fe6",
   "metadata": {},
   "outputs": [],
   "source": []
  },
  {
   "cell_type": "code",
   "execution_count": 49,
   "id": "49111d57-35b6-4e55-9dd7-02bec10ffb6f",
   "metadata": {},
   "outputs": [],
   "source": [
    "if not os.path.exists('./model_params/'):\n",
    "    os.makedirs('./model_params')\n",
    "\n",
    "with open('./model_params/GB_params_tuning.pkl', 'wb') as f:\n",
    "        pickle.dump(GBDT_random.best_estimator_, f)\n",
    "with open('./model_params/RF_params_tuning.pkl', 'wb') as f:\n",
    "        pickle.dump(rf_random.best_estimator_, f)"
   ]
  },
  {
   "cell_type": "code",
   "execution_count": 4,
   "id": "acc04a31-5680-4f82-a5f3-438a948fb70f",
   "metadata": {},
   "outputs": [
    {
     "name": "stdout",
     "output_type": "stream",
     "text": [
      "INFO:tensorflow:Assets written to: ./model_params/CNN_params_tuning\\assets\n"
     ]
    }
   ],
   "source": [
    "from tensorflow.keras.optimizers import SGD\n",
    "pixels  = int(sqrt(X_train.shape[1]))\n",
    "classes = len(np.unique(y_test))\n",
    "\n",
    "model = Sequential()\n",
    "model.add(Conv2D(32, (3, 3), activation='relu', kernel_initializer='he_uniform', input_shape=(28, 28, 1)))\n",
    "model.add(MaxPooling2D((2, 2)))\n",
    "model.add(Flatten())\n",
    "model.add(Dense(100, activation='relu', kernel_initializer='he_uniform'))\n",
    "model.add(Dense(10, activation='softmax'))\n",
    "# compile model\n",
    "opt = SGD(learning_rate=0.01, momentum=0.9)\n",
    "model.compile(optimizer=opt, loss='categorical_crossentropy', metrics=['accuracy'])\n",
    "\n",
    "model.save(f'./model_params/CNN_params_tuning')"
   ]
  },
  {
   "cell_type": "code",
   "execution_count": 5,
   "id": "44dc8e38-6c28-4d45-a00b-36529940f7af",
   "metadata": {},
   "outputs": [],
   "source": [
    "num_labels = classes\n",
    "pixels = int(sqrt(X_train.shape[1]))\n",
    "# Reshaping to format which CNN expects (batch, height, width, channels)\n",
    "trainX_cnn = X_train.reshape(X_train.shape[0], pixels, pixels, 1).astype('float32')\n",
    "valX_cnn = X_val.reshape(X_val.shape[0], pixels, pixels, 1).astype('float32')\n",
    "testX_cnn= X_test.reshape(X_test.shape[0], pixels, pixels, 1).astype('float32')\n",
    "\n",
    "# Normalize images from 0-255 to 0-1\n",
    "trainX_cnn /= 255\n",
    "valX_cnn /= 255\n",
    "\n",
    "train_y_cnn = utils.to_categorical(y_train, num_labels)\n",
    "val_y_cnn = utils.to_categorical(y_val, num_labels)\n",
    "test_y_cnn = utils.to_categorical(y_test, num_labels)"
   ]
  },
  {
   "cell_type": "code",
   "execution_count": 46,
   "id": "430d9897-d091-4e45-ab84-37038aacd2e2",
   "metadata": {},
   "outputs": [
    {
     "name": "stdout",
     "output_type": "stream",
     "text": [
      "Epoch 1/10\n",
      "1313/1313 [==============================] - 10s 8ms/step - loss: 0.4571 - accuracy: 0.8366 - val_loss: 0.3338 - val_accuracy: 0.8814\n",
      "Epoch 2/10\n",
      "1313/1313 [==============================] - 10s 8ms/step - loss: 0.3048 - accuracy: 0.8889 - val_loss: 0.3142 - val_accuracy: 0.8851\n",
      "Epoch 3/10\n",
      "1313/1313 [==============================] - 10s 8ms/step - loss: 0.2565 - accuracy: 0.9055 - val_loss: 0.2632 - val_accuracy: 0.9036\n",
      "Epoch 4/10\n",
      "1313/1313 [==============================] - 10s 8ms/step - loss: 0.2269 - accuracy: 0.9162 - val_loss: 0.2660 - val_accuracy: 0.9044\n",
      "Epoch 5/10\n",
      "1313/1313 [==============================] - 21s 16ms/step - loss: 0.2017 - accuracy: 0.9252 - val_loss: 0.2809 - val_accuracy: 0.9012\n",
      "Epoch 6/10\n",
      "1313/1313 [==============================] - 21s 16ms/step - loss: 0.1794 - accuracy: 0.9333 - val_loss: 0.2541 - val_accuracy: 0.9111\n",
      "Epoch 7/10\n",
      "1313/1313 [==============================] - 20s 15ms/step - loss: 0.1596 - accuracy: 0.9411 - val_loss: 0.2590 - val_accuracy: 0.9121\n",
      "Epoch 8/10\n",
      "1313/1313 [==============================] - 10s 8ms/step - loss: 0.1442 - accuracy: 0.9472 - val_loss: 0.2645 - val_accuracy: 0.9104\n",
      "Epoch 9/10\n",
      "1313/1313 [==============================] - 10s 8ms/step - loss: 0.1283 - accuracy: 0.9532 - val_loss: 0.2865 - val_accuracy: 0.9030\n",
      "Epoch 10/10\n",
      "1313/1313 [==============================] - 10s 8ms/step - loss: 0.1125 - accuracy: 0.9590 - val_loss: 0.3034 - val_accuracy: 0.9050\n"
     ]
    },
    {
     "data": {
      "text/plain": [
       "<keras.callbacks.History at 0x1eb376ff3a0>"
      ]
     },
     "execution_count": 46,
     "metadata": {},
     "output_type": "execute_result"
    }
   ],
   "source": [
    "model.fit(trainX_cnn, train_y_cnn, epochs=10, batch_size=32, validation_data=(valX_cnn, val_y_cnn))"
   ]
  },
  {
   "cell_type": "code",
   "execution_count": 47,
   "id": "ab22a53a-f1bd-4773-b9e0-e8e7c096057c",
   "metadata": {},
   "outputs": [],
   "source": [
    "y_pred_val=np.argmax(model.predict(valX_cnn),axis=1)\n",
    "y_pred_test=np.argmax(model.predict(testX_cnn),axis=1)"
   ]
  },
  {
   "cell_type": "code",
   "execution_count": 48,
   "id": "6b407547-d2ee-4cda-b75a-4832c466ad2b",
   "metadata": {},
   "outputs": [
    {
     "name": "stdout",
     "output_type": "stream",
     "text": [
      "val accuracy: 0.905\n",
      "test accuracy: 0.8714285714285714\n"
     ]
    }
   ],
   "source": [
    "print('val accuracy:',accuracy_score(y_val, y_pred_val))\n",
    "print('test accuracy:',accuracy_score(y_test, y_pred_test))"
   ]
  },
  {
   "cell_type": "code",
   "execution_count": null,
   "id": "163ef341-166e-4edd-b5c9-9ce74dcbf466",
   "metadata": {},
   "outputs": [],
   "source": []
  },
  {
   "cell_type": "markdown",
   "id": "dcffd567-d751-4fc9-bb13-7e30e9a82526",
   "metadata": {},
   "source": [
    "# 1-NN"
   ]
  },
  {
   "cell_type": "code",
   "execution_count": 7,
   "id": "dcf7c7a8-151c-40c8-a228-99d0c3052064",
   "metadata": {},
   "outputs": [],
   "source": [
    "OneNN_model = KNeighborsClassifier(n_neighbors=1).fit(X_train, y_train)"
   ]
  },
  {
   "cell_type": "code",
   "execution_count": 8,
   "id": "f49ce171-fc72-43c7-958f-86294e6e4f3a",
   "metadata": {},
   "outputs": [
    {
     "name": "stdout",
     "output_type": "stream",
     "text": [
      "val accuracy: 0.8485\n",
      "test accuracy: 0.8412142857142857\n"
     ]
    }
   ],
   "source": [
    "y_pred_val = OneNN_model.predict(X_val)\n",
    "y_pred_test = OneNN_model.predict(X_test)\n",
    "print('val accuracy:',accuracy_score(y_val, y_pred_val))\n",
    "print('test accuracy:',accuracy_score(y_test, y_pred_test))"
   ]
  },
  {
   "cell_type": "code",
   "execution_count": 9,
   "id": "86c74edb-343c-4af4-af02-77938f60932a",
   "metadata": {},
   "outputs": [],
   "source": [
    "if not os.path.exists('./model_params/'):\n",
    "    os.makedirs('./model_params')\n",
    "with open('./model_params/OneNN_params_tuning.pkl', 'wb') as f:\n",
    "        pickle.dump(OneNN_model, f)"
   ]
  },
  {
   "cell_type": "code",
   "execution_count": null,
   "id": "e4e36efd-a166-4ce0-9eea-16d141a4f97c",
   "metadata": {},
   "outputs": [],
   "source": []
  }
 ],
 "metadata": {
  "kernelspec": {
   "display_name": "Python 3",
   "language": "python",
   "name": "python3"
  },
  "language_info": {
   "codemirror_mode": {
    "name": "ipython",
    "version": 3
   },
   "file_extension": ".py",
   "mimetype": "text/x-python",
   "name": "python",
   "nbconvert_exporter": "python",
   "pygments_lexer": "ipython3",
   "version": "3.8.8"
  }
 },
 "nbformat": 4,
 "nbformat_minor": 5
}
