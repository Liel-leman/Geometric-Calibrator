{
 "cells": [
  {
   "cell_type": "code",
   "execution_count": 1,
   "id": "55d2dea5",
   "metadata": {},
   "outputs": [],
   "source": [
    "from keras.datasets import fashion_mnist\n",
    "import sys  \n",
    "sys.path.insert(0, '../')\n",
    "from utils import split_and_save_range"
   ]
  },
  {
   "cell_type": "code",
   "execution_count": 2,
   "id": "4237e07a",
   "metadata": {},
   "outputs": [
    {
     "name": "stdout",
     "output_type": "stream",
     "text": [
      "shuffle :0\n",
      "(42000, 784) (14000, 784) (14000, 784) (42000,) (14000,) (14000,)\n",
      "shuffle :1\n",
      "(42000, 784) (14000, 784) (14000, 784) (42000,) (14000,) (14000,)\n",
      "shuffle :2\n",
      "(42000, 784) (14000, 784) (14000, 784) (42000,) (14000,) (14000,)\n",
      "shuffle :3\n",
      "(42000, 784) (14000, 784) (14000, 784) (42000,) (14000,) (14000,)\n",
      "shuffle :4\n",
      "(42000, 784) (14000, 784) (14000, 784) (42000,) (14000,) (14000,)\n",
      "shuffle :5\n",
      "(42000, 784) (14000, 784) (14000, 784) (42000,) (14000,) (14000,)\n",
      "shuffle :6\n",
      "(42000, 784) (14000, 784) (14000, 784) (42000,) (14000,) (14000,)\n",
      "shuffle :7\n",
      "(42000, 784) (14000, 784) (14000, 784) (42000,) (14000,) (14000,)\n",
      "shuffle :8\n",
      "(42000, 784) (14000, 784) (14000, 784) (42000,) (14000,) (14000,)\n",
      "shuffle :9\n",
      "(42000, 784) (14000, 784) (14000, 784) (42000,) (14000,) (14000,)\n"
     ]
    }
   ],
   "source": [
    "(train_X, train_y), (test_X, test_y) = fashion_mnist.load_data()\n",
    "split_and_save_range(train_X_original = train_X, test_X_original = test_X, train_y_original = train_y, test_y_original = test_y, split_range = range(10))\n"
   ]
  },
  {
   "cell_type": "code",
   "execution_count": 3,
   "id": "ce392d6b",
   "metadata": {},
   "outputs": [
    {
     "data": {
      "text/plain": [
       "<matplotlib.image.AxesImage at 0x20495513910>"
      ]
     },
     "execution_count": 3,
     "metadata": {},
     "output_type": "execute_result"
    },
    {
     "data": {
      "image/png": "[encoded data removed]",
      "text/plain": [
       "<Figure size 432x288 with 1 Axes>"
      ]
     },
     "metadata": {
      "needs_background": "light"
     },
     "output_type": "display_data"
    }
   ],
   "source": [
    "plt.imshow(train_X[8].reshape((28,28)),cmap='gray')"
   ]
  },
  {
   "cell_type": "code",
   "execution_count": null,
   "id": "154c8526-2954-4ff8-ae99-59386c082472",
   "metadata": {},
   "outputs": [],
   "source": []
  },
  {
   "cell_type": "code",
   "execution_count": null,
   "id": "6c0ef4ee-7f8c-48d7-b28f-13d7a58753d6",
   "metadata": {},
   "outputs": [],
   "source": []
  }
 ],
 "metadata": {
  "kernelspec": {
   "display_name": "Python 3 (ipykernel)",
   "language": "python",
   "name": "python3"
  },
  "language_info": {
   "codemirror_mode": {
    "name": "ipython",
    "version": 3
   },
   "file_extension": ".py",
   "mimetype": "text/x-python",
   "name": "python",
   "nbconvert_exporter": "python",
   "pygments_lexer": "ipython3",
   "version": "3.9.9"
  }
 },
 "nbformat": 4,
 "nbformat_minor": 5
}
